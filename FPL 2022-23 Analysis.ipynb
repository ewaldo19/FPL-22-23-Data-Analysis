{
 "cells": [
  {
   "cell_type": "code",
   "execution_count": 1,
   "id": "ba11fcea-afd1-4fca-bcb3-344bb84b8bfa",
   "metadata": {},
   "outputs": [
    {
     "data": {
      "text/html": [
       "        <script type=\"text/javascript\">\n",
       "        window.PlotlyConfig = {MathJaxConfig: 'local'};\n",
       "        if (window.MathJax && window.MathJax.Hub && window.MathJax.Hub.Config) {window.MathJax.Hub.Config({SVG: {font: \"STIX-Web\"}});}\n",
       "        if (typeof require !== 'undefined') {\n",
       "        require.undef(\"plotly\");\n",
       "        requirejs.config({\n",
       "            paths: {\n",
       "                'plotly': ['https://cdn.plot.ly/plotly-2.27.0.min']\n",
       "            }\n",
       "        });\n",
       "        require(['plotly'], function(Plotly) {\n",
       "            window._Plotly = Plotly;\n",
       "        });\n",
       "        }\n",
       "        </script>\n",
       "        "
      ]
     },
     "metadata": {},
     "output_type": "display_data"
    },
    {
     "data": {
      "text/html": [
       "        <script type=\"text/javascript\">\n",
       "        window.PlotlyConfig = {MathJaxConfig: 'local'};\n",
       "        if (window.MathJax && window.MathJax.Hub && window.MathJax.Hub.Config) {window.MathJax.Hub.Config({SVG: {font: \"STIX-Web\"}});}\n",
       "        if (typeof require !== 'undefined') {\n",
       "        require.undef(\"plotly\");\n",
       "        requirejs.config({\n",
       "            paths: {\n",
       "                'plotly': ['https://cdn.plot.ly/plotly-2.27.0.min']\n",
       "            }\n",
       "        });\n",
       "        require(['plotly'], function(Plotly) {\n",
       "            window._Plotly = Plotly;\n",
       "        });\n",
       "        }\n",
       "        </script>\n",
       "        "
      ]
     },
     "metadata": {},
     "output_type": "display_data"
    }
   ],
   "source": [
    "import pandas as pd\n",
    "import plotly.express as px\n",
    "import cufflinks as cf\n",
    "import plotly.graph_objects as go\n",
    "\n",
    "from plotly.offline import download_plotlyjs, init_notebook_mode, plot, iplot\n",
    "init_notebook_mode(connected=True)\n",
    "cf.go_offline()"
   ]
  },
  {
   "cell_type": "code",
   "execution_count": 2,
   "id": "757b892f-9d5b-4c96-84c0-3385682f17fe",
   "metadata": {},
   "outputs": [
    {
     "data": {
      "text/html": [
       "<div>\n",
       "<style scoped>\n",
       "    .dataframe tbody tr th:only-of-type {\n",
       "        vertical-align: middle;\n",
       "    }\n",
       "\n",
       "    .dataframe tbody tr th {\n",
       "        vertical-align: top;\n",
       "    }\n",
       "\n",
       "    .dataframe thead th {\n",
       "        text-align: right;\n",
       "    }\n",
       "</style>\n",
       "<table border=\"1\" class=\"dataframe\">\n",
       "  <thead>\n",
       "    <tr style=\"text-align: right;\">\n",
       "      <th></th>\n",
       "      <th>id</th>\n",
       "      <th>name</th>\n",
       "      <th>now_cost</th>\n",
       "      <th>cost</th>\n",
       "      <th>position</th>\n",
       "      <th>team</th>\n",
       "      <th>clean_sheets_per_90</th>\n",
       "      <th>threat_rank_type</th>\n",
       "      <th>expected_assists_per_90</th>\n",
       "      <th>expected_assists</th>\n",
       "      <th>...</th>\n",
       "      <th>threat_rank</th>\n",
       "      <th>ep_this</th>\n",
       "      <th>transfers_in</th>\n",
       "      <th>bps</th>\n",
       "      <th>goals_conceded_per_90</th>\n",
       "      <th>selected_by_percent</th>\n",
       "      <th>influence_rank_type</th>\n",
       "      <th>points_per_game_rank_type</th>\n",
       "      <th>clean_sheets</th>\n",
       "      <th>now_cost_rank</th>\n",
       "    </tr>\n",
       "  </thead>\n",
       "  <tbody>\n",
       "    <tr>\n",
       "      <th>0</th>\n",
       "      <td>176</td>\n",
       "      <td>Asmir Begović</td>\n",
       "      <td>38</td>\n",
       "      <td>3.8</td>\n",
       "      <td>GKP</td>\n",
       "      <td>Everton</td>\n",
       "      <td>1.00</td>\n",
       "      <td>7</td>\n",
       "      <td>0.00</td>\n",
       "      <td>0.00</td>\n",
       "      <td>...</td>\n",
       "      <td>478</td>\n",
       "      <td>0.5</td>\n",
       "      <td>151666</td>\n",
       "      <td>30</td>\n",
       "      <td>0.00</td>\n",
       "      <td>0.8</td>\n",
       "      <td>36</td>\n",
       "      <td>1</td>\n",
       "      <td>1</td>\n",
       "      <td>763</td>\n",
       "    </tr>\n",
       "    <tr>\n",
       "      <th>1</th>\n",
       "      <td>318</td>\n",
       "      <td>Erling Haaland</td>\n",
       "      <td>124</td>\n",
       "      <td>12.4</td>\n",
       "      <td>FWD</td>\n",
       "      <td>Man City</td>\n",
       "      <td>0.42</td>\n",
       "      <td>1</td>\n",
       "      <td>0.10</td>\n",
       "      <td>3.11</td>\n",
       "      <td>...</td>\n",
       "      <td>1</td>\n",
       "      <td>5.4</td>\n",
       "      <td>7833248</td>\n",
       "      <td>1040</td>\n",
       "      <td>0.85</td>\n",
       "      <td>78.4</td>\n",
       "      <td>1</td>\n",
       "      <td>1</td>\n",
       "      <td>13</td>\n",
       "      <td>2</td>\n",
       "    </tr>\n",
       "    <tr>\n",
       "      <th>2</th>\n",
       "      <td>324</td>\n",
       "      <td>Stefan Ortega Moreno</td>\n",
       "      <td>37</td>\n",
       "      <td>3.7</td>\n",
       "      <td>GKP</td>\n",
       "      <td>Man City</td>\n",
       "      <td>0.67</td>\n",
       "      <td>3</td>\n",
       "      <td>0.00</td>\n",
       "      <td>0.00</td>\n",
       "      <td>...</td>\n",
       "      <td>473</td>\n",
       "      <td>4.3</td>\n",
       "      <td>315760</td>\n",
       "      <td>90</td>\n",
       "      <td>0.33</td>\n",
       "      <td>1.5</td>\n",
       "      <td>28</td>\n",
       "      <td>2</td>\n",
       "      <td>2</td>\n",
       "      <td>777</td>\n",
       "    </tr>\n",
       "    <tr>\n",
       "      <th>3</th>\n",
       "      <td>427</td>\n",
       "      <td>Harry Kane</td>\n",
       "      <td>115</td>\n",
       "      <td>11.5</td>\n",
       "      <td>FWD</td>\n",
       "      <td>Spurs</td>\n",
       "      <td>0.29</td>\n",
       "      <td>2</td>\n",
       "      <td>0.11</td>\n",
       "      <td>4.01</td>\n",
       "      <td>...</td>\n",
       "      <td>2</td>\n",
       "      <td>9.2</td>\n",
       "      <td>7381740</td>\n",
       "      <td>1008</td>\n",
       "      <td>1.64</td>\n",
       "      <td>32.7</td>\n",
       "      <td>2</td>\n",
       "      <td>2</td>\n",
       "      <td>11</td>\n",
       "      <td>4</td>\n",
       "    </tr>\n",
       "    <tr>\n",
       "      <th>4</th>\n",
       "      <td>283</td>\n",
       "      <td>Mohamed Salah</td>\n",
       "      <td>131</td>\n",
       "      <td>13.1</td>\n",
       "      <td>MID</td>\n",
       "      <td>Liverpool</td>\n",
       "      <td>0.36</td>\n",
       "      <td>1</td>\n",
       "      <td>0.19</td>\n",
       "      <td>7.03</td>\n",
       "      <td>...</td>\n",
       "      <td>3</td>\n",
       "      <td>9.3</td>\n",
       "      <td>6974743</td>\n",
       "      <td>651</td>\n",
       "      <td>1.23</td>\n",
       "      <td>37.2</td>\n",
       "      <td>1</td>\n",
       "      <td>1</td>\n",
       "      <td>13</td>\n",
       "      <td>1</td>\n",
       "    </tr>\n",
       "  </tbody>\n",
       "</table>\n",
       "<p>5 rows × 76 columns</p>\n",
       "</div>"
      ],
      "text/plain": [
       "    id                  name  now_cost  cost position       team  \\\n",
       "0  176         Asmir Begović        38   3.8      GKP    Everton   \n",
       "1  318        Erling Haaland       124  12.4      FWD   Man City   \n",
       "2  324  Stefan Ortega Moreno        37   3.7      GKP   Man City   \n",
       "3  427            Harry Kane       115  11.5      FWD      Spurs   \n",
       "4  283         Mohamed Salah       131  13.1      MID  Liverpool   \n",
       "\n",
       "   clean_sheets_per_90  threat_rank_type  expected_assists_per_90  \\\n",
       "0                 1.00                 7                     0.00   \n",
       "1                 0.42                 1                     0.10   \n",
       "2                 0.67                 3                     0.00   \n",
       "3                 0.29                 2                     0.11   \n",
       "4                 0.36                 1                     0.19   \n",
       "\n",
       "   expected_assists  ...  threat_rank  ep_this  transfers_in   bps  \\\n",
       "0              0.00  ...          478      0.5        151666    30   \n",
       "1              3.11  ...            1      5.4       7833248  1040   \n",
       "2              0.00  ...          473      4.3        315760    90   \n",
       "3              4.01  ...            2      9.2       7381740  1008   \n",
       "4              7.03  ...            3      9.3       6974743   651   \n",
       "\n",
       "   goals_conceded_per_90  selected_by_percent  influence_rank_type  \\\n",
       "0                   0.00                  0.8                   36   \n",
       "1                   0.85                 78.4                    1   \n",
       "2                   0.33                  1.5                   28   \n",
       "3                   1.64                 32.7                    2   \n",
       "4                   1.23                 37.2                    1   \n",
       "\n",
       "   points_per_game_rank_type  clean_sheets  now_cost_rank  \n",
       "0                          1             1            763  \n",
       "1                          1            13              2  \n",
       "2                          2             2            777  \n",
       "3                          2            11              4  \n",
       "4                          1            13              1  \n",
       "\n",
       "[5 rows x 76 columns]"
      ]
     },
     "execution_count": 2,
     "metadata": {},
     "output_type": "execute_result"
    }
   ],
   "source": [
    "fpl_data = pd.read_csv(\"data/FPL 22.csv\")\n",
    "fpl_data.head()"
   ]
  },
  {
   "cell_type": "code",
   "execution_count": 3,
   "id": "0a5ca6e2-284d-4728-83d6-1078627e0c64",
   "metadata": {},
   "outputs": [
    {
     "data": {
      "text/plain": [
       "962.8714652956298"
      ]
     },
     "execution_count": 3,
     "metadata": {},
     "output_type": "execute_result"
    }
   ],
   "source": [
    "avg_mins = fpl_data['minutes'].mean()\n",
    "avg_mins"
   ]
  },
  {
   "cell_type": "code",
   "execution_count": 4,
   "id": "7a4262bd-81bf-47f0-8b21-ff5956c8b27c",
   "metadata": {},
   "outputs": [
    {
     "data": {
      "text/html": [
       "<div>\n",
       "<style scoped>\n",
       "    .dataframe tbody tr th:only-of-type {\n",
       "        vertical-align: middle;\n",
       "    }\n",
       "\n",
       "    .dataframe tbody tr th {\n",
       "        vertical-align: top;\n",
       "    }\n",
       "\n",
       "    .dataframe thead th {\n",
       "        text-align: right;\n",
       "    }\n",
       "</style>\n",
       "<table border=\"1\" class=\"dataframe\">\n",
       "  <thead>\n",
       "    <tr style=\"text-align: right;\">\n",
       "      <th></th>\n",
       "      <th>id</th>\n",
       "      <th>name</th>\n",
       "      <th>now_cost</th>\n",
       "      <th>cost</th>\n",
       "      <th>position</th>\n",
       "      <th>team</th>\n",
       "      <th>clean_sheets_per_90</th>\n",
       "      <th>threat_rank_type</th>\n",
       "      <th>expected_assists_per_90</th>\n",
       "      <th>expected_assists</th>\n",
       "      <th>...</th>\n",
       "      <th>threat_rank</th>\n",
       "      <th>ep_this</th>\n",
       "      <th>transfers_in</th>\n",
       "      <th>bps</th>\n",
       "      <th>goals_conceded_per_90</th>\n",
       "      <th>selected_by_percent</th>\n",
       "      <th>influence_rank_type</th>\n",
       "      <th>points_per_game_rank_type</th>\n",
       "      <th>clean_sheets</th>\n",
       "      <th>now_cost_rank</th>\n",
       "    </tr>\n",
       "  </thead>\n",
       "  <tbody>\n",
       "    <tr>\n",
       "      <th>1</th>\n",
       "      <td>318</td>\n",
       "      <td>Erling Haaland</td>\n",
       "      <td>124</td>\n",
       "      <td>12.4</td>\n",
       "      <td>FWD</td>\n",
       "      <td>Man City</td>\n",
       "      <td>0.42</td>\n",
       "      <td>1</td>\n",
       "      <td>0.10</td>\n",
       "      <td>3.11</td>\n",
       "      <td>...</td>\n",
       "      <td>1</td>\n",
       "      <td>5.4</td>\n",
       "      <td>7833248</td>\n",
       "      <td>1040</td>\n",
       "      <td>0.85</td>\n",
       "      <td>78.4</td>\n",
       "      <td>1</td>\n",
       "      <td>1</td>\n",
       "      <td>13</td>\n",
       "      <td>2</td>\n",
       "    </tr>\n",
       "    <tr>\n",
       "      <th>3</th>\n",
       "      <td>427</td>\n",
       "      <td>Harry Kane</td>\n",
       "      <td>115</td>\n",
       "      <td>11.5</td>\n",
       "      <td>FWD</td>\n",
       "      <td>Spurs</td>\n",
       "      <td>0.29</td>\n",
       "      <td>2</td>\n",
       "      <td>0.11</td>\n",
       "      <td>4.01</td>\n",
       "      <td>...</td>\n",
       "      <td>2</td>\n",
       "      <td>9.2</td>\n",
       "      <td>7381740</td>\n",
       "      <td>1008</td>\n",
       "      <td>1.64</td>\n",
       "      <td>32.7</td>\n",
       "      <td>2</td>\n",
       "      <td>2</td>\n",
       "      <td>11</td>\n",
       "      <td>4</td>\n",
       "    </tr>\n",
       "    <tr>\n",
       "      <th>4</th>\n",
       "      <td>283</td>\n",
       "      <td>Mohamed Salah</td>\n",
       "      <td>131</td>\n",
       "      <td>13.1</td>\n",
       "      <td>MID</td>\n",
       "      <td>Liverpool</td>\n",
       "      <td>0.36</td>\n",
       "      <td>1</td>\n",
       "      <td>0.19</td>\n",
       "      <td>7.03</td>\n",
       "      <td>...</td>\n",
       "      <td>3</td>\n",
       "      <td>9.3</td>\n",
       "      <td>6974743</td>\n",
       "      <td>651</td>\n",
       "      <td>1.23</td>\n",
       "      <td>37.2</td>\n",
       "      <td>1</td>\n",
       "      <td>1</td>\n",
       "      <td>13</td>\n",
       "      <td>1</td>\n",
       "    </tr>\n",
       "    <tr>\n",
       "      <th>5</th>\n",
       "      <td>335</td>\n",
       "      <td>Marcus Rashford</td>\n",
       "      <td>72</td>\n",
       "      <td>7.2</td>\n",
       "      <td>MID</td>\n",
       "      <td>Man Utd</td>\n",
       "      <td>0.41</td>\n",
       "      <td>2</td>\n",
       "      <td>0.09</td>\n",
       "      <td>2.86</td>\n",
       "      <td>...</td>\n",
       "      <td>4</td>\n",
       "      <td>2.7</td>\n",
       "      <td>10735832</td>\n",
       "      <td>530</td>\n",
       "      <td>1.22</td>\n",
       "      <td>37.8</td>\n",
       "      <td>7</td>\n",
       "      <td>2</td>\n",
       "      <td>13</td>\n",
       "      <td>33</td>\n",
       "    </tr>\n",
       "    <tr>\n",
       "      <th>6</th>\n",
       "      <td>301</td>\n",
       "      <td>Kevin De Bruyne</td>\n",
       "      <td>121</td>\n",
       "      <td>12.1</td>\n",
       "      <td>MID</td>\n",
       "      <td>Man City</td>\n",
       "      <td>0.37</td>\n",
       "      <td>27</td>\n",
       "      <td>0.51</td>\n",
       "      <td>13.69</td>\n",
       "      <td>...</td>\n",
       "      <td>44</td>\n",
       "      <td>1.7</td>\n",
       "      <td>7222275</td>\n",
       "      <td>742</td>\n",
       "      <td>0.86</td>\n",
       "      <td>25.5</td>\n",
       "      <td>5</td>\n",
       "      <td>4</td>\n",
       "      <td>10</td>\n",
       "      <td>3</td>\n",
       "    </tr>\n",
       "  </tbody>\n",
       "</table>\n",
       "<p>5 rows × 76 columns</p>\n",
       "</div>"
      ],
      "text/plain": [
       "    id             name  now_cost  cost position       team  \\\n",
       "1  318   Erling Haaland       124  12.4      FWD   Man City   \n",
       "3  427       Harry Kane       115  11.5      FWD      Spurs   \n",
       "4  283    Mohamed Salah       131  13.1      MID  Liverpool   \n",
       "5  335  Marcus Rashford        72   7.2      MID    Man Utd   \n",
       "6  301  Kevin De Bruyne       121  12.1      MID   Man City   \n",
       "\n",
       "   clean_sheets_per_90  threat_rank_type  expected_assists_per_90  \\\n",
       "1                 0.42                 1                     0.10   \n",
       "3                 0.29                 2                     0.11   \n",
       "4                 0.36                 1                     0.19   \n",
       "5                 0.41                 2                     0.09   \n",
       "6                 0.37                27                     0.51   \n",
       "\n",
       "   expected_assists  ...  threat_rank  ep_this  transfers_in   bps  \\\n",
       "1              3.11  ...            1      5.4       7833248  1040   \n",
       "3              4.01  ...            2      9.2       7381740  1008   \n",
       "4              7.03  ...            3      9.3       6974743   651   \n",
       "5              2.86  ...            4      2.7      10735832   530   \n",
       "6             13.69  ...           44      1.7       7222275   742   \n",
       "\n",
       "   goals_conceded_per_90  selected_by_percent  influence_rank_type  \\\n",
       "1                   0.85                 78.4                    1   \n",
       "3                   1.64                 32.7                    2   \n",
       "4                   1.23                 37.2                    1   \n",
       "5                   1.22                 37.8                    7   \n",
       "6                   0.86                 25.5                    5   \n",
       "\n",
       "   points_per_game_rank_type  clean_sheets  now_cost_rank  \n",
       "1                          1            13              2  \n",
       "3                          2            11              4  \n",
       "4                          1            13              1  \n",
       "5                          2            13             33  \n",
       "6                          4            10              3  \n",
       "\n",
       "[5 rows x 76 columns]"
      ]
     },
     "execution_count": 4,
     "metadata": {},
     "output_type": "execute_result"
    }
   ],
   "source": [
    "fpl_avg_players = fpl_data[fpl_data['minutes'] >= avg_mins]\n",
    "fpl_avg_players.head()"
   ]
  },
  {
   "cell_type": "code",
   "execution_count": 5,
   "id": "a1546b64-6003-4c03-9c5f-0c2c955f099e",
   "metadata": {},
   "outputs": [
    {
     "data": {
      "application/vnd.plotly.v1+json": {
       "config": {
        "plotlyServerURL": "https://plot.ly"
       },
       "data": [
        {
         "customdata": [
          [
           "Man City",
           "Erling Haaland",
           "FWD"
          ],
          [
           "Spurs",
           "Harry Kane",
           "FWD"
          ],
          [
           "Liverpool",
           "Mohamed Salah",
           "MID"
          ],
          [
           "Man Utd",
           "Marcus Rashford",
           "MID"
          ],
          [
           "Man City",
           "Kevin De Bruyne",
           "MID"
          ],
          [
           "Arsenal",
           "Martin Ødegaard",
           "MID"
          ],
          [
           "Arsenal",
           "Gabriel Martinelli Silva",
           "MID"
          ],
          [
           "Brentford",
           "Ivan Toney",
           "FWD"
          ],
          [
           "Arsenal",
           "Bukayo Saka",
           "MID"
          ],
          [
           "Newcastle",
           "Kieran Trippier",
           "DEF"
          ],
          [
           "Newcastle",
           "Callum Wilson",
           "FWD"
          ],
          [
           "Man Utd",
           "Bruno Borges Fernandes",
           "MID"
          ],
          [
           "Arsenal",
           "Gabriel Fernando de Jesus",
           "FWD"
          ],
          [
           "Aston Villa",
           "Ollie Watkins",
           "FWD"
          ],
          [
           "Newcastle",
           "Miguel Almirón Rejala",
           "MID"
          ],
          [
           "Nott'm Forest",
           "Dean Henderson",
           "GKP"
          ],
          [
           "Leicester",
           "James Maddison",
           "MID"
          ],
          [
           "Brighton",
           "Solly March",
           "MID"
          ],
          [
           "Newcastle",
           "Alexander Isak",
           "FWD"
          ],
          [
           "Fulham",
           "Aleksandar Mitrović",
           "FWD"
          ],
          [
           "Man City",
           "Phil Foden",
           "MID"
          ],
          [
           "Liverpool",
           "Alisson Ramses Becker",
           "GKP"
          ],
          [
           "Brentford",
           "David Raya Martin",
           "GKP"
          ],
          [
           "Liverpool",
           "Cody Gakpo",
           "MID"
          ],
          [
           "Man City",
           "Ilkay Gündogan",
           "MID"
          ],
          [
           "Man City",
           "Jack Grealish",
           "MID"
          ],
          [
           "Arsenal",
           "Leandro Trossard",
           "MID"
          ],
          [
           "Fulham",
           "Willian Borges da Silva",
           "MID"
          ],
          [
           "Brighton",
           "Pascal Groß",
           "MID"
          ],
          [
           "Brighton",
           "Jason Steele",
           "GKP"
          ],
          [
           "Man City",
           "João Cancelo",
           "DEF"
          ],
          [
           "Arsenal",
           "William Saliba",
           "DEF"
          ],
          [
           "Spurs",
           "Son Heung-min",
           "MID"
          ],
          [
           "Man City",
           "Riyad Mahrez",
           "MID"
          ],
          [
           "Brighton",
           "Kaoru Mitoma",
           "MID"
          ],
          [
           "Crystal Palace",
           "Eberechi Eze",
           "MID"
          ],
          [
           "Liverpool",
           "Roberto Firmino",
           "FWD"
          ],
          [
           "Newcastle",
           "Nick Pope",
           "GKP"
          ],
          [
           "Man Utd",
           "David De Gea Quintana",
           "GKP"
          ],
          [
           "Liverpool",
           "Trent Alexander-Arnold",
           "DEF"
          ],
          [
           "Leicester",
           "Harvey Barnes",
           "MID"
          ],
          [
           "Leeds",
           "Rodrigo Moreno",
           "MID"
          ],
          [
           "Arsenal",
           "Granit Xhaka",
           "MID"
          ],
          [
           "Bournemouth",
           "Marcus Tavernier",
           "MID"
          ],
          [
           "Wolves",
           "José Malheiro de Sá",
           "GKP"
          ],
          [
           "Chelsea",
           "Kepa Arrizabalaga",
           "GKP"
          ],
          [
           "Arsenal",
           "Benjamin White",
           "DEF"
          ],
          [
           "Man Utd",
           "Jadon Sancho",
           "MID"
          ],
          [
           "Brighton",
           "Alexis Mac Allister",
           "MID"
          ],
          [
           "Liverpool",
           "Virgil van Dijk",
           "DEF"
          ],
          [
           "Man City",
           "John Stones",
           "DEF"
          ],
          [
           "Man Utd",
           "Luke Shaw",
           "DEF"
          ],
          [
           "Nott'm Forest",
           "Morgan Gibbs-White",
           "MID"
          ],
          [
           "Spurs",
           "Rodrigo Bentancur",
           "MID"
          ],
          [
           "Aston Villa",
           "Jacob Ramsey",
           "MID"
          ],
          [
           "Newcastle",
           "Fabian Schär",
           "DEF"
          ],
          [
           "Fulham",
           "Bernd Leno",
           "GKP"
          ],
          [
           "Brentford",
           "Bryan Mbeumo",
           "FWD"
          ],
          [
           "Spurs",
           "Pedro Porro",
           "DEF"
          ],
          [
           "Bournemouth",
           "Dominic Solanke",
           "FWD"
          ],
          [
           "Man Utd",
           "Diogo Dalot Teixeira",
           "DEF"
          ],
          [
           "Brentford",
           "Ben Mee",
           "DEF"
          ],
          [
           "West Ham",
           "Jarrod Bowen",
           "MID"
          ],
          [
           "Aston Villa",
           "Douglas Luiz Soares de Paulo",
           "MID"
          ],
          [
           "Arsenal",
           "Gabriel dos Santos Magalhães",
           "DEF"
          ],
          [
           "Aston Villa",
           "Emiliano Martínez Romero",
           "GKP"
          ],
          [
           "Aston Villa",
           "Alexandre Moreno Lopera",
           "DEF"
          ],
          [
           "Arsenal",
           "Aaron Ramsdale",
           "GKP"
          ],
          [
           "Man Utd",
           "Christian Eriksen",
           "MID"
          ],
          [
           "Southampton",
           "James Ward-Prowse",
           "MID"
          ],
          [
           "Leeds",
           "Jack Harrison",
           "MID"
          ],
          [
           "Nott'm Forest",
           "Danilo dos Santos de Oliveira",
           "MID"
          ],
          [
           "Fulham",
           "Andreas Hoelgebaum Pereira",
           "MID"
          ],
          [
           "Arsenal",
           "Oleksandr Zinchenko",
           "DEF"
          ],
          [
           "Brighton",
           "Pervis Estupiñán",
           "DEF"
          ],
          [
           "Aston Villa",
           "Tyrone Mings",
           "DEF"
          ],
          [
           "Brentford",
           "Ethan Pinnock",
           "DEF"
          ],
          [
           "Crystal Palace",
           "Vicente Guaita",
           "GKP"
          ],
          [
           "Nott'm Forest",
           "Taiwo Awoniyi",
           "FWD"
          ],
          [
           "Chelsea",
           "Raheem Sterling",
           "MID"
          ],
          [
           "Liverpool",
           "Luis Díaz",
           "MID"
          ],
          [
           "Newcastle",
           "Joelinton Cássio Apolinário de Lira",
           "MID"
          ],
          [
           "Crystal Palace",
           "Michael Olise",
           "MID"
          ],
          [
           "Brentford",
           "Mathias Jensen",
           "MID"
          ],
          [
           "Liverpool",
           "Andrew Robertson",
           "DEF"
          ],
          [
           "Newcastle",
           "Sven Botman",
           "DEF"
          ],
          [
           "Spurs",
           "Hugo Lloris",
           "GKP"
          ],
          [
           "Brighton",
           "Robert Sánchez",
           "GKP"
          ],
          [
           "Liverpool",
           "Diogo Teixeira da Silva",
           "FWD"
          ],
          [
           "Crystal Palace",
           "Wilfried Zaha",
           "MID"
          ],
          [
           "West Ham",
           "Lucas Tolentino Coelho de Lima",
           "MID"
          ],
          [
           "Everton",
           "Dwight McNeil",
           "MID"
          ],
          [
           "Bournemouth",
           "Philip Billing",
           "MID"
          ],
          [
           "Newcastle",
           "Joe Willock",
           "MID"
          ],
          [
           "Man City",
           "Nathan Aké",
           "DEF"
          ],
          [
           "West Ham",
           "Kurt Zouma",
           "DEF"
          ],
          [
           "Man Utd",
           "Aaron Wan-Bissaka",
           "DEF"
          ],
          [
           "Man City",
           "Ederson Santana de Moraes",
           "GKP"
          ],
          [
           "West Ham",
           "Lukasz Fabianski",
           "GKP"
          ],
          [
           "Leicester",
           "Danny Ward",
           "GKP"
          ],
          [
           "Chelsea",
           "Mason Mount",
           "MID"
          ],
          [
           "Spurs",
           "Pierre-Emile Højbjerg",
           "MID"
          ],
          [
           "Wolves",
           "Rúben da Silva Neves",
           "MID"
          ],
          [
           "Newcastle",
           "Dan Burn",
           "DEF"
          ],
          [
           "Bournemouth",
           "Norberto Murara Neto",
           "GKP"
          ],
          [
           "Everton",
           "Jordan Pickford",
           "GKP"
          ],
          [
           "Liverpool",
           "Darwin Núñez Ribeiro",
           "FWD"
          ],
          [
           "Southampton",
           "Che Adams",
           "FWD"
          ],
          [
           "Man Utd",
           "Antony Matheus dos Santos",
           "MID"
          ],
          [
           "Newcastle",
           "Bruno Guimarães Rodriguez Moura",
           "MID"
          ],
          [
           "Everton",
           "Alex Iwobi",
           "MID"
          ],
          [
           "Man City",
           "Aymeric Laporte",
           "DEF"
          ],
          [
           "Spurs",
           "Emerson Leite de Souza Junior",
           "DEF"
          ],
          [
           "Man City",
           "Julián Álvarez",
           "FWD"
          ],
          [
           "Spurs",
           "Dejan Kulusevski",
           "MID"
          ],
          [
           "Brentford",
           "Christian Nørgaard",
           "MID"
          ],
          [
           "Chelsea",
           "Kalidou Koulibaly",
           "DEF"
          ],
          [
           "West Ham",
           "Nayef Aguerd",
           "DEF"
          ],
          [
           "Man Utd",
           "Raphaël Varane",
           "DEF"
          ],
          [
           "Spurs",
           "Ben Davies",
           "DEF"
          ],
          [
           "Everton",
           "Conor Coady",
           "DEF"
          ],
          [
           "Fulham",
           "Issa Diop",
           "DEF"
          ],
          [
           "Liverpool",
           "Joseph Gomez",
           "DEF"
          ],
          [
           "Everton",
           "Michael Keane",
           "DEF"
          ],
          [
           "Leicester",
           "James Justin",
           "DEF"
          ],
          [
           "Nott'm Forest",
           "Brennan Johnson",
           "FWD"
          ],
          [
           "Man City",
           "Bernardo Veiga de Carvalho e Silva",
           "MID"
          ],
          [
           "Aston Villa",
           "Emiliano Buendía Stati",
           "MID"
          ],
          [
           "Southampton",
           "Carlos Alcaraz",
           "MID"
          ],
          [
           "Man Utd",
           "Carlos Henrique Casimiro",
           "MID"
          ],
          [
           "West Ham",
           "Declan Rice",
           "MID"
          ],
          [
           "Man City",
           "Rúben Gato Alves Dias",
           "DEF"
          ],
          [
           "Brighton",
           "Lewis Dunk",
           "DEF"
          ],
          [
           "Brighton",
           "Joël Veltman",
           "DEF"
          ],
          [
           "Leicester",
           "Timothy Castagne",
           "DEF"
          ],
          [
           "Man Utd",
           "Anthony Martial",
           "FWD"
          ],
          [
           "Man City",
           "Rodrigo Hernandez",
           "MID"
          ],
          [
           "West Ham",
           "Saïd Benrahma",
           "MID"
          ],
          [
           "Everton",
           "Abdoulaye Doucouré",
           "MID"
          ],
          [
           "Aston Villa",
           "Leon Bailey",
           "MID"
          ],
          [
           "Chelsea",
           "Ben Chilwell",
           "DEF"
          ],
          [
           "Chelsea",
           "Thiago Emiliano da Silva",
           "DEF"
          ],
          [
           "Wolves",
           "Craig Dawson",
           "DEF"
          ],
          [
           "Fulham",
           "Tim Ream",
           "DEF"
          ],
          [
           "Man Utd",
           "Lisandro Martínez",
           "DEF"
          ],
          [
           "Brentford",
           "Rico Henry",
           "DEF"
          ],
          [
           "Aston Villa",
           "Ashley Young",
           "DEF"
          ],
          [
           "Brentford",
           "Yoane Wissa",
           "MID"
          ],
          [
           "Wolves",
           "Daniel Castelo Podence",
           "MID"
          ],
          [
           "Liverpool",
           "Curtis Jones",
           "MID"
          ],
          [
           "Fulham",
           "Harrison Reed",
           "MID"
          ],
          [
           "Spurs",
           "Eric Dier",
           "DEF"
          ],
          [
           "Aston Villa",
           "Ezri Konsa Ngoyo",
           "DEF"
          ],
          [
           "Fulham",
           "Kenny Tete",
           "DEF"
          ],
          [
           "Wolves",
           "Max Kilman",
           "DEF"
          ],
          [
           "Nott'm Forest",
           "Serge Aurier",
           "DEF"
          ],
          [
           "Man Utd",
           "Victor Lindelöf",
           "DEF"
          ],
          [
           "Spurs",
           "Fraser Forster",
           "GKP"
          ],
          [
           "Chelsea",
           "Kai Havertz",
           "FWD"
          ],
          [
           "Brighton",
           "Danny Welbeck",
           "FWD"
          ],
          [
           "Leicester",
           "Kelechi Iheanacho",
           "FWD"
          ],
          [
           "Leicester",
           "Youri Tielemans",
           "MID"
          ],
          [
           "Everton",
           "Demarai Gray",
           "MID"
          ],
          [
           "West Ham",
           "Tomas Soucek",
           "MID"
          ],
          [
           "Newcastle",
           "Sean Longstaff",
           "MID"
          ],
          [
           "Chelsea",
           "Reece James",
           "DEF"
          ],
          [
           "Spurs",
           "Ivan Perišić",
           "DEF"
          ],
          [
           "Man City",
           "Manuel Akanji",
           "DEF"
          ],
          [
           "Brighton",
           "Adam Webster",
           "DEF"
          ],
          [
           "Crystal Palace",
           "Joel Ward",
           "DEF"
          ],
          [
           "West Ham",
           "Angelo Ogbonna",
           "DEF"
          ],
          [
           "Man Utd",
           "Tyrell Malacia",
           "DEF"
          ],
          [
           "Everton",
           "James Tarkowski",
           "DEF"
          ],
          [
           "West Ham",
           "Danny Ings",
           "FWD"
          ],
          [
           "Crystal Palace",
           "Jordan Ayew",
           "MID"
          ],
          [
           "Bournemouth",
           "Jefferson Lerma Solís",
           "MID"
          ],
          [
           "Liverpool",
           "Ibrahima Konaté",
           "DEF"
          ],
          [
           "Chelsea",
           "Marc Cucurella Saseta",
           "DEF"
          ],
          [
           "Brighton",
           "Levi Colwill",
           "DEF"
          ],
          [
           "Fulham",
           "Antonee Robinson",
           "DEF"
          ],
          [
           "Everton",
           "Seamus Coleman",
           "DEF"
          ],
          [
           "Newcastle",
           "Allan Saint-Maximin",
           "MID"
          ],
          [
           "Aston Villa",
           "John McGinn",
           "MID"
          ],
          [
           "Bournemouth",
           "Dango Ouattara",
           "MID"
          ],
          [
           "Leicester",
           "Kiernan Dewsbury-Hall",
           "MID"
          ],
          [
           "Arsenal",
           "Thomas Partey",
           "MID"
          ],
          [
           "Crystal Palace",
           "Jeffrey Schlupp",
           "MID"
          ],
          [
           "Leeds",
           "Crysencio Summerville",
           "MID"
          ],
          [
           "Liverpool",
           "Joel Matip",
           "DEF"
          ],
          [
           "Man City",
           "Kyle Walker",
           "DEF"
          ],
          [
           "West Ham",
           "Aaron Cresswell",
           "DEF"
          ],
          [
           "Crystal Palace",
           "Marc Guéhi",
           "DEF"
          ],
          [
           "Crystal Palace",
           "Tyrick Mitchell",
           "DEF"
          ],
          [
           "Bournemouth",
           "Lloyd Kelly",
           "DEF"
          ],
          [
           "Southampton",
           "Gavin Bazunu",
           "GKP"
          ],
          [
           "Fulham",
           "Carlos Vinícius Alves Morais",
           "FWD"
          ],
          [
           "Leeds",
           "Illan Meslier",
           "GKP"
          ],
          [
           "Arsenal",
           "Jorge Luiz Frello Filho",
           "MID"
          ],
          [
           "Fulham",
           "Bobby De Cordova-Reid",
           "MID"
          ],
          [
           "Southampton",
           "Theo Walcott",
           "MID"
          ],
          [
           "Crystal Palace",
           "Joachim Andersen",
           "DEF"
          ],
          [
           "West Ham",
           "Thilo Kehrer",
           "DEF"
          ],
          [
           "Wolves",
           "Jonathan Castro Otto",
           "DEF"
          ],
          [
           "Bournemouth",
           "Jordan Zemura",
           "DEF"
          ],
          [
           "Leicester",
           "Wout Faes",
           "DEF"
          ],
          [
           "Wolves",
           "Toti António Gomes",
           "DEF"
          ],
          [
           "Leicester",
           "Daniel Amartey",
           "DEF"
          ],
          [
           "Brentford",
           "Mathias Jorgensen",
           "DEF"
          ],
          [
           "Leeds",
           "Patrick Bamford",
           "FWD"
          ],
          [
           "Nott'm Forest",
           "Keylor Navas",
           "GKP"
          ],
          [
           "West Ham",
           "Michail Antonio",
           "FWD"
          ],
          [
           "Brentford",
           "Vitaly Janelt",
           "MID"
          ],
          [
           "Fulham",
           "João Palhinha Gonçalves",
           "MID"
          ],
          [
           "Brentford",
           "Aaron Hickey",
           "DEF"
          ],
          [
           "Wolves",
           "Matheus Luiz Nunes",
           "MID"
          ],
          [
           "Spurs",
           "Cristian Romero",
           "DEF"
          ],
          [
           "Spurs",
           "Clément Lenglet",
           "DEF"
          ],
          [
           "Brentford",
           "Mads Roerslev Rasmussen",
           "DEF"
          ],
          [
           "Southampton",
           "Romain Perraud",
           "DEF"
          ],
          [
           "Everton",
           "Dominic Calvert-Lewin",
           "FWD"
          ],
          [
           "Leicester",
           "Daniel Iversen",
           "GKP"
          ],
          [
           "Fulham",
           "Harry Wilson",
           "MID"
          ],
          [
           "Leeds",
           "Brenden Aaronson",
           "MID"
          ],
          [
           "Chelsea",
           "Enzo Fernández",
           "MID"
          ],
          [
           "Everton",
           "Amadou Onana",
           "MID"
          ],
          [
           "Leeds",
           "Pascal Struijk",
           "DEF"
          ],
          [
           "Leicester",
           "Patson Daka",
           "FWD"
          ],
          [
           "Crystal Palace",
           "Odsonne Edouard",
           "FWD"
          ],
          [
           "Leeds",
           "Wilfried Gnonto",
           "FWD"
          ],
          [
           "Bournemouth",
           "Mark Travers",
           "GKP"
          ],
          [
           "Wolves",
           "Hwang Hee-chan",
           "MID"
          ],
          [
           "Crystal Palace",
           "Cheick Doucouré",
           "MID"
          ],
          [
           "Southampton",
           "Joe Ayodele-Aribo",
           "MID"
          ],
          [
           "West Ham",
           "Pablo Fornals Malla",
           "MID"
          ],
          [
           "Newcastle",
           "Jacob Murphy",
           "MID"
          ],
          [
           "Brentford",
           "Josh Dasilva",
           "MID"
          ],
          [
           "Aston Villa",
           "Matty Cash",
           "DEF"
          ],
          [
           "Bournemouth",
           "Marcos Senesi",
           "DEF"
          ],
          [
           "Chelsea",
           "Wesley Fofana",
           "DEF"
          ],
          [
           "Everton",
           "Vitalii Mykolenko",
           "DEF"
          ],
          [
           "Leicester",
           "Jamie Vardy",
           "FWD"
          ],
          [
           "Newcastle",
           "Anthony Gordon",
           "MID"
          ],
          [
           "Brighton",
           "Moisés Caicedo Corozo",
           "MID"
          ],
          [
           "Leeds",
           "Marc Roca Junqué",
           "MID"
          ],
          [
           "Wolves",
           "Nélson Cabral Semedo",
           "DEF"
          ],
          [
           "Bournemouth",
           "Jack Stephens",
           "DEF"
          ],
          [
           "West Ham",
           "Vladimir Coufal",
           "DEF"
          ],
          [
           "Arsenal",
           "Eddie Nketiah",
           "FWD"
          ],
          [
           "Bournemouth",
           "Kieffer Moore",
           "FWD"
          ],
          [
           "Bournemouth",
           "Ryan Christie",
           "MID"
          ],
          [
           "Liverpool",
           "Jordan Henderson",
           "MID"
          ],
          [
           "Bournemouth",
           "Jaidon Anthony",
           "MID"
          ],
          [
           "Nott'm Forest",
           "Ryan Yates",
           "MID"
          ],
          [
           "Leeds",
           "Tyler Adams",
           "MID"
          ],
          [
           "Chelsea",
           "Mateo Kovacic",
           "MID"
          ],
          [
           "Everton",
           "Idrissa Gueye",
           "MID"
          ],
          [
           "Southampton",
           "Roméo Lavia",
           "MID"
          ],
          [
           "Leeds",
           "Rasmus Kristensen",
           "DEF"
          ],
          [
           "Southampton",
           "Armel Bella-Kotchap",
           "DEF"
          ],
          [
           "Leeds",
           "Luke Ayling",
           "DEF"
          ],
          [
           "Crystal Palace",
           "Nathaniel Clyne",
           "DEF"
          ],
          [
           "Chelsea",
           "Trevoh Chalobah",
           "DEF"
          ],
          [
           "Nott'm Forest",
           "Scott McKenna",
           "DEF"
          ],
          [
           "Fulham",
           "Tosin Adarabioyo",
           "DEF"
          ],
          [
           "Nott'm Forest",
           "Renan Augusto Lodi dos Santos",
           "DEF"
          ],
          [
           "Bournemouth",
           "Adam Smith",
           "DEF"
          ],
          [
           "Nott'm Forest",
           "Joe Worrall",
           "DEF"
          ],
          [
           "Wolves",
           "Rayan Aït-Nouri",
           "DEF"
          ],
          [
           "Wolves",
           "Hugo Bueno López",
           "DEF"
          ],
          [
           "Spurs",
           "Richarlison de Andrade",
           "FWD"
          ],
          [
           "Chelsea",
           "Conor Gallagher",
           "MID"
          ],
          [
           "Wolves",
           "Adama Traoré Diarra",
           "MID"
          ],
          [
           "Liverpool",
           "Fabio Henrique Tavares",
           "MID"
          ],
          [
           "Southampton",
           "Mohamed Elyounoussi",
           "MID"
          ],
          [
           "Nott'm Forest",
           "Orel Mangala",
           "MID"
          ],
          [
           "Nott'm Forest",
           "Remo Freuler",
           "MID"
          ],
          [
           "Liverpool",
           "Harvey Elliott",
           "MID"
          ],
          [
           "Spurs",
           "Oliver Skipp",
           "MID"
          ],
          [
           "Wolves",
           "Nathan Collins",
           "DEF"
          ],
          [
           "Man Utd",
           "Frederico Rodrigues de Paula Santos",
           "MID"
          ],
          [
           "Chelsea",
           "Ruben Loftus-Cheek",
           "MID"
          ],
          [
           "Bournemouth",
           "Lewis Cook",
           "MID"
          ],
          [
           "Aston Villa",
           "Boubacar Kamara",
           "MID"
          ],
          [
           "Southampton",
           "Stuart Armstrong",
           "MID"
          ],
          [
           "Wolves",
           "João Filipe Iria Santos Moutinho",
           "MID"
          ],
          [
           "Wolves",
           "Mario Lemina",
           "MID"
          ],
          [
           "Chelsea",
           "César Azpilicueta",
           "DEF"
          ],
          [
           "Aston Villa",
           "Lucas Digne",
           "DEF"
          ],
          [
           "Southampton",
           "Kyle Walker-Peters",
           "DEF"
          ],
          [
           "Nott'm Forest",
           "Moussa Niakhaté",
           "DEF"
          ],
          [
           "West Ham",
           "Emerson Palmieri dos Santos",
           "DEF"
          ],
          [
           "Southampton",
           "Adam Armstrong",
           "FWD"
          ],
          [
           "Liverpool",
           "Thiago Alcántara do Nascimento",
           "MID"
          ],
          [
           "Southampton",
           "Ainsley Maitland-Niles",
           "MID"
          ],
          [
           "Leicester",
           "Harry Souttar",
           "DEF"
          ],
          [
           "Leeds",
           "Liam Cooper",
           "DEF"
          ],
          [
           "Bournemouth",
           "Chris Mepham",
           "DEF"
          ],
          [
           "Nott'm Forest",
           "Neco Williams",
           "DEF"
          ],
          [
           "Bournemouth",
           "Joe Rothwell",
           "MID"
          ],
          [
           "Fulham",
           "Tom Cairney",
           "MID"
          ],
          [
           "Leeds",
           "Weston McKennie",
           "MID"
          ],
          [
           "Leicester",
           "Boubakary Soumaré",
           "MID"
          ],
          [
           "Leeds",
           "Junior Firpo Adames",
           "DEF"
          ],
          [
           "Nott'm Forest",
           "Felipe Augusto de Almeida Monteiro",
           "DEF"
          ],
          [
           "Leeds",
           "Maximilian Wöber",
           "DEF"
          ],
          [
           "Leicester",
           "Luke Thomas",
           "DEF"
          ],
          [
           "Everton",
           "Nathan Patterson",
           "DEF"
          ],
          [
           "Man Utd",
           "Scott McTominay",
           "MID"
          ],
          [
           "Leicester",
           "Wilfred Ndidi",
           "MID"
          ],
          [
           "Leeds",
           "Robin Koch",
           "DEF"
          ],
          [
           "Leicester",
           "Jonny Evans",
           "DEF"
          ],
          [
           "Southampton",
           "Mohammed Salisu",
           "DEF"
          ],
          [
           "Everton",
           "Neal Maupay",
           "FWD"
          ],
          [
           "Southampton",
           "Lyanco Silveira Neves Vojnovic",
           "DEF"
          ],
          [
           "Southampton",
           "Jan Bednarek",
           "DEF"
          ],
          [
           "Wolves",
           "Diego Da Silva Costa",
           "FWD"
          ],
          [
           "Brentford",
           "Mikkel Damsgaard",
           "MID"
          ],
          [
           "Spurs",
           "Yves Bissouma",
           "MID"
          ]
         ],
         "hovertemplate": "Price=%{x}<br>Total Points=%{y}<br>Team=%{customdata[0]}<br>Player Name=%{customdata[1]}<br>Position=%{customdata[2]}<br>Selected Percentage=%{marker.color}<extra></extra>",
         "legendgroup": "",
         "marker": {
          "color": [
           78.4,
           32.7,
           37.2,
           37.8,
           25.5,
           33.3,
           26.3,
           18.2,
           25.6,
           62.4,
           17.2,
           13.3,
           28.3,
           12.8,
           12.8,
           5.2,
           5.5,
           4.4,
           12.7,
           12.5,
           9.7,
           16.8,
           14.4,
           5.3,
           7.7,
           7.9,
           7.2,
           0.5,
           11,
           6,
           17.8,
           15.6,
           6.4,
           8.9,
           27.3,
           12.8,
           3.2,
           18,
           15.8,
           30.7,
           1.7,
           4.1,
           2.7,
           0.2,
           5.1,
           6.4,
           16.1,
           3.3,
           14.7,
           12.4,
           8.2,
           19.2,
           1.3,
           0.3,
           1.5,
           14.4,
           3.5,
           4,
           1.1,
           3.6,
           6.3,
           14.4,
           3.3,
           1,
           13.4,
           6.6,
           2.1,
           11.4,
           2.5,
           4.9,
           2.1,
           0.2,
           10.1,
           9,
           20.5,
           12.5,
           0.9,
           1.4,
           1.2,
           3.4,
           6.6,
           2,
           1.8,
           1.8,
           6,
           6.9,
           3.2,
           7.6,
           2,
           6.7,
           0.9,
           2,
           0.9,
           1.2,
           2.4,
           1.4,
           1.8,
           15,
           1.2,
           18.4,
           3.4,
           1.8,
           1.5,
           4.3,
           0.6,
           6.2,
           6.4,
           0.8,
           3.4,
           2.9,
           1.1,
           0.6,
           1.8,
           7.7,
           3.6,
           0.2,
           5.4,
           0.4,
           3.1,
           1,
           3,
           0.3,
           0.8,
           0.5,
           0.4,
           1.6,
           5.9,
           0.7,
           0,
           2.4,
           3.2,
           7.4,
           8.2,
           2.4,
           5.5,
           2.9,
           1.9,
           1.1,
           0.2,
           2.7,
           3.1,
           5.7,
           0.8,
           1.2,
           4.7,
           2.6,
           0.8,
           0.3,
           0.7,
           0.4,
           1,
           4.8,
           1,
           0.4,
           3.1,
           0.3,
           1.6,
           4.4,
           3.2,
           2.1,
           0.9,
           1.2,
           0.6,
           0.6,
           1,
           10.7,
           14.7,
           3.6,
           0.5,
           0.4,
           0.1,
           1.9,
           4.4,
           1.4,
           0.4,
           0.5,
           1.3,
           5,
           0.2,
           0.5,
           0.3,
           3.1,
           0.6,
           0,
           0.5,
           0.4,
           0.1,
           0.6,
           0.9,
           4.5,
           1.5,
           2.5,
           1,
           0.5,
           0.6,
           0.5,
           1.7,
           1.9,
           0.1,
           0,
           1.6,
           0.2,
           0.3,
           0.1,
           0.2,
           2.9,
           0.7,
           0.9,
           0.4,
           0.8,
           1.5,
           0.1,
           0.3,
           0.3,
           0.1,
           1.4,
           0.3,
           0.1,
           0.4,
           0.3,
           5.1,
           0.2,
           0.6,
           0.8,
           0.1,
           0.5,
           0.8,
           2,
           0.7,
           0.4,
           0.2,
           0.1,
           0.3,
           0.3,
           3.2,
           3.8,
           3.1,
           0.2,
           1,
           0.6,
           2.3,
           0.9,
           0.4,
           0.1,
           0.6,
           0,
           1,
           1.8,
           0.7,
           0.1,
           0.5,
           0.1,
           0,
           0.1,
           0.3,
           0.1,
           0.2,
           0.4,
           0.2,
           0.3,
           0.1,
           0.6,
           0.1,
           0.1,
           0.2,
           0.2,
           0.1,
           0.7,
           3.6,
           0.8,
           0.7,
           0.2,
           0.8,
           0.1,
           0,
           0,
           0.5,
           0.1,
           0.5,
           0.5,
           0.1,
           0.1,
           0.1,
           0.1,
           0.3,
           0,
           1.2,
           1.2,
           0.6,
           0,
           1.3,
           0.7,
           0.6,
           0,
           0.1,
           0.1,
           0.1,
           12.1,
           0,
           0.1,
           0,
           0.3,
           0.1,
           0.1,
           0,
           0.2,
           2.2,
           0.2,
           0.2,
           0.2,
           0.2,
           0.1,
           0.5,
           0,
           0.2,
           0.3,
           0.1,
           0.2
          ],
          "coloraxis": "coloraxis",
          "symbol": "circle"
         },
         "mode": "markers",
         "name": "",
         "orientation": "v",
         "showlegend": false,
         "type": "scatter",
         "x": [
          12.4,
          11.5,
          13.1,
          7.2,
          12.1,
          6.9,
          6.5,
          7.1,
          8,
          6,
          7.3,
          9.5,
          8.1,
          7.3,
          5.4,
          4.6,
          7.8,
          5.2,
          7,
          6.6,
          8,
          5.5,
          4.8,
          7.6,
          7.4,
          7.1,
          6.6,
          5.5,
          5.4,
          4,
          7.1,
          4.9,
          11.5,
          7.5,
          5.7,
          5.7,
          8,
          5.4,
          5.1,
          7.8,
          6.6,
          6.3,
          4.8,
          4.7,
          5,
          4.5,
          5,
          7.1,
          5.6,
          6.6,
          5.6,
          5.3,
          5.5,
          5.3,
          5.1,
          5.1,
          4.6,
          5.7,
          4.8,
          5.6,
          4.8,
          4.8,
          8,
          4.8,
          5.2,
          5,
          4.5,
          4.8,
          6.2,
          6.1,
          5.7,
          4.5,
          4.3,
          5,
          5,
          4.7,
          4.4,
          4.4,
          5.6,
          9.7,
          7.8,
          6,
          5.3,
          4.8,
          6.8,
          4.5,
          5.4,
          4.4,
          8.6,
          7.2,
          5.9,
          5.2,
          5,
          4.7,
          5,
          4.4,
          4.3,
          5.4,
          4.9,
          3.8,
          7.2,
          5.3,
          5.2,
          4.5,
          4.5,
          4.4,
          8.6,
          6,
          7.3,
          5.5,
          4.9,
          5.6,
          4.8,
          6.1,
          7.8,
          5.3,
          5.5,
          4.8,
          4.8,
          4.7,
          4.7,
          4.3,
          4.3,
          4.2,
          4.1,
          5.5,
          6.7,
          5.7,
          5,
          4.9,
          4.7,
          6,
          4.8,
          4.6,
          4.3,
          6.3,
          5.6,
          5.5,
          5.3,
          4.3,
          5.6,
          5.4,
          4.8,
          4.5,
          4.4,
          4.4,
          4.3,
          5.3,
          5.1,
          4.9,
          4.3,
          5,
          4.4,
          4.4,
          4.3,
          4.3,
          4.1,
          3.9,
          7.4,
          6.5,
          5.8,
          6.1,
          5.1,
          5,
          4.3,
          5.8,
          5.3,
          5.1,
          4.5,
          4.4,
          4.4,
          4.2,
          4.1,
          6.3,
          5.2,
          4.7,
          4.9,
          4.9,
          4.4,
          4.4,
          4.1,
          6.1,
          5.1,
          5,
          4.9,
          4.7,
          4.7,
          4.2,
          5.9,
          4.7,
          4.7,
          4.5,
          4.4,
          4.3,
          4.4,
          5.4,
          4.4,
          5.7,
          5.4,
          4.8,
          4.5,
          4.3,
          4.3,
          4.2,
          4.2,
          3.9,
          3.9,
          3.9,
          7.1,
          4.5,
          6.9,
          5.5,
          4.9,
          4.9,
          4.8,
          4.9,
          4.8,
          4.3,
          4,
          7.9,
          3.9,
          5.7,
          5.3,
          5,
          4.7,
          4.5,
          5.6,
          5,
          4.7,
          4.1,
          5.7,
          5,
          5,
          4.9,
          4.2,
          4.1,
          4.6,
          4.4,
          4.3,
          4.1,
          9.1,
          5.1,
          5,
          4.8,
          5,
          4.3,
          4,
          6.3,
          4.9,
          5.3,
          5.3,
          5.2,
          5,
          4.9,
          4.9,
          4.7,
          4.5,
          4.7,
          4.5,
          4.5,
          4.5,
          4.4,
          4.4,
          4.4,
          4.3,
          4.3,
          4.2,
          4.1,
          3.8,
          8.4,
          5.6,
          5.3,
          5.2,
          5.1,
          4.9,
          4.9,
          4.8,
          4.3,
          4.2,
          5.1,
          5,
          4.9,
          4.8,
          4.7,
          4.6,
          4.5,
          4.7,
          4.5,
          4.4,
          4.3,
          4,
          5.3,
          5.1,
          4.8,
          4.5,
          4.4,
          4.3,
          3.8,
          4.9,
          4.7,
          4.6,
          4.4,
          4.5,
          4.5,
          4.4,
          3.9,
          3.9,
          4.9,
          4.8,
          4.5,
          4.4,
          4.2,
          5.6,
          4.4,
          4.1,
          5.3,
          5,
          4.7
         ],
         "xaxis": "x",
         "y": [
          272,
          263,
          239,
          205,
          183,
          212,
          198,
          182,
          202,
          198,
          157,
          176,
          125,
          175,
          158,
          82,
          135,
          147,
          100,
          107,
          142,
          162,
          166,
          90,
          132,
          121,
          154,
          116,
          159,
          65,
          73,
          117,
          152,
          126,
          138,
          159,
          104,
          157,
          161,
          156,
          138,
          127,
          153,
          94,
          148,
          118,
          156,
          105,
          140,
          127,
          93,
          124,
          145,
          71,
          135,
          139,
          142,
          150,
          59,
          130,
          102,
          143,
          145,
          142,
          146,
          135,
          72,
          143,
          103,
          142,
          134,
          48,
          123,
          99,
          128,
          130,
          112,
          99,
          100,
          101,
          62,
          115,
          132,
          132,
          121,
          129,
          89,
          82,
          80,
          95,
          98,
          126,
          126,
          123,
          92,
          88,
          67,
          121,
          127,
          91,
          82,
          120,
          118,
          129,
          93,
          124,
          100,
          94,
          82,
          107,
          126,
          40,
          86,
          103,
          96,
          71,
          74,
          58,
          77,
          99,
          77,
          79,
          68,
          39,
          45,
          122,
          106,
          117,
          55,
          87,
          116,
          80,
          112,
          95,
          114,
          66,
          108,
          106,
          76,
          100,
          70,
          80,
          75,
          98,
          81,
          112,
          87,
          111,
          92,
          52,
          107,
          96,
          110,
          90,
          109,
          70,
          57,
          40,
          102,
          91,
          82,
          86,
          91,
          100,
          93,
          44,
          94,
          82,
          75,
          78,
          44,
          62,
          106,
          97,
          104,
          101,
          49,
          65,
          46,
          93,
          63,
          66,
          90,
          49,
          82,
          86,
          89,
          74,
          36,
          69,
          74,
          95,
          93,
          60,
          84,
          72,
          90,
          79,
          90,
          49,
          80,
          67,
          45,
          47,
          78,
          43,
          51,
          45,
          70,
          43,
          84,
          85,
          83,
          63,
          80,
          66,
          63,
          48,
          71,
          40,
          29,
          68,
          83,
          42,
          77,
          66,
          70,
          82,
          55,
          28,
          60,
          74,
          46,
          71,
          78,
          81,
          57,
          69,
          37,
          75,
          82,
          68,
          79,
          67,
          75,
          35,
          58,
          63,
          57,
          64,
          69,
          61,
          53,
          47,
          53,
          66,
          57,
          51,
          49,
          59,
          44,
          49,
          40,
          49,
          56,
          74,
          61,
          41,
          41,
          54,
          66,
          66,
          70,
          62,
          50,
          54,
          62,
          43,
          49,
          62,
          46,
          51,
          44,
          57,
          56,
          35,
          45,
          50,
          56,
          25,
          39,
          54,
          30,
          38,
          20,
          31,
          43,
          54,
          33,
          53,
          31,
          41,
          30,
          25,
          25,
          28,
          31,
          36,
          41,
          55,
          20,
          33,
          41,
          29,
          32,
          33,
          33,
          27
         ],
         "yaxis": "y"
        }
       ],
       "layout": {
        "autosize": true,
        "coloraxis": {
         "colorbar": {
          "title": {
           "text": "Selected Percentage"
          }
         },
         "colorscale": [
          [
           0,
           "rgb(75, 41, 145)"
          ],
          [
           0.16666666666666666,
           "rgb(135, 44, 162)"
          ],
          [
           0.3333333333333333,
           "rgb(192, 54, 157)"
          ],
          [
           0.5,
           "rgb(234, 79, 136)"
          ],
          [
           0.6666666666666666,
           "rgb(250, 120, 118)"
          ],
          [
           0.8333333333333334,
           "rgb(246, 169, 122)"
          ],
          [
           1,
           "rgb(237, 217, 163)"
          ]
         ]
        },
        "legend": {
         "tracegroupgap": 0
        },
        "template": {
         "data": {
          "bar": [
           {
            "error_x": {
             "color": "#2a3f5f"
            },
            "error_y": {
             "color": "#2a3f5f"
            },
            "marker": {
             "line": {
              "color": "white",
              "width": 0.5
             },
             "pattern": {
              "fillmode": "overlay",
              "size": 10,
              "solidity": 0.2
             }
            },
            "type": "bar"
           }
          ],
          "barpolar": [
           {
            "marker": {
             "line": {
              "color": "white",
              "width": 0.5
             },
             "pattern": {
              "fillmode": "overlay",
              "size": 10,
              "solidity": 0.2
             }
            },
            "type": "barpolar"
           }
          ],
          "carpet": [
           {
            "aaxis": {
             "endlinecolor": "#2a3f5f",
             "gridcolor": "#C8D4E3",
             "linecolor": "#C8D4E3",
             "minorgridcolor": "#C8D4E3",
             "startlinecolor": "#2a3f5f"
            },
            "baxis": {
             "endlinecolor": "#2a3f5f",
             "gridcolor": "#C8D4E3",
             "linecolor": "#C8D4E3",
             "minorgridcolor": "#C8D4E3",
             "startlinecolor": "#2a3f5f"
            },
            "type": "carpet"
           }
          ],
          "choropleth": [
           {
            "colorbar": {
             "outlinewidth": 0,
             "ticks": ""
            },
            "type": "choropleth"
           }
          ],
          "contour": [
           {
            "colorbar": {
             "outlinewidth": 0,
             "ticks": ""
            },
            "colorscale": [
             [
              0,
              "#0d0887"
             ],
             [
              0.1111111111111111,
              "#46039f"
             ],
             [
              0.2222222222222222,
              "#7201a8"
             ],
             [
              0.3333333333333333,
              "#9c179e"
             ],
             [
              0.4444444444444444,
              "#bd3786"
             ],
             [
              0.5555555555555556,
              "#d8576b"
             ],
             [
              0.6666666666666666,
              "#ed7953"
             ],
             [
              0.7777777777777778,
              "#fb9f3a"
             ],
             [
              0.8888888888888888,
              "#fdca26"
             ],
             [
              1,
              "#f0f921"
             ]
            ],
            "type": "contour"
           }
          ],
          "contourcarpet": [
           {
            "colorbar": {
             "outlinewidth": 0,
             "ticks": ""
            },
            "type": "contourcarpet"
           }
          ],
          "heatmap": [
           {
            "colorbar": {
             "outlinewidth": 0,
             "ticks": ""
            },
            "colorscale": [
             [
              0,
              "#0d0887"
             ],
             [
              0.1111111111111111,
              "#46039f"
             ],
             [
              0.2222222222222222,
              "#7201a8"
             ],
             [
              0.3333333333333333,
              "#9c179e"
             ],
             [
              0.4444444444444444,
              "#bd3786"
             ],
             [
              0.5555555555555556,
              "#d8576b"
             ],
             [
              0.6666666666666666,
              "#ed7953"
             ],
             [
              0.7777777777777778,
              "#fb9f3a"
             ],
             [
              0.8888888888888888,
              "#fdca26"
             ],
             [
              1,
              "#f0f921"
             ]
            ],
            "type": "heatmap"
           }
          ],
          "heatmapgl": [
           {
            "colorbar": {
             "outlinewidth": 0,
             "ticks": ""
            },
            "colorscale": [
             [
              0,
              "#0d0887"
             ],
             [
              0.1111111111111111,
              "#46039f"
             ],
             [
              0.2222222222222222,
              "#7201a8"
             ],
             [
              0.3333333333333333,
              "#9c179e"
             ],
             [
              0.4444444444444444,
              "#bd3786"
             ],
             [
              0.5555555555555556,
              "#d8576b"
             ],
             [
              0.6666666666666666,
              "#ed7953"
             ],
             [
              0.7777777777777778,
              "#fb9f3a"
             ],
             [
              0.8888888888888888,
              "#fdca26"
             ],
             [
              1,
              "#f0f921"
             ]
            ],
            "type": "heatmapgl"
           }
          ],
          "histogram": [
           {
            "marker": {
             "pattern": {
              "fillmode": "overlay",
              "size": 10,
              "solidity": 0.2
             }
            },
            "type": "histogram"
           }
          ],
          "histogram2d": [
           {
            "colorbar": {
             "outlinewidth": 0,
             "ticks": ""
            },
            "colorscale": [
             [
              0,
              "#0d0887"
             ],
             [
              0.1111111111111111,
              "#46039f"
             ],
             [
              0.2222222222222222,
              "#7201a8"
             ],
             [
              0.3333333333333333,
              "#9c179e"
             ],
             [
              0.4444444444444444,
              "#bd3786"
             ],
             [
              0.5555555555555556,
              "#d8576b"
             ],
             [
              0.6666666666666666,
              "#ed7953"
             ],
             [
              0.7777777777777778,
              "#fb9f3a"
             ],
             [
              0.8888888888888888,
              "#fdca26"
             ],
             [
              1,
              "#f0f921"
             ]
            ],
            "type": "histogram2d"
           }
          ],
          "histogram2dcontour": [
           {
            "colorbar": {
             "outlinewidth": 0,
             "ticks": ""
            },
            "colorscale": [
             [
              0,
              "#0d0887"
             ],
             [
              0.1111111111111111,
              "#46039f"
             ],
             [
              0.2222222222222222,
              "#7201a8"
             ],
             [
              0.3333333333333333,
              "#9c179e"
             ],
             [
              0.4444444444444444,
              "#bd3786"
             ],
             [
              0.5555555555555556,
              "#d8576b"
             ],
             [
              0.6666666666666666,
              "#ed7953"
             ],
             [
              0.7777777777777778,
              "#fb9f3a"
             ],
             [
              0.8888888888888888,
              "#fdca26"
             ],
             [
              1,
              "#f0f921"
             ]
            ],
            "type": "histogram2dcontour"
           }
          ],
          "mesh3d": [
           {
            "colorbar": {
             "outlinewidth": 0,
             "ticks": ""
            },
            "type": "mesh3d"
           }
          ],
          "parcoords": [
           {
            "line": {
             "colorbar": {
              "outlinewidth": 0,
              "ticks": ""
             }
            },
            "type": "parcoords"
           }
          ],
          "pie": [
           {
            "automargin": true,
            "type": "pie"
           }
          ],
          "scatter": [
           {
            "fillpattern": {
             "fillmode": "overlay",
             "size": 10,
             "solidity": 0.2
            },
            "type": "scatter"
           }
          ],
          "scatter3d": [
           {
            "line": {
             "colorbar": {
              "outlinewidth": 0,
              "ticks": ""
             }
            },
            "marker": {
             "colorbar": {
              "outlinewidth": 0,
              "ticks": ""
             }
            },
            "type": "scatter3d"
           }
          ],
          "scattercarpet": [
           {
            "marker": {
             "colorbar": {
              "outlinewidth": 0,
              "ticks": ""
             }
            },
            "type": "scattercarpet"
           }
          ],
          "scattergeo": [
           {
            "marker": {
             "colorbar": {
              "outlinewidth": 0,
              "ticks": ""
             }
            },
            "type": "scattergeo"
           }
          ],
          "scattergl": [
           {
            "marker": {
             "colorbar": {
              "outlinewidth": 0,
              "ticks": ""
             }
            },
            "type": "scattergl"
           }
          ],
          "scattermapbox": [
           {
            "marker": {
             "colorbar": {
              "outlinewidth": 0,
              "ticks": ""
             }
            },
            "type": "scattermapbox"
           }
          ],
          "scatterpolar": [
           {
            "marker": {
             "colorbar": {
              "outlinewidth": 0,
              "ticks": ""
             }
            },
            "type": "scatterpolar"
           }
          ],
          "scatterpolargl": [
           {
            "marker": {
             "colorbar": {
              "outlinewidth": 0,
              "ticks": ""
             }
            },
            "type": "scatterpolargl"
           }
          ],
          "scatterternary": [
           {
            "marker": {
             "colorbar": {
              "outlinewidth": 0,
              "ticks": ""
             }
            },
            "type": "scatterternary"
           }
          ],
          "surface": [
           {
            "colorbar": {
             "outlinewidth": 0,
             "ticks": ""
            },
            "colorscale": [
             [
              0,
              "#0d0887"
             ],
             [
              0.1111111111111111,
              "#46039f"
             ],
             [
              0.2222222222222222,
              "#7201a8"
             ],
             [
              0.3333333333333333,
              "#9c179e"
             ],
             [
              0.4444444444444444,
              "#bd3786"
             ],
             [
              0.5555555555555556,
              "#d8576b"
             ],
             [
              0.6666666666666666,
              "#ed7953"
             ],
             [
              0.7777777777777778,
              "#fb9f3a"
             ],
             [
              0.8888888888888888,
              "#fdca26"
             ],
             [
              1,
              "#f0f921"
             ]
            ],
            "type": "surface"
           }
          ],
          "table": [
           {
            "cells": {
             "fill": {
              "color": "#EBF0F8"
             },
             "line": {
              "color": "white"
             }
            },
            "header": {
             "fill": {
              "color": "#C8D4E3"
             },
             "line": {
              "color": "white"
             }
            },
            "type": "table"
           }
          ]
         },
         "layout": {
          "annotationdefaults": {
           "arrowcolor": "#2a3f5f",
           "arrowhead": 0,
           "arrowwidth": 1
          },
          "autotypenumbers": "strict",
          "coloraxis": {
           "colorbar": {
            "outlinewidth": 0,
            "ticks": ""
           }
          },
          "colorscale": {
           "diverging": [
            [
             0,
             "#8e0152"
            ],
            [
             0.1,
             "#c51b7d"
            ],
            [
             0.2,
             "#de77ae"
            ],
            [
             0.3,
             "#f1b6da"
            ],
            [
             0.4,
             "#fde0ef"
            ],
            [
             0.5,
             "#f7f7f7"
            ],
            [
             0.6,
             "#e6f5d0"
            ],
            [
             0.7,
             "#b8e186"
            ],
            [
             0.8,
             "#7fbc41"
            ],
            [
             0.9,
             "#4d9221"
            ],
            [
             1,
             "#276419"
            ]
           ],
           "sequential": [
            [
             0,
             "#0d0887"
            ],
            [
             0.1111111111111111,
             "#46039f"
            ],
            [
             0.2222222222222222,
             "#7201a8"
            ],
            [
             0.3333333333333333,
             "#9c179e"
            ],
            [
             0.4444444444444444,
             "#bd3786"
            ],
            [
             0.5555555555555556,
             "#d8576b"
            ],
            [
             0.6666666666666666,
             "#ed7953"
            ],
            [
             0.7777777777777778,
             "#fb9f3a"
            ],
            [
             0.8888888888888888,
             "#fdca26"
            ],
            [
             1,
             "#f0f921"
            ]
           ],
           "sequentialminus": [
            [
             0,
             "#0d0887"
            ],
            [
             0.1111111111111111,
             "#46039f"
            ],
            [
             0.2222222222222222,
             "#7201a8"
            ],
            [
             0.3333333333333333,
             "#9c179e"
            ],
            [
             0.4444444444444444,
             "#bd3786"
            ],
            [
             0.5555555555555556,
             "#d8576b"
            ],
            [
             0.6666666666666666,
             "#ed7953"
            ],
            [
             0.7777777777777778,
             "#fb9f3a"
            ],
            [
             0.8888888888888888,
             "#fdca26"
            ],
            [
             1,
             "#f0f921"
            ]
           ]
          },
          "colorway": [
           "#636efa",
           "#EF553B",
           "#00cc96",
           "#ab63fa",
           "#FFA15A",
           "#19d3f3",
           "#FF6692",
           "#B6E880",
           "#FF97FF",
           "#FECB52"
          ],
          "font": {
           "color": "#2a3f5f"
          },
          "geo": {
           "bgcolor": "white",
           "lakecolor": "white",
           "landcolor": "white",
           "showlakes": true,
           "showland": true,
           "subunitcolor": "#C8D4E3"
          },
          "hoverlabel": {
           "align": "left"
          },
          "hovermode": "closest",
          "mapbox": {
           "style": "light"
          },
          "paper_bgcolor": "white",
          "plot_bgcolor": "white",
          "polar": {
           "angularaxis": {
            "gridcolor": "#EBF0F8",
            "linecolor": "#EBF0F8",
            "ticks": ""
           },
           "bgcolor": "white",
           "radialaxis": {
            "gridcolor": "#EBF0F8",
            "linecolor": "#EBF0F8",
            "ticks": ""
           }
          },
          "scene": {
           "xaxis": {
            "backgroundcolor": "white",
            "gridcolor": "#DFE8F3",
            "gridwidth": 2,
            "linecolor": "#EBF0F8",
            "showbackground": true,
            "ticks": "",
            "zerolinecolor": "#EBF0F8"
           },
           "yaxis": {
            "backgroundcolor": "white",
            "gridcolor": "#DFE8F3",
            "gridwidth": 2,
            "linecolor": "#EBF0F8",
            "showbackground": true,
            "ticks": "",
            "zerolinecolor": "#EBF0F8"
           },
           "zaxis": {
            "backgroundcolor": "white",
            "gridcolor": "#DFE8F3",
            "gridwidth": 2,
            "linecolor": "#EBF0F8",
            "showbackground": true,
            "ticks": "",
            "zerolinecolor": "#EBF0F8"
           }
          },
          "shapedefaults": {
           "line": {
            "color": "#2a3f5f"
           }
          },
          "ternary": {
           "aaxis": {
            "gridcolor": "#DFE8F3",
            "linecolor": "#A2B1C6",
            "ticks": ""
           },
           "baxis": {
            "gridcolor": "#DFE8F3",
            "linecolor": "#A2B1C6",
            "ticks": ""
           },
           "bgcolor": "white",
           "caxis": {
            "gridcolor": "#DFE8F3",
            "linecolor": "#A2B1C6",
            "ticks": ""
           }
          },
          "title": {
           "x": 0.05
          },
          "xaxis": {
           "automargin": true,
           "gridcolor": "#EBF0F8",
           "linecolor": "#EBF0F8",
           "ticks": "",
           "title": {
            "standoff": 15
           },
           "zerolinecolor": "#EBF0F8",
           "zerolinewidth": 2
          },
          "yaxis": {
           "automargin": true,
           "gridcolor": "#EBF0F8",
           "linecolor": "#EBF0F8",
           "ticks": "",
           "title": {
            "standoff": 15
           },
           "zerolinecolor": "#EBF0F8",
           "zerolinewidth": 2
          }
         }
        },
        "title": {
         "text": "Price vs Total Points: FPL Player Analysis"
        },
        "xaxis": {
         "anchor": "y",
         "autorange": true,
         "domain": [
          0,
          1
         ],
         "range": [
          3.2309330628803243,
          13.669066937119675
         ],
         "title": {
          "text": "Price"
         },
         "type": "linear"
        },
        "yaxis": {
         "anchor": "x",
         "autorange": true,
         "domain": [
          0,
          1
         ],
         "range": [
          2.2566844919786107,
          289.7433155080214
         ],
         "title": {
          "text": "Total Points"
         },
         "type": "linear"
        }
       }
      },
      "image/png": "[encoded data removed]",
      "text/html": [
       "<div>                            <div id=\"883fe083-815b-48d6-a95e-5a74499f4d2c\" class=\"plotly-graph-div\" style=\"height:500px; width:100%;\"></div>            <script type=\"text/javascript\">                require([\"plotly\"], function(Plotly) {                    window.PLOTLYENV=window.PLOTLYENV || {};                                    if (document.getElementById(\"883fe083-815b-48d6-a95e-5a74499f4d2c\")) {                    Plotly.newPlot(                        \"883fe083-815b-48d6-a95e-5a74499f4d2c\",                        [{\"customdata\":[[\"Man City\",\"Erling Haaland\",\"FWD\"],[\"Spurs\",\"Harry Kane\",\"FWD\"],[\"Liverpool\",\"Mohamed Salah\",\"MID\"],[\"Man Utd\",\"Marcus Rashford\",\"MID\"],[\"Man City\",\"Kevin De Bruyne\",\"MID\"],[\"Arsenal\",\"Martin \\u00d8degaard\",\"MID\"],[\"Arsenal\",\"Gabriel Martinelli Silva\",\"MID\"],[\"Brentford\",\"Ivan Toney\",\"FWD\"],[\"Arsenal\",\"Bukayo Saka\",\"MID\"],[\"Newcastle\",\"Kieran Trippier\",\"DEF\"],[\"Newcastle\",\"Callum Wilson\",\"FWD\"],[\"Man Utd\",\"Bruno Borges Fernandes\",\"MID\"],[\"Arsenal\",\"Gabriel Fernando de Jesus\",\"FWD\"],[\"Aston Villa\",\"Ollie Watkins\",\"FWD\"],[\"Newcastle\",\"Miguel Almir\\u00f3n Rejala\",\"MID\"],[\"Nott'm Forest\",\"Dean Henderson\",\"GKP\"],[\"Leicester\",\"James Maddison\",\"MID\"],[\"Brighton\",\"Solly March\",\"MID\"],[\"Newcastle\",\"Alexander Isak\",\"FWD\"],[\"Fulham\",\"Aleksandar Mitrovi\\u0107\",\"FWD\"],[\"Man City\",\"Phil Foden\",\"MID\"],[\"Liverpool\",\"Alisson Ramses Becker\",\"GKP\"],[\"Brentford\",\"David Raya Martin\",\"GKP\"],[\"Liverpool\",\"Cody Gakpo\",\"MID\"],[\"Man City\",\"Ilkay G\\u00fcndogan\",\"MID\"],[\"Man City\",\"Jack Grealish\",\"MID\"],[\"Arsenal\",\"Leandro Trossard\",\"MID\"],[\"Fulham\",\"Willian Borges da Silva\",\"MID\"],[\"Brighton\",\"Pascal Gro\\u00df\",\"MID\"],[\"Brighton\",\"Jason Steele\",\"GKP\"],[\"Man City\",\"Jo\\u00e3o Cancelo\",\"DEF\"],[\"Arsenal\",\"William Saliba\",\"DEF\"],[\"Spurs\",\"Son Heung-min\",\"MID\"],[\"Man City\",\"Riyad Mahrez\",\"MID\"],[\"Brighton\",\"Kaoru Mitoma\",\"MID\"],[\"Crystal Palace\",\"Eberechi Eze\",\"MID\"],[\"Liverpool\",\"Roberto Firmino\",\"FWD\"],[\"Newcastle\",\"Nick Pope\",\"GKP\"],[\"Man Utd\",\"David De Gea Quintana\",\"GKP\"],[\"Liverpool\",\"Trent Alexander-Arnold\",\"DEF\"],[\"Leicester\",\"Harvey Barnes\",\"MID\"],[\"Leeds\",\"Rodrigo Moreno\",\"MID\"],[\"Arsenal\",\"Granit Xhaka\",\"MID\"],[\"Bournemouth\",\"Marcus Tavernier\",\"MID\"],[\"Wolves\",\"Jos\\u00e9 Malheiro de S\\u00e1\",\"GKP\"],[\"Chelsea\",\"Kepa Arrizabalaga\",\"GKP\"],[\"Arsenal\",\"Benjamin White\",\"DEF\"],[\"Man Utd\",\"Jadon Sancho\",\"MID\"],[\"Brighton\",\"Alexis Mac Allister\",\"MID\"],[\"Liverpool\",\"Virgil van Dijk\",\"DEF\"],[\"Man City\",\"John Stones\",\"DEF\"],[\"Man Utd\",\"Luke Shaw\",\"DEF\"],[\"Nott'm Forest\",\"Morgan Gibbs-White\",\"MID\"],[\"Spurs\",\"Rodrigo Bentancur\",\"MID\"],[\"Aston Villa\",\"Jacob Ramsey\",\"MID\"],[\"Newcastle\",\"Fabian Sch\\u00e4r\",\"DEF\"],[\"Fulham\",\"Bernd Leno\",\"GKP\"],[\"Brentford\",\"Bryan Mbeumo\",\"FWD\"],[\"Spurs\",\"Pedro Porro\",\"DEF\"],[\"Bournemouth\",\"Dominic Solanke\",\"FWD\"],[\"Man Utd\",\"Diogo Dalot Teixeira\",\"DEF\"],[\"Brentford\",\"Ben Mee\",\"DEF\"],[\"West Ham\",\"Jarrod Bowen\",\"MID\"],[\"Aston Villa\",\"Douglas Luiz Soares de Paulo\",\"MID\"],[\"Arsenal\",\"Gabriel dos Santos Magalh\\u00e3es\",\"DEF\"],[\"Aston Villa\",\"Emiliano Mart\\u00ednez Romero\",\"GKP\"],[\"Aston Villa\",\"Alexandre Moreno Lopera\",\"DEF\"],[\"Arsenal\",\"Aaron Ramsdale\",\"GKP\"],[\"Man Utd\",\"Christian Eriksen\",\"MID\"],[\"Southampton\",\"James Ward-Prowse\",\"MID\"],[\"Leeds\",\"Jack Harrison\",\"MID\"],[\"Nott'm Forest\",\"Danilo dos Santos de Oliveira\",\"MID\"],[\"Fulham\",\"Andreas Hoelgebaum Pereira\",\"MID\"],[\"Arsenal\",\"Oleksandr Zinchenko\",\"DEF\"],[\"Brighton\",\"Pervis Estupi\\u00f1\\u00e1n\",\"DEF\"],[\"Aston Villa\",\"Tyrone Mings\",\"DEF\"],[\"Brentford\",\"Ethan Pinnock\",\"DEF\"],[\"Crystal Palace\",\"Vicente Guaita\",\"GKP\"],[\"Nott'm Forest\",\"Taiwo Awoniyi\",\"FWD\"],[\"Chelsea\",\"Raheem Sterling\",\"MID\"],[\"Liverpool\",\"Luis D\\u00edaz\",\"MID\"],[\"Newcastle\",\"Joelinton C\\u00e1ssio Apolin\\u00e1rio de Lira\",\"MID\"],[\"Crystal Palace\",\"Michael Olise\",\"MID\"],[\"Brentford\",\"Mathias Jensen\",\"MID\"],[\"Liverpool\",\"Andrew Robertson\",\"DEF\"],[\"Newcastle\",\"Sven Botman\",\"DEF\"],[\"Spurs\",\"Hugo Lloris\",\"GKP\"],[\"Brighton\",\"Robert S\\u00e1nchez\",\"GKP\"],[\"Liverpool\",\"Diogo Teixeira da Silva\",\"FWD\"],[\"Crystal Palace\",\"Wilfried Zaha\",\"MID\"],[\"West Ham\",\"Lucas Tolentino Coelho de Lima\",\"MID\"],[\"Everton\",\"Dwight McNeil\",\"MID\"],[\"Bournemouth\",\"Philip Billing\",\"MID\"],[\"Newcastle\",\"Joe Willock\",\"MID\"],[\"Man City\",\"Nathan Ak\\u00e9\",\"DEF\"],[\"West Ham\",\"Kurt Zouma\",\"DEF\"],[\"Man Utd\",\"Aaron Wan-Bissaka\",\"DEF\"],[\"Man City\",\"Ederson Santana de Moraes\",\"GKP\"],[\"West Ham\",\"Lukasz Fabianski\",\"GKP\"],[\"Leicester\",\"Danny Ward\",\"GKP\"],[\"Chelsea\",\"Mason Mount\",\"MID\"],[\"Spurs\",\"Pierre-Emile H\\u00f8jbjerg\",\"MID\"],[\"Wolves\",\"R\\u00faben da Silva Neves\",\"MID\"],[\"Newcastle\",\"Dan Burn\",\"DEF\"],[\"Bournemouth\",\"Norberto Murara Neto\",\"GKP\"],[\"Everton\",\"Jordan Pickford\",\"GKP\"],[\"Liverpool\",\"Darwin N\\u00fa\\u00f1ez Ribeiro\",\"FWD\"],[\"Southampton\",\"Che Adams\",\"FWD\"],[\"Man Utd\",\"Antony Matheus dos Santos\",\"MID\"],[\"Newcastle\",\"Bruno Guimar\\u00e3es Rodriguez Moura\",\"MID\"],[\"Everton\",\"Alex Iwobi\",\"MID\"],[\"Man City\",\"Aymeric Laporte\",\"DEF\"],[\"Spurs\",\"Emerson Leite de Souza Junior\",\"DEF\"],[\"Man City\",\"Juli\\u00e1n \\u00c1lvarez\",\"FWD\"],[\"Spurs\",\"Dejan Kulusevski\",\"MID\"],[\"Brentford\",\"Christian N\\u00f8rgaard\",\"MID\"],[\"Chelsea\",\"Kalidou Koulibaly\",\"DEF\"],[\"West Ham\",\"Nayef Aguerd\",\"DEF\"],[\"Man Utd\",\"Rapha\\u00ebl Varane\",\"DEF\"],[\"Spurs\",\"Ben Davies\",\"DEF\"],[\"Everton\",\"Conor Coady\",\"DEF\"],[\"Fulham\",\"Issa Diop\",\"DEF\"],[\"Liverpool\",\"Joseph Gomez\",\"DEF\"],[\"Everton\",\"Michael Keane\",\"DEF\"],[\"Leicester\",\"James Justin\",\"DEF\"],[\"Nott'm Forest\",\"Brennan Johnson\",\"FWD\"],[\"Man City\",\"Bernardo Veiga de Carvalho e Silva\",\"MID\"],[\"Aston Villa\",\"Emiliano Buend\\u00eda Stati\",\"MID\"],[\"Southampton\",\"Carlos Alcaraz\",\"MID\"],[\"Man Utd\",\"Carlos Henrique Casimiro\",\"MID\"],[\"West Ham\",\"Declan Rice\",\"MID\"],[\"Man City\",\"R\\u00faben Gato Alves Dias\",\"DEF\"],[\"Brighton\",\"Lewis Dunk\",\"DEF\"],[\"Brighton\",\"Jo\\u00ebl Veltman\",\"DEF\"],[\"Leicester\",\"Timothy Castagne\",\"DEF\"],[\"Man Utd\",\"Anthony Martial\",\"FWD\"],[\"Man City\",\"Rodrigo Hernandez\",\"MID\"],[\"West Ham\",\"Sa\\u00efd Benrahma\",\"MID\"],[\"Everton\",\"Abdoulaye Doucour\\u00e9\",\"MID\"],[\"Aston Villa\",\"Leon Bailey\",\"MID\"],[\"Chelsea\",\"Ben Chilwell\",\"DEF\"],[\"Chelsea\",\"Thiago Emiliano da Silva\",\"DEF\"],[\"Wolves\",\"Craig Dawson\",\"DEF\"],[\"Fulham\",\"Tim Ream\",\"DEF\"],[\"Man Utd\",\"Lisandro Mart\\u00ednez\",\"DEF\"],[\"Brentford\",\"Rico Henry\",\"DEF\"],[\"Aston Villa\",\"Ashley Young\",\"DEF\"],[\"Brentford\",\"Yoane Wissa\",\"MID\"],[\"Wolves\",\"Daniel Castelo Podence\",\"MID\"],[\"Liverpool\",\"Curtis Jones\",\"MID\"],[\"Fulham\",\"Harrison Reed\",\"MID\"],[\"Spurs\",\"Eric Dier\",\"DEF\"],[\"Aston Villa\",\"Ezri Konsa Ngoyo\",\"DEF\"],[\"Fulham\",\"Kenny Tete\",\"DEF\"],[\"Wolves\",\"Max Kilman\",\"DEF\"],[\"Nott'm Forest\",\"Serge Aurier\",\"DEF\"],[\"Man Utd\",\"Victor Lindel\\u00f6f\",\"DEF\"],[\"Spurs\",\"Fraser Forster\",\"GKP\"],[\"Chelsea\",\"Kai Havertz\",\"FWD\"],[\"Brighton\",\"Danny Welbeck\",\"FWD\"],[\"Leicester\",\"Kelechi Iheanacho\",\"FWD\"],[\"Leicester\",\"Youri Tielemans\",\"MID\"],[\"Everton\",\"Demarai Gray\",\"MID\"],[\"West Ham\",\"Tomas Soucek\",\"MID\"],[\"Newcastle\",\"Sean Longstaff\",\"MID\"],[\"Chelsea\",\"Reece James\",\"DEF\"],[\"Spurs\",\"Ivan Peri\\u0161i\\u0107\",\"DEF\"],[\"Man City\",\"Manuel Akanji\",\"DEF\"],[\"Brighton\",\"Adam Webster\",\"DEF\"],[\"Crystal Palace\",\"Joel Ward\",\"DEF\"],[\"West Ham\",\"Angelo Ogbonna\",\"DEF\"],[\"Man Utd\",\"Tyrell Malacia\",\"DEF\"],[\"Everton\",\"James Tarkowski\",\"DEF\"],[\"West Ham\",\"Danny Ings\",\"FWD\"],[\"Crystal Palace\",\"Jordan Ayew\",\"MID\"],[\"Bournemouth\",\"Jefferson Lerma Sol\\u00eds\",\"MID\"],[\"Liverpool\",\"Ibrahima Konat\\u00e9\",\"DEF\"],[\"Chelsea\",\"Marc Cucurella Saseta\",\"DEF\"],[\"Brighton\",\"Levi Colwill\",\"DEF\"],[\"Fulham\",\"Antonee Robinson\",\"DEF\"],[\"Everton\",\"Seamus Coleman\",\"DEF\"],[\"Newcastle\",\"Allan Saint-Maximin\",\"MID\"],[\"Aston Villa\",\"John McGinn\",\"MID\"],[\"Bournemouth\",\"Dango Ouattara\",\"MID\"],[\"Leicester\",\"Kiernan Dewsbury-Hall\",\"MID\"],[\"Arsenal\",\"Thomas Partey\",\"MID\"],[\"Crystal Palace\",\"Jeffrey Schlupp\",\"MID\"],[\"Leeds\",\"Crysencio Summerville\",\"MID\"],[\"Liverpool\",\"Joel Matip\",\"DEF\"],[\"Man City\",\"Kyle Walker\",\"DEF\"],[\"West Ham\",\"Aaron Cresswell\",\"DEF\"],[\"Crystal Palace\",\"Marc Gu\\u00e9hi\",\"DEF\"],[\"Crystal Palace\",\"Tyrick Mitchell\",\"DEF\"],[\"Bournemouth\",\"Lloyd Kelly\",\"DEF\"],[\"Southampton\",\"Gavin Bazunu\",\"GKP\"],[\"Fulham\",\"Carlos Vin\\u00edcius Alves Morais\",\"FWD\"],[\"Leeds\",\"Illan Meslier\",\"GKP\"],[\"Arsenal\",\"Jorge Luiz Frello Filho\",\"MID\"],[\"Fulham\",\"Bobby De Cordova-Reid\",\"MID\"],[\"Southampton\",\"Theo Walcott\",\"MID\"],[\"Crystal Palace\",\"Joachim Andersen\",\"DEF\"],[\"West Ham\",\"Thilo Kehrer\",\"DEF\"],[\"Wolves\",\"Jonathan Castro Otto\",\"DEF\"],[\"Bournemouth\",\"Jordan Zemura\",\"DEF\"],[\"Leicester\",\"Wout Faes\",\"DEF\"],[\"Wolves\",\"Toti Ant\\u00f3nio Gomes\",\"DEF\"],[\"Leicester\",\"Daniel Amartey\",\"DEF\"],[\"Brentford\",\"Mathias Jorgensen\",\"DEF\"],[\"Leeds\",\"Patrick Bamford\",\"FWD\"],[\"Nott'm Forest\",\"Keylor Navas\",\"GKP\"],[\"West Ham\",\"Michail Antonio\",\"FWD\"],[\"Brentford\",\"Vitaly Janelt\",\"MID\"],[\"Fulham\",\"Jo\\u00e3o Palhinha Gon\\u00e7alves\",\"MID\"],[\"Brentford\",\"Aaron Hickey\",\"DEF\"],[\"Wolves\",\"Matheus Luiz Nunes\",\"MID\"],[\"Spurs\",\"Cristian Romero\",\"DEF\"],[\"Spurs\",\"Cl\\u00e9ment Lenglet\",\"DEF\"],[\"Brentford\",\"Mads Roerslev Rasmussen\",\"DEF\"],[\"Southampton\",\"Romain Perraud\",\"DEF\"],[\"Everton\",\"Dominic Calvert-Lewin\",\"FWD\"],[\"Leicester\",\"Daniel Iversen\",\"GKP\"],[\"Fulham\",\"Harry Wilson\",\"MID\"],[\"Leeds\",\"Brenden Aaronson\",\"MID\"],[\"Chelsea\",\"Enzo Fern\\u00e1ndez\",\"MID\"],[\"Everton\",\"Amadou Onana\",\"MID\"],[\"Leeds\",\"Pascal Struijk\",\"DEF\"],[\"Leicester\",\"Patson Daka\",\"FWD\"],[\"Crystal Palace\",\"Odsonne Edouard\",\"FWD\"],[\"Leeds\",\"Wilfried Gnonto\",\"FWD\"],[\"Bournemouth\",\"Mark Travers\",\"GKP\"],[\"Wolves\",\"Hwang Hee-chan\",\"MID\"],[\"Crystal Palace\",\"Cheick Doucour\\u00e9\",\"MID\"],[\"Southampton\",\"Joe Ayodele-Aribo\",\"MID\"],[\"West Ham\",\"Pablo Fornals Malla\",\"MID\"],[\"Newcastle\",\"Jacob Murphy\",\"MID\"],[\"Brentford\",\"Josh Dasilva\",\"MID\"],[\"Aston Villa\",\"Matty Cash\",\"DEF\"],[\"Bournemouth\",\"Marcos Senesi\",\"DEF\"],[\"Chelsea\",\"Wesley Fofana\",\"DEF\"],[\"Everton\",\"Vitalii Mykolenko\",\"DEF\"],[\"Leicester\",\"Jamie Vardy\",\"FWD\"],[\"Newcastle\",\"Anthony Gordon\",\"MID\"],[\"Brighton\",\"Mois\\u00e9s Caicedo Corozo\",\"MID\"],[\"Leeds\",\"Marc Roca Junqu\\u00e9\",\"MID\"],[\"Wolves\",\"N\\u00e9lson Cabral Semedo\",\"DEF\"],[\"Bournemouth\",\"Jack Stephens\",\"DEF\"],[\"West Ham\",\"Vladimir Coufal\",\"DEF\"],[\"Arsenal\",\"Eddie Nketiah\",\"FWD\"],[\"Bournemouth\",\"Kieffer Moore\",\"FWD\"],[\"Bournemouth\",\"Ryan Christie\",\"MID\"],[\"Liverpool\",\"Jordan Henderson\",\"MID\"],[\"Bournemouth\",\"Jaidon Anthony\",\"MID\"],[\"Nott'm Forest\",\"Ryan Yates\",\"MID\"],[\"Leeds\",\"Tyler Adams\",\"MID\"],[\"Chelsea\",\"Mateo Kovacic\",\"MID\"],[\"Everton\",\"Idrissa Gueye\",\"MID\"],[\"Southampton\",\"Rom\\u00e9o Lavia\",\"MID\"],[\"Leeds\",\"Rasmus Kristensen\",\"DEF\"],[\"Southampton\",\"Armel Bella-Kotchap\",\"DEF\"],[\"Leeds\",\"Luke Ayling\",\"DEF\"],[\"Crystal Palace\",\"Nathaniel Clyne\",\"DEF\"],[\"Chelsea\",\"Trevoh Chalobah\",\"DEF\"],[\"Nott'm Forest\",\"Scott McKenna\",\"DEF\"],[\"Fulham\",\"Tosin Adarabioyo\",\"DEF\"],[\"Nott'm Forest\",\"Renan Augusto Lodi dos Santos\",\"DEF\"],[\"Bournemouth\",\"Adam Smith\",\"DEF\"],[\"Nott'm Forest\",\"Joe Worrall\",\"DEF\"],[\"Wolves\",\"Rayan A\\u00eft-Nouri\",\"DEF\"],[\"Wolves\",\"Hugo Bueno L\\u00f3pez\",\"DEF\"],[\"Spurs\",\"Richarlison de Andrade\",\"FWD\"],[\"Chelsea\",\"Conor Gallagher\",\"MID\"],[\"Wolves\",\"Adama Traor\\u00e9 Diarra\",\"MID\"],[\"Liverpool\",\"Fabio Henrique Tavares\",\"MID\"],[\"Southampton\",\"Mohamed Elyounoussi\",\"MID\"],[\"Nott'm Forest\",\"Orel Mangala\",\"MID\"],[\"Nott'm Forest\",\"Remo Freuler\",\"MID\"],[\"Liverpool\",\"Harvey Elliott\",\"MID\"],[\"Spurs\",\"Oliver Skipp\",\"MID\"],[\"Wolves\",\"Nathan Collins\",\"DEF\"],[\"Man Utd\",\"Frederico Rodrigues de Paula Santos\",\"MID\"],[\"Chelsea\",\"Ruben Loftus-Cheek\",\"MID\"],[\"Bournemouth\",\"Lewis Cook\",\"MID\"],[\"Aston Villa\",\"Boubacar Kamara\",\"MID\"],[\"Southampton\",\"Stuart Armstrong\",\"MID\"],[\"Wolves\",\"Jo\\u00e3o Filipe Iria Santos Moutinho\",\"MID\"],[\"Wolves\",\"Mario Lemina\",\"MID\"],[\"Chelsea\",\"C\\u00e9sar Azpilicueta\",\"DEF\"],[\"Aston Villa\",\"Lucas Digne\",\"DEF\"],[\"Southampton\",\"Kyle Walker-Peters\",\"DEF\"],[\"Nott'm Forest\",\"Moussa Niakhat\\u00e9\",\"DEF\"],[\"West Ham\",\"Emerson Palmieri dos Santos\",\"DEF\"],[\"Southampton\",\"Adam Armstrong\",\"FWD\"],[\"Liverpool\",\"Thiago Alc\\u00e1ntara do Nascimento\",\"MID\"],[\"Southampton\",\"Ainsley Maitland-Niles\",\"MID\"],[\"Leicester\",\"Harry Souttar\",\"DEF\"],[\"Leeds\",\"Liam Cooper\",\"DEF\"],[\"Bournemouth\",\"Chris Mepham\",\"DEF\"],[\"Nott'm Forest\",\"Neco Williams\",\"DEF\"],[\"Bournemouth\",\"Joe Rothwell\",\"MID\"],[\"Fulham\",\"Tom Cairney\",\"MID\"],[\"Leeds\",\"Weston McKennie\",\"MID\"],[\"Leicester\",\"Boubakary Soumar\\u00e9\",\"MID\"],[\"Leeds\",\"Junior Firpo Adames\",\"DEF\"],[\"Nott'm Forest\",\"Felipe Augusto de Almeida Monteiro\",\"DEF\"],[\"Leeds\",\"Maximilian W\\u00f6ber\",\"DEF\"],[\"Leicester\",\"Luke Thomas\",\"DEF\"],[\"Everton\",\"Nathan Patterson\",\"DEF\"],[\"Man Utd\",\"Scott McTominay\",\"MID\"],[\"Leicester\",\"Wilfred Ndidi\",\"MID\"],[\"Leeds\",\"Robin Koch\",\"DEF\"],[\"Leicester\",\"Jonny Evans\",\"DEF\"],[\"Southampton\",\"Mohammed Salisu\",\"DEF\"],[\"Everton\",\"Neal Maupay\",\"FWD\"],[\"Southampton\",\"Lyanco Silveira Neves Vojnovic\",\"DEF\"],[\"Southampton\",\"Jan Bednarek\",\"DEF\"],[\"Wolves\",\"Diego Da Silva Costa\",\"FWD\"],[\"Brentford\",\"Mikkel Damsgaard\",\"MID\"],[\"Spurs\",\"Yves Bissouma\",\"MID\"]],\"hovertemplate\":\"Price=%{x}\\u003cbr\\u003eTotal Points=%{y}\\u003cbr\\u003eTeam=%{customdata[0]}\\u003cbr\\u003ePlayer Name=%{customdata[1]}\\u003cbr\\u003ePosition=%{customdata[2]}\\u003cbr\\u003eSelected Percentage=%{marker.color}\\u003cextra\\u003e\\u003c\\u002fextra\\u003e\",\"legendgroup\":\"\",\"marker\":{\"color\":[78.4,32.7,37.2,37.8,25.5,33.3,26.3,18.2,25.6,62.4,17.2,13.3,28.3,12.8,12.8,5.2,5.5,4.4,12.7,12.5,9.7,16.8,14.4,5.3,7.7,7.9,7.2,0.5,11.0,6.0,17.8,15.6,6.4,8.9,27.3,12.8,3.2,18.0,15.8,30.7,1.7,4.1,2.7,0.2,5.1,6.4,16.1,3.3,14.7,12.4,8.2,19.2,1.3,0.3,1.5,14.4,3.5,4.0,1.1,3.6,6.3,14.4,3.3,1.0,13.4,6.6,2.1,11.4,2.5,4.9,2.1,0.2,10.1,9.0,20.5,12.5,0.9,1.4,1.2,3.4,6.6,2.0,1.8,1.8,6.0,6.9,3.2,7.6,2.0,6.7,0.9,2.0,0.9,1.2,2.4,1.4,1.8,15.0,1.2,18.4,3.4,1.8,1.5,4.3,0.6,6.2,6.4,0.8,3.4,2.9,1.1,0.6,1.8,7.7,3.6,0.2,5.4,0.4,3.1,1.0,3.0,0.3,0.8,0.5,0.4,1.6,5.9,0.7,0.0,2.4,3.2,7.4,8.2,2.4,5.5,2.9,1.9,1.1,0.2,2.7,3.1,5.7,0.8,1.2,4.7,2.6,0.8,0.3,0.7,0.4,1.0,4.8,1.0,0.4,3.1,0.3,1.6,4.4,3.2,2.1,0.9,1.2,0.6,0.6,1.0,10.7,14.7,3.6,0.5,0.4,0.1,1.9,4.4,1.4,0.4,0.5,1.3,5.0,0.2,0.5,0.3,3.1,0.6,0.0,0.5,0.4,0.1,0.6,0.9,4.5,1.5,2.5,1.0,0.5,0.6,0.5,1.7,1.9,0.1,0.0,1.6,0.2,0.3,0.1,0.2,2.9,0.7,0.9,0.4,0.8,1.5,0.1,0.3,0.3,0.1,1.4,0.3,0.1,0.4,0.3,5.1,0.2,0.6,0.8,0.1,0.5,0.8,2.0,0.7,0.4,0.2,0.1,0.3,0.3,3.2,3.8,3.1,0.2,1.0,0.6,2.3,0.9,0.4,0.1,0.6,0.0,1.0,1.8,0.7,0.1,0.5,0.1,0.0,0.1,0.3,0.1,0.2,0.4,0.2,0.3,0.1,0.6,0.1,0.1,0.2,0.2,0.1,0.7,3.6,0.8,0.7,0.2,0.8,0.1,0.0,0.0,0.5,0.1,0.5,0.5,0.1,0.1,0.1,0.1,0.3,0.0,1.2,1.2,0.6,0.0,1.3,0.7,0.6,0.0,0.1,0.1,0.1,12.1,0.0,0.1,0.0,0.3,0.1,0.1,0.0,0.2,2.2,0.2,0.2,0.2,0.2,0.1,0.5,0.0,0.2,0.3,0.1,0.2],\"coloraxis\":\"coloraxis\",\"symbol\":\"circle\"},\"mode\":\"markers\",\"name\":\"\",\"orientation\":\"v\",\"showlegend\":false,\"x\":[12.4,11.5,13.1,7.2,12.1,6.9,6.5,7.1,8.0,6.0,7.3,9.5,8.1,7.3,5.4,4.6,7.8,5.2,7.0,6.6,8.0,5.5,4.8,7.6,7.4,7.1,6.6,5.5,5.4,4.0,7.1,4.9,11.5,7.5,5.7,5.7,8.0,5.4,5.1,7.8,6.6,6.3,4.8,4.7,5.0,4.5,5.0,7.1,5.6,6.6,5.6,5.3,5.5,5.3,5.1,5.1,4.6,5.7,4.8,5.6,4.8,4.8,8.0,4.8,5.2,5.0,4.5,4.8,6.2,6.1,5.7,4.5,4.3,5.0,5.0,4.7,4.4,4.4,5.6,9.7,7.8,6.0,5.3,4.8,6.8,4.5,5.4,4.4,8.6,7.2,5.9,5.2,5.0,4.7,5.0,4.4,4.3,5.4,4.9,3.8,7.2,5.3,5.2,4.5,4.5,4.4,8.6,6.0,7.3,5.5,4.9,5.6,4.8,6.1,7.8,5.3,5.5,4.8,4.8,4.7,4.7,4.3,4.3,4.2,4.1,5.5,6.7,5.7,5.0,4.9,4.7,6.0,4.8,4.6,4.3,6.3,5.6,5.5,5.3,4.3,5.6,5.4,4.8,4.5,4.4,4.4,4.3,5.3,5.1,4.9,4.3,5.0,4.4,4.4,4.3,4.3,4.1,3.9,7.4,6.5,5.8,6.1,5.1,5.0,4.3,5.8,5.3,5.1,4.5,4.4,4.4,4.2,4.1,6.3,5.2,4.7,4.9,4.9,4.4,4.4,4.1,6.1,5.1,5.0,4.9,4.7,4.7,4.2,5.9,4.7,4.7,4.5,4.4,4.3,4.4,5.4,4.4,5.7,5.4,4.8,4.5,4.3,4.3,4.2,4.2,3.9,3.9,3.9,7.1,4.5,6.9,5.5,4.9,4.9,4.8,4.9,4.8,4.3,4.0,7.9,3.9,5.7,5.3,5.0,4.7,4.5,5.6,5.0,4.7,4.1,5.7,5.0,5.0,4.9,4.2,4.1,4.6,4.4,4.3,4.1,9.1,5.1,5.0,4.8,5.0,4.3,4.0,6.3,4.9,5.3,5.3,5.2,5.0,4.9,4.9,4.7,4.5,4.7,4.5,4.5,4.5,4.4,4.4,4.4,4.3,4.3,4.2,4.1,3.8,8.4,5.6,5.3,5.2,5.1,4.9,4.9,4.8,4.3,4.2,5.1,5.0,4.9,4.8,4.7,4.6,4.5,4.7,4.5,4.4,4.3,4.0,5.3,5.1,4.8,4.5,4.4,4.3,3.8,4.9,4.7,4.6,4.4,4.5,4.5,4.4,3.9,3.9,4.9,4.8,4.5,4.4,4.2,5.6,4.4,4.1,5.3,5.0,4.7],\"xaxis\":\"x\",\"y\":[272,263,239,205,183,212,198,182,202,198,157,176,125,175,158,82,135,147,100,107,142,162,166,90,132,121,154,116,159,65,73,117,152,126,138,159,104,157,161,156,138,127,153,94,148,118,156,105,140,127,93,124,145,71,135,139,142,150,59,130,102,143,145,142,146,135,72,143,103,142,134,48,123,99,128,130,112,99,100,101,62,115,132,132,121,129,89,82,80,95,98,126,126,123,92,88,67,121,127,91,82,120,118,129,93,124,100,94,82,107,126,40,86,103,96,71,74,58,77,99,77,79,68,39,45,122,106,117,55,87,116,80,112,95,114,66,108,106,76,100,70,80,75,98,81,112,87,111,92,52,107,96,110,90,109,70,57,40,102,91,82,86,91,100,93,44,94,82,75,78,44,62,106,97,104,101,49,65,46,93,63,66,90,49,82,86,89,74,36,69,74,95,93,60,84,72,90,79,90,49,80,67,45,47,78,43,51,45,70,43,84,85,83,63,80,66,63,48,71,40,29,68,83,42,77,66,70,82,55,28,60,74,46,71,78,81,57,69,37,75,82,68,79,67,75,35,58,63,57,64,69,61,53,47,53,66,57,51,49,59,44,49,40,49,56,74,61,41,41,54,66,66,70,62,50,54,62,43,49,62,46,51,44,57,56,35,45,50,56,25,39,54,30,38,20,31,43,54,33,53,31,41,30,25,25,28,31,36,41,55,20,33,41,29,32,33,33,27],\"yaxis\":\"y\",\"type\":\"scatter\"}],                        {\"template\":{\"data\":{\"barpolar\":[{\"marker\":{\"line\":{\"color\":\"white\",\"width\":0.5},\"pattern\":{\"fillmode\":\"overlay\",\"size\":10,\"solidity\":0.2}},\"type\":\"barpolar\"}],\"bar\":[{\"error_x\":{\"color\":\"#2a3f5f\"},\"error_y\":{\"color\":\"#2a3f5f\"},\"marker\":{\"line\":{\"color\":\"white\",\"width\":0.5},\"pattern\":{\"fillmode\":\"overlay\",\"size\":10,\"solidity\":0.2}},\"type\":\"bar\"}],\"carpet\":[{\"aaxis\":{\"endlinecolor\":\"#2a3f5f\",\"gridcolor\":\"#C8D4E3\",\"linecolor\":\"#C8D4E3\",\"minorgridcolor\":\"#C8D4E3\",\"startlinecolor\":\"#2a3f5f\"},\"baxis\":{\"endlinecolor\":\"#2a3f5f\",\"gridcolor\":\"#C8D4E3\",\"linecolor\":\"#C8D4E3\",\"minorgridcolor\":\"#C8D4E3\",\"startlinecolor\":\"#2a3f5f\"},\"type\":\"carpet\"}],\"choropleth\":[{\"colorbar\":{\"outlinewidth\":0,\"ticks\":\"\"},\"type\":\"choropleth\"}],\"contourcarpet\":[{\"colorbar\":{\"outlinewidth\":0,\"ticks\":\"\"},\"type\":\"contourcarpet\"}],\"contour\":[{\"colorbar\":{\"outlinewidth\":0,\"ticks\":\"\"},\"colorscale\":[[0.0,\"#0d0887\"],[0.1111111111111111,\"#46039f\"],[0.2222222222222222,\"#7201a8\"],[0.3333333333333333,\"#9c179e\"],[0.4444444444444444,\"#bd3786\"],[0.5555555555555556,\"#d8576b\"],[0.6666666666666666,\"#ed7953\"],[0.7777777777777778,\"#fb9f3a\"],[0.8888888888888888,\"#fdca26\"],[1.0,\"#f0f921\"]],\"type\":\"contour\"}],\"heatmapgl\":[{\"colorbar\":{\"outlinewidth\":0,\"ticks\":\"\"},\"colorscale\":[[0.0,\"#0d0887\"],[0.1111111111111111,\"#46039f\"],[0.2222222222222222,\"#7201a8\"],[0.3333333333333333,\"#9c179e\"],[0.4444444444444444,\"#bd3786\"],[0.5555555555555556,\"#d8576b\"],[0.6666666666666666,\"#ed7953\"],[0.7777777777777778,\"#fb9f3a\"],[0.8888888888888888,\"#fdca26\"],[1.0,\"#f0f921\"]],\"type\":\"heatmapgl\"}],\"heatmap\":[{\"colorbar\":{\"outlinewidth\":0,\"ticks\":\"\"},\"colorscale\":[[0.0,\"#0d0887\"],[0.1111111111111111,\"#46039f\"],[0.2222222222222222,\"#7201a8\"],[0.3333333333333333,\"#9c179e\"],[0.4444444444444444,\"#bd3786\"],[0.5555555555555556,\"#d8576b\"],[0.6666666666666666,\"#ed7953\"],[0.7777777777777778,\"#fb9f3a\"],[0.8888888888888888,\"#fdca26\"],[1.0,\"#f0f921\"]],\"type\":\"heatmap\"}],\"histogram2dcontour\":[{\"colorbar\":{\"outlinewidth\":0,\"ticks\":\"\"},\"colorscale\":[[0.0,\"#0d0887\"],[0.1111111111111111,\"#46039f\"],[0.2222222222222222,\"#7201a8\"],[0.3333333333333333,\"#9c179e\"],[0.4444444444444444,\"#bd3786\"],[0.5555555555555556,\"#d8576b\"],[0.6666666666666666,\"#ed7953\"],[0.7777777777777778,\"#fb9f3a\"],[0.8888888888888888,\"#fdca26\"],[1.0,\"#f0f921\"]],\"type\":\"histogram2dcontour\"}],\"histogram2d\":[{\"colorbar\":{\"outlinewidth\":0,\"ticks\":\"\"},\"colorscale\":[[0.0,\"#0d0887\"],[0.1111111111111111,\"#46039f\"],[0.2222222222222222,\"#7201a8\"],[0.3333333333333333,\"#9c179e\"],[0.4444444444444444,\"#bd3786\"],[0.5555555555555556,\"#d8576b\"],[0.6666666666666666,\"#ed7953\"],[0.7777777777777778,\"#fb9f3a\"],[0.8888888888888888,\"#fdca26\"],[1.0,\"#f0f921\"]],\"type\":\"histogram2d\"}],\"histogram\":[{\"marker\":{\"pattern\":{\"fillmode\":\"overlay\",\"size\":10,\"solidity\":0.2}},\"type\":\"histogram\"}],\"mesh3d\":[{\"colorbar\":{\"outlinewidth\":0,\"ticks\":\"\"},\"type\":\"mesh3d\"}],\"parcoords\":[{\"line\":{\"colorbar\":{\"outlinewidth\":0,\"ticks\":\"\"}},\"type\":\"parcoords\"}],\"pie\":[{\"automargin\":true,\"type\":\"pie\"}],\"scatter3d\":[{\"line\":{\"colorbar\":{\"outlinewidth\":0,\"ticks\":\"\"}},\"marker\":{\"colorbar\":{\"outlinewidth\":0,\"ticks\":\"\"}},\"type\":\"scatter3d\"}],\"scattercarpet\":[{\"marker\":{\"colorbar\":{\"outlinewidth\":0,\"ticks\":\"\"}},\"type\":\"scattercarpet\"}],\"scattergeo\":[{\"marker\":{\"colorbar\":{\"outlinewidth\":0,\"ticks\":\"\"}},\"type\":\"scattergeo\"}],\"scattergl\":[{\"marker\":{\"colorbar\":{\"outlinewidth\":0,\"ticks\":\"\"}},\"type\":\"scattergl\"}],\"scattermapbox\":[{\"marker\":{\"colorbar\":{\"outlinewidth\":0,\"ticks\":\"\"}},\"type\":\"scattermapbox\"}],\"scatterpolargl\":[{\"marker\":{\"colorbar\":{\"outlinewidth\":0,\"ticks\":\"\"}},\"type\":\"scatterpolargl\"}],\"scatterpolar\":[{\"marker\":{\"colorbar\":{\"outlinewidth\":0,\"ticks\":\"\"}},\"type\":\"scatterpolar\"}],\"scatter\":[{\"fillpattern\":{\"fillmode\":\"overlay\",\"size\":10,\"solidity\":0.2},\"type\":\"scatter\"}],\"scatterternary\":[{\"marker\":{\"colorbar\":{\"outlinewidth\":0,\"ticks\":\"\"}},\"type\":\"scatterternary\"}],\"surface\":[{\"colorbar\":{\"outlinewidth\":0,\"ticks\":\"\"},\"colorscale\":[[0.0,\"#0d0887\"],[0.1111111111111111,\"#46039f\"],[0.2222222222222222,\"#7201a8\"],[0.3333333333333333,\"#9c179e\"],[0.4444444444444444,\"#bd3786\"],[0.5555555555555556,\"#d8576b\"],[0.6666666666666666,\"#ed7953\"],[0.7777777777777778,\"#fb9f3a\"],[0.8888888888888888,\"#fdca26\"],[1.0,\"#f0f921\"]],\"type\":\"surface\"}],\"table\":[{\"cells\":{\"fill\":{\"color\":\"#EBF0F8\"},\"line\":{\"color\":\"white\"}},\"header\":{\"fill\":{\"color\":\"#C8D4E3\"},\"line\":{\"color\":\"white\"}},\"type\":\"table\"}]},\"layout\":{\"annotationdefaults\":{\"arrowcolor\":\"#2a3f5f\",\"arrowhead\":0,\"arrowwidth\":1},\"autotypenumbers\":\"strict\",\"coloraxis\":{\"colorbar\":{\"outlinewidth\":0,\"ticks\":\"\"}},\"colorscale\":{\"diverging\":[[0,\"#8e0152\"],[0.1,\"#c51b7d\"],[0.2,\"#de77ae\"],[0.3,\"#f1b6da\"],[0.4,\"#fde0ef\"],[0.5,\"#f7f7f7\"],[0.6,\"#e6f5d0\"],[0.7,\"#b8e186\"],[0.8,\"#7fbc41\"],[0.9,\"#4d9221\"],[1,\"#276419\"]],\"sequential\":[[0.0,\"#0d0887\"],[0.1111111111111111,\"#46039f\"],[0.2222222222222222,\"#7201a8\"],[0.3333333333333333,\"#9c179e\"],[0.4444444444444444,\"#bd3786\"],[0.5555555555555556,\"#d8576b\"],[0.6666666666666666,\"#ed7953\"],[0.7777777777777778,\"#fb9f3a\"],[0.8888888888888888,\"#fdca26\"],[1.0,\"#f0f921\"]],\"sequentialminus\":[[0.0,\"#0d0887\"],[0.1111111111111111,\"#46039f\"],[0.2222222222222222,\"#7201a8\"],[0.3333333333333333,\"#9c179e\"],[0.4444444444444444,\"#bd3786\"],[0.5555555555555556,\"#d8576b\"],[0.6666666666666666,\"#ed7953\"],[0.7777777777777778,\"#fb9f3a\"],[0.8888888888888888,\"#fdca26\"],[1.0,\"#f0f921\"]]},\"colorway\":[\"#636efa\",\"#EF553B\",\"#00cc96\",\"#ab63fa\",\"#FFA15A\",\"#19d3f3\",\"#FF6692\",\"#B6E880\",\"#FF97FF\",\"#FECB52\"],\"font\":{\"color\":\"#2a3f5f\"},\"geo\":{\"bgcolor\":\"white\",\"lakecolor\":\"white\",\"landcolor\":\"white\",\"showlakes\":true,\"showland\":true,\"subunitcolor\":\"#C8D4E3\"},\"hoverlabel\":{\"align\":\"left\"},\"hovermode\":\"closest\",\"mapbox\":{\"style\":\"light\"},\"paper_bgcolor\":\"white\",\"plot_bgcolor\":\"white\",\"polar\":{\"angularaxis\":{\"gridcolor\":\"#EBF0F8\",\"linecolor\":\"#EBF0F8\",\"ticks\":\"\"},\"bgcolor\":\"white\",\"radialaxis\":{\"gridcolor\":\"#EBF0F8\",\"linecolor\":\"#EBF0F8\",\"ticks\":\"\"}},\"scene\":{\"xaxis\":{\"backgroundcolor\":\"white\",\"gridcolor\":\"#DFE8F3\",\"gridwidth\":2,\"linecolor\":\"#EBF0F8\",\"showbackground\":true,\"ticks\":\"\",\"zerolinecolor\":\"#EBF0F8\"},\"yaxis\":{\"backgroundcolor\":\"white\",\"gridcolor\":\"#DFE8F3\",\"gridwidth\":2,\"linecolor\":\"#EBF0F8\",\"showbackground\":true,\"ticks\":\"\",\"zerolinecolor\":\"#EBF0F8\"},\"zaxis\":{\"backgroundcolor\":\"white\",\"gridcolor\":\"#DFE8F3\",\"gridwidth\":2,\"linecolor\":\"#EBF0F8\",\"showbackground\":true,\"ticks\":\"\",\"zerolinecolor\":\"#EBF0F8\"}},\"shapedefaults\":{\"line\":{\"color\":\"#2a3f5f\"}},\"ternary\":{\"aaxis\":{\"gridcolor\":\"#DFE8F3\",\"linecolor\":\"#A2B1C6\",\"ticks\":\"\"},\"baxis\":{\"gridcolor\":\"#DFE8F3\",\"linecolor\":\"#A2B1C6\",\"ticks\":\"\"},\"bgcolor\":\"white\",\"caxis\":{\"gridcolor\":\"#DFE8F3\",\"linecolor\":\"#A2B1C6\",\"ticks\":\"\"}},\"title\":{\"x\":0.05},\"xaxis\":{\"automargin\":true,\"gridcolor\":\"#EBF0F8\",\"linecolor\":\"#EBF0F8\",\"ticks\":\"\",\"title\":{\"standoff\":15},\"zerolinecolor\":\"#EBF0F8\",\"zerolinewidth\":2},\"yaxis\":{\"automargin\":true,\"gridcolor\":\"#EBF0F8\",\"linecolor\":\"#EBF0F8\",\"ticks\":\"\",\"title\":{\"standoff\":15},\"zerolinecolor\":\"#EBF0F8\",\"zerolinewidth\":2}}},\"xaxis\":{\"anchor\":\"y\",\"domain\":[0.0,1.0],\"title\":{\"text\":\"Price\"}},\"yaxis\":{\"anchor\":\"x\",\"domain\":[0.0,1.0],\"title\":{\"text\":\"Total Points\"}},\"coloraxis\":{\"colorbar\":{\"title\":{\"text\":\"Selected Percentage\"}},\"colorscale\":[[0.0,\"rgb(75, 41, 145)\"],[0.16666666666666666,\"rgb(135, 44, 162)\"],[0.3333333333333333,\"rgb(192, 54, 157)\"],[0.5,\"rgb(234, 79, 136)\"],[0.6666666666666666,\"rgb(250, 120, 118)\"],[0.8333333333333334,\"rgb(246, 169, 122)\"],[1.0,\"rgb(237, 217, 163)\"]]},\"legend\":{\"tracegroupgap\":0},\"title\":{\"text\":\"Price vs Total Points: FPL Player Analysis\"},\"height\":500},                        {\"responsive\": true}                    ).then(function(){\n",
       "                            \n",
       "var gd = document.getElementById('883fe083-815b-48d6-a95e-5a74499f4d2c');\n",
       "var x = new MutationObserver(function (mutations, observer) {{\n",
       "        var display = window.getComputedStyle(gd).display;\n",
       "        if (!display || display === 'none') {{\n",
       "            console.log([gd, 'removed!']);\n",
       "            Plotly.purge(gd);\n",
       "            observer.disconnect();\n",
       "        }}\n",
       "}});\n",
       "\n",
       "// Listen for the removal of the full notebook cells\n",
       "var notebookContainer = gd.closest('#notebook-container');\n",
       "if (notebookContainer) {{\n",
       "    x.observe(notebookContainer, {childList: true});\n",
       "}}\n",
       "\n",
       "// Listen for the clearing of the current output cell\n",
       "var outputEl = gd.closest('.output');\n",
       "if (outputEl) {{\n",
       "    x.observe(outputEl, {childList: true});\n",
       "}}\n",
       "\n",
       "                        })                };                });            </script>        </div>"
      ]
     },
     "metadata": {},
     "output_type": "display_data"
    }
   ],
   "source": [
    "fig = px.scatter(fpl_avg_players, x='cost', y='total_points', hover_data={'name', 'team', 'position'}, color='selected_by_percent',\n",
    "                template='plotly_white', color_continuous_scale=\"Agsunset\", title='Price vs Total Points: FPL Player Analysis', \n",
    "                labels={'total_points': 'Total Points', 'cost': 'Price', 'selected_by_percent': 'Selected Percentage',\n",
    "                       'position': 'Position', 'team': 'Team', 'name': 'Player Name'})\n",
    "fig.update_layout(height=500)\n",
    "fig.show()"
   ]
  },
  {
   "cell_type": "code",
   "execution_count": 6,
   "id": "b4713e5c-5949-4bce-8fe2-08f141a5a2b4",
   "metadata": {},
   "outputs": [
    {
     "data": {
      "text/html": [
       "<div>\n",
       "<style scoped>\n",
       "    .dataframe tbody tr th:only-of-type {\n",
       "        vertical-align: middle;\n",
       "    }\n",
       "\n",
       "    .dataframe tbody tr th {\n",
       "        vertical-align: top;\n",
       "    }\n",
       "\n",
       "    .dataframe thead th {\n",
       "        text-align: right;\n",
       "    }\n",
       "</style>\n",
       "<table border=\"1\" class=\"dataframe\">\n",
       "  <thead>\n",
       "    <tr style=\"text-align: right;\">\n",
       "      <th></th>\n",
       "      <th>id</th>\n",
       "      <th>name</th>\n",
       "      <th>now_cost</th>\n",
       "      <th>cost</th>\n",
       "      <th>position</th>\n",
       "      <th>team</th>\n",
       "      <th>clean_sheets_per_90</th>\n",
       "      <th>threat_rank_type</th>\n",
       "      <th>expected_assists_per_90</th>\n",
       "      <th>expected_assists</th>\n",
       "      <th>...</th>\n",
       "      <th>threat_rank</th>\n",
       "      <th>ep_this</th>\n",
       "      <th>transfers_in</th>\n",
       "      <th>bps</th>\n",
       "      <th>goals_conceded_per_90</th>\n",
       "      <th>selected_by_percent</th>\n",
       "      <th>influence_rank_type</th>\n",
       "      <th>points_per_game_rank_type</th>\n",
       "      <th>clean_sheets</th>\n",
       "      <th>now_cost_rank</th>\n",
       "    </tr>\n",
       "  </thead>\n",
       "  <tbody>\n",
       "    <tr>\n",
       "      <th>26</th>\n",
       "      <td>81</td>\n",
       "      <td>David Raya Martin</td>\n",
       "      <td>48</td>\n",
       "      <td>4.8</td>\n",
       "      <td>GKP</td>\n",
       "      <td>Brentford</td>\n",
       "      <td>0.32</td>\n",
       "      <td>2</td>\n",
       "      <td>0.00</td>\n",
       "      <td>0.12</td>\n",
       "      <td>...</td>\n",
       "      <td>465</td>\n",
       "      <td>4.0</td>\n",
       "      <td>2641943</td>\n",
       "      <td>822</td>\n",
       "      <td>1.21</td>\n",
       "      <td>14.4</td>\n",
       "      <td>1</td>\n",
       "      <td>5</td>\n",
       "      <td>12</td>\n",
       "      <td>272</td>\n",
       "    </tr>\n",
       "    <tr>\n",
       "      <th>12</th>\n",
       "      <td>357</td>\n",
       "      <td>Kieran Trippier</td>\n",
       "      <td>60</td>\n",
       "      <td>6.0</td>\n",
       "      <td>DEF</td>\n",
       "      <td>Newcastle</td>\n",
       "      <td>0.43</td>\n",
       "      <td>66</td>\n",
       "      <td>0.32</td>\n",
       "      <td>12.03</td>\n",
       "      <td>...</td>\n",
       "      <td>250</td>\n",
       "      <td>4.3</td>\n",
       "      <td>7596439</td>\n",
       "      <td>941</td>\n",
       "      <td>0.83</td>\n",
       "      <td>62.4</td>\n",
       "      <td>2</td>\n",
       "      <td>1</td>\n",
       "      <td>16</td>\n",
       "      <td>68</td>\n",
       "    </tr>\n",
       "    <tr>\n",
       "      <th>46</th>\n",
       "      <td>3</td>\n",
       "      <td>Granit Xhaka</td>\n",
       "      <td>48</td>\n",
       "      <td>4.8</td>\n",
       "      <td>MID</td>\n",
       "      <td>Arsenal</td>\n",
       "      <td>0.39</td>\n",
       "      <td>38</td>\n",
       "      <td>0.12</td>\n",
       "      <td>3.89</td>\n",
       "      <td>...</td>\n",
       "      <td>62</td>\n",
       "      <td>7.3</td>\n",
       "      <td>942505</td>\n",
       "      <td>634</td>\n",
       "      <td>1.05</td>\n",
       "      <td>2.7</td>\n",
       "      <td>23</td>\n",
       "      <td>23</td>\n",
       "      <td>13</td>\n",
       "      <td>265</td>\n",
       "    </tr>\n",
       "    <tr>\n",
       "      <th>42</th>\n",
       "      <td>327</td>\n",
       "      <td>David De Gea Quintana</td>\n",
       "      <td>51</td>\n",
       "      <td>5.1</td>\n",
       "      <td>GKP</td>\n",
       "      <td>Man Utd</td>\n",
       "      <td>0.45</td>\n",
       "      <td>81</td>\n",
       "      <td>0.01</td>\n",
       "      <td>0.22</td>\n",
       "      <td>...</td>\n",
       "      <td>760</td>\n",
       "      <td>5.0</td>\n",
       "      <td>2277434</td>\n",
       "      <td>729</td>\n",
       "      <td>1.13</td>\n",
       "      <td>15.8</td>\n",
       "      <td>7</td>\n",
       "      <td>8</td>\n",
       "      <td>17</td>\n",
       "      <td>167</td>\n",
       "    </tr>\n",
       "    <tr>\n",
       "      <th>50</th>\n",
       "      <td>10</td>\n",
       "      <td>Benjamin White</td>\n",
       "      <td>50</td>\n",
       "      <td>5.0</td>\n",
       "      <td>DEF</td>\n",
       "      <td>Arsenal</td>\n",
       "      <td>0.44</td>\n",
       "      <td>38</td>\n",
       "      <td>0.11</td>\n",
       "      <td>3.60</td>\n",
       "      <td>...</td>\n",
       "      <td>208</td>\n",
       "      <td>3.9</td>\n",
       "      <td>3320417</td>\n",
       "      <td>734</td>\n",
       "      <td>1.03</td>\n",
       "      <td>16.1</td>\n",
       "      <td>17</td>\n",
       "      <td>6</td>\n",
       "      <td>15</td>\n",
       "      <td>197</td>\n",
       "    </tr>\n",
       "  </tbody>\n",
       "</table>\n",
       "<p>5 rows × 76 columns</p>\n",
       "</div>"
      ],
      "text/plain": [
       "     id                   name  now_cost  cost position       team  \\\n",
       "26   81      David Raya Martin        48   4.8      GKP  Brentford   \n",
       "12  357        Kieran Trippier        60   6.0      DEF  Newcastle   \n",
       "46    3           Granit Xhaka        48   4.8      MID    Arsenal   \n",
       "42  327  David De Gea Quintana        51   5.1      GKP    Man Utd   \n",
       "50   10         Benjamin White        50   5.0      DEF    Arsenal   \n",
       "\n",
       "    clean_sheets_per_90  threat_rank_type  expected_assists_per_90  \\\n",
       "26                 0.32                 2                     0.00   \n",
       "12                 0.43                66                     0.32   \n",
       "46                 0.39                38                     0.12   \n",
       "42                 0.45                81                     0.01   \n",
       "50                 0.44                38                     0.11   \n",
       "\n",
       "    expected_assists  ...  threat_rank  ep_this  transfers_in  bps  \\\n",
       "26              0.12  ...          465      4.0       2641943  822   \n",
       "12             12.03  ...          250      4.3       7596439  941   \n",
       "46              3.89  ...           62      7.3        942505  634   \n",
       "42              0.22  ...          760      5.0       2277434  729   \n",
       "50              3.60  ...          208      3.9       3320417  734   \n",
       "\n",
       "    goals_conceded_per_90  selected_by_percent  influence_rank_type  \\\n",
       "26                   1.21                 14.4                    1   \n",
       "12                   0.83                 62.4                    2   \n",
       "46                   1.05                  2.7                   23   \n",
       "42                   1.13                 15.8                    7   \n",
       "50                   1.03                 16.1                   17   \n",
       "\n",
       "    points_per_game_rank_type  clean_sheets  now_cost_rank  \n",
       "26                          5            12            272  \n",
       "12                          1            16             68  \n",
       "46                         23            13            265  \n",
       "42                          8            17            167  \n",
       "50                          6            15            197  \n",
       "\n",
       "[5 rows x 76 columns]"
      ]
     },
     "execution_count": 6,
     "metadata": {},
     "output_type": "execute_result"
    }
   ],
   "source": [
    "value = fpl_avg_players.sort_values(\"value_season\", ascending=False).head(20)\n",
    "value.head()"
   ]
  },
  {
   "cell_type": "code",
   "execution_count": 7,
   "id": "bb8ffb06-ca10-4f97-af99-252efa97231d",
   "metadata": {},
   "outputs": [
    {
     "data": {
      "application/vnd.plotly.v1+json": {
       "config": {
        "plotlyServerURL": "https://plot.ly"
       },
       "data": [
        {
         "alignmentgroup": "True",
         "customdata": [
          [
           "Brentford",
           "GKP",
           4.8
          ],
          [
           "Newcastle",
           "DEF",
           6
          ],
          [
           "Arsenal",
           "MID",
           4.8
          ],
          [
           "Man Utd",
           "GKP",
           5.1
          ],
          [
           "Arsenal",
           "DEF",
           5
          ],
          [
           "Fulham",
           "GKP",
           4.6
          ],
          [
           "Arsenal",
           "MID",
           6.9
          ],
          [
           "Arsenal",
           "MID",
           6.5
          ],
          [
           "Arsenal",
           "GKP",
           4.8
          ],
          [
           "Brentford",
           "DEF",
           4.8
          ],
          [
           "Wolves",
           "GKP",
           5
          ],
          [
           "Aston Villa",
           "MID",
           4.8
          ],
          [
           "Liverpool",
           "GKP",
           5.5
          ],
          [
           "Brighton",
           "MID",
           5.4
          ],
          [
           "Newcastle",
           "MID",
           5.4
          ],
          [
           "Newcastle",
           "GKP",
           5.4
          ],
          [
           "Newcastle",
           "DEF",
           4.5
          ],
          [
           "Newcastle",
           "DEF",
           4.5
          ],
          [
           "Fulham",
           "MID",
           4.3
          ],
          [
           "Man Utd",
           "MID",
           7.2
          ]
         ],
         "hovertemplate": "value_season=%{marker.color}<br>name=%{y}<br>team=%{customdata[0]}<br>position=%{customdata[1]}<br>cost=%{customdata[2]}<extra></extra>",
         "legendgroup": "",
         "marker": {
          "color": [
           34.6,
           33,
           31.9,
           31.6,
           31.2,
           30.9,
           30.7,
           30.5,
           29.8,
           29.8,
           29.6,
           29.6,
           29.5,
           29.4,
           29.3,
           29.1,
           28.7,
           28.7,
           28.6,
           28.5
          ],
          "coloraxis": "coloraxis",
          "pattern": {
           "shape": ""
          }
         },
         "name": "",
         "offsetgroup": "",
         "orientation": "h",
         "showlegend": false,
         "text": [
          34.6,
          33,
          31.9,
          31.6,
          31.2,
          30.9,
          30.7,
          30.5,
          29.8,
          29.8,
          29.6,
          29.6,
          29.5,
          29.4,
          29.3,
          29.1,
          28.7,
          28.7,
          28.6,
          28.5
         ],
         "textposition": "auto",
         "type": "bar",
         "x": [
          34.6,
          33,
          31.9,
          31.6,
          31.2,
          30.9,
          30.7,
          30.5,
          29.8,
          29.8,
          29.6,
          29.6,
          29.5,
          29.4,
          29.3,
          29.1,
          28.7,
          28.7,
          28.6,
          28.5
         ],
         "xaxis": "x",
         "y": [
          "David Raya Martin",
          "Kieran Trippier",
          "Granit Xhaka",
          "David De Gea Quintana",
          "Benjamin White",
          "Bernd Leno",
          "Martin Ødegaard",
          "Gabriel Martinelli Silva",
          "Aaron Ramsdale",
          "Ben Mee",
          "José Malheiro de Sá",
          "Douglas Luiz Soares de Paulo",
          "Alisson Ramses Becker",
          "Pascal Groß",
          "Miguel Almirón Rejala",
          "Nick Pope",
          "Dan Burn",
          "Sven Botman",
          "Andreas Hoelgebaum Pereira",
          "Marcus Rashford"
         ],
         "yaxis": "y"
        }
       ],
       "layout": {
        "autosize": true,
        "barmode": "relative",
        "coloraxis": {
         "colorbar": {
          "title": {
           "text": "value_season"
          }
         },
         "colorscale": [
          [
           0,
           "#0d0887"
          ],
          [
           0.1111111111111111,
           "#46039f"
          ],
          [
           0.2222222222222222,
           "#7201a8"
          ],
          [
           0.3333333333333333,
           "#9c179e"
          ],
          [
           0.4444444444444444,
           "#bd3786"
          ],
          [
           0.5555555555555556,
           "#d8576b"
          ],
          [
           0.6666666666666666,
           "#ed7953"
          ],
          [
           0.7777777777777778,
           "#fb9f3a"
          ],
          [
           0.8888888888888888,
           "#fdca26"
          ],
          [
           1,
           "#f0f921"
          ]
         ]
        },
        "legend": {
         "tracegroupgap": 0
        },
        "template": {
         "data": {
          "bar": [
           {
            "error_x": {
             "color": "#2a3f5f"
            },
            "error_y": {
             "color": "#2a3f5f"
            },
            "marker": {
             "line": {
              "color": "white",
              "width": 0.5
             },
             "pattern": {
              "fillmode": "overlay",
              "size": 10,
              "solidity": 0.2
             }
            },
            "type": "bar"
           }
          ],
          "barpolar": [
           {
            "marker": {
             "line": {
              "color": "white",
              "width": 0.5
             },
             "pattern": {
              "fillmode": "overlay",
              "size": 10,
              "solidity": 0.2
             }
            },
            "type": "barpolar"
           }
          ],
          "carpet": [
           {
            "aaxis": {
             "endlinecolor": "#2a3f5f",
             "gridcolor": "#C8D4E3",
             "linecolor": "#C8D4E3",
             "minorgridcolor": "#C8D4E3",
             "startlinecolor": "#2a3f5f"
            },
            "baxis": {
             "endlinecolor": "#2a3f5f",
             "gridcolor": "#C8D4E3",
             "linecolor": "#C8D4E3",
             "minorgridcolor": "#C8D4E3",
             "startlinecolor": "#2a3f5f"
            },
            "type": "carpet"
           }
          ],
          "choropleth": [
           {
            "colorbar": {
             "outlinewidth": 0,
             "ticks": ""
            },
            "type": "choropleth"
           }
          ],
          "contour": [
           {
            "colorbar": {
             "outlinewidth": 0,
             "ticks": ""
            },
            "colorscale": [
             [
              0,
              "#0d0887"
             ],
             [
              0.1111111111111111,
              "#46039f"
             ],
             [
              0.2222222222222222,
              "#7201a8"
             ],
             [
              0.3333333333333333,
              "#9c179e"
             ],
             [
              0.4444444444444444,
              "#bd3786"
             ],
             [
              0.5555555555555556,
              "#d8576b"
             ],
             [
              0.6666666666666666,
              "#ed7953"
             ],
             [
              0.7777777777777778,
              "#fb9f3a"
             ],
             [
              0.8888888888888888,
              "#fdca26"
             ],
             [
              1,
              "#f0f921"
             ]
            ],
            "type": "contour"
           }
          ],
          "contourcarpet": [
           {
            "colorbar": {
             "outlinewidth": 0,
             "ticks": ""
            },
            "type": "contourcarpet"
           }
          ],
          "heatmap": [
           {
            "colorbar": {
             "outlinewidth": 0,
             "ticks": ""
            },
            "colorscale": [
             [
              0,
              "#0d0887"
             ],
             [
              0.1111111111111111,
              "#46039f"
             ],
             [
              0.2222222222222222,
              "#7201a8"
             ],
             [
              0.3333333333333333,
              "#9c179e"
             ],
             [
              0.4444444444444444,
              "#bd3786"
             ],
             [
              0.5555555555555556,
              "#d8576b"
             ],
             [
              0.6666666666666666,
              "#ed7953"
             ],
             [
              0.7777777777777778,
              "#fb9f3a"
             ],
             [
              0.8888888888888888,
              "#fdca26"
             ],
             [
              1,
              "#f0f921"
             ]
            ],
            "type": "heatmap"
           }
          ],
          "heatmapgl": [
           {
            "colorbar": {
             "outlinewidth": 0,
             "ticks": ""
            },
            "colorscale": [
             [
              0,
              "#0d0887"
             ],
             [
              0.1111111111111111,
              "#46039f"
             ],
             [
              0.2222222222222222,
              "#7201a8"
             ],
             [
              0.3333333333333333,
              "#9c179e"
             ],
             [
              0.4444444444444444,
              "#bd3786"
             ],
             [
              0.5555555555555556,
              "#d8576b"
             ],
             [
              0.6666666666666666,
              "#ed7953"
             ],
             [
              0.7777777777777778,
              "#fb9f3a"
             ],
             [
              0.8888888888888888,
              "#fdca26"
             ],
             [
              1,
              "#f0f921"
             ]
            ],
            "type": "heatmapgl"
           }
          ],
          "histogram": [
           {
            "marker": {
             "pattern": {
              "fillmode": "overlay",
              "size": 10,
              "solidity": 0.2
             }
            },
            "type": "histogram"
           }
          ],
          "histogram2d": [
           {
            "colorbar": {
             "outlinewidth": 0,
             "ticks": ""
            },
            "colorscale": [
             [
              0,
              "#0d0887"
             ],
             [
              0.1111111111111111,
              "#46039f"
             ],
             [
              0.2222222222222222,
              "#7201a8"
             ],
             [
              0.3333333333333333,
              "#9c179e"
             ],
             [
              0.4444444444444444,
              "#bd3786"
             ],
             [
              0.5555555555555556,
              "#d8576b"
             ],
             [
              0.6666666666666666,
              "#ed7953"
             ],
             [
              0.7777777777777778,
              "#fb9f3a"
             ],
             [
              0.8888888888888888,
              "#fdca26"
             ],
             [
              1,
              "#f0f921"
             ]
            ],
            "type": "histogram2d"
           }
          ],
          "histogram2dcontour": [
           {
            "colorbar": {
             "outlinewidth": 0,
             "ticks": ""
            },
            "colorscale": [
             [
              0,
              "#0d0887"
             ],
             [
              0.1111111111111111,
              "#46039f"
             ],
             [
              0.2222222222222222,
              "#7201a8"
             ],
             [
              0.3333333333333333,
              "#9c179e"
             ],
             [
              0.4444444444444444,
              "#bd3786"
             ],
             [
              0.5555555555555556,
              "#d8576b"
             ],
             [
              0.6666666666666666,
              "#ed7953"
             ],
             [
              0.7777777777777778,
              "#fb9f3a"
             ],
             [
              0.8888888888888888,
              "#fdca26"
             ],
             [
              1,
              "#f0f921"
             ]
            ],
            "type": "histogram2dcontour"
           }
          ],
          "mesh3d": [
           {
            "colorbar": {
             "outlinewidth": 0,
             "ticks": ""
            },
            "type": "mesh3d"
           }
          ],
          "parcoords": [
           {
            "line": {
             "colorbar": {
              "outlinewidth": 0,
              "ticks": ""
             }
            },
            "type": "parcoords"
           }
          ],
          "pie": [
           {
            "automargin": true,
            "type": "pie"
           }
          ],
          "scatter": [
           {
            "fillpattern": {
             "fillmode": "overlay",
             "size": 10,
             "solidity": 0.2
            },
            "type": "scatter"
           }
          ],
          "scatter3d": [
           {
            "line": {
             "colorbar": {
              "outlinewidth": 0,
              "ticks": ""
             }
            },
            "marker": {
             "colorbar": {
              "outlinewidth": 0,
              "ticks": ""
             }
            },
            "type": "scatter3d"
           }
          ],
          "scattercarpet": [
           {
            "marker": {
             "colorbar": {
              "outlinewidth": 0,
              "ticks": ""
             }
            },
            "type": "scattercarpet"
           }
          ],
          "scattergeo": [
           {
            "marker": {
             "colorbar": {
              "outlinewidth": 0,
              "ticks": ""
             }
            },
            "type": "scattergeo"
           }
          ],
          "scattergl": [
           {
            "marker": {
             "colorbar": {
              "outlinewidth": 0,
              "ticks": ""
             }
            },
            "type": "scattergl"
           }
          ],
          "scattermapbox": [
           {
            "marker": {
             "colorbar": {
              "outlinewidth": 0,
              "ticks": ""
             }
            },
            "type": "scattermapbox"
           }
          ],
          "scatterpolar": [
           {
            "marker": {
             "colorbar": {
              "outlinewidth": 0,
              "ticks": ""
             }
            },
            "type": "scatterpolar"
           }
          ],
          "scatterpolargl": [
           {
            "marker": {
             "colorbar": {
              "outlinewidth": 0,
              "ticks": ""
             }
            },
            "type": "scatterpolargl"
           }
          ],
          "scatterternary": [
           {
            "marker": {
             "colorbar": {
              "outlinewidth": 0,
              "ticks": ""
             }
            },
            "type": "scatterternary"
           }
          ],
          "surface": [
           {
            "colorbar": {
             "outlinewidth": 0,
             "ticks": ""
            },
            "colorscale": [
             [
              0,
              "#0d0887"
             ],
             [
              0.1111111111111111,
              "#46039f"
             ],
             [
              0.2222222222222222,
              "#7201a8"
             ],
             [
              0.3333333333333333,
              "#9c179e"
             ],
             [
              0.4444444444444444,
              "#bd3786"
             ],
             [
              0.5555555555555556,
              "#d8576b"
             ],
             [
              0.6666666666666666,
              "#ed7953"
             ],
             [
              0.7777777777777778,
              "#fb9f3a"
             ],
             [
              0.8888888888888888,
              "#fdca26"
             ],
             [
              1,
              "#f0f921"
             ]
            ],
            "type": "surface"
           }
          ],
          "table": [
           {
            "cells": {
             "fill": {
              "color": "#EBF0F8"
             },
             "line": {
              "color": "white"
             }
            },
            "header": {
             "fill": {
              "color": "#C8D4E3"
             },
             "line": {
              "color": "white"
             }
            },
            "type": "table"
           }
          ]
         },
         "layout": {
          "annotationdefaults": {
           "arrowcolor": "#2a3f5f",
           "arrowhead": 0,
           "arrowwidth": 1
          },
          "autotypenumbers": "strict",
          "coloraxis": {
           "colorbar": {
            "outlinewidth": 0,
            "ticks": ""
           }
          },
          "colorscale": {
           "diverging": [
            [
             0,
             "#8e0152"
            ],
            [
             0.1,
             "#c51b7d"
            ],
            [
             0.2,
             "#de77ae"
            ],
            [
             0.3,
             "#f1b6da"
            ],
            [
             0.4,
             "#fde0ef"
            ],
            [
             0.5,
             "#f7f7f7"
            ],
            [
             0.6,
             "#e6f5d0"
            ],
            [
             0.7,
             "#b8e186"
            ],
            [
             0.8,
             "#7fbc41"
            ],
            [
             0.9,
             "#4d9221"
            ],
            [
             1,
             "#276419"
            ]
           ],
           "sequential": [
            [
             0,
             "#0d0887"
            ],
            [
             0.1111111111111111,
             "#46039f"
            ],
            [
             0.2222222222222222,
             "#7201a8"
            ],
            [
             0.3333333333333333,
             "#9c179e"
            ],
            [
             0.4444444444444444,
             "#bd3786"
            ],
            [
             0.5555555555555556,
             "#d8576b"
            ],
            [
             0.6666666666666666,
             "#ed7953"
            ],
            [
             0.7777777777777778,
             "#fb9f3a"
            ],
            [
             0.8888888888888888,
             "#fdca26"
            ],
            [
             1,
             "#f0f921"
            ]
           ],
           "sequentialminus": [
            [
             0,
             "#0d0887"
            ],
            [
             0.1111111111111111,
             "#46039f"
            ],
            [
             0.2222222222222222,
             "#7201a8"
            ],
            [
             0.3333333333333333,
             "#9c179e"
            ],
            [
             0.4444444444444444,
             "#bd3786"
            ],
            [
             0.5555555555555556,
             "#d8576b"
            ],
            [
             0.6666666666666666,
             "#ed7953"
            ],
            [
             0.7777777777777778,
             "#fb9f3a"
            ],
            [
             0.8888888888888888,
             "#fdca26"
            ],
            [
             1,
             "#f0f921"
            ]
           ]
          },
          "colorway": [
           "#636efa",
           "#EF553B",
           "#00cc96",
           "#ab63fa",
           "#FFA15A",
           "#19d3f3",
           "#FF6692",
           "#B6E880",
           "#FF97FF",
           "#FECB52"
          ],
          "font": {
           "color": "#2a3f5f"
          },
          "geo": {
           "bgcolor": "white",
           "lakecolor": "white",
           "landcolor": "white",
           "showlakes": true,
           "showland": true,
           "subunitcolor": "#C8D4E3"
          },
          "hoverlabel": {
           "align": "left"
          },
          "hovermode": "closest",
          "mapbox": {
           "style": "light"
          },
          "paper_bgcolor": "white",
          "plot_bgcolor": "white",
          "polar": {
           "angularaxis": {
            "gridcolor": "#EBF0F8",
            "linecolor": "#EBF0F8",
            "ticks": ""
           },
           "bgcolor": "white",
           "radialaxis": {
            "gridcolor": "#EBF0F8",
            "linecolor": "#EBF0F8",
            "ticks": ""
           }
          },
          "scene": {
           "xaxis": {
            "backgroundcolor": "white",
            "gridcolor": "#DFE8F3",
            "gridwidth": 2,
            "linecolor": "#EBF0F8",
            "showbackground": true,
            "ticks": "",
            "zerolinecolor": "#EBF0F8"
           },
           "yaxis": {
            "backgroundcolor": "white",
            "gridcolor": "#DFE8F3",
            "gridwidth": 2,
            "linecolor": "#EBF0F8",
            "showbackground": true,
            "ticks": "",
            "zerolinecolor": "#EBF0F8"
           },
           "zaxis": {
            "backgroundcolor": "white",
            "gridcolor": "#DFE8F3",
            "gridwidth": 2,
            "linecolor": "#EBF0F8",
            "showbackground": true,
            "ticks": "",
            "zerolinecolor": "#EBF0F8"
           }
          },
          "shapedefaults": {
           "line": {
            "color": "#2a3f5f"
           }
          },
          "ternary": {
           "aaxis": {
            "gridcolor": "#DFE8F3",
            "linecolor": "#A2B1C6",
            "ticks": ""
           },
           "baxis": {
            "gridcolor": "#DFE8F3",
            "linecolor": "#A2B1C6",
            "ticks": ""
           },
           "bgcolor": "white",
           "caxis": {
            "gridcolor": "#DFE8F3",
            "linecolor": "#A2B1C6",
            "ticks": ""
           }
          },
          "title": {
           "x": 0.05
          },
          "xaxis": {
           "automargin": true,
           "gridcolor": "#EBF0F8",
           "linecolor": "#EBF0F8",
           "ticks": "",
           "title": {
            "standoff": 15
           },
           "zerolinecolor": "#EBF0F8",
           "zerolinewidth": 2
          },
          "yaxis": {
           "automargin": true,
           "gridcolor": "#EBF0F8",
           "linecolor": "#EBF0F8",
           "ticks": "",
           "title": {
            "standoff": 15
           },
           "zerolinecolor": "#EBF0F8",
           "zerolinewidth": 2
          }
         }
        },
        "title": {
         "text": "Top 20 Most Valued Players Based on Price"
        },
        "xaxis": {
         "anchor": "y",
         "autorange": true,
         "domain": [
          0,
          1
         ],
         "range": [
          0,
          36.42105263157895
         ],
         "title": {
          "text": "value_season"
         },
         "type": "linear"
        },
        "yaxis": {
         "anchor": "x",
         "autorange": true,
         "domain": [
          0,
          1
         ],
         "range": [
          -0.5,
          19.5
         ],
         "title": {
          "text": "name"
         },
         "type": "category"
        }
       }
      },
      "image/png": "[encoded data removed]",
      "text/html": [
       "<div>                            <div id=\"bfa1a817-063b-48bf-b157-cbd75ab880cc\" class=\"plotly-graph-div\" style=\"height:600px; width:100%;\"></div>            <script type=\"text/javascript\">                require([\"plotly\"], function(Plotly) {                    window.PLOTLYENV=window.PLOTLYENV || {};                                    if (document.getElementById(\"bfa1a817-063b-48bf-b157-cbd75ab880cc\")) {                    Plotly.newPlot(                        \"bfa1a817-063b-48bf-b157-cbd75ab880cc\",                        [{\"alignmentgroup\":\"True\",\"customdata\":[[\"Brentford\",\"GKP\",4.8],[\"Newcastle\",\"DEF\",6.0],[\"Arsenal\",\"MID\",4.8],[\"Man Utd\",\"GKP\",5.1],[\"Arsenal\",\"DEF\",5.0],[\"Fulham\",\"GKP\",4.6],[\"Arsenal\",\"MID\",6.9],[\"Arsenal\",\"MID\",6.5],[\"Arsenal\",\"GKP\",4.8],[\"Brentford\",\"DEF\",4.8],[\"Wolves\",\"GKP\",5.0],[\"Aston Villa\",\"MID\",4.8],[\"Liverpool\",\"GKP\",5.5],[\"Brighton\",\"MID\",5.4],[\"Newcastle\",\"MID\",5.4],[\"Newcastle\",\"GKP\",5.4],[\"Newcastle\",\"DEF\",4.5],[\"Newcastle\",\"DEF\",4.5],[\"Fulham\",\"MID\",4.3],[\"Man Utd\",\"MID\",7.2]],\"hovertemplate\":\"value_season=%{marker.color}\\u003cbr\\u003ename=%{y}\\u003cbr\\u003eteam=%{customdata[0]}\\u003cbr\\u003eposition=%{customdata[1]}\\u003cbr\\u003ecost=%{customdata[2]}\\u003cextra\\u003e\\u003c\\u002fextra\\u003e\",\"legendgroup\":\"\",\"marker\":{\"color\":[34.6,33.0,31.9,31.6,31.2,30.9,30.7,30.5,29.8,29.8,29.6,29.6,29.5,29.4,29.3,29.1,28.7,28.7,28.6,28.5],\"coloraxis\":\"coloraxis\",\"pattern\":{\"shape\":\"\"}},\"name\":\"\",\"offsetgroup\":\"\",\"orientation\":\"h\",\"showlegend\":false,\"text\":[34.6,33.0,31.9,31.6,31.2,30.9,30.7,30.5,29.8,29.8,29.6,29.6,29.5,29.4,29.3,29.1,28.7,28.7,28.6,28.5],\"textposition\":\"auto\",\"x\":[34.6,33.0,31.9,31.6,31.2,30.9,30.7,30.5,29.8,29.8,29.6,29.6,29.5,29.4,29.3,29.1,28.7,28.7,28.6,28.5],\"xaxis\":\"x\",\"y\":[\"David Raya Martin\",\"Kieran Trippier\",\"Granit Xhaka\",\"David De Gea Quintana\",\"Benjamin White\",\"Bernd Leno\",\"Martin \\u00d8degaard\",\"Gabriel Martinelli Silva\",\"Aaron Ramsdale\",\"Ben Mee\",\"Jos\\u00e9 Malheiro de S\\u00e1\",\"Douglas Luiz Soares de Paulo\",\"Alisson Ramses Becker\",\"Pascal Gro\\u00df\",\"Miguel Almir\\u00f3n Rejala\",\"Nick Pope\",\"Dan Burn\",\"Sven Botman\",\"Andreas Hoelgebaum Pereira\",\"Marcus Rashford\"],\"yaxis\":\"y\",\"type\":\"bar\"}],                        {\"template\":{\"data\":{\"barpolar\":[{\"marker\":{\"line\":{\"color\":\"white\",\"width\":0.5},\"pattern\":{\"fillmode\":\"overlay\",\"size\":10,\"solidity\":0.2}},\"type\":\"barpolar\"}],\"bar\":[{\"error_x\":{\"color\":\"#2a3f5f\"},\"error_y\":{\"color\":\"#2a3f5f\"},\"marker\":{\"line\":{\"color\":\"white\",\"width\":0.5},\"pattern\":{\"fillmode\":\"overlay\",\"size\":10,\"solidity\":0.2}},\"type\":\"bar\"}],\"carpet\":[{\"aaxis\":{\"endlinecolor\":\"#2a3f5f\",\"gridcolor\":\"#C8D4E3\",\"linecolor\":\"#C8D4E3\",\"minorgridcolor\":\"#C8D4E3\",\"startlinecolor\":\"#2a3f5f\"},\"baxis\":{\"endlinecolor\":\"#2a3f5f\",\"gridcolor\":\"#C8D4E3\",\"linecolor\":\"#C8D4E3\",\"minorgridcolor\":\"#C8D4E3\",\"startlinecolor\":\"#2a3f5f\"},\"type\":\"carpet\"}],\"choropleth\":[{\"colorbar\":{\"outlinewidth\":0,\"ticks\":\"\"},\"type\":\"choropleth\"}],\"contourcarpet\":[{\"colorbar\":{\"outlinewidth\":0,\"ticks\":\"\"},\"type\":\"contourcarpet\"}],\"contour\":[{\"colorbar\":{\"outlinewidth\":0,\"ticks\":\"\"},\"colorscale\":[[0.0,\"#0d0887\"],[0.1111111111111111,\"#46039f\"],[0.2222222222222222,\"#7201a8\"],[0.3333333333333333,\"#9c179e\"],[0.4444444444444444,\"#bd3786\"],[0.5555555555555556,\"#d8576b\"],[0.6666666666666666,\"#ed7953\"],[0.7777777777777778,\"#fb9f3a\"],[0.8888888888888888,\"#fdca26\"],[1.0,\"#f0f921\"]],\"type\":\"contour\"}],\"heatmapgl\":[{\"colorbar\":{\"outlinewidth\":0,\"ticks\":\"\"},\"colorscale\":[[0.0,\"#0d0887\"],[0.1111111111111111,\"#46039f\"],[0.2222222222222222,\"#7201a8\"],[0.3333333333333333,\"#9c179e\"],[0.4444444444444444,\"#bd3786\"],[0.5555555555555556,\"#d8576b\"],[0.6666666666666666,\"#ed7953\"],[0.7777777777777778,\"#fb9f3a\"],[0.8888888888888888,\"#fdca26\"],[1.0,\"#f0f921\"]],\"type\":\"heatmapgl\"}],\"heatmap\":[{\"colorbar\":{\"outlinewidth\":0,\"ticks\":\"\"},\"colorscale\":[[0.0,\"#0d0887\"],[0.1111111111111111,\"#46039f\"],[0.2222222222222222,\"#7201a8\"],[0.3333333333333333,\"#9c179e\"],[0.4444444444444444,\"#bd3786\"],[0.5555555555555556,\"#d8576b\"],[0.6666666666666666,\"#ed7953\"],[0.7777777777777778,\"#fb9f3a\"],[0.8888888888888888,\"#fdca26\"],[1.0,\"#f0f921\"]],\"type\":\"heatmap\"}],\"histogram2dcontour\":[{\"colorbar\":{\"outlinewidth\":0,\"ticks\":\"\"},\"colorscale\":[[0.0,\"#0d0887\"],[0.1111111111111111,\"#46039f\"],[0.2222222222222222,\"#7201a8\"],[0.3333333333333333,\"#9c179e\"],[0.4444444444444444,\"#bd3786\"],[0.5555555555555556,\"#d8576b\"],[0.6666666666666666,\"#ed7953\"],[0.7777777777777778,\"#fb9f3a\"],[0.8888888888888888,\"#fdca26\"],[1.0,\"#f0f921\"]],\"type\":\"histogram2dcontour\"}],\"histogram2d\":[{\"colorbar\":{\"outlinewidth\":0,\"ticks\":\"\"},\"colorscale\":[[0.0,\"#0d0887\"],[0.1111111111111111,\"#46039f\"],[0.2222222222222222,\"#7201a8\"],[0.3333333333333333,\"#9c179e\"],[0.4444444444444444,\"#bd3786\"],[0.5555555555555556,\"#d8576b\"],[0.6666666666666666,\"#ed7953\"],[0.7777777777777778,\"#fb9f3a\"],[0.8888888888888888,\"#fdca26\"],[1.0,\"#f0f921\"]],\"type\":\"histogram2d\"}],\"histogram\":[{\"marker\":{\"pattern\":{\"fillmode\":\"overlay\",\"size\":10,\"solidity\":0.2}},\"type\":\"histogram\"}],\"mesh3d\":[{\"colorbar\":{\"outlinewidth\":0,\"ticks\":\"\"},\"type\":\"mesh3d\"}],\"parcoords\":[{\"line\":{\"colorbar\":{\"outlinewidth\":0,\"ticks\":\"\"}},\"type\":\"parcoords\"}],\"pie\":[{\"automargin\":true,\"type\":\"pie\"}],\"scatter3d\":[{\"line\":{\"colorbar\":{\"outlinewidth\":0,\"ticks\":\"\"}},\"marker\":{\"colorbar\":{\"outlinewidth\":0,\"ticks\":\"\"}},\"type\":\"scatter3d\"}],\"scattercarpet\":[{\"marker\":{\"colorbar\":{\"outlinewidth\":0,\"ticks\":\"\"}},\"type\":\"scattercarpet\"}],\"scattergeo\":[{\"marker\":{\"colorbar\":{\"outlinewidth\":0,\"ticks\":\"\"}},\"type\":\"scattergeo\"}],\"scattergl\":[{\"marker\":{\"colorbar\":{\"outlinewidth\":0,\"ticks\":\"\"}},\"type\":\"scattergl\"}],\"scattermapbox\":[{\"marker\":{\"colorbar\":{\"outlinewidth\":0,\"ticks\":\"\"}},\"type\":\"scattermapbox\"}],\"scatterpolargl\":[{\"marker\":{\"colorbar\":{\"outlinewidth\":0,\"ticks\":\"\"}},\"type\":\"scatterpolargl\"}],\"scatterpolar\":[{\"marker\":{\"colorbar\":{\"outlinewidth\":0,\"ticks\":\"\"}},\"type\":\"scatterpolar\"}],\"scatter\":[{\"fillpattern\":{\"fillmode\":\"overlay\",\"size\":10,\"solidity\":0.2},\"type\":\"scatter\"}],\"scatterternary\":[{\"marker\":{\"colorbar\":{\"outlinewidth\":0,\"ticks\":\"\"}},\"type\":\"scatterternary\"}],\"surface\":[{\"colorbar\":{\"outlinewidth\":0,\"ticks\":\"\"},\"colorscale\":[[0.0,\"#0d0887\"],[0.1111111111111111,\"#46039f\"],[0.2222222222222222,\"#7201a8\"],[0.3333333333333333,\"#9c179e\"],[0.4444444444444444,\"#bd3786\"],[0.5555555555555556,\"#d8576b\"],[0.6666666666666666,\"#ed7953\"],[0.7777777777777778,\"#fb9f3a\"],[0.8888888888888888,\"#fdca26\"],[1.0,\"#f0f921\"]],\"type\":\"surface\"}],\"table\":[{\"cells\":{\"fill\":{\"color\":\"#EBF0F8\"},\"line\":{\"color\":\"white\"}},\"header\":{\"fill\":{\"color\":\"#C8D4E3\"},\"line\":{\"color\":\"white\"}},\"type\":\"table\"}]},\"layout\":{\"annotationdefaults\":{\"arrowcolor\":\"#2a3f5f\",\"arrowhead\":0,\"arrowwidth\":1},\"autotypenumbers\":\"strict\",\"coloraxis\":{\"colorbar\":{\"outlinewidth\":0,\"ticks\":\"\"}},\"colorscale\":{\"diverging\":[[0,\"#8e0152\"],[0.1,\"#c51b7d\"],[0.2,\"#de77ae\"],[0.3,\"#f1b6da\"],[0.4,\"#fde0ef\"],[0.5,\"#f7f7f7\"],[0.6,\"#e6f5d0\"],[0.7,\"#b8e186\"],[0.8,\"#7fbc41\"],[0.9,\"#4d9221\"],[1,\"#276419\"]],\"sequential\":[[0.0,\"#0d0887\"],[0.1111111111111111,\"#46039f\"],[0.2222222222222222,\"#7201a8\"],[0.3333333333333333,\"#9c179e\"],[0.4444444444444444,\"#bd3786\"],[0.5555555555555556,\"#d8576b\"],[0.6666666666666666,\"#ed7953\"],[0.7777777777777778,\"#fb9f3a\"],[0.8888888888888888,\"#fdca26\"],[1.0,\"#f0f921\"]],\"sequentialminus\":[[0.0,\"#0d0887\"],[0.1111111111111111,\"#46039f\"],[0.2222222222222222,\"#7201a8\"],[0.3333333333333333,\"#9c179e\"],[0.4444444444444444,\"#bd3786\"],[0.5555555555555556,\"#d8576b\"],[0.6666666666666666,\"#ed7953\"],[0.7777777777777778,\"#fb9f3a\"],[0.8888888888888888,\"#fdca26\"],[1.0,\"#f0f921\"]]},\"colorway\":[\"#636efa\",\"#EF553B\",\"#00cc96\",\"#ab63fa\",\"#FFA15A\",\"#19d3f3\",\"#FF6692\",\"#B6E880\",\"#FF97FF\",\"#FECB52\"],\"font\":{\"color\":\"#2a3f5f\"},\"geo\":{\"bgcolor\":\"white\",\"lakecolor\":\"white\",\"landcolor\":\"white\",\"showlakes\":true,\"showland\":true,\"subunitcolor\":\"#C8D4E3\"},\"hoverlabel\":{\"align\":\"left\"},\"hovermode\":\"closest\",\"mapbox\":{\"style\":\"light\"},\"paper_bgcolor\":\"white\",\"plot_bgcolor\":\"white\",\"polar\":{\"angularaxis\":{\"gridcolor\":\"#EBF0F8\",\"linecolor\":\"#EBF0F8\",\"ticks\":\"\"},\"bgcolor\":\"white\",\"radialaxis\":{\"gridcolor\":\"#EBF0F8\",\"linecolor\":\"#EBF0F8\",\"ticks\":\"\"}},\"scene\":{\"xaxis\":{\"backgroundcolor\":\"white\",\"gridcolor\":\"#DFE8F3\",\"gridwidth\":2,\"linecolor\":\"#EBF0F8\",\"showbackground\":true,\"ticks\":\"\",\"zerolinecolor\":\"#EBF0F8\"},\"yaxis\":{\"backgroundcolor\":\"white\",\"gridcolor\":\"#DFE8F3\",\"gridwidth\":2,\"linecolor\":\"#EBF0F8\",\"showbackground\":true,\"ticks\":\"\",\"zerolinecolor\":\"#EBF0F8\"},\"zaxis\":{\"backgroundcolor\":\"white\",\"gridcolor\":\"#DFE8F3\",\"gridwidth\":2,\"linecolor\":\"#EBF0F8\",\"showbackground\":true,\"ticks\":\"\",\"zerolinecolor\":\"#EBF0F8\"}},\"shapedefaults\":{\"line\":{\"color\":\"#2a3f5f\"}},\"ternary\":{\"aaxis\":{\"gridcolor\":\"#DFE8F3\",\"linecolor\":\"#A2B1C6\",\"ticks\":\"\"},\"baxis\":{\"gridcolor\":\"#DFE8F3\",\"linecolor\":\"#A2B1C6\",\"ticks\":\"\"},\"bgcolor\":\"white\",\"caxis\":{\"gridcolor\":\"#DFE8F3\",\"linecolor\":\"#A2B1C6\",\"ticks\":\"\"}},\"title\":{\"x\":0.05},\"xaxis\":{\"automargin\":true,\"gridcolor\":\"#EBF0F8\",\"linecolor\":\"#EBF0F8\",\"ticks\":\"\",\"title\":{\"standoff\":15},\"zerolinecolor\":\"#EBF0F8\",\"zerolinewidth\":2},\"yaxis\":{\"automargin\":true,\"gridcolor\":\"#EBF0F8\",\"linecolor\":\"#EBF0F8\",\"ticks\":\"\",\"title\":{\"standoff\":15},\"zerolinecolor\":\"#EBF0F8\",\"zerolinewidth\":2}}},\"xaxis\":{\"anchor\":\"y\",\"domain\":[0.0,1.0],\"title\":{\"text\":\"value_season\"}},\"yaxis\":{\"anchor\":\"x\",\"domain\":[0.0,1.0],\"title\":{\"text\":\"name\"}},\"coloraxis\":{\"colorbar\":{\"title\":{\"text\":\"value_season\"}},\"colorscale\":[[0.0,\"#0d0887\"],[0.1111111111111111,\"#46039f\"],[0.2222222222222222,\"#7201a8\"],[0.3333333333333333,\"#9c179e\"],[0.4444444444444444,\"#bd3786\"],[0.5555555555555556,\"#d8576b\"],[0.6666666666666666,\"#ed7953\"],[0.7777777777777778,\"#fb9f3a\"],[0.8888888888888888,\"#fdca26\"],[1.0,\"#f0f921\"]]},\"legend\":{\"tracegroupgap\":0},\"title\":{\"text\":\"Top 20 Most Valued Players Based on Price\"},\"barmode\":\"relative\",\"height\":600},                        {\"responsive\": true}                    ).then(function(){\n",
       "                            \n",
       "var gd = document.getElementById('bfa1a817-063b-48bf-b157-cbd75ab880cc');\n",
       "var x = new MutationObserver(function (mutations, observer) {{\n",
       "        var display = window.getComputedStyle(gd).display;\n",
       "        if (!display || display === 'none') {{\n",
       "            console.log([gd, 'removed!']);\n",
       "            Plotly.purge(gd);\n",
       "            observer.disconnect();\n",
       "        }}\n",
       "}});\n",
       "\n",
       "// Listen for the removal of the full notebook cells\n",
       "var notebookContainer = gd.closest('#notebook-container');\n",
       "if (notebookContainer) {{\n",
       "    x.observe(notebookContainer, {childList: true});\n",
       "}}\n",
       "\n",
       "// Listen for the clearing of the current output cell\n",
       "var outputEl = gd.closest('.output');\n",
       "if (outputEl) {{\n",
       "    x.observe(outputEl, {childList: true});\n",
       "}}\n",
       "\n",
       "                        })                };                });            </script>        </div>"
      ]
     },
     "metadata": {},
     "output_type": "display_data"
    }
   ],
   "source": [
    "fig = px.bar(value, x='value_season', y='name', color='value_season', hover_data={'cost', 'team', 'position'}, text='value_season',\n",
    "            title='Top 20 Most Valued Players Based on Price', template='plotly_white')\n",
    "fig.update_layout(height=600)\n",
    "fig.show()"
   ]
  },
  {
   "cell_type": "code",
   "execution_count": 8,
   "id": "37c65647-1fc2-4e9a-9e33-2289f110d7c8",
   "metadata": {},
   "outputs": [
    {
     "data": {
      "text/html": [
       "<div>\n",
       "<style scoped>\n",
       "    .dataframe tbody tr th:only-of-type {\n",
       "        vertical-align: middle;\n",
       "    }\n",
       "\n",
       "    .dataframe tbody tr th {\n",
       "        vertical-align: top;\n",
       "    }\n",
       "\n",
       "    .dataframe thead th {\n",
       "        text-align: right;\n",
       "    }\n",
       "</style>\n",
       "<table border=\"1\" class=\"dataframe\">\n",
       "  <thead>\n",
       "    <tr style=\"text-align: right;\">\n",
       "      <th></th>\n",
       "      <th>id</th>\n",
       "      <th>name</th>\n",
       "      <th>now_cost</th>\n",
       "      <th>cost</th>\n",
       "      <th>position</th>\n",
       "      <th>team</th>\n",
       "      <th>clean_sheets_per_90</th>\n",
       "      <th>threat_rank_type</th>\n",
       "      <th>expected_assists_per_90</th>\n",
       "      <th>expected_assists</th>\n",
       "      <th>...</th>\n",
       "      <th>threat_rank</th>\n",
       "      <th>ep_this</th>\n",
       "      <th>transfers_in</th>\n",
       "      <th>bps</th>\n",
       "      <th>goals_conceded_per_90</th>\n",
       "      <th>selected_by_percent</th>\n",
       "      <th>influence_rank_type</th>\n",
       "      <th>points_per_game_rank_type</th>\n",
       "      <th>clean_sheets</th>\n",
       "      <th>now_cost_rank</th>\n",
       "    </tr>\n",
       "  </thead>\n",
       "  <tbody>\n",
       "    <tr>\n",
       "      <th>1</th>\n",
       "      <td>318</td>\n",
       "      <td>Erling Haaland</td>\n",
       "      <td>124</td>\n",
       "      <td>12.4</td>\n",
       "      <td>FWD</td>\n",
       "      <td>Man City</td>\n",
       "      <td>0.42</td>\n",
       "      <td>1</td>\n",
       "      <td>0.10</td>\n",
       "      <td>3.11</td>\n",
       "      <td>...</td>\n",
       "      <td>1</td>\n",
       "      <td>5.4</td>\n",
       "      <td>7833248</td>\n",
       "      <td>1040</td>\n",
       "      <td>0.85</td>\n",
       "      <td>78.4</td>\n",
       "      <td>1</td>\n",
       "      <td>1</td>\n",
       "      <td>13</td>\n",
       "      <td>2</td>\n",
       "    </tr>\n",
       "    <tr>\n",
       "      <th>3</th>\n",
       "      <td>427</td>\n",
       "      <td>Harry Kane</td>\n",
       "      <td>115</td>\n",
       "      <td>11.5</td>\n",
       "      <td>FWD</td>\n",
       "      <td>Spurs</td>\n",
       "      <td>0.29</td>\n",
       "      <td>2</td>\n",
       "      <td>0.11</td>\n",
       "      <td>4.01</td>\n",
       "      <td>...</td>\n",
       "      <td>2</td>\n",
       "      <td>9.2</td>\n",
       "      <td>7381740</td>\n",
       "      <td>1008</td>\n",
       "      <td>1.64</td>\n",
       "      <td>32.7</td>\n",
       "      <td>2</td>\n",
       "      <td>2</td>\n",
       "      <td>11</td>\n",
       "      <td>4</td>\n",
       "    </tr>\n",
       "    <tr>\n",
       "      <th>9</th>\n",
       "      <td>80</td>\n",
       "      <td>Ivan Toney</td>\n",
       "      <td>71</td>\n",
       "      <td>7.1</td>\n",
       "      <td>FWD</td>\n",
       "      <td>Brentford</td>\n",
       "      <td>0.30</td>\n",
       "      <td>5</td>\n",
       "      <td>0.11</td>\n",
       "      <td>3.72</td>\n",
       "      <td>...</td>\n",
       "      <td>8</td>\n",
       "      <td>0.0</td>\n",
       "      <td>10688278</td>\n",
       "      <td>607</td>\n",
       "      <td>1.28</td>\n",
       "      <td>18.2</td>\n",
       "      <td>3</td>\n",
       "      <td>3</td>\n",
       "      <td>10</td>\n",
       "      <td>38</td>\n",
       "    </tr>\n",
       "    <tr>\n",
       "      <th>4</th>\n",
       "      <td>283</td>\n",
       "      <td>Mohamed Salah</td>\n",
       "      <td>131</td>\n",
       "      <td>13.1</td>\n",
       "      <td>MID</td>\n",
       "      <td>Liverpool</td>\n",
       "      <td>0.36</td>\n",
       "      <td>1</td>\n",
       "      <td>0.19</td>\n",
       "      <td>7.03</td>\n",
       "      <td>...</td>\n",
       "      <td>3</td>\n",
       "      <td>9.3</td>\n",
       "      <td>6974743</td>\n",
       "      <td>651</td>\n",
       "      <td>1.23</td>\n",
       "      <td>37.2</td>\n",
       "      <td>1</td>\n",
       "      <td>1</td>\n",
       "      <td>13</td>\n",
       "      <td>1</td>\n",
       "    </tr>\n",
       "    <tr>\n",
       "      <th>13</th>\n",
       "      <td>356</td>\n",
       "      <td>Callum Wilson</td>\n",
       "      <td>73</td>\n",
       "      <td>7.3</td>\n",
       "      <td>FWD</td>\n",
       "      <td>Newcastle</td>\n",
       "      <td>0.48</td>\n",
       "      <td>9</td>\n",
       "      <td>0.10</td>\n",
       "      <td>2.11</td>\n",
       "      <td>...</td>\n",
       "      <td>14</td>\n",
       "      <td>7.3</td>\n",
       "      <td>4424113</td>\n",
       "      <td>526</td>\n",
       "      <td>0.77</td>\n",
       "      <td>17.2</td>\n",
       "      <td>5</td>\n",
       "      <td>4</td>\n",
       "      <td>10</td>\n",
       "      <td>29</td>\n",
       "    </tr>\n",
       "  </tbody>\n",
       "</table>\n",
       "<p>5 rows × 76 columns</p>\n",
       "</div>"
      ],
      "text/plain": [
       "     id            name  now_cost  cost position       team  \\\n",
       "1   318  Erling Haaland       124  12.4      FWD   Man City   \n",
       "3   427      Harry Kane       115  11.5      FWD      Spurs   \n",
       "9    80      Ivan Toney        71   7.1      FWD  Brentford   \n",
       "4   283   Mohamed Salah       131  13.1      MID  Liverpool   \n",
       "13  356   Callum Wilson        73   7.3      FWD  Newcastle   \n",
       "\n",
       "    clean_sheets_per_90  threat_rank_type  expected_assists_per_90  \\\n",
       "1                  0.42                 1                     0.10   \n",
       "3                  0.29                 2                     0.11   \n",
       "9                  0.30                 5                     0.11   \n",
       "4                  0.36                 1                     0.19   \n",
       "13                 0.48                 9                     0.10   \n",
       "\n",
       "    expected_assists  ...  threat_rank  ep_this  transfers_in   bps  \\\n",
       "1               3.11  ...            1      5.4       7833248  1040   \n",
       "3               4.01  ...            2      9.2       7381740  1008   \n",
       "9               3.72  ...            8      0.0      10688278   607   \n",
       "4               7.03  ...            3      9.3       6974743   651   \n",
       "13              2.11  ...           14      7.3       4424113   526   \n",
       "\n",
       "    goals_conceded_per_90  selected_by_percent  influence_rank_type  \\\n",
       "1                    0.85                 78.4                    1   \n",
       "3                    1.64                 32.7                    2   \n",
       "9                    1.28                 18.2                    3   \n",
       "4                    1.23                 37.2                    1   \n",
       "13                   0.77                 17.2                    5   \n",
       "\n",
       "    points_per_game_rank_type  clean_sheets  now_cost_rank  \n",
       "1                           1            13              2  \n",
       "3                           2            11              4  \n",
       "9                           3            10             38  \n",
       "4                           1            13              1  \n",
       "13                          4            10             29  \n",
       "\n",
       "[5 rows x 76 columns]"
      ]
     },
     "execution_count": 8,
     "metadata": {},
     "output_type": "execute_result"
    }
   ],
   "source": [
    "exp_goals = fpl_avg_players.sort_values('goals_scored', ascending=False).head(10)\n",
    "exp_goals.head()"
   ]
  },
  {
   "cell_type": "code",
   "execution_count": 9,
   "id": "6f67a4ec-c1e8-4f33-8521-620fc4adbba4",
   "metadata": {},
   "outputs": [
    {
     "data": {
      "application/vnd.plotly.v1+json": {
       "config": {
        "plotlyServerURL": "https://plot.ly"
       },
       "data": [
        {
         "alignmentgroup": "True",
         "hovertemplate": "variable=Goals Scored<br>Player=%{x}<br>value=%{y}<extra></extra>",
         "legendgroup": "Goals Scored",
         "marker": {
          "color": "#636efa",
          "pattern": {
           "shape": ""
          }
         },
         "name": "Goals Scored",
         "offsetgroup": "goals_scored",
         "orientation": "v",
         "showlegend": true,
         "textposition": "auto",
         "type": "bar",
         "x": [
          "Haaland",
          "Kane",
          "Toney",
          "Salah",
          "Wilson",
          "Rashford",
          "Watkins",
          "Martinelli",
          "Ødegaard",
          "Saka"
         ],
         "xaxis": "x",
         "y": [
          36,
          30,
          20,
          19,
          18,
          17,
          15,
          15,
          15,
          14
         ],
         "yaxis": "y"
        },
        {
         "alignmentgroup": "True",
         "hovertemplate": "variable=Expected Goals<br>Player=%{x}<br>value=%{y}<extra></extra>",
         "legendgroup": "Expected Goals",
         "marker": {
          "color": "#EF553B",
          "pattern": {
           "shape": ""
          }
         },
         "name": "Expected Goals",
         "offsetgroup": "expected_goals",
         "orientation": "v",
         "showlegend": true,
         "textposition": "auto",
         "type": "bar",
         "x": [
          "Haaland",
          "Kane",
          "Toney",
          "Salah",
          "Wilson",
          "Rashford",
          "Watkins",
          "Martinelli",
          "Ødegaard",
          "Saka"
         ],
         "xaxis": "x",
         "y": [
          28.54,
          20.95,
          18.74,
          21.01,
          16.43,
          15.27,
          16.15,
          9.15,
          9.75,
          11.49
         ],
         "yaxis": "y"
        }
       ],
       "layout": {
        "autosize": true,
        "barmode": "group",
        "legend": {
         "title": {
          "text": "variable"
         },
         "tracegroupgap": 0
        },
        "template": {
         "data": {
          "bar": [
           {
            "error_x": {
             "color": "#2a3f5f"
            },
            "error_y": {
             "color": "#2a3f5f"
            },
            "marker": {
             "line": {
              "color": "white",
              "width": 0.5
             },
             "pattern": {
              "fillmode": "overlay",
              "size": 10,
              "solidity": 0.2
             }
            },
            "type": "bar"
           }
          ],
          "barpolar": [
           {
            "marker": {
             "line": {
              "color": "white",
              "width": 0.5
             },
             "pattern": {
              "fillmode": "overlay",
              "size": 10,
              "solidity": 0.2
             }
            },
            "type": "barpolar"
           }
          ],
          "carpet": [
           {
            "aaxis": {
             "endlinecolor": "#2a3f5f",
             "gridcolor": "#C8D4E3",
             "linecolor": "#C8D4E3",
             "minorgridcolor": "#C8D4E3",
             "startlinecolor": "#2a3f5f"
            },
            "baxis": {
             "endlinecolor": "#2a3f5f",
             "gridcolor": "#C8D4E3",
             "linecolor": "#C8D4E3",
             "minorgridcolor": "#C8D4E3",
             "startlinecolor": "#2a3f5f"
            },
            "type": "carpet"
           }
          ],
          "choropleth": [
           {
            "colorbar": {
             "outlinewidth": 0,
             "ticks": ""
            },
            "type": "choropleth"
           }
          ],
          "contour": [
           {
            "colorbar": {
             "outlinewidth": 0,
             "ticks": ""
            },
            "colorscale": [
             [
              0,
              "#0d0887"
             ],
             [
              0.1111111111111111,
              "#46039f"
             ],
             [
              0.2222222222222222,
              "#7201a8"
             ],
             [
              0.3333333333333333,
              "#9c179e"
             ],
             [
              0.4444444444444444,
              "#bd3786"
             ],
             [
              0.5555555555555556,
              "#d8576b"
             ],
             [
              0.6666666666666666,
              "#ed7953"
             ],
             [
              0.7777777777777778,
              "#fb9f3a"
             ],
             [
              0.8888888888888888,
              "#fdca26"
             ],
             [
              1,
              "#f0f921"
             ]
            ],
            "type": "contour"
           }
          ],
          "contourcarpet": [
           {
            "colorbar": {
             "outlinewidth": 0,
             "ticks": ""
            },
            "type": "contourcarpet"
           }
          ],
          "heatmap": [
           {
            "colorbar": {
             "outlinewidth": 0,
             "ticks": ""
            },
            "colorscale": [
             [
              0,
              "#0d0887"
             ],
             [
              0.1111111111111111,
              "#46039f"
             ],
             [
              0.2222222222222222,
              "#7201a8"
             ],
             [
              0.3333333333333333,
              "#9c179e"
             ],
             [
              0.4444444444444444,
              "#bd3786"
             ],
             [
              0.5555555555555556,
              "#d8576b"
             ],
             [
              0.6666666666666666,
              "#ed7953"
             ],
             [
              0.7777777777777778,
              "#fb9f3a"
             ],
             [
              0.8888888888888888,
              "#fdca26"
             ],
             [
              1,
              "#f0f921"
             ]
            ],
            "type": "heatmap"
           }
          ],
          "heatmapgl": [
           {
            "colorbar": {
             "outlinewidth": 0,
             "ticks": ""
            },
            "colorscale": [
             [
              0,
              "#0d0887"
             ],
             [
              0.1111111111111111,
              "#46039f"
             ],
             [
              0.2222222222222222,
              "#7201a8"
             ],
             [
              0.3333333333333333,
              "#9c179e"
             ],
             [
              0.4444444444444444,
              "#bd3786"
             ],
             [
              0.5555555555555556,
              "#d8576b"
             ],
             [
              0.6666666666666666,
              "#ed7953"
             ],
             [
              0.7777777777777778,
              "#fb9f3a"
             ],
             [
              0.8888888888888888,
              "#fdca26"
             ],
             [
              1,
              "#f0f921"
             ]
            ],
            "type": "heatmapgl"
           }
          ],
          "histogram": [
           {
            "marker": {
             "pattern": {
              "fillmode": "overlay",
              "size": 10,
              "solidity": 0.2
             }
            },
            "type": "histogram"
           }
          ],
          "histogram2d": [
           {
            "colorbar": {
             "outlinewidth": 0,
             "ticks": ""
            },
            "colorscale": [
             [
              0,
              "#0d0887"
             ],
             [
              0.1111111111111111,
              "#46039f"
             ],
             [
              0.2222222222222222,
              "#7201a8"
             ],
             [
              0.3333333333333333,
              "#9c179e"
             ],
             [
              0.4444444444444444,
              "#bd3786"
             ],
             [
              0.5555555555555556,
              "#d8576b"
             ],
             [
              0.6666666666666666,
              "#ed7953"
             ],
             [
              0.7777777777777778,
              "#fb9f3a"
             ],
             [
              0.8888888888888888,
              "#fdca26"
             ],
             [
              1,
              "#f0f921"
             ]
            ],
            "type": "histogram2d"
           }
          ],
          "histogram2dcontour": [
           {
            "colorbar": {
             "outlinewidth": 0,
             "ticks": ""
            },
            "colorscale": [
             [
              0,
              "#0d0887"
             ],
             [
              0.1111111111111111,
              "#46039f"
             ],
             [
              0.2222222222222222,
              "#7201a8"
             ],
             [
              0.3333333333333333,
              "#9c179e"
             ],
             [
              0.4444444444444444,
              "#bd3786"
             ],
             [
              0.5555555555555556,
              "#d8576b"
             ],
             [
              0.6666666666666666,
              "#ed7953"
             ],
             [
              0.7777777777777778,
              "#fb9f3a"
             ],
             [
              0.8888888888888888,
              "#fdca26"
             ],
             [
              1,
              "#f0f921"
             ]
            ],
            "type": "histogram2dcontour"
           }
          ],
          "mesh3d": [
           {
            "colorbar": {
             "outlinewidth": 0,
             "ticks": ""
            },
            "type": "mesh3d"
           }
          ],
          "parcoords": [
           {
            "line": {
             "colorbar": {
              "outlinewidth": 0,
              "ticks": ""
             }
            },
            "type": "parcoords"
           }
          ],
          "pie": [
           {
            "automargin": true,
            "type": "pie"
           }
          ],
          "scatter": [
           {
            "fillpattern": {
             "fillmode": "overlay",
             "size": 10,
             "solidity": 0.2
            },
            "type": "scatter"
           }
          ],
          "scatter3d": [
           {
            "line": {
             "colorbar": {
              "outlinewidth": 0,
              "ticks": ""
             }
            },
            "marker": {
             "colorbar": {
              "outlinewidth": 0,
              "ticks": ""
             }
            },
            "type": "scatter3d"
           }
          ],
          "scattercarpet": [
           {
            "marker": {
             "colorbar": {
              "outlinewidth": 0,
              "ticks": ""
             }
            },
            "type": "scattercarpet"
           }
          ],
          "scattergeo": [
           {
            "marker": {
             "colorbar": {
              "outlinewidth": 0,
              "ticks": ""
             }
            },
            "type": "scattergeo"
           }
          ],
          "scattergl": [
           {
            "marker": {
             "colorbar": {
              "outlinewidth": 0,
              "ticks": ""
             }
            },
            "type": "scattergl"
           }
          ],
          "scattermapbox": [
           {
            "marker": {
             "colorbar": {
              "outlinewidth": 0,
              "ticks": ""
             }
            },
            "type": "scattermapbox"
           }
          ],
          "scatterpolar": [
           {
            "marker": {
             "colorbar": {
              "outlinewidth": 0,
              "ticks": ""
             }
            },
            "type": "scatterpolar"
           }
          ],
          "scatterpolargl": [
           {
            "marker": {
             "colorbar": {
              "outlinewidth": 0,
              "ticks": ""
             }
            },
            "type": "scatterpolargl"
           }
          ],
          "scatterternary": [
           {
            "marker": {
             "colorbar": {
              "outlinewidth": 0,
              "ticks": ""
             }
            },
            "type": "scatterternary"
           }
          ],
          "surface": [
           {
            "colorbar": {
             "outlinewidth": 0,
             "ticks": ""
            },
            "colorscale": [
             [
              0,
              "#0d0887"
             ],
             [
              0.1111111111111111,
              "#46039f"
             ],
             [
              0.2222222222222222,
              "#7201a8"
             ],
             [
              0.3333333333333333,
              "#9c179e"
             ],
             [
              0.4444444444444444,
              "#bd3786"
             ],
             [
              0.5555555555555556,
              "#d8576b"
             ],
             [
              0.6666666666666666,
              "#ed7953"
             ],
             [
              0.7777777777777778,
              "#fb9f3a"
             ],
             [
              0.8888888888888888,
              "#fdca26"
             ],
             [
              1,
              "#f0f921"
             ]
            ],
            "type": "surface"
           }
          ],
          "table": [
           {
            "cells": {
             "fill": {
              "color": "#EBF0F8"
             },
             "line": {
              "color": "white"
             }
            },
            "header": {
             "fill": {
              "color": "#C8D4E3"
             },
             "line": {
              "color": "white"
             }
            },
            "type": "table"
           }
          ]
         },
         "layout": {
          "annotationdefaults": {
           "arrowcolor": "#2a3f5f",
           "arrowhead": 0,
           "arrowwidth": 1
          },
          "autotypenumbers": "strict",
          "coloraxis": {
           "colorbar": {
            "outlinewidth": 0,
            "ticks": ""
           }
          },
          "colorscale": {
           "diverging": [
            [
             0,
             "#8e0152"
            ],
            [
             0.1,
             "#c51b7d"
            ],
            [
             0.2,
             "#de77ae"
            ],
            [
             0.3,
             "#f1b6da"
            ],
            [
             0.4,
             "#fde0ef"
            ],
            [
             0.5,
             "#f7f7f7"
            ],
            [
             0.6,
             "#e6f5d0"
            ],
            [
             0.7,
             "#b8e186"
            ],
            [
             0.8,
             "#7fbc41"
            ],
            [
             0.9,
             "#4d9221"
            ],
            [
             1,
             "#276419"
            ]
           ],
           "sequential": [
            [
             0,
             "#0d0887"
            ],
            [
             0.1111111111111111,
             "#46039f"
            ],
            [
             0.2222222222222222,
             "#7201a8"
            ],
            [
             0.3333333333333333,
             "#9c179e"
            ],
            [
             0.4444444444444444,
             "#bd3786"
            ],
            [
             0.5555555555555556,
             "#d8576b"
            ],
            [
             0.6666666666666666,
             "#ed7953"
            ],
            [
             0.7777777777777778,
             "#fb9f3a"
            ],
            [
             0.8888888888888888,
             "#fdca26"
            ],
            [
             1,
             "#f0f921"
            ]
           ],
           "sequentialminus": [
            [
             0,
             "#0d0887"
            ],
            [
             0.1111111111111111,
             "#46039f"
            ],
            [
             0.2222222222222222,
             "#7201a8"
            ],
            [
             0.3333333333333333,
             "#9c179e"
            ],
            [
             0.4444444444444444,
             "#bd3786"
            ],
            [
             0.5555555555555556,
             "#d8576b"
            ],
            [
             0.6666666666666666,
             "#ed7953"
            ],
            [
             0.7777777777777778,
             "#fb9f3a"
            ],
            [
             0.8888888888888888,
             "#fdca26"
            ],
            [
             1,
             "#f0f921"
            ]
           ]
          },
          "colorway": [
           "#636efa",
           "#EF553B",
           "#00cc96",
           "#ab63fa",
           "#FFA15A",
           "#19d3f3",
           "#FF6692",
           "#B6E880",
           "#FF97FF",
           "#FECB52"
          ],
          "font": {
           "color": "#2a3f5f"
          },
          "geo": {
           "bgcolor": "white",
           "lakecolor": "white",
           "landcolor": "white",
           "showlakes": true,
           "showland": true,
           "subunitcolor": "#C8D4E3"
          },
          "hoverlabel": {
           "align": "left"
          },
          "hovermode": "closest",
          "mapbox": {
           "style": "light"
          },
          "paper_bgcolor": "white",
          "plot_bgcolor": "white",
          "polar": {
           "angularaxis": {
            "gridcolor": "#EBF0F8",
            "linecolor": "#EBF0F8",
            "ticks": ""
           },
           "bgcolor": "white",
           "radialaxis": {
            "gridcolor": "#EBF0F8",
            "linecolor": "#EBF0F8",
            "ticks": ""
           }
          },
          "scene": {
           "xaxis": {
            "backgroundcolor": "white",
            "gridcolor": "#DFE8F3",
            "gridwidth": 2,
            "linecolor": "#EBF0F8",
            "showbackground": true,
            "ticks": "",
            "zerolinecolor": "#EBF0F8"
           },
           "yaxis": {
            "backgroundcolor": "white",
            "gridcolor": "#DFE8F3",
            "gridwidth": 2,
            "linecolor": "#EBF0F8",
            "showbackground": true,
            "ticks": "",
            "zerolinecolor": "#EBF0F8"
           },
           "zaxis": {
            "backgroundcolor": "white",
            "gridcolor": "#DFE8F3",
            "gridwidth": 2,
            "linecolor": "#EBF0F8",
            "showbackground": true,
            "ticks": "",
            "zerolinecolor": "#EBF0F8"
           }
          },
          "shapedefaults": {
           "line": {
            "color": "#2a3f5f"
           }
          },
          "ternary": {
           "aaxis": {
            "gridcolor": "#DFE8F3",
            "linecolor": "#A2B1C6",
            "ticks": ""
           },
           "baxis": {
            "gridcolor": "#DFE8F3",
            "linecolor": "#A2B1C6",
            "ticks": ""
           },
           "bgcolor": "white",
           "caxis": {
            "gridcolor": "#DFE8F3",
            "linecolor": "#A2B1C6",
            "ticks": ""
           }
          },
          "title": {
           "x": 0.05
          },
          "xaxis": {
           "automargin": true,
           "gridcolor": "#EBF0F8",
           "linecolor": "#EBF0F8",
           "ticks": "",
           "title": {
            "standoff": 15
           },
           "zerolinecolor": "#EBF0F8",
           "zerolinewidth": 2
          },
          "yaxis": {
           "automargin": true,
           "gridcolor": "#EBF0F8",
           "linecolor": "#EBF0F8",
           "ticks": "",
           "title": {
            "standoff": 15
           },
           "zerolinecolor": "#EBF0F8",
           "zerolinewidth": 2
          }
         }
        },
        "title": {
         "text": "Goals Scored vs Expected Goals"
        },
        "xaxis": {
         "anchor": "y",
         "autorange": true,
         "domain": [
          0,
          1
         ],
         "range": [
          -0.5,
          9.5
         ],
         "title": {
          "text": "Player"
         },
         "type": "category"
        },
        "yaxis": {
         "anchor": "x",
         "autorange": true,
         "domain": [
          0,
          1
         ],
         "range": [
          0,
          37.89473684210526
         ],
         "title": {
          "text": "value"
         },
         "type": "linear"
        }
       }
      },
      "image/png": "[encoded data removed]",
      "text/html": [
       "<div>                            <div id=\"ff99fb3d-0bc9-40b3-8936-ce0b5a954851\" class=\"plotly-graph-div\" style=\"height:525px; width:100%;\"></div>            <script type=\"text/javascript\">                require([\"plotly\"], function(Plotly) {                    window.PLOTLYENV=window.PLOTLYENV || {};                                    if (document.getElementById(\"ff99fb3d-0bc9-40b3-8936-ce0b5a954851\")) {                    Plotly.newPlot(                        \"ff99fb3d-0bc9-40b3-8936-ce0b5a954851\",                        [{\"alignmentgroup\":\"True\",\"hovertemplate\":\"variable=Goals Scored\\u003cbr\\u003ePlayer=%{x}\\u003cbr\\u003evalue=%{y}\\u003cextra\\u003e\\u003c\\u002fextra\\u003e\",\"legendgroup\":\"Goals Scored\",\"marker\":{\"color\":\"#636efa\",\"pattern\":{\"shape\":\"\"}},\"name\":\"Goals Scored\",\"offsetgroup\":\"goals_scored\",\"orientation\":\"v\",\"showlegend\":true,\"textposition\":\"auto\",\"x\":[\"Haaland\",\"Kane\",\"Toney\",\"Salah\",\"Wilson\",\"Rashford\",\"Watkins\",\"Martinelli\",\"\\u00d8degaard\",\"Saka\"],\"xaxis\":\"x\",\"y\":[36.0,30.0,20.0,19.0,18.0,17.0,15.0,15.0,15.0,14.0],\"yaxis\":\"y\",\"type\":\"bar\"},{\"alignmentgroup\":\"True\",\"hovertemplate\":\"variable=Expected Goals\\u003cbr\\u003ePlayer=%{x}\\u003cbr\\u003evalue=%{y}\\u003cextra\\u003e\\u003c\\u002fextra\\u003e\",\"legendgroup\":\"Expected Goals\",\"marker\":{\"color\":\"#EF553B\",\"pattern\":{\"shape\":\"\"}},\"name\":\"Expected Goals\",\"offsetgroup\":\"expected_goals\",\"orientation\":\"v\",\"showlegend\":true,\"textposition\":\"auto\",\"x\":[\"Haaland\",\"Kane\",\"Toney\",\"Salah\",\"Wilson\",\"Rashford\",\"Watkins\",\"Martinelli\",\"\\u00d8degaard\",\"Saka\"],\"xaxis\":\"x\",\"y\":[28.54,20.95,18.74,21.01,16.43,15.27,16.15,9.15,9.75,11.49],\"yaxis\":\"y\",\"type\":\"bar\"}],                        {\"template\":{\"data\":{\"barpolar\":[{\"marker\":{\"line\":{\"color\":\"white\",\"width\":0.5},\"pattern\":{\"fillmode\":\"overlay\",\"size\":10,\"solidity\":0.2}},\"type\":\"barpolar\"}],\"bar\":[{\"error_x\":{\"color\":\"#2a3f5f\"},\"error_y\":{\"color\":\"#2a3f5f\"},\"marker\":{\"line\":{\"color\":\"white\",\"width\":0.5},\"pattern\":{\"fillmode\":\"overlay\",\"size\":10,\"solidity\":0.2}},\"type\":\"bar\"}],\"carpet\":[{\"aaxis\":{\"endlinecolor\":\"#2a3f5f\",\"gridcolor\":\"#C8D4E3\",\"linecolor\":\"#C8D4E3\",\"minorgridcolor\":\"#C8D4E3\",\"startlinecolor\":\"#2a3f5f\"},\"baxis\":{\"endlinecolor\":\"#2a3f5f\",\"gridcolor\":\"#C8D4E3\",\"linecolor\":\"#C8D4E3\",\"minorgridcolor\":\"#C8D4E3\",\"startlinecolor\":\"#2a3f5f\"},\"type\":\"carpet\"}],\"choropleth\":[{\"colorbar\":{\"outlinewidth\":0,\"ticks\":\"\"},\"type\":\"choropleth\"}],\"contourcarpet\":[{\"colorbar\":{\"outlinewidth\":0,\"ticks\":\"\"},\"type\":\"contourcarpet\"}],\"contour\":[{\"colorbar\":{\"outlinewidth\":0,\"ticks\":\"\"},\"colorscale\":[[0.0,\"#0d0887\"],[0.1111111111111111,\"#46039f\"],[0.2222222222222222,\"#7201a8\"],[0.3333333333333333,\"#9c179e\"],[0.4444444444444444,\"#bd3786\"],[0.5555555555555556,\"#d8576b\"],[0.6666666666666666,\"#ed7953\"],[0.7777777777777778,\"#fb9f3a\"],[0.8888888888888888,\"#fdca26\"],[1.0,\"#f0f921\"]],\"type\":\"contour\"}],\"heatmapgl\":[{\"colorbar\":{\"outlinewidth\":0,\"ticks\":\"\"},\"colorscale\":[[0.0,\"#0d0887\"],[0.1111111111111111,\"#46039f\"],[0.2222222222222222,\"#7201a8\"],[0.3333333333333333,\"#9c179e\"],[0.4444444444444444,\"#bd3786\"],[0.5555555555555556,\"#d8576b\"],[0.6666666666666666,\"#ed7953\"],[0.7777777777777778,\"#fb9f3a\"],[0.8888888888888888,\"#fdca26\"],[1.0,\"#f0f921\"]],\"type\":\"heatmapgl\"}],\"heatmap\":[{\"colorbar\":{\"outlinewidth\":0,\"ticks\":\"\"},\"colorscale\":[[0.0,\"#0d0887\"],[0.1111111111111111,\"#46039f\"],[0.2222222222222222,\"#7201a8\"],[0.3333333333333333,\"#9c179e\"],[0.4444444444444444,\"#bd3786\"],[0.5555555555555556,\"#d8576b\"],[0.6666666666666666,\"#ed7953\"],[0.7777777777777778,\"#fb9f3a\"],[0.8888888888888888,\"#fdca26\"],[1.0,\"#f0f921\"]],\"type\":\"heatmap\"}],\"histogram2dcontour\":[{\"colorbar\":{\"outlinewidth\":0,\"ticks\":\"\"},\"colorscale\":[[0.0,\"#0d0887\"],[0.1111111111111111,\"#46039f\"],[0.2222222222222222,\"#7201a8\"],[0.3333333333333333,\"#9c179e\"],[0.4444444444444444,\"#bd3786\"],[0.5555555555555556,\"#d8576b\"],[0.6666666666666666,\"#ed7953\"],[0.7777777777777778,\"#fb9f3a\"],[0.8888888888888888,\"#fdca26\"],[1.0,\"#f0f921\"]],\"type\":\"histogram2dcontour\"}],\"histogram2d\":[{\"colorbar\":{\"outlinewidth\":0,\"ticks\":\"\"},\"colorscale\":[[0.0,\"#0d0887\"],[0.1111111111111111,\"#46039f\"],[0.2222222222222222,\"#7201a8\"],[0.3333333333333333,\"#9c179e\"],[0.4444444444444444,\"#bd3786\"],[0.5555555555555556,\"#d8576b\"],[0.6666666666666666,\"#ed7953\"],[0.7777777777777778,\"#fb9f3a\"],[0.8888888888888888,\"#fdca26\"],[1.0,\"#f0f921\"]],\"type\":\"histogram2d\"}],\"histogram\":[{\"marker\":{\"pattern\":{\"fillmode\":\"overlay\",\"size\":10,\"solidity\":0.2}},\"type\":\"histogram\"}],\"mesh3d\":[{\"colorbar\":{\"outlinewidth\":0,\"ticks\":\"\"},\"type\":\"mesh3d\"}],\"parcoords\":[{\"line\":{\"colorbar\":{\"outlinewidth\":0,\"ticks\":\"\"}},\"type\":\"parcoords\"}],\"pie\":[{\"automargin\":true,\"type\":\"pie\"}],\"scatter3d\":[{\"line\":{\"colorbar\":{\"outlinewidth\":0,\"ticks\":\"\"}},\"marker\":{\"colorbar\":{\"outlinewidth\":0,\"ticks\":\"\"}},\"type\":\"scatter3d\"}],\"scattercarpet\":[{\"marker\":{\"colorbar\":{\"outlinewidth\":0,\"ticks\":\"\"}},\"type\":\"scattercarpet\"}],\"scattergeo\":[{\"marker\":{\"colorbar\":{\"outlinewidth\":0,\"ticks\":\"\"}},\"type\":\"scattergeo\"}],\"scattergl\":[{\"marker\":{\"colorbar\":{\"outlinewidth\":0,\"ticks\":\"\"}},\"type\":\"scattergl\"}],\"scattermapbox\":[{\"marker\":{\"colorbar\":{\"outlinewidth\":0,\"ticks\":\"\"}},\"type\":\"scattermapbox\"}],\"scatterpolargl\":[{\"marker\":{\"colorbar\":{\"outlinewidth\":0,\"ticks\":\"\"}},\"type\":\"scatterpolargl\"}],\"scatterpolar\":[{\"marker\":{\"colorbar\":{\"outlinewidth\":0,\"ticks\":\"\"}},\"type\":\"scatterpolar\"}],\"scatter\":[{\"fillpattern\":{\"fillmode\":\"overlay\",\"size\":10,\"solidity\":0.2},\"type\":\"scatter\"}],\"scatterternary\":[{\"marker\":{\"colorbar\":{\"outlinewidth\":0,\"ticks\":\"\"}},\"type\":\"scatterternary\"}],\"surface\":[{\"colorbar\":{\"outlinewidth\":0,\"ticks\":\"\"},\"colorscale\":[[0.0,\"#0d0887\"],[0.1111111111111111,\"#46039f\"],[0.2222222222222222,\"#7201a8\"],[0.3333333333333333,\"#9c179e\"],[0.4444444444444444,\"#bd3786\"],[0.5555555555555556,\"#d8576b\"],[0.6666666666666666,\"#ed7953\"],[0.7777777777777778,\"#fb9f3a\"],[0.8888888888888888,\"#fdca26\"],[1.0,\"#f0f921\"]],\"type\":\"surface\"}],\"table\":[{\"cells\":{\"fill\":{\"color\":\"#EBF0F8\"},\"line\":{\"color\":\"white\"}},\"header\":{\"fill\":{\"color\":\"#C8D4E3\"},\"line\":{\"color\":\"white\"}},\"type\":\"table\"}]},\"layout\":{\"annotationdefaults\":{\"arrowcolor\":\"#2a3f5f\",\"arrowhead\":0,\"arrowwidth\":1},\"autotypenumbers\":\"strict\",\"coloraxis\":{\"colorbar\":{\"outlinewidth\":0,\"ticks\":\"\"}},\"colorscale\":{\"diverging\":[[0,\"#8e0152\"],[0.1,\"#c51b7d\"],[0.2,\"#de77ae\"],[0.3,\"#f1b6da\"],[0.4,\"#fde0ef\"],[0.5,\"#f7f7f7\"],[0.6,\"#e6f5d0\"],[0.7,\"#b8e186\"],[0.8,\"#7fbc41\"],[0.9,\"#4d9221\"],[1,\"#276419\"]],\"sequential\":[[0.0,\"#0d0887\"],[0.1111111111111111,\"#46039f\"],[0.2222222222222222,\"#7201a8\"],[0.3333333333333333,\"#9c179e\"],[0.4444444444444444,\"#bd3786\"],[0.5555555555555556,\"#d8576b\"],[0.6666666666666666,\"#ed7953\"],[0.7777777777777778,\"#fb9f3a\"],[0.8888888888888888,\"#fdca26\"],[1.0,\"#f0f921\"]],\"sequentialminus\":[[0.0,\"#0d0887\"],[0.1111111111111111,\"#46039f\"],[0.2222222222222222,\"#7201a8\"],[0.3333333333333333,\"#9c179e\"],[0.4444444444444444,\"#bd3786\"],[0.5555555555555556,\"#d8576b\"],[0.6666666666666666,\"#ed7953\"],[0.7777777777777778,\"#fb9f3a\"],[0.8888888888888888,\"#fdca26\"],[1.0,\"#f0f921\"]]},\"colorway\":[\"#636efa\",\"#EF553B\",\"#00cc96\",\"#ab63fa\",\"#FFA15A\",\"#19d3f3\",\"#FF6692\",\"#B6E880\",\"#FF97FF\",\"#FECB52\"],\"font\":{\"color\":\"#2a3f5f\"},\"geo\":{\"bgcolor\":\"white\",\"lakecolor\":\"white\",\"landcolor\":\"white\",\"showlakes\":true,\"showland\":true,\"subunitcolor\":\"#C8D4E3\"},\"hoverlabel\":{\"align\":\"left\"},\"hovermode\":\"closest\",\"mapbox\":{\"style\":\"light\"},\"paper_bgcolor\":\"white\",\"plot_bgcolor\":\"white\",\"polar\":{\"angularaxis\":{\"gridcolor\":\"#EBF0F8\",\"linecolor\":\"#EBF0F8\",\"ticks\":\"\"},\"bgcolor\":\"white\",\"radialaxis\":{\"gridcolor\":\"#EBF0F8\",\"linecolor\":\"#EBF0F8\",\"ticks\":\"\"}},\"scene\":{\"xaxis\":{\"backgroundcolor\":\"white\",\"gridcolor\":\"#DFE8F3\",\"gridwidth\":2,\"linecolor\":\"#EBF0F8\",\"showbackground\":true,\"ticks\":\"\",\"zerolinecolor\":\"#EBF0F8\"},\"yaxis\":{\"backgroundcolor\":\"white\",\"gridcolor\":\"#DFE8F3\",\"gridwidth\":2,\"linecolor\":\"#EBF0F8\",\"showbackground\":true,\"ticks\":\"\",\"zerolinecolor\":\"#EBF0F8\"},\"zaxis\":{\"backgroundcolor\":\"white\",\"gridcolor\":\"#DFE8F3\",\"gridwidth\":2,\"linecolor\":\"#EBF0F8\",\"showbackground\":true,\"ticks\":\"\",\"zerolinecolor\":\"#EBF0F8\"}},\"shapedefaults\":{\"line\":{\"color\":\"#2a3f5f\"}},\"ternary\":{\"aaxis\":{\"gridcolor\":\"#DFE8F3\",\"linecolor\":\"#A2B1C6\",\"ticks\":\"\"},\"baxis\":{\"gridcolor\":\"#DFE8F3\",\"linecolor\":\"#A2B1C6\",\"ticks\":\"\"},\"bgcolor\":\"white\",\"caxis\":{\"gridcolor\":\"#DFE8F3\",\"linecolor\":\"#A2B1C6\",\"ticks\":\"\"}},\"title\":{\"x\":0.05},\"xaxis\":{\"automargin\":true,\"gridcolor\":\"#EBF0F8\",\"linecolor\":\"#EBF0F8\",\"ticks\":\"\",\"title\":{\"standoff\":15},\"zerolinecolor\":\"#EBF0F8\",\"zerolinewidth\":2},\"yaxis\":{\"automargin\":true,\"gridcolor\":\"#EBF0F8\",\"linecolor\":\"#EBF0F8\",\"ticks\":\"\",\"title\":{\"standoff\":15},\"zerolinecolor\":\"#EBF0F8\",\"zerolinewidth\":2}}},\"xaxis\":{\"anchor\":\"y\",\"domain\":[0.0,1.0],\"title\":{\"text\":\"Player\"}},\"yaxis\":{\"anchor\":\"x\",\"domain\":[0.0,1.0],\"title\":{\"text\":\"value\"}},\"legend\":{\"title\":{\"text\":\"variable\"},\"tracegroupgap\":0},\"title\":{\"text\":\"Goals Scored vs Expected Goals\"},\"barmode\":\"group\"},                        {\"responsive\": true}                    ).then(function(){\n",
       "                            \n",
       "var gd = document.getElementById('ff99fb3d-0bc9-40b3-8936-ce0b5a954851');\n",
       "var x = new MutationObserver(function (mutations, observer) {{\n",
       "        var display = window.getComputedStyle(gd).display;\n",
       "        if (!display || display === 'none') {{\n",
       "            console.log([gd, 'removed!']);\n",
       "            Plotly.purge(gd);\n",
       "            observer.disconnect();\n",
       "        }}\n",
       "}});\n",
       "\n",
       "// Listen for the removal of the full notebook cells\n",
       "var notebookContainer = gd.closest('#notebook-container');\n",
       "if (notebookContainer) {{\n",
       "    x.observe(notebookContainer, {childList: true});\n",
       "}}\n",
       "\n",
       "// Listen for the clearing of the current output cell\n",
       "var outputEl = gd.closest('.output');\n",
       "if (outputEl) {{\n",
       "    x.observe(outputEl, {childList: true});\n",
       "}}\n",
       "\n",
       "                        })                };                });            </script>        </div>"
      ]
     },
     "metadata": {},
     "output_type": "display_data"
    }
   ],
   "source": [
    "fig = px.bar(exp_goals, x='web_name', y=['goals_scored', 'expected_goals'], barmode='group', title='Goals Scored vs Expected Goals', \n",
    "             template='plotly_white',\n",
    "             labels={'web_name': 'Player'})\n",
    "\n",
    "newnames = {'goals_scored':'Goals Scored', 'expected_goals': 'Expected Goals'}\n",
    "fig.for_each_trace(lambda t: t.update(name = newnames[t.name],\n",
    "                                      legendgroup = newnames[t.name],\n",
    "                                      hovertemplate = t.hovertemplate.replace(t.name, newnames[t.name])))\n",
    "fig.show()"
   ]
  },
  {
   "cell_type": "code",
   "execution_count": 10,
   "id": "2e5c09bd-6680-4cc3-a414-4c8985deb87f",
   "metadata": {},
   "outputs": [
    {
     "data": {
      "text/html": [
       "<div>\n",
       "<style scoped>\n",
       "    .dataframe tbody tr th:only-of-type {\n",
       "        vertical-align: middle;\n",
       "    }\n",
       "\n",
       "    .dataframe tbody tr th {\n",
       "        vertical-align: top;\n",
       "    }\n",
       "\n",
       "    .dataframe thead th {\n",
       "        text-align: right;\n",
       "    }\n",
       "</style>\n",
       "<table border=\"1\" class=\"dataframe\">\n",
       "  <thead>\n",
       "    <tr style=\"text-align: right;\">\n",
       "      <th></th>\n",
       "      <th>id</th>\n",
       "      <th>name</th>\n",
       "      <th>now_cost</th>\n",
       "      <th>cost</th>\n",
       "      <th>position</th>\n",
       "      <th>team</th>\n",
       "      <th>clean_sheets_per_90</th>\n",
       "      <th>threat_rank_type</th>\n",
       "      <th>expected_assists_per_90</th>\n",
       "      <th>expected_assists</th>\n",
       "      <th>...</th>\n",
       "      <th>threat_rank</th>\n",
       "      <th>ep_this</th>\n",
       "      <th>transfers_in</th>\n",
       "      <th>bps</th>\n",
       "      <th>goals_conceded_per_90</th>\n",
       "      <th>selected_by_percent</th>\n",
       "      <th>influence_rank_type</th>\n",
       "      <th>points_per_game_rank_type</th>\n",
       "      <th>clean_sheets</th>\n",
       "      <th>now_cost_rank</th>\n",
       "    </tr>\n",
       "  </thead>\n",
       "  <tbody>\n",
       "    <tr>\n",
       "      <th>1</th>\n",
       "      <td>318</td>\n",
       "      <td>Erling Haaland</td>\n",
       "      <td>124</td>\n",
       "      <td>12.4</td>\n",
       "      <td>FWD</td>\n",
       "      <td>Man City</td>\n",
       "      <td>0.42</td>\n",
       "      <td>1</td>\n",
       "      <td>0.10</td>\n",
       "      <td>3.11</td>\n",
       "      <td>...</td>\n",
       "      <td>1</td>\n",
       "      <td>5.4</td>\n",
       "      <td>7833248</td>\n",
       "      <td>1040</td>\n",
       "      <td>0.85</td>\n",
       "      <td>78.4</td>\n",
       "      <td>1</td>\n",
       "      <td>1</td>\n",
       "      <td>13</td>\n",
       "      <td>2</td>\n",
       "    </tr>\n",
       "    <tr>\n",
       "      <th>3</th>\n",
       "      <td>427</td>\n",
       "      <td>Harry Kane</td>\n",
       "      <td>115</td>\n",
       "      <td>11.5</td>\n",
       "      <td>FWD</td>\n",
       "      <td>Spurs</td>\n",
       "      <td>0.29</td>\n",
       "      <td>2</td>\n",
       "      <td>0.11</td>\n",
       "      <td>4.01</td>\n",
       "      <td>...</td>\n",
       "      <td>2</td>\n",
       "      <td>9.2</td>\n",
       "      <td>7381740</td>\n",
       "      <td>1008</td>\n",
       "      <td>1.64</td>\n",
       "      <td>32.7</td>\n",
       "      <td>2</td>\n",
       "      <td>2</td>\n",
       "      <td>11</td>\n",
       "      <td>4</td>\n",
       "    </tr>\n",
       "    <tr>\n",
       "      <th>4</th>\n",
       "      <td>283</td>\n",
       "      <td>Mohamed Salah</td>\n",
       "      <td>131</td>\n",
       "      <td>13.1</td>\n",
       "      <td>MID</td>\n",
       "      <td>Liverpool</td>\n",
       "      <td>0.36</td>\n",
       "      <td>1</td>\n",
       "      <td>0.19</td>\n",
       "      <td>7.03</td>\n",
       "      <td>...</td>\n",
       "      <td>3</td>\n",
       "      <td>9.3</td>\n",
       "      <td>6974743</td>\n",
       "      <td>651</td>\n",
       "      <td>1.23</td>\n",
       "      <td>37.2</td>\n",
       "      <td>1</td>\n",
       "      <td>1</td>\n",
       "      <td>13</td>\n",
       "      <td>1</td>\n",
       "    </tr>\n",
       "    <tr>\n",
       "      <th>5</th>\n",
       "      <td>335</td>\n",
       "      <td>Marcus Rashford</td>\n",
       "      <td>72</td>\n",
       "      <td>7.2</td>\n",
       "      <td>MID</td>\n",
       "      <td>Man Utd</td>\n",
       "      <td>0.41</td>\n",
       "      <td>2</td>\n",
       "      <td>0.09</td>\n",
       "      <td>2.86</td>\n",
       "      <td>...</td>\n",
       "      <td>4</td>\n",
       "      <td>2.7</td>\n",
       "      <td>10735832</td>\n",
       "      <td>530</td>\n",
       "      <td>1.22</td>\n",
       "      <td>37.8</td>\n",
       "      <td>7</td>\n",
       "      <td>2</td>\n",
       "      <td>13</td>\n",
       "      <td>33</td>\n",
       "    </tr>\n",
       "    <tr>\n",
       "      <th>6</th>\n",
       "      <td>301</td>\n",
       "      <td>Kevin De Bruyne</td>\n",
       "      <td>121</td>\n",
       "      <td>12.1</td>\n",
       "      <td>MID</td>\n",
       "      <td>Man City</td>\n",
       "      <td>0.37</td>\n",
       "      <td>27</td>\n",
       "      <td>0.51</td>\n",
       "      <td>13.69</td>\n",
       "      <td>...</td>\n",
       "      <td>44</td>\n",
       "      <td>1.7</td>\n",
       "      <td>7222275</td>\n",
       "      <td>742</td>\n",
       "      <td>0.86</td>\n",
       "      <td>25.5</td>\n",
       "      <td>5</td>\n",
       "      <td>4</td>\n",
       "      <td>10</td>\n",
       "      <td>3</td>\n",
       "    </tr>\n",
       "  </tbody>\n",
       "</table>\n",
       "<p>5 rows × 76 columns</p>\n",
       "</div>"
      ],
      "text/plain": [
       "    id             name  now_cost  cost position       team  \\\n",
       "1  318   Erling Haaland       124  12.4      FWD   Man City   \n",
       "3  427       Harry Kane       115  11.5      FWD      Spurs   \n",
       "4  283    Mohamed Salah       131  13.1      MID  Liverpool   \n",
       "5  335  Marcus Rashford        72   7.2      MID    Man Utd   \n",
       "6  301  Kevin De Bruyne       121  12.1      MID   Man City   \n",
       "\n",
       "   clean_sheets_per_90  threat_rank_type  expected_assists_per_90  \\\n",
       "1                 0.42                 1                     0.10   \n",
       "3                 0.29                 2                     0.11   \n",
       "4                 0.36                 1                     0.19   \n",
       "5                 0.41                 2                     0.09   \n",
       "6                 0.37                27                     0.51   \n",
       "\n",
       "   expected_assists  ...  threat_rank  ep_this  transfers_in   bps  \\\n",
       "1              3.11  ...            1      5.4       7833248  1040   \n",
       "3              4.01  ...            2      9.2       7381740  1008   \n",
       "4              7.03  ...            3      9.3       6974743   651   \n",
       "5              2.86  ...            4      2.7      10735832   530   \n",
       "6             13.69  ...           44      1.7       7222275   742   \n",
       "\n",
       "   goals_conceded_per_90  selected_by_percent  influence_rank_type  \\\n",
       "1                   0.85                 78.4                    1   \n",
       "3                   1.64                 32.7                    2   \n",
       "4                   1.23                 37.2                    1   \n",
       "5                   1.22                 37.8                    7   \n",
       "6                   0.86                 25.5                    5   \n",
       "\n",
       "   points_per_game_rank_type  clean_sheets  now_cost_rank  \n",
       "1                          1            13              2  \n",
       "3                          2            11              4  \n",
       "4                          1            13              1  \n",
       "5                          2            13             33  \n",
       "6                          4            10              3  \n",
       "\n",
       "[5 rows x 76 columns]"
      ]
     },
     "execution_count": 10,
     "metadata": {},
     "output_type": "execute_result"
    }
   ],
   "source": [
    "min_20_starts = fpl_data[fpl_data['starts'] >= 20]\n",
    "min_20_starts.head()"
   ]
  },
  {
   "cell_type": "code",
   "execution_count": 11,
   "id": "6d9c2e6f-6c77-488c-9487-844229d62aef",
   "metadata": {},
   "outputs": [
    {
     "data": {
      "text/html": [
       "<div>\n",
       "<style scoped>\n",
       "    .dataframe tbody tr th:only-of-type {\n",
       "        vertical-align: middle;\n",
       "    }\n",
       "\n",
       "    .dataframe tbody tr th {\n",
       "        vertical-align: top;\n",
       "    }\n",
       "\n",
       "    .dataframe thead th {\n",
       "        text-align: right;\n",
       "    }\n",
       "</style>\n",
       "<table border=\"1\" class=\"dataframe\">\n",
       "  <thead>\n",
       "    <tr style=\"text-align: right;\">\n",
       "      <th></th>\n",
       "      <th>id</th>\n",
       "      <th>name</th>\n",
       "      <th>now_cost</th>\n",
       "      <th>cost</th>\n",
       "      <th>position</th>\n",
       "      <th>team</th>\n",
       "      <th>clean_sheets_per_90</th>\n",
       "      <th>threat_rank_type</th>\n",
       "      <th>expected_assists_per_90</th>\n",
       "      <th>expected_assists</th>\n",
       "      <th>...</th>\n",
       "      <th>threat_rank</th>\n",
       "      <th>ep_this</th>\n",
       "      <th>transfers_in</th>\n",
       "      <th>bps</th>\n",
       "      <th>goals_conceded_per_90</th>\n",
       "      <th>selected_by_percent</th>\n",
       "      <th>influence_rank_type</th>\n",
       "      <th>points_per_game_rank_type</th>\n",
       "      <th>clean_sheets</th>\n",
       "      <th>now_cost_rank</th>\n",
       "    </tr>\n",
       "  </thead>\n",
       "  <tbody>\n",
       "    <tr>\n",
       "      <th>1</th>\n",
       "      <td>318</td>\n",
       "      <td>Erling Haaland</td>\n",
       "      <td>124</td>\n",
       "      <td>12.4</td>\n",
       "      <td>FWD</td>\n",
       "      <td>Man City</td>\n",
       "      <td>0.42</td>\n",
       "      <td>1</td>\n",
       "      <td>0.10</td>\n",
       "      <td>3.11</td>\n",
       "      <td>...</td>\n",
       "      <td>1</td>\n",
       "      <td>5.4</td>\n",
       "      <td>7833248</td>\n",
       "      <td>1040</td>\n",
       "      <td>0.85</td>\n",
       "      <td>78.4</td>\n",
       "      <td>1</td>\n",
       "      <td>1</td>\n",
       "      <td>13</td>\n",
       "      <td>2</td>\n",
       "    </tr>\n",
       "    <tr>\n",
       "      <th>3</th>\n",
       "      <td>427</td>\n",
       "      <td>Harry Kane</td>\n",
       "      <td>115</td>\n",
       "      <td>11.5</td>\n",
       "      <td>FWD</td>\n",
       "      <td>Spurs</td>\n",
       "      <td>0.29</td>\n",
       "      <td>2</td>\n",
       "      <td>0.11</td>\n",
       "      <td>4.01</td>\n",
       "      <td>...</td>\n",
       "      <td>2</td>\n",
       "      <td>9.2</td>\n",
       "      <td>7381740</td>\n",
       "      <td>1008</td>\n",
       "      <td>1.64</td>\n",
       "      <td>32.7</td>\n",
       "      <td>2</td>\n",
       "      <td>2</td>\n",
       "      <td>11</td>\n",
       "      <td>4</td>\n",
       "    </tr>\n",
       "    <tr>\n",
       "      <th>4</th>\n",
       "      <td>283</td>\n",
       "      <td>Mohamed Salah</td>\n",
       "      <td>131</td>\n",
       "      <td>13.1</td>\n",
       "      <td>MID</td>\n",
       "      <td>Liverpool</td>\n",
       "      <td>0.36</td>\n",
       "      <td>1</td>\n",
       "      <td>0.19</td>\n",
       "      <td>7.03</td>\n",
       "      <td>...</td>\n",
       "      <td>3</td>\n",
       "      <td>9.3</td>\n",
       "      <td>6974743</td>\n",
       "      <td>651</td>\n",
       "      <td>1.23</td>\n",
       "      <td>37.2</td>\n",
       "      <td>1</td>\n",
       "      <td>1</td>\n",
       "      <td>13</td>\n",
       "      <td>1</td>\n",
       "    </tr>\n",
       "    <tr>\n",
       "      <th>5</th>\n",
       "      <td>335</td>\n",
       "      <td>Marcus Rashford</td>\n",
       "      <td>72</td>\n",
       "      <td>7.2</td>\n",
       "      <td>MID</td>\n",
       "      <td>Man Utd</td>\n",
       "      <td>0.41</td>\n",
       "      <td>2</td>\n",
       "      <td>0.09</td>\n",
       "      <td>2.86</td>\n",
       "      <td>...</td>\n",
       "      <td>4</td>\n",
       "      <td>2.7</td>\n",
       "      <td>10735832</td>\n",
       "      <td>530</td>\n",
       "      <td>1.22</td>\n",
       "      <td>37.8</td>\n",
       "      <td>7</td>\n",
       "      <td>2</td>\n",
       "      <td>13</td>\n",
       "      <td>33</td>\n",
       "    </tr>\n",
       "    <tr>\n",
       "      <th>6</th>\n",
       "      <td>301</td>\n",
       "      <td>Kevin De Bruyne</td>\n",
       "      <td>121</td>\n",
       "      <td>12.1</td>\n",
       "      <td>MID</td>\n",
       "      <td>Man City</td>\n",
       "      <td>0.37</td>\n",
       "      <td>27</td>\n",
       "      <td>0.51</td>\n",
       "      <td>13.69</td>\n",
       "      <td>...</td>\n",
       "      <td>44</td>\n",
       "      <td>1.7</td>\n",
       "      <td>7222275</td>\n",
       "      <td>742</td>\n",
       "      <td>0.86</td>\n",
       "      <td>25.5</td>\n",
       "      <td>5</td>\n",
       "      <td>4</td>\n",
       "      <td>10</td>\n",
       "      <td>3</td>\n",
       "    </tr>\n",
       "  </tbody>\n",
       "</table>\n",
       "<p>5 rows × 76 columns</p>\n",
       "</div>"
      ],
      "text/plain": [
       "    id             name  now_cost  cost position       team  \\\n",
       "1  318   Erling Haaland       124  12.4      FWD   Man City   \n",
       "3  427       Harry Kane       115  11.5      FWD      Spurs   \n",
       "4  283    Mohamed Salah       131  13.1      MID  Liverpool   \n",
       "5  335  Marcus Rashford        72   7.2      MID    Man Utd   \n",
       "6  301  Kevin De Bruyne       121  12.1      MID   Man City   \n",
       "\n",
       "   clean_sheets_per_90  threat_rank_type  expected_assists_per_90  \\\n",
       "1                 0.42                 1                     0.10   \n",
       "3                 0.29                 2                     0.11   \n",
       "4                 0.36                 1                     0.19   \n",
       "5                 0.41                 2                     0.09   \n",
       "6                 0.37                27                     0.51   \n",
       "\n",
       "   expected_assists  ...  threat_rank  ep_this  transfers_in   bps  \\\n",
       "1              3.11  ...            1      5.4       7833248  1040   \n",
       "3              4.01  ...            2      9.2       7381740  1008   \n",
       "4              7.03  ...            3      9.3       6974743   651   \n",
       "5              2.86  ...            4      2.7      10735832   530   \n",
       "6             13.69  ...           44      1.7       7222275   742   \n",
       "\n",
       "   goals_conceded_per_90  selected_by_percent  influence_rank_type  \\\n",
       "1                   0.85                 78.4                    1   \n",
       "3                   1.64                 32.7                    2   \n",
       "4                   1.23                 37.2                    1   \n",
       "5                   1.22                 37.8                    7   \n",
       "6                   0.86                 25.5                    5   \n",
       "\n",
       "   points_per_game_rank_type  clean_sheets  now_cost_rank  \n",
       "1                          1            13              2  \n",
       "3                          2            11              4  \n",
       "4                          1            13              1  \n",
       "5                          2            13             33  \n",
       "6                          4            10              3  \n",
       "\n",
       "[5 rows x 76 columns]"
      ]
     },
     "execution_count": 11,
     "metadata": {},
     "output_type": "execute_result"
    }
   ],
   "source": [
    "ppg = min_20_starts.sort_values(\"points_per_game\", ascending=False).head(20)\n",
    "ppg.head()"
   ]
  },
  {
   "cell_type": "code",
   "execution_count": 12,
   "id": "caf60417-20b5-41cb-82b3-34d45f754d26",
   "metadata": {},
   "outputs": [
    {
     "data": {
      "application/vnd.plotly.v1+json": {
       "config": {
        "plotlyServerURL": "https://plot.ly"
       },
       "data": [
        {
         "branchvalues": "total",
         "customdata": [
          [
           "Liverpool",
           156,
           7.8,
           "DEF"
          ],
          [
           "Liverpool",
           162,
           5.5,
           "GKP"
          ],
          [
           "Man City",
           183,
           12.1,
           "MID"
          ],
          [
           "Man Utd",
           161,
           5.1,
           "GKP"
          ],
          [
           "Man City",
           272,
           12.4,
           "FWD"
          ],
          [
           "Newcastle",
           157,
           5.4,
           "GKP"
          ],
          [
           "Arsenal",
           198,
           6.5,
           "MID"
          ],
          [
           "Man Utd",
           205,
           7.2,
           "MID"
          ],
          [
           "Arsenal",
           125,
           8.1,
           "FWD"
          ],
          [
           "Spurs",
           263,
           11.5,
           "FWD"
          ],
          [
           "Brentford",
           166,
           4.8,
           "GKP"
          ],
          [
           "Liverpool",
           239,
           13.1,
           "MID"
          ],
          [
           "Arsenal",
           117,
           4.9,
           "DEF"
          ],
          [
           "Wolves",
           148,
           5,
           "GKP"
          ],
          [
           "Brentford",
           182,
           7.1,
           "FWD"
          ],
          [
           "Newcastle",
           157,
           7.3,
           "FWD"
          ],
          [
           "Newcastle",
           198,
           6,
           "DEF"
          ],
          [
           "Liverpool",
           127,
           6.6,
           "DEF"
          ],
          [
           "Arsenal",
           156,
           5,
           "DEF"
          ],
          [
           "Arsenal",
           212,
           6.9,
           "MID"
          ],
          [
           "Liverpool",
           127,
           6.6,
           "DEF"
          ],
          [
           "Arsenal",
           156,
           5,
           "DEF"
          ],
          [
           "Wolves",
           148,
           5,
           "GKP"
          ],
          [
           "Liverpool",
           156,
           7.8,
           "DEF"
          ],
          [
           "(?)",
           "(?)",
           "(?)",
           "GKP"
          ],
          [
           "Arsenal",
           117,
           4.9,
           "DEF"
          ],
          [
           "(?)",
           "(?)",
           "(?)",
           "GKP"
          ],
          [
           "Arsenal",
           125,
           8.1,
           "FWD"
          ],
          [
           "Newcastle",
           157,
           7.3,
           "FWD"
          ],
          [
           "Newcastle",
           198,
           6,
           "DEF"
          ],
          [
           "Brentford",
           182,
           7.1,
           "FWD"
          ],
          [
           "Arsenal",
           198,
           6.5,
           "MID"
          ],
          [
           "(?)",
           "(?)",
           "(?)",
           "MID"
          ],
          [
           "Man Utd",
           205,
           7.2,
           "MID"
          ],
          [
           "Liverpool",
           239,
           13.1,
           "MID"
          ],
          [
           "Spurs",
           263,
           11.5,
           "FWD"
          ],
          [
           "Man City",
           272,
           12.4,
           "FWD"
          ],
          [
           "(?)",
           "(?)",
           "(?)",
           "DEF"
          ],
          [
           "(?)",
           "(?)",
           "(?)",
           "FWD"
          ],
          [
           "(?)",
           "(?)",
           "(?)",
           "GKP"
          ],
          [
           "(?)",
           "(?)",
           "(?)",
           "MID"
          ]
         ],
         "domain": {
          "x": [
           0,
           1
          ],
          "y": [
           0,
           1
          ]
         },
         "hovertemplate": "labels=%{label}<br>points_per_game=%{value}<br>parent=%{parent}<br>id=%{id}<br>team=%{customdata[0]}<br>total_points=%{customdata[1]}<br>cost=%{customdata[2]}<br>position=%{customdata[3]}<extra></extra>",
         "ids": [
          "DEF/4.2/Alexander-Arnold",
          "GKP/4.4/Alisson",
          "MID/5.7/De Bruyne",
          "GKP/4.2/De Gea",
          "FWD/7.8/Haaland",
          "GKP/4.2/Pope",
          "MID/5.5/Martinelli",
          "MID/5.9/Rashford",
          "FWD/4.8/Jesus",
          "FWD/6.9/Kane",
          "GKP/4.4/Raya",
          "MID/6.3/Salah",
          "DEF/4.3/Saliba",
          "GKP/4.1/Sá",
          "FWD/5.5/Toney",
          "FWD/5.1/Wilson",
          "DEF/5.2/Trippier",
          "DEF/4.0/Van Dijk",
          "DEF/4.1/White",
          "MID/5.7/Ødegaard",
          "DEF/4.0",
          "DEF/4.1",
          "GKP/4.1",
          "DEF/4.2",
          "GKP/4.2",
          "DEF/4.3",
          "GKP/4.4",
          "FWD/4.8",
          "FWD/5.1",
          "DEF/5.2",
          "FWD/5.5",
          "MID/5.5",
          "MID/5.7",
          "MID/5.9",
          "MID/6.3",
          "FWD/6.9",
          "FWD/7.8",
          "DEF",
          "FWD",
          "GKP",
          "MID"
         ],
         "labels": [
          "Alexander-Arnold",
          "Alisson",
          "De Bruyne",
          "De Gea",
          "Haaland",
          "Pope",
          "Martinelli",
          "Rashford",
          "Jesus",
          "Kane",
          "Raya",
          "Salah",
          "Saliba",
          "Sá",
          "Toney",
          "Wilson",
          "Trippier",
          "Van Dijk",
          "White",
          "Ødegaard",
          "4.0",
          "4.1",
          "4.1",
          "4.2",
          "4.2",
          "4.3",
          "4.4",
          "4.8",
          "5.1",
          "5.2",
          "5.5",
          "5.5",
          "5.7",
          "5.9",
          "6.3",
          "6.9",
          "7.8",
          "DEF",
          "FWD",
          "GKP",
          "MID"
         ],
         "marker": {
          "colors": [
           "rgb(210, 251, 212)",
           "rgb(165, 219, 194)",
           "rgb(123, 188, 176)",
           "rgb(165, 219, 194)",
           "rgb(85, 156, 158)",
           "rgb(165, 219, 194)",
           "rgb(123, 188, 176)",
           "rgb(123, 188, 176)",
           "rgb(85, 156, 158)",
           "rgb(85, 156, 158)",
           "rgb(165, 219, 194)",
           "rgb(123, 188, 176)",
           "rgb(210, 251, 212)",
           "rgb(165, 219, 194)",
           "rgb(85, 156, 158)",
           "rgb(85, 156, 158)",
           "rgb(210, 251, 212)",
           "rgb(210, 251, 212)",
           "rgb(210, 251, 212)",
           "rgb(123, 188, 176)",
           "rgb(210, 251, 212)",
           "rgb(210, 251, 212)",
           "rgb(165, 219, 194)",
           "rgb(210, 251, 212)",
           "rgb(165, 219, 194)",
           "rgb(210, 251, 212)",
           "rgb(165, 219, 194)",
           "rgb(85, 156, 158)",
           "rgb(85, 156, 158)",
           "rgb(210, 251, 212)",
           "rgb(85, 156, 158)",
           "rgb(123, 188, 176)",
           "rgb(123, 188, 176)",
           "rgb(123, 188, 176)",
           "rgb(123, 188, 176)",
           "rgb(85, 156, 158)",
           "rgb(85, 156, 158)",
           "rgb(210, 251, 212)",
           "rgb(85, 156, 158)",
           "rgb(165, 219, 194)",
           "rgb(123, 188, 176)"
          ]
         },
         "name": "",
         "parents": [
          "DEF/4.2",
          "GKP/4.4",
          "MID/5.7",
          "GKP/4.2",
          "FWD/7.8",
          "GKP/4.2",
          "MID/5.5",
          "MID/5.9",
          "FWD/4.8",
          "FWD/6.9",
          "GKP/4.4",
          "MID/6.3",
          "DEF/4.3",
          "GKP/4.1",
          "FWD/5.5",
          "FWD/5.1",
          "DEF/5.2",
          "DEF/4.0",
          "DEF/4.1",
          "MID/5.7",
          "DEF",
          "DEF",
          "GKP",
          "DEF",
          "GKP",
          "DEF",
          "GKP",
          "FWD",
          "FWD",
          "DEF",
          "FWD",
          "MID",
          "MID",
          "MID",
          "MID",
          "FWD",
          "FWD",
          "",
          "",
          "",
          ""
         ],
         "type": "sunburst",
         "values": [
          4.2,
          4.4,
          5.7,
          4.2,
          7.8,
          4.2,
          5.5,
          5.9,
          4.8,
          6.9,
          4.4,
          6.3,
          4.3,
          4.1,
          5.5,
          5.1,
          5.2,
          4,
          4.1,
          5.7,
          4,
          4.1,
          4.1,
          4.2,
          8.4,
          4.3,
          8.8,
          4.8,
          5.1,
          5.2,
          5.5,
          5.5,
          11.4,
          5.9,
          6.3,
          6.9,
          7.8,
          21.8,
          30.1,
          21.3,
          29.1
         ]
        }
       ],
       "layout": {
        "height": 600,
        "legend": {
         "tracegroupgap": 0
        },
        "sunburstcolorway": [
         "rgb(210, 251, 212)",
         "rgb(165, 219, 194)",
         "rgb(123, 188, 176)",
         "rgb(85, 156, 158)",
         "rgb(58, 124, 137)",
         "rgb(35, 93, 114)",
         "rgb(18, 63, 90)"
        ],
        "template": {
         "data": {
          "bar": [
           {
            "error_x": {
             "color": "#2a3f5f"
            },
            "error_y": {
             "color": "#2a3f5f"
            },
            "marker": {
             "line": {
              "color": "#E5ECF6",
              "width": 0.5
             },
             "pattern": {
              "fillmode": "overlay",
              "size": 10,
              "solidity": 0.2
             }
            },
            "type": "bar"
           }
          ],
          "barpolar": [
           {
            "marker": {
             "line": {
              "color": "#E5ECF6",
              "width": 0.5
             },
             "pattern": {
              "fillmode": "overlay",
              "size": 10,
              "solidity": 0.2
             }
            },
            "type": "barpolar"
           }
          ],
          "carpet": [
           {
            "aaxis": {
             "endlinecolor": "#2a3f5f",
             "gridcolor": "white",
             "linecolor": "white",
             "minorgridcolor": "white",
             "startlinecolor": "#2a3f5f"
            },
            "baxis": {
             "endlinecolor": "#2a3f5f",
             "gridcolor": "white",
             "linecolor": "white",
             "minorgridcolor": "white",
             "startlinecolor": "#2a3f5f"
            },
            "type": "carpet"
           }
          ],
          "choropleth": [
           {
            "colorbar": {
             "outlinewidth": 0,
             "ticks": ""
            },
            "type": "choropleth"
           }
          ],
          "contour": [
           {
            "colorbar": {
             "outlinewidth": 0,
             "ticks": ""
            },
            "colorscale": [
             [
              0,
              "#0d0887"
             ],
             [
              0.1111111111111111,
              "#46039f"
             ],
             [
              0.2222222222222222,
              "#7201a8"
             ],
             [
              0.3333333333333333,
              "#9c179e"
             ],
             [
              0.4444444444444444,
              "#bd3786"
             ],
             [
              0.5555555555555556,
              "#d8576b"
             ],
             [
              0.6666666666666666,
              "#ed7953"
             ],
             [
              0.7777777777777778,
              "#fb9f3a"
             ],
             [
              0.8888888888888888,
              "#fdca26"
             ],
             [
              1,
              "#f0f921"
             ]
            ],
            "type": "contour"
           }
          ],
          "contourcarpet": [
           {
            "colorbar": {
             "outlinewidth": 0,
             "ticks": ""
            },
            "type": "contourcarpet"
           }
          ],
          "heatmap": [
           {
            "colorbar": {
             "outlinewidth": 0,
             "ticks": ""
            },
            "colorscale": [
             [
              0,
              "#0d0887"
             ],
             [
              0.1111111111111111,
              "#46039f"
             ],
             [
              0.2222222222222222,
              "#7201a8"
             ],
             [
              0.3333333333333333,
              "#9c179e"
             ],
             [
              0.4444444444444444,
              "#bd3786"
             ],
             [
              0.5555555555555556,
              "#d8576b"
             ],
             [
              0.6666666666666666,
              "#ed7953"
             ],
             [
              0.7777777777777778,
              "#fb9f3a"
             ],
             [
              0.8888888888888888,
              "#fdca26"
             ],
             [
              1,
              "#f0f921"
             ]
            ],
            "type": "heatmap"
           }
          ],
          "heatmapgl": [
           {
            "colorbar": {
             "outlinewidth": 0,
             "ticks": ""
            },
            "colorscale": [
             [
              0,
              "#0d0887"
             ],
             [
              0.1111111111111111,
              "#46039f"
             ],
             [
              0.2222222222222222,
              "#7201a8"
             ],
             [
              0.3333333333333333,
              "#9c179e"
             ],
             [
              0.4444444444444444,
              "#bd3786"
             ],
             [
              0.5555555555555556,
              "#d8576b"
             ],
             [
              0.6666666666666666,
              "#ed7953"
             ],
             [
              0.7777777777777778,
              "#fb9f3a"
             ],
             [
              0.8888888888888888,
              "#fdca26"
             ],
             [
              1,
              "#f0f921"
             ]
            ],
            "type": "heatmapgl"
           }
          ],
          "histogram": [
           {
            "marker": {
             "pattern": {
              "fillmode": "overlay",
              "size": 10,
              "solidity": 0.2
             }
            },
            "type": "histogram"
           }
          ],
          "histogram2d": [
           {
            "colorbar": {
             "outlinewidth": 0,
             "ticks": ""
            },
            "colorscale": [
             [
              0,
              "#0d0887"
             ],
             [
              0.1111111111111111,
              "#46039f"
             ],
             [
              0.2222222222222222,
              "#7201a8"
             ],
             [
              0.3333333333333333,
              "#9c179e"
             ],
             [
              0.4444444444444444,
              "#bd3786"
             ],
             [
              0.5555555555555556,
              "#d8576b"
             ],
             [
              0.6666666666666666,
              "#ed7953"
             ],
             [
              0.7777777777777778,
              "#fb9f3a"
             ],
             [
              0.8888888888888888,
              "#fdca26"
             ],
             [
              1,
              "#f0f921"
             ]
            ],
            "type": "histogram2d"
           }
          ],
          "histogram2dcontour": [
           {
            "colorbar": {
             "outlinewidth": 0,
             "ticks": ""
            },
            "colorscale": [
             [
              0,
              "#0d0887"
             ],
             [
              0.1111111111111111,
              "#46039f"
             ],
             [
              0.2222222222222222,
              "#7201a8"
             ],
             [
              0.3333333333333333,
              "#9c179e"
             ],
             [
              0.4444444444444444,
              "#bd3786"
             ],
             [
              0.5555555555555556,
              "#d8576b"
             ],
             [
              0.6666666666666666,
              "#ed7953"
             ],
             [
              0.7777777777777778,
              "#fb9f3a"
             ],
             [
              0.8888888888888888,
              "#fdca26"
             ],
             [
              1,
              "#f0f921"
             ]
            ],
            "type": "histogram2dcontour"
           }
          ],
          "mesh3d": [
           {
            "colorbar": {
             "outlinewidth": 0,
             "ticks": ""
            },
            "type": "mesh3d"
           }
          ],
          "parcoords": [
           {
            "line": {
             "colorbar": {
              "outlinewidth": 0,
              "ticks": ""
             }
            },
            "type": "parcoords"
           }
          ],
          "pie": [
           {
            "automargin": true,
            "type": "pie"
           }
          ],
          "scatter": [
           {
            "fillpattern": {
             "fillmode": "overlay",
             "size": 10,
             "solidity": 0.2
            },
            "type": "scatter"
           }
          ],
          "scatter3d": [
           {
            "line": {
             "colorbar": {
              "outlinewidth": 0,
              "ticks": ""
             }
            },
            "marker": {
             "colorbar": {
              "outlinewidth": 0,
              "ticks": ""
             }
            },
            "type": "scatter3d"
           }
          ],
          "scattercarpet": [
           {
            "marker": {
             "colorbar": {
              "outlinewidth": 0,
              "ticks": ""
             }
            },
            "type": "scattercarpet"
           }
          ],
          "scattergeo": [
           {
            "marker": {
             "colorbar": {
              "outlinewidth": 0,
              "ticks": ""
             }
            },
            "type": "scattergeo"
           }
          ],
          "scattergl": [
           {
            "marker": {
             "colorbar": {
              "outlinewidth": 0,
              "ticks": ""
             }
            },
            "type": "scattergl"
           }
          ],
          "scattermapbox": [
           {
            "marker": {
             "colorbar": {
              "outlinewidth": 0,
              "ticks": ""
             }
            },
            "type": "scattermapbox"
           }
          ],
          "scatterpolar": [
           {
            "marker": {
             "colorbar": {
              "outlinewidth": 0,
              "ticks": ""
             }
            },
            "type": "scatterpolar"
           }
          ],
          "scatterpolargl": [
           {
            "marker": {
             "colorbar": {
              "outlinewidth": 0,
              "ticks": ""
             }
            },
            "type": "scatterpolargl"
           }
          ],
          "scatterternary": [
           {
            "marker": {
             "colorbar": {
              "outlinewidth": 0,
              "ticks": ""
             }
            },
            "type": "scatterternary"
           }
          ],
          "surface": [
           {
            "colorbar": {
             "outlinewidth": 0,
             "ticks": ""
            },
            "colorscale": [
             [
              0,
              "#0d0887"
             ],
             [
              0.1111111111111111,
              "#46039f"
             ],
             [
              0.2222222222222222,
              "#7201a8"
             ],
             [
              0.3333333333333333,
              "#9c179e"
             ],
             [
              0.4444444444444444,
              "#bd3786"
             ],
             [
              0.5555555555555556,
              "#d8576b"
             ],
             [
              0.6666666666666666,
              "#ed7953"
             ],
             [
              0.7777777777777778,
              "#fb9f3a"
             ],
             [
              0.8888888888888888,
              "#fdca26"
             ],
             [
              1,
              "#f0f921"
             ]
            ],
            "type": "surface"
           }
          ],
          "table": [
           {
            "cells": {
             "fill": {
              "color": "#EBF0F8"
             },
             "line": {
              "color": "white"
             }
            },
            "header": {
             "fill": {
              "color": "#C8D4E3"
             },
             "line": {
              "color": "white"
             }
            },
            "type": "table"
           }
          ]
         },
         "layout": {
          "annotationdefaults": {
           "arrowcolor": "#2a3f5f",
           "arrowhead": 0,
           "arrowwidth": 1
          },
          "autotypenumbers": "strict",
          "coloraxis": {
           "colorbar": {
            "outlinewidth": 0,
            "ticks": ""
           }
          },
          "colorscale": {
           "diverging": [
            [
             0,
             "#8e0152"
            ],
            [
             0.1,
             "#c51b7d"
            ],
            [
             0.2,
             "#de77ae"
            ],
            [
             0.3,
             "#f1b6da"
            ],
            [
             0.4,
             "#fde0ef"
            ],
            [
             0.5,
             "#f7f7f7"
            ],
            [
             0.6,
             "#e6f5d0"
            ],
            [
             0.7,
             "#b8e186"
            ],
            [
             0.8,
             "#7fbc41"
            ],
            [
             0.9,
             "#4d9221"
            ],
            [
             1,
             "#276419"
            ]
           ],
           "sequential": [
            [
             0,
             "#0d0887"
            ],
            [
             0.1111111111111111,
             "#46039f"
            ],
            [
             0.2222222222222222,
             "#7201a8"
            ],
            [
             0.3333333333333333,
             "#9c179e"
            ],
            [
             0.4444444444444444,
             "#bd3786"
            ],
            [
             0.5555555555555556,
             "#d8576b"
            ],
            [
             0.6666666666666666,
             "#ed7953"
            ],
            [
             0.7777777777777778,
             "#fb9f3a"
            ],
            [
             0.8888888888888888,
             "#fdca26"
            ],
            [
             1,
             "#f0f921"
            ]
           ],
           "sequentialminus": [
            [
             0,
             "#0d0887"
            ],
            [
             0.1111111111111111,
             "#46039f"
            ],
            [
             0.2222222222222222,
             "#7201a8"
            ],
            [
             0.3333333333333333,
             "#9c179e"
            ],
            [
             0.4444444444444444,
             "#bd3786"
            ],
            [
             0.5555555555555556,
             "#d8576b"
            ],
            [
             0.6666666666666666,
             "#ed7953"
            ],
            [
             0.7777777777777778,
             "#fb9f3a"
            ],
            [
             0.8888888888888888,
             "#fdca26"
            ],
            [
             1,
             "#f0f921"
            ]
           ]
          },
          "colorway": [
           "#636efa",
           "#EF553B",
           "#00cc96",
           "#ab63fa",
           "#FFA15A",
           "#19d3f3",
           "#FF6692",
           "#B6E880",
           "#FF97FF",
           "#FECB52"
          ],
          "font": {
           "color": "#2a3f5f"
          },
          "geo": {
           "bgcolor": "white",
           "lakecolor": "white",
           "landcolor": "#E5ECF6",
           "showlakes": true,
           "showland": true,
           "subunitcolor": "white"
          },
          "hoverlabel": {
           "align": "left"
          },
          "hovermode": "closest",
          "mapbox": {
           "style": "light"
          },
          "paper_bgcolor": "white",
          "plot_bgcolor": "#E5ECF6",
          "polar": {
           "angularaxis": {
            "gridcolor": "white",
            "linecolor": "white",
            "ticks": ""
           },
           "bgcolor": "#E5ECF6",
           "radialaxis": {
            "gridcolor": "white",
            "linecolor": "white",
            "ticks": ""
           }
          },
          "scene": {
           "xaxis": {
            "backgroundcolor": "#E5ECF6",
            "gridcolor": "white",
            "gridwidth": 2,
            "linecolor": "white",
            "showbackground": true,
            "ticks": "",
            "zerolinecolor": "white"
           },
           "yaxis": {
            "backgroundcolor": "#E5ECF6",
            "gridcolor": "white",
            "gridwidth": 2,
            "linecolor": "white",
            "showbackground": true,
            "ticks": "",
            "zerolinecolor": "white"
           },
           "zaxis": {
            "backgroundcolor": "#E5ECF6",
            "gridcolor": "white",
            "gridwidth": 2,
            "linecolor": "white",
            "showbackground": true,
            "ticks": "",
            "zerolinecolor": "white"
           }
          },
          "shapedefaults": {
           "line": {
            "color": "#2a3f5f"
           }
          },
          "ternary": {
           "aaxis": {
            "gridcolor": "white",
            "linecolor": "white",
            "ticks": ""
           },
           "baxis": {
            "gridcolor": "white",
            "linecolor": "white",
            "ticks": ""
           },
           "bgcolor": "#E5ECF6",
           "caxis": {
            "gridcolor": "white",
            "linecolor": "white",
            "ticks": ""
           }
          },
          "title": {
           "x": 0.05
          },
          "xaxis": {
           "automargin": true,
           "gridcolor": "white",
           "linecolor": "white",
           "ticks": "",
           "title": {
            "standoff": 15
           },
           "zerolinecolor": "white",
           "zerolinewidth": 2
          },
          "yaxis": {
           "automargin": true,
           "gridcolor": "white",
           "linecolor": "white",
           "ticks": "",
           "title": {
            "standoff": 15
           },
           "zerolinecolor": "white",
           "zerolinewidth": 2
          }
         }
        },
        "title": {
         "text": "Points Per Game Based on Each Position"
        },
        "width": 600
       }
      },
      "image/png": "[encoded data removed]",
      "text/html": [
       "<div>                            <div id=\"f7aa91bc-0e12-48b0-bf3c-5cebd7b2cd5a\" class=\"plotly-graph-div\" style=\"height:600px; width:600px;\"></div>            <script type=\"text/javascript\">                require([\"plotly\"], function(Plotly) {                    window.PLOTLYENV=window.PLOTLYENV || {};                                    if (document.getElementById(\"f7aa91bc-0e12-48b0-bf3c-5cebd7b2cd5a\")) {                    Plotly.newPlot(                        \"f7aa91bc-0e12-48b0-bf3c-5cebd7b2cd5a\",                        [{\"branchvalues\":\"total\",\"customdata\":[[\"Liverpool\",156,7.8,\"DEF\"],[\"Liverpool\",162,5.5,\"GKP\"],[\"Man City\",183,12.1,\"MID\"],[\"Man Utd\",161,5.1,\"GKP\"],[\"Man City\",272,12.4,\"FWD\"],[\"Newcastle\",157,5.4,\"GKP\"],[\"Arsenal\",198,6.5,\"MID\"],[\"Man Utd\",205,7.2,\"MID\"],[\"Arsenal\",125,8.1,\"FWD\"],[\"Spurs\",263,11.5,\"FWD\"],[\"Brentford\",166,4.8,\"GKP\"],[\"Liverpool\",239,13.1,\"MID\"],[\"Arsenal\",117,4.9,\"DEF\"],[\"Wolves\",148,5.0,\"GKP\"],[\"Brentford\",182,7.1,\"FWD\"],[\"Newcastle\",157,7.3,\"FWD\"],[\"Newcastle\",198,6.0,\"DEF\"],[\"Liverpool\",127,6.6,\"DEF\"],[\"Arsenal\",156,5.0,\"DEF\"],[\"Arsenal\",212,6.9,\"MID\"],[\"Liverpool\",127,6.6,\"DEF\"],[\"Arsenal\",156,5.0,\"DEF\"],[\"Wolves\",148,5.0,\"GKP\"],[\"Liverpool\",156,7.8,\"DEF\"],[\"(?)\",\"(?)\",\"(?)\",\"GKP\"],[\"Arsenal\",117,4.9,\"DEF\"],[\"(?)\",\"(?)\",\"(?)\",\"GKP\"],[\"Arsenal\",125,8.1,\"FWD\"],[\"Newcastle\",157,7.3,\"FWD\"],[\"Newcastle\",198,6.0,\"DEF\"],[\"Brentford\",182,7.1,\"FWD\"],[\"Arsenal\",198,6.5,\"MID\"],[\"(?)\",\"(?)\",\"(?)\",\"MID\"],[\"Man Utd\",205,7.2,\"MID\"],[\"Liverpool\",239,13.1,\"MID\"],[\"Spurs\",263,11.5,\"FWD\"],[\"Man City\",272,12.4,\"FWD\"],[\"(?)\",\"(?)\",\"(?)\",\"DEF\"],[\"(?)\",\"(?)\",\"(?)\",\"FWD\"],[\"(?)\",\"(?)\",\"(?)\",\"GKP\"],[\"(?)\",\"(?)\",\"(?)\",\"MID\"]],\"domain\":{\"x\":[0.0,1.0],\"y\":[0.0,1.0]},\"hovertemplate\":\"labels=%{label}\\u003cbr\\u003epoints_per_game=%{value}\\u003cbr\\u003eparent=%{parent}\\u003cbr\\u003eid=%{id}\\u003cbr\\u003eteam=%{customdata[0]}\\u003cbr\\u003etotal_points=%{customdata[1]}\\u003cbr\\u003ecost=%{customdata[2]}\\u003cbr\\u003eposition=%{customdata[3]}\\u003cextra\\u003e\\u003c\\u002fextra\\u003e\",\"ids\":[\"DEF\\u002f4.2\\u002fAlexander-Arnold\",\"GKP\\u002f4.4\\u002fAlisson\",\"MID\\u002f5.7\\u002fDe Bruyne\",\"GKP\\u002f4.2\\u002fDe Gea\",\"FWD\\u002f7.8\\u002fHaaland\",\"GKP\\u002f4.2\\u002fPope\",\"MID\\u002f5.5\\u002fMartinelli\",\"MID\\u002f5.9\\u002fRashford\",\"FWD\\u002f4.8\\u002fJesus\",\"FWD\\u002f6.9\\u002fKane\",\"GKP\\u002f4.4\\u002fRaya\",\"MID\\u002f6.3\\u002fSalah\",\"DEF\\u002f4.3\\u002fSaliba\",\"GKP\\u002f4.1\\u002fS\\u00e1\",\"FWD\\u002f5.5\\u002fToney\",\"FWD\\u002f5.1\\u002fWilson\",\"DEF\\u002f5.2\\u002fTrippier\",\"DEF\\u002f4.0\\u002fVan Dijk\",\"DEF\\u002f4.1\\u002fWhite\",\"MID\\u002f5.7\\u002f\\u00d8degaard\",\"DEF\\u002f4.0\",\"DEF\\u002f4.1\",\"GKP\\u002f4.1\",\"DEF\\u002f4.2\",\"GKP\\u002f4.2\",\"DEF\\u002f4.3\",\"GKP\\u002f4.4\",\"FWD\\u002f4.8\",\"FWD\\u002f5.1\",\"DEF\\u002f5.2\",\"FWD\\u002f5.5\",\"MID\\u002f5.5\",\"MID\\u002f5.7\",\"MID\\u002f5.9\",\"MID\\u002f6.3\",\"FWD\\u002f6.9\",\"FWD\\u002f7.8\",\"DEF\",\"FWD\",\"GKP\",\"MID\"],\"labels\":[\"Alexander-Arnold\",\"Alisson\",\"De Bruyne\",\"De Gea\",\"Haaland\",\"Pope\",\"Martinelli\",\"Rashford\",\"Jesus\",\"Kane\",\"Raya\",\"Salah\",\"Saliba\",\"S\\u00e1\",\"Toney\",\"Wilson\",\"Trippier\",\"Van Dijk\",\"White\",\"\\u00d8degaard\",\"4.0\",\"4.1\",\"4.1\",\"4.2\",\"4.2\",\"4.3\",\"4.4\",\"4.8\",\"5.1\",\"5.2\",\"5.5\",\"5.5\",\"5.7\",\"5.9\",\"6.3\",\"6.9\",\"7.8\",\"DEF\",\"FWD\",\"GKP\",\"MID\"],\"marker\":{\"colors\":[\"rgb(210, 251, 212)\",\"rgb(165, 219, 194)\",\"rgb(123, 188, 176)\",\"rgb(165, 219, 194)\",\"rgb(85, 156, 158)\",\"rgb(165, 219, 194)\",\"rgb(123, 188, 176)\",\"rgb(123, 188, 176)\",\"rgb(85, 156, 158)\",\"rgb(85, 156, 158)\",\"rgb(165, 219, 194)\",\"rgb(123, 188, 176)\",\"rgb(210, 251, 212)\",\"rgb(165, 219, 194)\",\"rgb(85, 156, 158)\",\"rgb(85, 156, 158)\",\"rgb(210, 251, 212)\",\"rgb(210, 251, 212)\",\"rgb(210, 251, 212)\",\"rgb(123, 188, 176)\",\"rgb(210, 251, 212)\",\"rgb(210, 251, 212)\",\"rgb(165, 219, 194)\",\"rgb(210, 251, 212)\",\"rgb(165, 219, 194)\",\"rgb(210, 251, 212)\",\"rgb(165, 219, 194)\",\"rgb(85, 156, 158)\",\"rgb(85, 156, 158)\",\"rgb(210, 251, 212)\",\"rgb(85, 156, 158)\",\"rgb(123, 188, 176)\",\"rgb(123, 188, 176)\",\"rgb(123, 188, 176)\",\"rgb(123, 188, 176)\",\"rgb(85, 156, 158)\",\"rgb(85, 156, 158)\",\"rgb(210, 251, 212)\",\"rgb(85, 156, 158)\",\"rgb(165, 219, 194)\",\"rgb(123, 188, 176)\"]},\"name\":\"\",\"parents\":[\"DEF\\u002f4.2\",\"GKP\\u002f4.4\",\"MID\\u002f5.7\",\"GKP\\u002f4.2\",\"FWD\\u002f7.8\",\"GKP\\u002f4.2\",\"MID\\u002f5.5\",\"MID\\u002f5.9\",\"FWD\\u002f4.8\",\"FWD\\u002f6.9\",\"GKP\\u002f4.4\",\"MID\\u002f6.3\",\"DEF\\u002f4.3\",\"GKP\\u002f4.1\",\"FWD\\u002f5.5\",\"FWD\\u002f5.1\",\"DEF\\u002f5.2\",\"DEF\\u002f4.0\",\"DEF\\u002f4.1\",\"MID\\u002f5.7\",\"DEF\",\"DEF\",\"GKP\",\"DEF\",\"GKP\",\"DEF\",\"GKP\",\"FWD\",\"FWD\",\"DEF\",\"FWD\",\"MID\",\"MID\",\"MID\",\"MID\",\"FWD\",\"FWD\",\"\",\"\",\"\",\"\"],\"values\":[4.2,4.4,5.7,4.2,7.8,4.2,5.5,5.9,4.8,6.9,4.4,6.3,4.3,4.1,5.5,5.1,5.2,4.0,4.1,5.7,4.0,4.1,4.1,4.2,8.4,4.3,8.8,4.8,5.1,5.2,5.5,5.5,11.4,5.9,6.3,6.9,7.8,21.8,30.1,21.3,29.1],\"type\":\"sunburst\"}],                        {\"template\":{\"data\":{\"histogram2dcontour\":[{\"type\":\"histogram2dcontour\",\"colorbar\":{\"outlinewidth\":0,\"ticks\":\"\"},\"colorscale\":[[0.0,\"#0d0887\"],[0.1111111111111111,\"#46039f\"],[0.2222222222222222,\"#7201a8\"],[0.3333333333333333,\"#9c179e\"],[0.4444444444444444,\"#bd3786\"],[0.5555555555555556,\"#d8576b\"],[0.6666666666666666,\"#ed7953\"],[0.7777777777777778,\"#fb9f3a\"],[0.8888888888888888,\"#fdca26\"],[1.0,\"#f0f921\"]]}],\"choropleth\":[{\"type\":\"choropleth\",\"colorbar\":{\"outlinewidth\":0,\"ticks\":\"\"}}],\"histogram2d\":[{\"type\":\"histogram2d\",\"colorbar\":{\"outlinewidth\":0,\"ticks\":\"\"},\"colorscale\":[[0.0,\"#0d0887\"],[0.1111111111111111,\"#46039f\"],[0.2222222222222222,\"#7201a8\"],[0.3333333333333333,\"#9c179e\"],[0.4444444444444444,\"#bd3786\"],[0.5555555555555556,\"#d8576b\"],[0.6666666666666666,\"#ed7953\"],[0.7777777777777778,\"#fb9f3a\"],[0.8888888888888888,\"#fdca26\"],[1.0,\"#f0f921\"]]}],\"heatmap\":[{\"type\":\"heatmap\",\"colorbar\":{\"outlinewidth\":0,\"ticks\":\"\"},\"colorscale\":[[0.0,\"#0d0887\"],[0.1111111111111111,\"#46039f\"],[0.2222222222222222,\"#7201a8\"],[0.3333333333333333,\"#9c179e\"],[0.4444444444444444,\"#bd3786\"],[0.5555555555555556,\"#d8576b\"],[0.6666666666666666,\"#ed7953\"],[0.7777777777777778,\"#fb9f3a\"],[0.8888888888888888,\"#fdca26\"],[1.0,\"#f0f921\"]]}],\"heatmapgl\":[{\"type\":\"heatmapgl\",\"colorbar\":{\"outlinewidth\":0,\"ticks\":\"\"},\"colorscale\":[[0.0,\"#0d0887\"],[0.1111111111111111,\"#46039f\"],[0.2222222222222222,\"#7201a8\"],[0.3333333333333333,\"#9c179e\"],[0.4444444444444444,\"#bd3786\"],[0.5555555555555556,\"#d8576b\"],[0.6666666666666666,\"#ed7953\"],[0.7777777777777778,\"#fb9f3a\"],[0.8888888888888888,\"#fdca26\"],[1.0,\"#f0f921\"]]}],\"contourcarpet\":[{\"type\":\"contourcarpet\",\"colorbar\":{\"outlinewidth\":0,\"ticks\":\"\"}}],\"contour\":[{\"type\":\"contour\",\"colorbar\":{\"outlinewidth\":0,\"ticks\":\"\"},\"colorscale\":[[0.0,\"#0d0887\"],[0.1111111111111111,\"#46039f\"],[0.2222222222222222,\"#7201a8\"],[0.3333333333333333,\"#9c179e\"],[0.4444444444444444,\"#bd3786\"],[0.5555555555555556,\"#d8576b\"],[0.6666666666666666,\"#ed7953\"],[0.7777777777777778,\"#fb9f3a\"],[0.8888888888888888,\"#fdca26\"],[1.0,\"#f0f921\"]]}],\"surface\":[{\"type\":\"surface\",\"colorbar\":{\"outlinewidth\":0,\"ticks\":\"\"},\"colorscale\":[[0.0,\"#0d0887\"],[0.1111111111111111,\"#46039f\"],[0.2222222222222222,\"#7201a8\"],[0.3333333333333333,\"#9c179e\"],[0.4444444444444444,\"#bd3786\"],[0.5555555555555556,\"#d8576b\"],[0.6666666666666666,\"#ed7953\"],[0.7777777777777778,\"#fb9f3a\"],[0.8888888888888888,\"#fdca26\"],[1.0,\"#f0f921\"]]}],\"mesh3d\":[{\"type\":\"mesh3d\",\"colorbar\":{\"outlinewidth\":0,\"ticks\":\"\"}}],\"scatter\":[{\"fillpattern\":{\"fillmode\":\"overlay\",\"size\":10,\"solidity\":0.2},\"type\":\"scatter\"}],\"parcoords\":[{\"type\":\"parcoords\",\"line\":{\"colorbar\":{\"outlinewidth\":0,\"ticks\":\"\"}}}],\"scatterpolargl\":[{\"type\":\"scatterpolargl\",\"marker\":{\"colorbar\":{\"outlinewidth\":0,\"ticks\":\"\"}}}],\"bar\":[{\"error_x\":{\"color\":\"#2a3f5f\"},\"error_y\":{\"color\":\"#2a3f5f\"},\"marker\":{\"line\":{\"color\":\"#E5ECF6\",\"width\":0.5},\"pattern\":{\"fillmode\":\"overlay\",\"size\":10,\"solidity\":0.2}},\"type\":\"bar\"}],\"scattergeo\":[{\"type\":\"scattergeo\",\"marker\":{\"colorbar\":{\"outlinewidth\":0,\"ticks\":\"\"}}}],\"scatterpolar\":[{\"type\":\"scatterpolar\",\"marker\":{\"colorbar\":{\"outlinewidth\":0,\"ticks\":\"\"}}}],\"histogram\":[{\"marker\":{\"pattern\":{\"fillmode\":\"overlay\",\"size\":10,\"solidity\":0.2}},\"type\":\"histogram\"}],\"scattergl\":[{\"type\":\"scattergl\",\"marker\":{\"colorbar\":{\"outlinewidth\":0,\"ticks\":\"\"}}}],\"scatter3d\":[{\"type\":\"scatter3d\",\"line\":{\"colorbar\":{\"outlinewidth\":0,\"ticks\":\"\"}},\"marker\":{\"colorbar\":{\"outlinewidth\":0,\"ticks\":\"\"}}}],\"scattermapbox\":[{\"type\":\"scattermapbox\",\"marker\":{\"colorbar\":{\"outlinewidth\":0,\"ticks\":\"\"}}}],\"scatterternary\":[{\"type\":\"scatterternary\",\"marker\":{\"colorbar\":{\"outlinewidth\":0,\"ticks\":\"\"}}}],\"scattercarpet\":[{\"type\":\"scattercarpet\",\"marker\":{\"colorbar\":{\"outlinewidth\":0,\"ticks\":\"\"}}}],\"carpet\":[{\"aaxis\":{\"endlinecolor\":\"#2a3f5f\",\"gridcolor\":\"white\",\"linecolor\":\"white\",\"minorgridcolor\":\"white\",\"startlinecolor\":\"#2a3f5f\"},\"baxis\":{\"endlinecolor\":\"#2a3f5f\",\"gridcolor\":\"white\",\"linecolor\":\"white\",\"minorgridcolor\":\"white\",\"startlinecolor\":\"#2a3f5f\"},\"type\":\"carpet\"}],\"table\":[{\"cells\":{\"fill\":{\"color\":\"#EBF0F8\"},\"line\":{\"color\":\"white\"}},\"header\":{\"fill\":{\"color\":\"#C8D4E3\"},\"line\":{\"color\":\"white\"}},\"type\":\"table\"}],\"barpolar\":[{\"marker\":{\"line\":{\"color\":\"#E5ECF6\",\"width\":0.5},\"pattern\":{\"fillmode\":\"overlay\",\"size\":10,\"solidity\":0.2}},\"type\":\"barpolar\"}],\"pie\":[{\"automargin\":true,\"type\":\"pie\"}]},\"layout\":{\"autotypenumbers\":\"strict\",\"colorway\":[\"#636efa\",\"#EF553B\",\"#00cc96\",\"#ab63fa\",\"#FFA15A\",\"#19d3f3\",\"#FF6692\",\"#B6E880\",\"#FF97FF\",\"#FECB52\"],\"font\":{\"color\":\"#2a3f5f\"},\"hovermode\":\"closest\",\"hoverlabel\":{\"align\":\"left\"},\"paper_bgcolor\":\"white\",\"plot_bgcolor\":\"#E5ECF6\",\"polar\":{\"bgcolor\":\"#E5ECF6\",\"angularaxis\":{\"gridcolor\":\"white\",\"linecolor\":\"white\",\"ticks\":\"\"},\"radialaxis\":{\"gridcolor\":\"white\",\"linecolor\":\"white\",\"ticks\":\"\"}},\"ternary\":{\"bgcolor\":\"#E5ECF6\",\"aaxis\":{\"gridcolor\":\"white\",\"linecolor\":\"white\",\"ticks\":\"\"},\"baxis\":{\"gridcolor\":\"white\",\"linecolor\":\"white\",\"ticks\":\"\"},\"caxis\":{\"gridcolor\":\"white\",\"linecolor\":\"white\",\"ticks\":\"\"}},\"coloraxis\":{\"colorbar\":{\"outlinewidth\":0,\"ticks\":\"\"}},\"colorscale\":{\"sequential\":[[0.0,\"#0d0887\"],[0.1111111111111111,\"#46039f\"],[0.2222222222222222,\"#7201a8\"],[0.3333333333333333,\"#9c179e\"],[0.4444444444444444,\"#bd3786\"],[0.5555555555555556,\"#d8576b\"],[0.6666666666666666,\"#ed7953\"],[0.7777777777777778,\"#fb9f3a\"],[0.8888888888888888,\"#fdca26\"],[1.0,\"#f0f921\"]],\"sequentialminus\":[[0.0,\"#0d0887\"],[0.1111111111111111,\"#46039f\"],[0.2222222222222222,\"#7201a8\"],[0.3333333333333333,\"#9c179e\"],[0.4444444444444444,\"#bd3786\"],[0.5555555555555556,\"#d8576b\"],[0.6666666666666666,\"#ed7953\"],[0.7777777777777778,\"#fb9f3a\"],[0.8888888888888888,\"#fdca26\"],[1.0,\"#f0f921\"]],\"diverging\":[[0,\"#8e0152\"],[0.1,\"#c51b7d\"],[0.2,\"#de77ae\"],[0.3,\"#f1b6da\"],[0.4,\"#fde0ef\"],[0.5,\"#f7f7f7\"],[0.6,\"#e6f5d0\"],[0.7,\"#b8e186\"],[0.8,\"#7fbc41\"],[0.9,\"#4d9221\"],[1,\"#276419\"]]},\"xaxis\":{\"gridcolor\":\"white\",\"linecolor\":\"white\",\"ticks\":\"\",\"title\":{\"standoff\":15},\"zerolinecolor\":\"white\",\"automargin\":true,\"zerolinewidth\":2},\"yaxis\":{\"gridcolor\":\"white\",\"linecolor\":\"white\",\"ticks\":\"\",\"title\":{\"standoff\":15},\"zerolinecolor\":\"white\",\"automargin\":true,\"zerolinewidth\":2},\"scene\":{\"xaxis\":{\"backgroundcolor\":\"#E5ECF6\",\"gridcolor\":\"white\",\"linecolor\":\"white\",\"showbackground\":true,\"ticks\":\"\",\"zerolinecolor\":\"white\",\"gridwidth\":2},\"yaxis\":{\"backgroundcolor\":\"#E5ECF6\",\"gridcolor\":\"white\",\"linecolor\":\"white\",\"showbackground\":true,\"ticks\":\"\",\"zerolinecolor\":\"white\",\"gridwidth\":2},\"zaxis\":{\"backgroundcolor\":\"#E5ECF6\",\"gridcolor\":\"white\",\"linecolor\":\"white\",\"showbackground\":true,\"ticks\":\"\",\"zerolinecolor\":\"white\",\"gridwidth\":2}},\"shapedefaults\":{\"line\":{\"color\":\"#2a3f5f\"}},\"annotationdefaults\":{\"arrowcolor\":\"#2a3f5f\",\"arrowhead\":0,\"arrowwidth\":1},\"geo\":{\"bgcolor\":\"white\",\"landcolor\":\"#E5ECF6\",\"subunitcolor\":\"white\",\"showland\":true,\"showlakes\":true,\"lakecolor\":\"white\"},\"title\":{\"x\":0.05},\"mapbox\":{\"style\":\"light\"}}},\"legend\":{\"tracegroupgap\":0},\"title\":{\"text\":\"Points Per Game Based on Each Position\"},\"sunburstcolorway\":[\"rgb(210, 251, 212)\",\"rgb(165, 219, 194)\",\"rgb(123, 188, 176)\",\"rgb(85, 156, 158)\",\"rgb(58, 124, 137)\",\"rgb(35, 93, 114)\",\"rgb(18, 63, 90)\"],\"width\":600,\"height\":600},                        {\"responsive\": true}                    ).then(function(){\n",
       "                            \n",
       "var gd = document.getElementById('f7aa91bc-0e12-48b0-bf3c-5cebd7b2cd5a');\n",
       "var x = new MutationObserver(function (mutations, observer) {{\n",
       "        var display = window.getComputedStyle(gd).display;\n",
       "        if (!display || display === 'none') {{\n",
       "            console.log([gd, 'removed!']);\n",
       "            Plotly.purge(gd);\n",
       "            observer.disconnect();\n",
       "        }}\n",
       "}});\n",
       "\n",
       "// Listen for the removal of the full notebook cells\n",
       "var notebookContainer = gd.closest('#notebook-container');\n",
       "if (notebookContainer) {{\n",
       "    x.observe(notebookContainer, {childList: true});\n",
       "}}\n",
       "\n",
       "// Listen for the clearing of the current output cell\n",
       "var outputEl = gd.closest('.output');\n",
       "if (outputEl) {{\n",
       "    x.observe(outputEl, {childList: true});\n",
       "}}\n",
       "\n",
       "                        })                };                });            </script>        </div>"
      ]
     },
     "metadata": {},
     "output_type": "display_data"
    }
   ],
   "source": [
    "def top_5_ppg_pos(group):\n",
    "    return group.sort_values(\"points_per_game\", ascending=False).head(5)\n",
    "pos_ppg = min_20_starts.groupby(\"position\", group_keys=False).apply(top_5_ppg_pos)\n",
    "pos_ppg.reset_index(drop=True, inplace=True)\n",
    "fig = px.sunburst(pos_ppg, path=[\"position\", \"points_per_game\", \"web_name\"],\n",
    "            values=\"points_per_game\",\n",
    "            color=\"position\", color_discrete_sequence=px.colors.sequential.Darkmint,\n",
    "            hover_data = {'cost', 'team', 'total_points'},\n",
    "           title=\"Points Per Game Based on Each Position\")\n",
    "fig.update_layout(width=600, height = 600)\n",
    "fig.show()"
   ]
  },
  {
   "cell_type": "code",
   "execution_count": 13,
   "id": "74dfb24e-8547-4476-a14f-1c705fa2f084",
   "metadata": {},
   "outputs": [
    {
     "data": {
      "text/html": [
       "<div>\n",
       "<style scoped>\n",
       "    .dataframe tbody tr th:only-of-type {\n",
       "        vertical-align: middle;\n",
       "    }\n",
       "\n",
       "    .dataframe tbody tr th {\n",
       "        vertical-align: top;\n",
       "    }\n",
       "\n",
       "    .dataframe thead th {\n",
       "        text-align: right;\n",
       "    }\n",
       "</style>\n",
       "<table border=\"1\" class=\"dataframe\">\n",
       "  <thead>\n",
       "    <tr style=\"text-align: right;\">\n",
       "      <th></th>\n",
       "      <th>id</th>\n",
       "      <th>name</th>\n",
       "      <th>now_cost</th>\n",
       "      <th>cost</th>\n",
       "      <th>position</th>\n",
       "      <th>team</th>\n",
       "      <th>clean_sheets_per_90</th>\n",
       "      <th>threat_rank_type</th>\n",
       "      <th>expected_assists_per_90</th>\n",
       "      <th>expected_assists</th>\n",
       "      <th>...</th>\n",
       "      <th>threat_rank</th>\n",
       "      <th>ep_this</th>\n",
       "      <th>transfers_in</th>\n",
       "      <th>bps</th>\n",
       "      <th>goals_conceded_per_90</th>\n",
       "      <th>selected_by_percent</th>\n",
       "      <th>influence_rank_type</th>\n",
       "      <th>points_per_game_rank_type</th>\n",
       "      <th>clean_sheets</th>\n",
       "      <th>now_cost_rank</th>\n",
       "    </tr>\n",
       "  </thead>\n",
       "  <tbody>\n",
       "    <tr>\n",
       "      <th>6</th>\n",
       "      <td>301</td>\n",
       "      <td>Kevin De Bruyne</td>\n",
       "      <td>121</td>\n",
       "      <td>12.1</td>\n",
       "      <td>MID</td>\n",
       "      <td>Man City</td>\n",
       "      <td>0.37</td>\n",
       "      <td>27</td>\n",
       "      <td>0.51</td>\n",
       "      <td>13.69</td>\n",
       "      <td>...</td>\n",
       "      <td>44</td>\n",
       "      <td>1.7</td>\n",
       "      <td>7222275</td>\n",
       "      <td>742</td>\n",
       "      <td>0.86</td>\n",
       "      <td>25.5</td>\n",
       "      <td>5</td>\n",
       "      <td>4</td>\n",
       "      <td>10</td>\n",
       "      <td>3</td>\n",
       "    </tr>\n",
       "    <tr>\n",
       "      <th>4</th>\n",
       "      <td>283</td>\n",
       "      <td>Mohamed Salah</td>\n",
       "      <td>131</td>\n",
       "      <td>13.1</td>\n",
       "      <td>MID</td>\n",
       "      <td>Liverpool</td>\n",
       "      <td>0.36</td>\n",
       "      <td>1</td>\n",
       "      <td>0.19</td>\n",
       "      <td>7.03</td>\n",
       "      <td>...</td>\n",
       "      <td>3</td>\n",
       "      <td>9.3</td>\n",
       "      <td>6974743</td>\n",
       "      <td>651</td>\n",
       "      <td>1.23</td>\n",
       "      <td>37.2</td>\n",
       "      <td>1</td>\n",
       "      <td>1</td>\n",
       "      <td>13</td>\n",
       "      <td>1</td>\n",
       "    </tr>\n",
       "    <tr>\n",
       "      <th>30</th>\n",
       "      <td>111</td>\n",
       "      <td>Leandro Trossard</td>\n",
       "      <td>66</td>\n",
       "      <td>6.6</td>\n",
       "      <td>MID</td>\n",
       "      <td>Arsenal</td>\n",
       "      <td>0.32</td>\n",
       "      <td>11</td>\n",
       "      <td>0.24</td>\n",
       "      <td>6.02</td>\n",
       "      <td>...</td>\n",
       "      <td>22</td>\n",
       "      <td>2.6</td>\n",
       "      <td>5012558</td>\n",
       "      <td>494</td>\n",
       "      <td>1.53</td>\n",
       "      <td>7.2</td>\n",
       "      <td>28</td>\n",
       "      <td>14</td>\n",
       "      <td>8</td>\n",
       "      <td>49</td>\n",
       "    </tr>\n",
       "    <tr>\n",
       "      <th>37</th>\n",
       "      <td>303</td>\n",
       "      <td>Riyad Mahrez</td>\n",
       "      <td>75</td>\n",
       "      <td>7.5</td>\n",
       "      <td>MID</td>\n",
       "      <td>Man City</td>\n",
       "      <td>0.28</td>\n",
       "      <td>34</td>\n",
       "      <td>0.25</td>\n",
       "      <td>5.22</td>\n",
       "      <td>...</td>\n",
       "      <td>57</td>\n",
       "      <td>5.9</td>\n",
       "      <td>2792148</td>\n",
       "      <td>470</td>\n",
       "      <td>1.08</td>\n",
       "      <td>8.9</td>\n",
       "      <td>44</td>\n",
       "      <td>20</td>\n",
       "      <td>6</td>\n",
       "      <td>26</td>\n",
       "    </tr>\n",
       "    <tr>\n",
       "      <th>11</th>\n",
       "      <td>13</td>\n",
       "      <td>Bukayo Saka</td>\n",
       "      <td>80</td>\n",
       "      <td>8.0</td>\n",
       "      <td>MID</td>\n",
       "      <td>Arsenal</td>\n",
       "      <td>0.34</td>\n",
       "      <td>4</td>\n",
       "      <td>0.17</td>\n",
       "      <td>5.97</td>\n",
       "      <td>...</td>\n",
       "      <td>9</td>\n",
       "      <td>2.6</td>\n",
       "      <td>6134396</td>\n",
       "      <td>678</td>\n",
       "      <td>1.19</td>\n",
       "      <td>25.6</td>\n",
       "      <td>2</td>\n",
       "      <td>6</td>\n",
       "      <td>12</td>\n",
       "      <td>18</td>\n",
       "    </tr>\n",
       "  </tbody>\n",
       "</table>\n",
       "<p>5 rows × 76 columns</p>\n",
       "</div>"
      ],
      "text/plain": [
       "     id              name  now_cost  cost position       team  \\\n",
       "6   301   Kevin De Bruyne       121  12.1      MID   Man City   \n",
       "4   283     Mohamed Salah       131  13.1      MID  Liverpool   \n",
       "30  111  Leandro Trossard        66   6.6      MID    Arsenal   \n",
       "37  303      Riyad Mahrez        75   7.5      MID   Man City   \n",
       "11   13       Bukayo Saka        80   8.0      MID    Arsenal   \n",
       "\n",
       "    clean_sheets_per_90  threat_rank_type  expected_assists_per_90  \\\n",
       "6                  0.37                27                     0.51   \n",
       "4                  0.36                 1                     0.19   \n",
       "30                 0.32                11                     0.24   \n",
       "37                 0.28                34                     0.25   \n",
       "11                 0.34                 4                     0.17   \n",
       "\n",
       "    expected_assists  ...  threat_rank  ep_this  transfers_in  bps  \\\n",
       "6              13.69  ...           44      1.7       7222275  742   \n",
       "4               7.03  ...            3      9.3       6974743  651   \n",
       "30              6.02  ...           22      2.6       5012558  494   \n",
       "37              5.22  ...           57      5.9       2792148  470   \n",
       "11              5.97  ...            9      2.6       6134396  678   \n",
       "\n",
       "    goals_conceded_per_90  selected_by_percent  influence_rank_type  \\\n",
       "6                    0.86                 25.5                    5   \n",
       "4                    1.23                 37.2                    1   \n",
       "30                   1.53                  7.2                   28   \n",
       "37                   1.08                  8.9                   44   \n",
       "11                   1.19                 25.6                    2   \n",
       "\n",
       "    points_per_game_rank_type  clean_sheets  now_cost_rank  \n",
       "6                           4            10              3  \n",
       "4                           1            13              1  \n",
       "30                         14             8             49  \n",
       "37                         20             6             26  \n",
       "11                          6            12             18  \n",
       "\n",
       "[5 rows x 76 columns]"
      ]
     },
     "execution_count": 13,
     "metadata": {},
     "output_type": "execute_result"
    }
   ],
   "source": [
    "top_assists = fpl_avg_players.sort_values(by='assists', ascending=False).head(10)\n",
    "top_assists.head()"
   ]
  },
  {
   "cell_type": "code",
   "execution_count": 14,
   "id": "fa9b4bc2-ec16-45fe-8a59-76e70e6e351a",
   "metadata": {},
   "outputs": [
    {
     "data": {
      "application/vnd.plotly.v1+json": {
       "config": {
        "plotlyServerURL": "https://plot.ly"
       },
       "data": [
        {
         "branchvalues": "total",
         "customdata": [
          [
           6.74
          ],
          [
           5.9
          ],
          [
           6.420000000000001
          ],
          [
           9.26
          ],
          [
           5.97
          ],
          [
           6.06
          ],
          [
           5.22
          ],
          [
           6.02
          ],
          [
           7.03
          ],
          [
           13.69
          ],
          [
           5.97
          ],
          [
           6.74
          ],
          [
           13.69
          ],
          [
           6.02
          ],
          [
           6.420000000000001
          ],
          [
           7.03
          ],
          [
           6.06
          ],
          [
           5.22
          ],
          [
           5.9
          ],
          [
           9.26
          ]
         ],
         "domain": {
          "x": [
           0,
           1
          ],
          "y": [
           0,
           1
          ]
         },
         "hovertemplate": "labels=%{label}<br>Assists=%{value}<br>parent=%{parent}<br>id=%{id}<br>Expected Assists=%{color}<extra></extra>",
         "ids": [
          "Jack Grealish/10",
          "Solly March/10",
          "Michael Olise/11",
          "Trent Alexander-Arnold/11",
          "Bukayo Saka/12",
          "Morgan Gibbs-White/12",
          "Riyad Mahrez/12",
          "Leandro Trossard/13",
          "Mohamed Salah/13",
          "Kevin De Bruyne/18",
          "Bukayo Saka",
          "Jack Grealish",
          "Kevin De Bruyne",
          "Leandro Trossard",
          "Michael Olise",
          "Mohamed Salah",
          "Morgan Gibbs-White",
          "Riyad Mahrez",
          "Solly March",
          "Trent Alexander-Arnold"
         ],
         "labels": [
          "10",
          "10",
          "11",
          "11",
          "12",
          "12",
          "12",
          "13",
          "13",
          "18",
          "Bukayo Saka",
          "Jack Grealish",
          "Kevin De Bruyne",
          "Leandro Trossard",
          "Michael Olise",
          "Mohamed Salah",
          "Morgan Gibbs-White",
          "Riyad Mahrez",
          "Solly March",
          "Trent Alexander-Arnold"
         ],
         "marker": {
          "coloraxis": "coloraxis",
          "colors": [
           6.74,
           5.9,
           6.420000000000001,
           9.26,
           5.97,
           6.06,
           5.22,
           6.02,
           7.03,
           13.69,
           5.97,
           6.74,
           13.69,
           6.02,
           6.420000000000001,
           7.03,
           6.06,
           5.22,
           5.9,
           9.26
          ]
         },
         "name": "",
         "parents": [
          "Jack Grealish",
          "Solly March",
          "Michael Olise",
          "Trent Alexander-Arnold",
          "Bukayo Saka",
          "Morgan Gibbs-White",
          "Riyad Mahrez",
          "Leandro Trossard",
          "Mohamed Salah",
          "Kevin De Bruyne",
          "",
          "",
          "",
          "",
          "",
          "",
          "",
          "",
          "",
          ""
         ],
         "type": "treemap",
         "values": [
          10,
          10,
          11,
          11,
          12,
          12,
          12,
          13,
          13,
          18,
          12,
          10,
          18,
          13,
          11,
          13,
          12,
          12,
          10,
          11
         ]
        }
       ],
       "layout": {
        "autosize": true,
        "coloraxis": {
         "colorbar": {
          "title": {
           "text": "Expected Assists"
          }
         },
         "colorscale": [
          [
           0,
           "#0d0887"
          ],
          [
           0.1111111111111111,
           "#46039f"
          ],
          [
           0.2222222222222222,
           "#7201a8"
          ],
          [
           0.3333333333333333,
           "#9c179e"
          ],
          [
           0.4444444444444444,
           "#bd3786"
          ],
          [
           0.5555555555555556,
           "#d8576b"
          ],
          [
           0.6666666666666666,
           "#ed7953"
          ],
          [
           0.7777777777777778,
           "#fb9f3a"
          ],
          [
           0.8888888888888888,
           "#fdca26"
          ],
          [
           1,
           "#f0f921"
          ]
         ]
        },
        "legend": {
         "tracegroupgap": 0
        },
        "template": {
         "data": {
          "bar": [
           {
            "error_x": {
             "color": "#2a3f5f"
            },
            "error_y": {
             "color": "#2a3f5f"
            },
            "marker": {
             "line": {
              "color": "#E5ECF6",
              "width": 0.5
             },
             "pattern": {
              "fillmode": "overlay",
              "size": 10,
              "solidity": 0.2
             }
            },
            "type": "bar"
           }
          ],
          "barpolar": [
           {
            "marker": {
             "line": {
              "color": "#E5ECF6",
              "width": 0.5
             },
             "pattern": {
              "fillmode": "overlay",
              "size": 10,
              "solidity": 0.2
             }
            },
            "type": "barpolar"
           }
          ],
          "carpet": [
           {
            "aaxis": {
             "endlinecolor": "#2a3f5f",
             "gridcolor": "white",
             "linecolor": "white",
             "minorgridcolor": "white",
             "startlinecolor": "#2a3f5f"
            },
            "baxis": {
             "endlinecolor": "#2a3f5f",
             "gridcolor": "white",
             "linecolor": "white",
             "minorgridcolor": "white",
             "startlinecolor": "#2a3f5f"
            },
            "type": "carpet"
           }
          ],
          "choropleth": [
           {
            "colorbar": {
             "outlinewidth": 0,
             "ticks": ""
            },
            "type": "choropleth"
           }
          ],
          "contour": [
           {
            "colorbar": {
             "outlinewidth": 0,
             "ticks": ""
            },
            "colorscale": [
             [
              0,
              "#0d0887"
             ],
             [
              0.1111111111111111,
              "#46039f"
             ],
             [
              0.2222222222222222,
              "#7201a8"
             ],
             [
              0.3333333333333333,
              "#9c179e"
             ],
             [
              0.4444444444444444,
              "#bd3786"
             ],
             [
              0.5555555555555556,
              "#d8576b"
             ],
             [
              0.6666666666666666,
              "#ed7953"
             ],
             [
              0.7777777777777778,
              "#fb9f3a"
             ],
             [
              0.8888888888888888,
              "#fdca26"
             ],
             [
              1,
              "#f0f921"
             ]
            ],
            "type": "contour"
           }
          ],
          "contourcarpet": [
           {
            "colorbar": {
             "outlinewidth": 0,
             "ticks": ""
            },
            "type": "contourcarpet"
           }
          ],
          "heatmap": [
           {
            "colorbar": {
             "outlinewidth": 0,
             "ticks": ""
            },
            "colorscale": [
             [
              0,
              "#0d0887"
             ],
             [
              0.1111111111111111,
              "#46039f"
             ],
             [
              0.2222222222222222,
              "#7201a8"
             ],
             [
              0.3333333333333333,
              "#9c179e"
             ],
             [
              0.4444444444444444,
              "#bd3786"
             ],
             [
              0.5555555555555556,
              "#d8576b"
             ],
             [
              0.6666666666666666,
              "#ed7953"
             ],
             [
              0.7777777777777778,
              "#fb9f3a"
             ],
             [
              0.8888888888888888,
              "#fdca26"
             ],
             [
              1,
              "#f0f921"
             ]
            ],
            "type": "heatmap"
           }
          ],
          "heatmapgl": [
           {
            "colorbar": {
             "outlinewidth": 0,
             "ticks": ""
            },
            "colorscale": [
             [
              0,
              "#0d0887"
             ],
             [
              0.1111111111111111,
              "#46039f"
             ],
             [
              0.2222222222222222,
              "#7201a8"
             ],
             [
              0.3333333333333333,
              "#9c179e"
             ],
             [
              0.4444444444444444,
              "#bd3786"
             ],
             [
              0.5555555555555556,
              "#d8576b"
             ],
             [
              0.6666666666666666,
              "#ed7953"
             ],
             [
              0.7777777777777778,
              "#fb9f3a"
             ],
             [
              0.8888888888888888,
              "#fdca26"
             ],
             [
              1,
              "#f0f921"
             ]
            ],
            "type": "heatmapgl"
           }
          ],
          "histogram": [
           {
            "marker": {
             "pattern": {
              "fillmode": "overlay",
              "size": 10,
              "solidity": 0.2
             }
            },
            "type": "histogram"
           }
          ],
          "histogram2d": [
           {
            "colorbar": {
             "outlinewidth": 0,
             "ticks": ""
            },
            "colorscale": [
             [
              0,
              "#0d0887"
             ],
             [
              0.1111111111111111,
              "#46039f"
             ],
             [
              0.2222222222222222,
              "#7201a8"
             ],
             [
              0.3333333333333333,
              "#9c179e"
             ],
             [
              0.4444444444444444,
              "#bd3786"
             ],
             [
              0.5555555555555556,
              "#d8576b"
             ],
             [
              0.6666666666666666,
              "#ed7953"
             ],
             [
              0.7777777777777778,
              "#fb9f3a"
             ],
             [
              0.8888888888888888,
              "#fdca26"
             ],
             [
              1,
              "#f0f921"
             ]
            ],
            "type": "histogram2d"
           }
          ],
          "histogram2dcontour": [
           {
            "colorbar": {
             "outlinewidth": 0,
             "ticks": ""
            },
            "colorscale": [
             [
              0,
              "#0d0887"
             ],
             [
              0.1111111111111111,
              "#46039f"
             ],
             [
              0.2222222222222222,
              "#7201a8"
             ],
             [
              0.3333333333333333,
              "#9c179e"
             ],
             [
              0.4444444444444444,
              "#bd3786"
             ],
             [
              0.5555555555555556,
              "#d8576b"
             ],
             [
              0.6666666666666666,
              "#ed7953"
             ],
             [
              0.7777777777777778,
              "#fb9f3a"
             ],
             [
              0.8888888888888888,
              "#fdca26"
             ],
             [
              1,
              "#f0f921"
             ]
            ],
            "type": "histogram2dcontour"
           }
          ],
          "mesh3d": [
           {
            "colorbar": {
             "outlinewidth": 0,
             "ticks": ""
            },
            "type": "mesh3d"
           }
          ],
          "parcoords": [
           {
            "line": {
             "colorbar": {
              "outlinewidth": 0,
              "ticks": ""
             }
            },
            "type": "parcoords"
           }
          ],
          "pie": [
           {
            "automargin": true,
            "type": "pie"
           }
          ],
          "scatter": [
           {
            "fillpattern": {
             "fillmode": "overlay",
             "size": 10,
             "solidity": 0.2
            },
            "type": "scatter"
           }
          ],
          "scatter3d": [
           {
            "line": {
             "colorbar": {
              "outlinewidth": 0,
              "ticks": ""
             }
            },
            "marker": {
             "colorbar": {
              "outlinewidth": 0,
              "ticks": ""
             }
            },
            "type": "scatter3d"
           }
          ],
          "scattercarpet": [
           {
            "marker": {
             "colorbar": {
              "outlinewidth": 0,
              "ticks": ""
             }
            },
            "type": "scattercarpet"
           }
          ],
          "scattergeo": [
           {
            "marker": {
             "colorbar": {
              "outlinewidth": 0,
              "ticks": ""
             }
            },
            "type": "scattergeo"
           }
          ],
          "scattergl": [
           {
            "marker": {
             "colorbar": {
              "outlinewidth": 0,
              "ticks": ""
             }
            },
            "type": "scattergl"
           }
          ],
          "scattermapbox": [
           {
            "marker": {
             "colorbar": {
              "outlinewidth": 0,
              "ticks": ""
             }
            },
            "type": "scattermapbox"
           }
          ],
          "scatterpolar": [
           {
            "marker": {
             "colorbar": {
              "outlinewidth": 0,
              "ticks": ""
             }
            },
            "type": "scatterpolar"
           }
          ],
          "scatterpolargl": [
           {
            "marker": {
             "colorbar": {
              "outlinewidth": 0,
              "ticks": ""
             }
            },
            "type": "scatterpolargl"
           }
          ],
          "scatterternary": [
           {
            "marker": {
             "colorbar": {
              "outlinewidth": 0,
              "ticks": ""
             }
            },
            "type": "scatterternary"
           }
          ],
          "surface": [
           {
            "colorbar": {
             "outlinewidth": 0,
             "ticks": ""
            },
            "colorscale": [
             [
              0,
              "#0d0887"
             ],
             [
              0.1111111111111111,
              "#46039f"
             ],
             [
              0.2222222222222222,
              "#7201a8"
             ],
             [
              0.3333333333333333,
              "#9c179e"
             ],
             [
              0.4444444444444444,
              "#bd3786"
             ],
             [
              0.5555555555555556,
              "#d8576b"
             ],
             [
              0.6666666666666666,
              "#ed7953"
             ],
             [
              0.7777777777777778,
              "#fb9f3a"
             ],
             [
              0.8888888888888888,
              "#fdca26"
             ],
             [
              1,
              "#f0f921"
             ]
            ],
            "type": "surface"
           }
          ],
          "table": [
           {
            "cells": {
             "fill": {
              "color": "#EBF0F8"
             },
             "line": {
              "color": "white"
             }
            },
            "header": {
             "fill": {
              "color": "#C8D4E3"
             },
             "line": {
              "color": "white"
             }
            },
            "type": "table"
           }
          ]
         },
         "layout": {
          "annotationdefaults": {
           "arrowcolor": "#2a3f5f",
           "arrowhead": 0,
           "arrowwidth": 1
          },
          "autotypenumbers": "strict",
          "coloraxis": {
           "colorbar": {
            "outlinewidth": 0,
            "ticks": ""
           }
          },
          "colorscale": {
           "diverging": [
            [
             0,
             "#8e0152"
            ],
            [
             0.1,
             "#c51b7d"
            ],
            [
             0.2,
             "#de77ae"
            ],
            [
             0.3,
             "#f1b6da"
            ],
            [
             0.4,
             "#fde0ef"
            ],
            [
             0.5,
             "#f7f7f7"
            ],
            [
             0.6,
             "#e6f5d0"
            ],
            [
             0.7,
             "#b8e186"
            ],
            [
             0.8,
             "#7fbc41"
            ],
            [
             0.9,
             "#4d9221"
            ],
            [
             1,
             "#276419"
            ]
           ],
           "sequential": [
            [
             0,
             "#0d0887"
            ],
            [
             0.1111111111111111,
             "#46039f"
            ],
            [
             0.2222222222222222,
             "#7201a8"
            ],
            [
             0.3333333333333333,
             "#9c179e"
            ],
            [
             0.4444444444444444,
             "#bd3786"
            ],
            [
             0.5555555555555556,
             "#d8576b"
            ],
            [
             0.6666666666666666,
             "#ed7953"
            ],
            [
             0.7777777777777778,
             "#fb9f3a"
            ],
            [
             0.8888888888888888,
             "#fdca26"
            ],
            [
             1,
             "#f0f921"
            ]
           ],
           "sequentialminus": [
            [
             0,
             "#0d0887"
            ],
            [
             0.1111111111111111,
             "#46039f"
            ],
            [
             0.2222222222222222,
             "#7201a8"
            ],
            [
             0.3333333333333333,
             "#9c179e"
            ],
            [
             0.4444444444444444,
             "#bd3786"
            ],
            [
             0.5555555555555556,
             "#d8576b"
            ],
            [
             0.6666666666666666,
             "#ed7953"
            ],
            [
             0.7777777777777778,
             "#fb9f3a"
            ],
            [
             0.8888888888888888,
             "#fdca26"
            ],
            [
             1,
             "#f0f921"
            ]
           ]
          },
          "colorway": [
           "#636efa",
           "#EF553B",
           "#00cc96",
           "#ab63fa",
           "#FFA15A",
           "#19d3f3",
           "#FF6692",
           "#B6E880",
           "#FF97FF",
           "#FECB52"
          ],
          "font": {
           "color": "#2a3f5f"
          },
          "geo": {
           "bgcolor": "white",
           "lakecolor": "white",
           "landcolor": "#E5ECF6",
           "showlakes": true,
           "showland": true,
           "subunitcolor": "white"
          },
          "hoverlabel": {
           "align": "left"
          },
          "hovermode": "closest",
          "mapbox": {
           "style": "light"
          },
          "paper_bgcolor": "white",
          "plot_bgcolor": "#E5ECF6",
          "polar": {
           "angularaxis": {
            "gridcolor": "white",
            "linecolor": "white",
            "ticks": ""
           },
           "bgcolor": "#E5ECF6",
           "radialaxis": {
            "gridcolor": "white",
            "linecolor": "white",
            "ticks": ""
           }
          },
          "scene": {
           "xaxis": {
            "backgroundcolor": "#E5ECF6",
            "gridcolor": "white",
            "gridwidth": 2,
            "linecolor": "white",
            "showbackground": true,
            "ticks": "",
            "zerolinecolor": "white"
           },
           "yaxis": {
            "backgroundcolor": "#E5ECF6",
            "gridcolor": "white",
            "gridwidth": 2,
            "linecolor": "white",
            "showbackground": true,
            "ticks": "",
            "zerolinecolor": "white"
           },
           "zaxis": {
            "backgroundcolor": "#E5ECF6",
            "gridcolor": "white",
            "gridwidth": 2,
            "linecolor": "white",
            "showbackground": true,
            "ticks": "",
            "zerolinecolor": "white"
           }
          },
          "shapedefaults": {
           "line": {
            "color": "#2a3f5f"
           }
          },
          "ternary": {
           "aaxis": {
            "gridcolor": "white",
            "linecolor": "white",
            "ticks": ""
           },
           "baxis": {
            "gridcolor": "white",
            "linecolor": "white",
            "ticks": ""
           },
           "bgcolor": "#E5ECF6",
           "caxis": {
            "gridcolor": "white",
            "linecolor": "white",
            "ticks": ""
           }
          },
          "title": {
           "x": 0.05
          },
          "xaxis": {
           "automargin": true,
           "gridcolor": "white",
           "linecolor": "white",
           "ticks": "",
           "title": {
            "standoff": 15
           },
           "zerolinecolor": "white",
           "zerolinewidth": 2
          },
          "yaxis": {
           "automargin": true,
           "gridcolor": "white",
           "linecolor": "white",
           "ticks": "",
           "title": {
            "standoff": 15
           },
           "zerolinecolor": "white",
           "zerolinewidth": 2
          }
         }
        },
        "title": {
         "text": "Relationship between Expected Assists and Assists"
        }
       }
      },
      "image/png": "[encoded data removed]",
      "text/html": [
       "<div>                            <div id=\"eb0d9575-e2ce-4d18-b666-a1d129f60c30\" class=\"plotly-graph-div\" style=\"height:525px; width:100%;\"></div>            <script type=\"text/javascript\">                require([\"plotly\"], function(Plotly) {                    window.PLOTLYENV=window.PLOTLYENV || {};                                    if (document.getElementById(\"eb0d9575-e2ce-4d18-b666-a1d129f60c30\")) {                    Plotly.newPlot(                        \"eb0d9575-e2ce-4d18-b666-a1d129f60c30\",                        [{\"branchvalues\":\"total\",\"customdata\":[[6.74],[5.9],[6.420000000000001],[9.26],[5.97],[6.06],[5.22],[6.02],[7.03],[13.69],[5.97],[6.74],[13.69],[6.02],[6.420000000000001],[7.03],[6.06],[5.22],[5.9],[9.26]],\"domain\":{\"x\":[0.0,1.0],\"y\":[0.0,1.0]},\"hovertemplate\":\"labels=%{label}\\u003cbr\\u003eAssists=%{value}\\u003cbr\\u003eparent=%{parent}\\u003cbr\\u003eid=%{id}\\u003cbr\\u003eExpected Assists=%{color}\\u003cextra\\u003e\\u003c\\u002fextra\\u003e\",\"ids\":[\"Jack Grealish\\u002f10\",\"Solly March\\u002f10\",\"Michael Olise\\u002f11\",\"Trent Alexander-Arnold\\u002f11\",\"Bukayo Saka\\u002f12\",\"Morgan Gibbs-White\\u002f12\",\"Riyad Mahrez\\u002f12\",\"Leandro Trossard\\u002f13\",\"Mohamed Salah\\u002f13\",\"Kevin De Bruyne\\u002f18\",\"Bukayo Saka\",\"Jack Grealish\",\"Kevin De Bruyne\",\"Leandro Trossard\",\"Michael Olise\",\"Mohamed Salah\",\"Morgan Gibbs-White\",\"Riyad Mahrez\",\"Solly March\",\"Trent Alexander-Arnold\"],\"labels\":[\"10\",\"10\",\"11\",\"11\",\"12\",\"12\",\"12\",\"13\",\"13\",\"18\",\"Bukayo Saka\",\"Jack Grealish\",\"Kevin De Bruyne\",\"Leandro Trossard\",\"Michael Olise\",\"Mohamed Salah\",\"Morgan Gibbs-White\",\"Riyad Mahrez\",\"Solly March\",\"Trent Alexander-Arnold\"],\"marker\":{\"coloraxis\":\"coloraxis\",\"colors\":[6.74,5.9,6.420000000000001,9.26,5.97,6.06,5.22,6.02,7.03,13.69,5.97,6.74,13.69,6.02,6.420000000000001,7.03,6.06,5.22,5.9,9.26]},\"name\":\"\",\"parents\":[\"Jack Grealish\",\"Solly March\",\"Michael Olise\",\"Trent Alexander-Arnold\",\"Bukayo Saka\",\"Morgan Gibbs-White\",\"Riyad Mahrez\",\"Leandro Trossard\",\"Mohamed Salah\",\"Kevin De Bruyne\",\"\",\"\",\"\",\"\",\"\",\"\",\"\",\"\",\"\",\"\"],\"values\":[10,10,11,11,12,12,12,13,13,18,12,10,18,13,11,13,12,12,10,11],\"type\":\"treemap\"}],                        {\"template\":{\"data\":{\"histogram2dcontour\":[{\"type\":\"histogram2dcontour\",\"colorbar\":{\"outlinewidth\":0,\"ticks\":\"\"},\"colorscale\":[[0.0,\"#0d0887\"],[0.1111111111111111,\"#46039f\"],[0.2222222222222222,\"#7201a8\"],[0.3333333333333333,\"#9c179e\"],[0.4444444444444444,\"#bd3786\"],[0.5555555555555556,\"#d8576b\"],[0.6666666666666666,\"#ed7953\"],[0.7777777777777778,\"#fb9f3a\"],[0.8888888888888888,\"#fdca26\"],[1.0,\"#f0f921\"]]}],\"choropleth\":[{\"type\":\"choropleth\",\"colorbar\":{\"outlinewidth\":0,\"ticks\":\"\"}}],\"histogram2d\":[{\"type\":\"histogram2d\",\"colorbar\":{\"outlinewidth\":0,\"ticks\":\"\"},\"colorscale\":[[0.0,\"#0d0887\"],[0.1111111111111111,\"#46039f\"],[0.2222222222222222,\"#7201a8\"],[0.3333333333333333,\"#9c179e\"],[0.4444444444444444,\"#bd3786\"],[0.5555555555555556,\"#d8576b\"],[0.6666666666666666,\"#ed7953\"],[0.7777777777777778,\"#fb9f3a\"],[0.8888888888888888,\"#fdca26\"],[1.0,\"#f0f921\"]]}],\"heatmap\":[{\"type\":\"heatmap\",\"colorbar\":{\"outlinewidth\":0,\"ticks\":\"\"},\"colorscale\":[[0.0,\"#0d0887\"],[0.1111111111111111,\"#46039f\"],[0.2222222222222222,\"#7201a8\"],[0.3333333333333333,\"#9c179e\"],[0.4444444444444444,\"#bd3786\"],[0.5555555555555556,\"#d8576b\"],[0.6666666666666666,\"#ed7953\"],[0.7777777777777778,\"#fb9f3a\"],[0.8888888888888888,\"#fdca26\"],[1.0,\"#f0f921\"]]}],\"heatmapgl\":[{\"type\":\"heatmapgl\",\"colorbar\":{\"outlinewidth\":0,\"ticks\":\"\"},\"colorscale\":[[0.0,\"#0d0887\"],[0.1111111111111111,\"#46039f\"],[0.2222222222222222,\"#7201a8\"],[0.3333333333333333,\"#9c179e\"],[0.4444444444444444,\"#bd3786\"],[0.5555555555555556,\"#d8576b\"],[0.6666666666666666,\"#ed7953\"],[0.7777777777777778,\"#fb9f3a\"],[0.8888888888888888,\"#fdca26\"],[1.0,\"#f0f921\"]]}],\"contourcarpet\":[{\"type\":\"contourcarpet\",\"colorbar\":{\"outlinewidth\":0,\"ticks\":\"\"}}],\"contour\":[{\"type\":\"contour\",\"colorbar\":{\"outlinewidth\":0,\"ticks\":\"\"},\"colorscale\":[[0.0,\"#0d0887\"],[0.1111111111111111,\"#46039f\"],[0.2222222222222222,\"#7201a8\"],[0.3333333333333333,\"#9c179e\"],[0.4444444444444444,\"#bd3786\"],[0.5555555555555556,\"#d8576b\"],[0.6666666666666666,\"#ed7953\"],[0.7777777777777778,\"#fb9f3a\"],[0.8888888888888888,\"#fdca26\"],[1.0,\"#f0f921\"]]}],\"surface\":[{\"type\":\"surface\",\"colorbar\":{\"outlinewidth\":0,\"ticks\":\"\"},\"colorscale\":[[0.0,\"#0d0887\"],[0.1111111111111111,\"#46039f\"],[0.2222222222222222,\"#7201a8\"],[0.3333333333333333,\"#9c179e\"],[0.4444444444444444,\"#bd3786\"],[0.5555555555555556,\"#d8576b\"],[0.6666666666666666,\"#ed7953\"],[0.7777777777777778,\"#fb9f3a\"],[0.8888888888888888,\"#fdca26\"],[1.0,\"#f0f921\"]]}],\"mesh3d\":[{\"type\":\"mesh3d\",\"colorbar\":{\"outlinewidth\":0,\"ticks\":\"\"}}],\"scatter\":[{\"fillpattern\":{\"fillmode\":\"overlay\",\"size\":10,\"solidity\":0.2},\"type\":\"scatter\"}],\"parcoords\":[{\"type\":\"parcoords\",\"line\":{\"colorbar\":{\"outlinewidth\":0,\"ticks\":\"\"}}}],\"scatterpolargl\":[{\"type\":\"scatterpolargl\",\"marker\":{\"colorbar\":{\"outlinewidth\":0,\"ticks\":\"\"}}}],\"bar\":[{\"error_x\":{\"color\":\"#2a3f5f\"},\"error_y\":{\"color\":\"#2a3f5f\"},\"marker\":{\"line\":{\"color\":\"#E5ECF6\",\"width\":0.5},\"pattern\":{\"fillmode\":\"overlay\",\"size\":10,\"solidity\":0.2}},\"type\":\"bar\"}],\"scattergeo\":[{\"type\":\"scattergeo\",\"marker\":{\"colorbar\":{\"outlinewidth\":0,\"ticks\":\"\"}}}],\"scatterpolar\":[{\"type\":\"scatterpolar\",\"marker\":{\"colorbar\":{\"outlinewidth\":0,\"ticks\":\"\"}}}],\"histogram\":[{\"marker\":{\"pattern\":{\"fillmode\":\"overlay\",\"size\":10,\"solidity\":0.2}},\"type\":\"histogram\"}],\"scattergl\":[{\"type\":\"scattergl\",\"marker\":{\"colorbar\":{\"outlinewidth\":0,\"ticks\":\"\"}}}],\"scatter3d\":[{\"type\":\"scatter3d\",\"line\":{\"colorbar\":{\"outlinewidth\":0,\"ticks\":\"\"}},\"marker\":{\"colorbar\":{\"outlinewidth\":0,\"ticks\":\"\"}}}],\"scattermapbox\":[{\"type\":\"scattermapbox\",\"marker\":{\"colorbar\":{\"outlinewidth\":0,\"ticks\":\"\"}}}],\"scatterternary\":[{\"type\":\"scatterternary\",\"marker\":{\"colorbar\":{\"outlinewidth\":0,\"ticks\":\"\"}}}],\"scattercarpet\":[{\"type\":\"scattercarpet\",\"marker\":{\"colorbar\":{\"outlinewidth\":0,\"ticks\":\"\"}}}],\"carpet\":[{\"aaxis\":{\"endlinecolor\":\"#2a3f5f\",\"gridcolor\":\"white\",\"linecolor\":\"white\",\"minorgridcolor\":\"white\",\"startlinecolor\":\"#2a3f5f\"},\"baxis\":{\"endlinecolor\":\"#2a3f5f\",\"gridcolor\":\"white\",\"linecolor\":\"white\",\"minorgridcolor\":\"white\",\"startlinecolor\":\"#2a3f5f\"},\"type\":\"carpet\"}],\"table\":[{\"cells\":{\"fill\":{\"color\":\"#EBF0F8\"},\"line\":{\"color\":\"white\"}},\"header\":{\"fill\":{\"color\":\"#C8D4E3\"},\"line\":{\"color\":\"white\"}},\"type\":\"table\"}],\"barpolar\":[{\"marker\":{\"line\":{\"color\":\"#E5ECF6\",\"width\":0.5},\"pattern\":{\"fillmode\":\"overlay\",\"size\":10,\"solidity\":0.2}},\"type\":\"barpolar\"}],\"pie\":[{\"automargin\":true,\"type\":\"pie\"}]},\"layout\":{\"autotypenumbers\":\"strict\",\"colorway\":[\"#636efa\",\"#EF553B\",\"#00cc96\",\"#ab63fa\",\"#FFA15A\",\"#19d3f3\",\"#FF6692\",\"#B6E880\",\"#FF97FF\",\"#FECB52\"],\"font\":{\"color\":\"#2a3f5f\"},\"hovermode\":\"closest\",\"hoverlabel\":{\"align\":\"left\"},\"paper_bgcolor\":\"white\",\"plot_bgcolor\":\"#E5ECF6\",\"polar\":{\"bgcolor\":\"#E5ECF6\",\"angularaxis\":{\"gridcolor\":\"white\",\"linecolor\":\"white\",\"ticks\":\"\"},\"radialaxis\":{\"gridcolor\":\"white\",\"linecolor\":\"white\",\"ticks\":\"\"}},\"ternary\":{\"bgcolor\":\"#E5ECF6\",\"aaxis\":{\"gridcolor\":\"white\",\"linecolor\":\"white\",\"ticks\":\"\"},\"baxis\":{\"gridcolor\":\"white\",\"linecolor\":\"white\",\"ticks\":\"\"},\"caxis\":{\"gridcolor\":\"white\",\"linecolor\":\"white\",\"ticks\":\"\"}},\"coloraxis\":{\"colorbar\":{\"outlinewidth\":0,\"ticks\":\"\"}},\"colorscale\":{\"sequential\":[[0.0,\"#0d0887\"],[0.1111111111111111,\"#46039f\"],[0.2222222222222222,\"#7201a8\"],[0.3333333333333333,\"#9c179e\"],[0.4444444444444444,\"#bd3786\"],[0.5555555555555556,\"#d8576b\"],[0.6666666666666666,\"#ed7953\"],[0.7777777777777778,\"#fb9f3a\"],[0.8888888888888888,\"#fdca26\"],[1.0,\"#f0f921\"]],\"sequentialminus\":[[0.0,\"#0d0887\"],[0.1111111111111111,\"#46039f\"],[0.2222222222222222,\"#7201a8\"],[0.3333333333333333,\"#9c179e\"],[0.4444444444444444,\"#bd3786\"],[0.5555555555555556,\"#d8576b\"],[0.6666666666666666,\"#ed7953\"],[0.7777777777777778,\"#fb9f3a\"],[0.8888888888888888,\"#fdca26\"],[1.0,\"#f0f921\"]],\"diverging\":[[0,\"#8e0152\"],[0.1,\"#c51b7d\"],[0.2,\"#de77ae\"],[0.3,\"#f1b6da\"],[0.4,\"#fde0ef\"],[0.5,\"#f7f7f7\"],[0.6,\"#e6f5d0\"],[0.7,\"#b8e186\"],[0.8,\"#7fbc41\"],[0.9,\"#4d9221\"],[1,\"#276419\"]]},\"xaxis\":{\"gridcolor\":\"white\",\"linecolor\":\"white\",\"ticks\":\"\",\"title\":{\"standoff\":15},\"zerolinecolor\":\"white\",\"automargin\":true,\"zerolinewidth\":2},\"yaxis\":{\"gridcolor\":\"white\",\"linecolor\":\"white\",\"ticks\":\"\",\"title\":{\"standoff\":15},\"zerolinecolor\":\"white\",\"automargin\":true,\"zerolinewidth\":2},\"scene\":{\"xaxis\":{\"backgroundcolor\":\"#E5ECF6\",\"gridcolor\":\"white\",\"linecolor\":\"white\",\"showbackground\":true,\"ticks\":\"\",\"zerolinecolor\":\"white\",\"gridwidth\":2},\"yaxis\":{\"backgroundcolor\":\"#E5ECF6\",\"gridcolor\":\"white\",\"linecolor\":\"white\",\"showbackground\":true,\"ticks\":\"\",\"zerolinecolor\":\"white\",\"gridwidth\":2},\"zaxis\":{\"backgroundcolor\":\"#E5ECF6\",\"gridcolor\":\"white\",\"linecolor\":\"white\",\"showbackground\":true,\"ticks\":\"\",\"zerolinecolor\":\"white\",\"gridwidth\":2}},\"shapedefaults\":{\"line\":{\"color\":\"#2a3f5f\"}},\"annotationdefaults\":{\"arrowcolor\":\"#2a3f5f\",\"arrowhead\":0,\"arrowwidth\":1},\"geo\":{\"bgcolor\":\"white\",\"landcolor\":\"#E5ECF6\",\"subunitcolor\":\"white\",\"showland\":true,\"showlakes\":true,\"lakecolor\":\"white\"},\"title\":{\"x\":0.05},\"mapbox\":{\"style\":\"light\"}}},\"coloraxis\":{\"colorbar\":{\"title\":{\"text\":\"Expected Assists\"}},\"colorscale\":[[0.0,\"#0d0887\"],[0.1111111111111111,\"#46039f\"],[0.2222222222222222,\"#7201a8\"],[0.3333333333333333,\"#9c179e\"],[0.4444444444444444,\"#bd3786\"],[0.5555555555555556,\"#d8576b\"],[0.6666666666666666,\"#ed7953\"],[0.7777777777777778,\"#fb9f3a\"],[0.8888888888888888,\"#fdca26\"],[1.0,\"#f0f921\"]]},\"legend\":{\"tracegroupgap\":0},\"title\":{\"text\":\"Relationship between Expected Assists and Assists\"}},                        {\"responsive\": true}                    ).then(function(){\n",
       "                            \n",
       "var gd = document.getElementById('eb0d9575-e2ce-4d18-b666-a1d129f60c30');\n",
       "var x = new MutationObserver(function (mutations, observer) {{\n",
       "        var display = window.getComputedStyle(gd).display;\n",
       "        if (!display || display === 'none') {{\n",
       "            console.log([gd, 'removed!']);\n",
       "            Plotly.purge(gd);\n",
       "            observer.disconnect();\n",
       "        }}\n",
       "}});\n",
       "\n",
       "// Listen for the removal of the full notebook cells\n",
       "var notebookContainer = gd.closest('#notebook-container');\n",
       "if (notebookContainer) {{\n",
       "    x.observe(notebookContainer, {childList: true});\n",
       "}}\n",
       "\n",
       "// Listen for the clearing of the current output cell\n",
       "var outputEl = gd.closest('.output');\n",
       "if (outputEl) {{\n",
       "    x.observe(outputEl, {childList: true});\n",
       "}}\n",
       "\n",
       "                        })                };                });            </script>        </div>"
      ]
     },
     "metadata": {},
     "output_type": "display_data"
    }
   ],
   "source": [
    "fig = px.treemap(top_assists, path=['name', 'assists'], values='assists', color='expected_assists',\n",
    "                 title='Relationship between Expected Assists and Assists',\n",
    "                 labels={'expected_assists': 'Expected Assists', 'assists': 'Assists'})\n",
    "\n",
    "fig.show()"
   ]
  },
  {
   "cell_type": "code",
   "execution_count": 15,
   "id": "ad310485-1296-4110-bc14-9a2ce99968b9",
   "metadata": {},
   "outputs": [
    {
     "data": {
      "application/vnd.plotly.v1+json": {
       "config": {
        "plotlyServerURL": "https://plot.ly"
       },
       "data": [
        {
         "coloraxis": "coloraxis",
         "hovertemplate": "team: %{x}<br>position: %{y}<br>Points Per Game: %{z}<extra></extra>",
         "name": "0",
         "type": "heatmap",
         "x": [
          "Arsenal",
          "Aston Villa",
          "Bournemouth",
          "Brentford",
          "Brighton",
          "Chelsea",
          "Crystal Palace",
          "Everton",
          "Fulham",
          "Leeds",
          "Leicester",
          "Liverpool",
          "Man City",
          "Man Utd",
          "Newcastle",
          "Nott'm Forest",
          "Southampton",
          "Spurs",
          "West Ham",
          "Wolves"
         ],
         "xaxis": "x",
         "y": [
          "DEF",
          "FWD",
          "GKP",
          "MID"
         ],
         "yaxis": "y",
         "z": [
          [
           3.9749999999999996,
           2.9,
           2.183333333333333,
           2.983333333333333,
           3.08,
           2.5875,
           2.5,
           2.6166666666666667,
           2.7600000000000002,
           1.8142857142857143,
           2.3000000000000003,
           3.3833333333333333,
           3.3714285714285714,
           3.3285714285714287,
           4.025,
           2,
           1.75,
           2.9857142857142853,
           2.642857142857143,
           2.3625
          ],
          [
           3.45,
           4.7,
           3,
           4.7,
           2.9,
           2.9,
           2.3,
           1.95,
           3.55,
           2.4,
           2.466666666666667,
           3.733333333333333,
           5.55,
           3.1,
           4.8,
           3.45,
           2.6,
           4.45,
           2.65,
           1.4
          ],
          [
           3.8,
           3.8,
           2.8499999999999996,
           4.4,
           3.95,
           4.1,
           3.7,
           3.4,
           3.9,
           2.6,
           2.95,
           4.4,
           3.5,
           4.2,
           4.2,
           3.55,
           2.6,
           3.25,
           3.5,
           4.1
          ],
          [
           4.285714285714286,
           3.033333333333333,
           2.5375,
           2.6,
           3.8200000000000003,
           2.5,
           3.1333333333333333,
           2.8166666666666664,
           2.814285714285714,
           2.6285714285714286,
           2.85,
           3.0749999999999997,
           4.142857142857143,
           3.5125,
           3.0875,
           2.68,
           2.3625,
           2.966666666666667,
           3.0666666666666664,
           2.3428571428571425
          ]
         ]
        }
       ],
       "layout": {
        "autosize": true,
        "coloraxis": {
         "colorbar": {
          "title": {
           "text": "Points Per Game"
          }
         },
         "colorscale": [
          [
           0,
           "#440154"
          ],
          [
           0.1111111111111111,
           "#482878"
          ],
          [
           0.2222222222222222,
           "#3e4989"
          ],
          [
           0.3333333333333333,
           "#31688e"
          ],
          [
           0.4444444444444444,
           "#26828e"
          ],
          [
           0.5555555555555556,
           "#1f9e89"
          ],
          [
           0.6666666666666666,
           "#35b779"
          ],
          [
           0.7777777777777778,
           "#6ece58"
          ],
          [
           0.8888888888888888,
           "#b5de2b"
          ],
          [
           1,
           "#fde725"
          ]
         ]
        },
        "margin": {
         "t": 60
        },
        "template": {
         "data": {
          "bar": [
           {
            "error_x": {
             "color": "#2a3f5f"
            },
            "error_y": {
             "color": "#2a3f5f"
            },
            "marker": {
             "line": {
              "color": "#E5ECF6",
              "width": 0.5
             },
             "pattern": {
              "fillmode": "overlay",
              "size": 10,
              "solidity": 0.2
             }
            },
            "type": "bar"
           }
          ],
          "barpolar": [
           {
            "marker": {
             "line": {
              "color": "#E5ECF6",
              "width": 0.5
             },
             "pattern": {
              "fillmode": "overlay",
              "size": 10,
              "solidity": 0.2
             }
            },
            "type": "barpolar"
           }
          ],
          "carpet": [
           {
            "aaxis": {
             "endlinecolor": "#2a3f5f",
             "gridcolor": "white",
             "linecolor": "white",
             "minorgridcolor": "white",
             "startlinecolor": "#2a3f5f"
            },
            "baxis": {
             "endlinecolor": "#2a3f5f",
             "gridcolor": "white",
             "linecolor": "white",
             "minorgridcolor": "white",
             "startlinecolor": "#2a3f5f"
            },
            "type": "carpet"
           }
          ],
          "choropleth": [
           {
            "colorbar": {
             "outlinewidth": 0,
             "ticks": ""
            },
            "type": "choropleth"
           }
          ],
          "contour": [
           {
            "colorbar": {
             "outlinewidth": 0,
             "ticks": ""
            },
            "colorscale": [
             [
              0,
              "#0d0887"
             ],
             [
              0.1111111111111111,
              "#46039f"
             ],
             [
              0.2222222222222222,
              "#7201a8"
             ],
             [
              0.3333333333333333,
              "#9c179e"
             ],
             [
              0.4444444444444444,
              "#bd3786"
             ],
             [
              0.5555555555555556,
              "#d8576b"
             ],
             [
              0.6666666666666666,
              "#ed7953"
             ],
             [
              0.7777777777777778,
              "#fb9f3a"
             ],
             [
              0.8888888888888888,
              "#fdca26"
             ],
             [
              1,
              "#f0f921"
             ]
            ],
            "type": "contour"
           }
          ],
          "contourcarpet": [
           {
            "colorbar": {
             "outlinewidth": 0,
             "ticks": ""
            },
            "type": "contourcarpet"
           }
          ],
          "heatmap": [
           {
            "colorbar": {
             "outlinewidth": 0,
             "ticks": ""
            },
            "colorscale": [
             [
              0,
              "#0d0887"
             ],
             [
              0.1111111111111111,
              "#46039f"
             ],
             [
              0.2222222222222222,
              "#7201a8"
             ],
             [
              0.3333333333333333,
              "#9c179e"
             ],
             [
              0.4444444444444444,
              "#bd3786"
             ],
             [
              0.5555555555555556,
              "#d8576b"
             ],
             [
              0.6666666666666666,
              "#ed7953"
             ],
             [
              0.7777777777777778,
              "#fb9f3a"
             ],
             [
              0.8888888888888888,
              "#fdca26"
             ],
             [
              1,
              "#f0f921"
             ]
            ],
            "type": "heatmap"
           }
          ],
          "heatmapgl": [
           {
            "colorbar": {
             "outlinewidth": 0,
             "ticks": ""
            },
            "colorscale": [
             [
              0,
              "#0d0887"
             ],
             [
              0.1111111111111111,
              "#46039f"
             ],
             [
              0.2222222222222222,
              "#7201a8"
             ],
             [
              0.3333333333333333,
              "#9c179e"
             ],
             [
              0.4444444444444444,
              "#bd3786"
             ],
             [
              0.5555555555555556,
              "#d8576b"
             ],
             [
              0.6666666666666666,
              "#ed7953"
             ],
             [
              0.7777777777777778,
              "#fb9f3a"
             ],
             [
              0.8888888888888888,
              "#fdca26"
             ],
             [
              1,
              "#f0f921"
             ]
            ],
            "type": "heatmapgl"
           }
          ],
          "histogram": [
           {
            "marker": {
             "pattern": {
              "fillmode": "overlay",
              "size": 10,
              "solidity": 0.2
             }
            },
            "type": "histogram"
           }
          ],
          "histogram2d": [
           {
            "colorbar": {
             "outlinewidth": 0,
             "ticks": ""
            },
            "colorscale": [
             [
              0,
              "#0d0887"
             ],
             [
              0.1111111111111111,
              "#46039f"
             ],
             [
              0.2222222222222222,
              "#7201a8"
             ],
             [
              0.3333333333333333,
              "#9c179e"
             ],
             [
              0.4444444444444444,
              "#bd3786"
             ],
             [
              0.5555555555555556,
              "#d8576b"
             ],
             [
              0.6666666666666666,
              "#ed7953"
             ],
             [
              0.7777777777777778,
              "#fb9f3a"
             ],
             [
              0.8888888888888888,
              "#fdca26"
             ],
             [
              1,
              "#f0f921"
             ]
            ],
            "type": "histogram2d"
           }
          ],
          "histogram2dcontour": [
           {
            "colorbar": {
             "outlinewidth": 0,
             "ticks": ""
            },
            "colorscale": [
             [
              0,
              "#0d0887"
             ],
             [
              0.1111111111111111,
              "#46039f"
             ],
             [
              0.2222222222222222,
              "#7201a8"
             ],
             [
              0.3333333333333333,
              "#9c179e"
             ],
             [
              0.4444444444444444,
              "#bd3786"
             ],
             [
              0.5555555555555556,
              "#d8576b"
             ],
             [
              0.6666666666666666,
              "#ed7953"
             ],
             [
              0.7777777777777778,
              "#fb9f3a"
             ],
             [
              0.8888888888888888,
              "#fdca26"
             ],
             [
              1,
              "#f0f921"
             ]
            ],
            "type": "histogram2dcontour"
           }
          ],
          "mesh3d": [
           {
            "colorbar": {
             "outlinewidth": 0,
             "ticks": ""
            },
            "type": "mesh3d"
           }
          ],
          "parcoords": [
           {
            "line": {
             "colorbar": {
              "outlinewidth": 0,
              "ticks": ""
             }
            },
            "type": "parcoords"
           }
          ],
          "pie": [
           {
            "automargin": true,
            "type": "pie"
           }
          ],
          "scatter": [
           {
            "fillpattern": {
             "fillmode": "overlay",
             "size": 10,
             "solidity": 0.2
            },
            "type": "scatter"
           }
          ],
          "scatter3d": [
           {
            "line": {
             "colorbar": {
              "outlinewidth": 0,
              "ticks": ""
             }
            },
            "marker": {
             "colorbar": {
              "outlinewidth": 0,
              "ticks": ""
             }
            },
            "type": "scatter3d"
           }
          ],
          "scattercarpet": [
           {
            "marker": {
             "colorbar": {
              "outlinewidth": 0,
              "ticks": ""
             }
            },
            "type": "scattercarpet"
           }
          ],
          "scattergeo": [
           {
            "marker": {
             "colorbar": {
              "outlinewidth": 0,
              "ticks": ""
             }
            },
            "type": "scattergeo"
           }
          ],
          "scattergl": [
           {
            "marker": {
             "colorbar": {
              "outlinewidth": 0,
              "ticks": ""
             }
            },
            "type": "scattergl"
           }
          ],
          "scattermapbox": [
           {
            "marker": {
             "colorbar": {
              "outlinewidth": 0,
              "ticks": ""
             }
            },
            "type": "scattermapbox"
           }
          ],
          "scatterpolar": [
           {
            "marker": {
             "colorbar": {
              "outlinewidth": 0,
              "ticks": ""
             }
            },
            "type": "scatterpolar"
           }
          ],
          "scatterpolargl": [
           {
            "marker": {
             "colorbar": {
              "outlinewidth": 0,
              "ticks": ""
             }
            },
            "type": "scatterpolargl"
           }
          ],
          "scatterternary": [
           {
            "marker": {
             "colorbar": {
              "outlinewidth": 0,
              "ticks": ""
             }
            },
            "type": "scatterternary"
           }
          ],
          "surface": [
           {
            "colorbar": {
             "outlinewidth": 0,
             "ticks": ""
            },
            "colorscale": [
             [
              0,
              "#0d0887"
             ],
             [
              0.1111111111111111,
              "#46039f"
             ],
             [
              0.2222222222222222,
              "#7201a8"
             ],
             [
              0.3333333333333333,
              "#9c179e"
             ],
             [
              0.4444444444444444,
              "#bd3786"
             ],
             [
              0.5555555555555556,
              "#d8576b"
             ],
             [
              0.6666666666666666,
              "#ed7953"
             ],
             [
              0.7777777777777778,
              "#fb9f3a"
             ],
             [
              0.8888888888888888,
              "#fdca26"
             ],
             [
              1,
              "#f0f921"
             ]
            ],
            "type": "surface"
           }
          ],
          "table": [
           {
            "cells": {
             "fill": {
              "color": "#EBF0F8"
             },
             "line": {
              "color": "white"
             }
            },
            "header": {
             "fill": {
              "color": "#C8D4E3"
             },
             "line": {
              "color": "white"
             }
            },
            "type": "table"
           }
          ]
         },
         "layout": {
          "annotationdefaults": {
           "arrowcolor": "#2a3f5f",
           "arrowhead": 0,
           "arrowwidth": 1
          },
          "autotypenumbers": "strict",
          "coloraxis": {
           "colorbar": {
            "outlinewidth": 0,
            "ticks": ""
           }
          },
          "colorscale": {
           "diverging": [
            [
             0,
             "#8e0152"
            ],
            [
             0.1,
             "#c51b7d"
            ],
            [
             0.2,
             "#de77ae"
            ],
            [
             0.3,
             "#f1b6da"
            ],
            [
             0.4,
             "#fde0ef"
            ],
            [
             0.5,
             "#f7f7f7"
            ],
            [
             0.6,
             "#e6f5d0"
            ],
            [
             0.7,
             "#b8e186"
            ],
            [
             0.8,
             "#7fbc41"
            ],
            [
             0.9,
             "#4d9221"
            ],
            [
             1,
             "#276419"
            ]
           ],
           "sequential": [
            [
             0,
             "#0d0887"
            ],
            [
             0.1111111111111111,
             "#46039f"
            ],
            [
             0.2222222222222222,
             "#7201a8"
            ],
            [
             0.3333333333333333,
             "#9c179e"
            ],
            [
             0.4444444444444444,
             "#bd3786"
            ],
            [
             0.5555555555555556,
             "#d8576b"
            ],
            [
             0.6666666666666666,
             "#ed7953"
            ],
            [
             0.7777777777777778,
             "#fb9f3a"
            ],
            [
             0.8888888888888888,
             "#fdca26"
            ],
            [
             1,
             "#f0f921"
            ]
           ],
           "sequentialminus": [
            [
             0,
             "#0d0887"
            ],
            [
             0.1111111111111111,
             "#46039f"
            ],
            [
             0.2222222222222222,
             "#7201a8"
            ],
            [
             0.3333333333333333,
             "#9c179e"
            ],
            [
             0.4444444444444444,
             "#bd3786"
            ],
            [
             0.5555555555555556,
             "#d8576b"
            ],
            [
             0.6666666666666666,
             "#ed7953"
            ],
            [
             0.7777777777777778,
             "#fb9f3a"
            ],
            [
             0.8888888888888888,
             "#fdca26"
            ],
            [
             1,
             "#f0f921"
            ]
           ]
          },
          "colorway": [
           "#636efa",
           "#EF553B",
           "#00cc96",
           "#ab63fa",
           "#FFA15A",
           "#19d3f3",
           "#FF6692",
           "#B6E880",
           "#FF97FF",
           "#FECB52"
          ],
          "font": {
           "color": "#2a3f5f"
          },
          "geo": {
           "bgcolor": "white",
           "lakecolor": "white",
           "landcolor": "#E5ECF6",
           "showlakes": true,
           "showland": true,
           "subunitcolor": "white"
          },
          "hoverlabel": {
           "align": "left"
          },
          "hovermode": "closest",
          "mapbox": {
           "style": "light"
          },
          "paper_bgcolor": "white",
          "plot_bgcolor": "#E5ECF6",
          "polar": {
           "angularaxis": {
            "gridcolor": "white",
            "linecolor": "white",
            "ticks": ""
           },
           "bgcolor": "#E5ECF6",
           "radialaxis": {
            "gridcolor": "white",
            "linecolor": "white",
            "ticks": ""
           }
          },
          "scene": {
           "xaxis": {
            "backgroundcolor": "#E5ECF6",
            "gridcolor": "white",
            "gridwidth": 2,
            "linecolor": "white",
            "showbackground": true,
            "ticks": "",
            "zerolinecolor": "white"
           },
           "yaxis": {
            "backgroundcolor": "#E5ECF6",
            "gridcolor": "white",
            "gridwidth": 2,
            "linecolor": "white",
            "showbackground": true,
            "ticks": "",
            "zerolinecolor": "white"
           },
           "zaxis": {
            "backgroundcolor": "#E5ECF6",
            "gridcolor": "white",
            "gridwidth": 2,
            "linecolor": "white",
            "showbackground": true,
            "ticks": "",
            "zerolinecolor": "white"
           }
          },
          "shapedefaults": {
           "line": {
            "color": "#2a3f5f"
           }
          },
          "ternary": {
           "aaxis": {
            "gridcolor": "white",
            "linecolor": "white",
            "ticks": ""
           },
           "baxis": {
            "gridcolor": "white",
            "linecolor": "white",
            "ticks": ""
           },
           "bgcolor": "#E5ECF6",
           "caxis": {
            "gridcolor": "white",
            "linecolor": "white",
            "ticks": ""
           }
          },
          "title": {
           "x": 0.05
          },
          "xaxis": {
           "automargin": true,
           "gridcolor": "white",
           "linecolor": "white",
           "ticks": "",
           "title": {
            "standoff": 15
           },
           "zerolinecolor": "white",
           "zerolinewidth": 2
          },
          "yaxis": {
           "automargin": true,
           "gridcolor": "white",
           "linecolor": "white",
           "ticks": "",
           "title": {
            "standoff": 15
           },
           "zerolinecolor": "white",
           "zerolinewidth": 2
          }
         }
        },
        "title": {
         "text": "Points Per Game by Position and Team"
        },
        "xaxis": {
         "anchor": "y",
         "autorange": true,
         "constrain": "domain",
         "domain": [
          0,
          1
         ],
         "range": [
          -0.5,
          19.5
         ],
         "scaleanchor": "y",
         "title": {
          "text": "team"
         },
         "type": "category"
        },
        "yaxis": {
         "anchor": "x",
         "autorange": true,
         "constrain": "domain",
         "domain": [
          0.11090909090909096,
          0.889090909090909
         ],
         "range": [
          3.5,
          -0.5
         ],
         "title": {
          "text": "position"
         },
         "type": "category"
        }
       }
      },
      "image/png": "[encoded data removed]",
      "text/html": [
       "<div>                            <div id=\"e7b097e5-2327-4a48-95f7-a6ae2fdb3fae\" class=\"plotly-graph-div\" style=\"height:525px; width:100%;\"></div>            <script type=\"text/javascript\">                require([\"plotly\"], function(Plotly) {                    window.PLOTLYENV=window.PLOTLYENV || {};                                    if (document.getElementById(\"e7b097e5-2327-4a48-95f7-a6ae2fdb3fae\")) {                    Plotly.newPlot(                        \"e7b097e5-2327-4a48-95f7-a6ae2fdb3fae\",                        [{\"coloraxis\":\"coloraxis\",\"name\":\"0\",\"x\":[\"Arsenal\",\"Aston Villa\",\"Bournemouth\",\"Brentford\",\"Brighton\",\"Chelsea\",\"Crystal Palace\",\"Everton\",\"Fulham\",\"Leeds\",\"Leicester\",\"Liverpool\",\"Man City\",\"Man Utd\",\"Newcastle\",\"Nott'm Forest\",\"Southampton\",\"Spurs\",\"West Ham\",\"Wolves\"],\"y\":[\"DEF\",\"FWD\",\"GKP\",\"MID\"],\"z\":[[3.9749999999999996,2.9,2.183333333333333,2.983333333333333,3.08,2.5875,2.5,2.6166666666666667,2.7600000000000002,1.8142857142857143,2.3000000000000003,3.3833333333333333,3.3714285714285714,3.3285714285714287,4.025,2.0,1.75,2.9857142857142853,2.642857142857143,2.3625],[3.45,4.7,3.0,4.7,2.9,2.9,2.3,1.95,3.55,2.4,2.466666666666667,3.733333333333333,5.55,3.1,4.8,3.45,2.6,4.45,2.65,1.4],[3.8,3.8,2.8499999999999996,4.4,3.95,4.1,3.7,3.4,3.9,2.6,2.95,4.4,3.5,4.2,4.2,3.55,2.6,3.25,3.5,4.1],[4.285714285714286,3.033333333333333,2.5375,2.6,3.8200000000000003,2.5,3.1333333333333333,2.8166666666666664,2.814285714285714,2.6285714285714286,2.85,3.0749999999999997,4.142857142857143,3.5125,3.0875,2.68,2.3625,2.966666666666667,3.0666666666666664,2.3428571428571425]],\"type\":\"heatmap\",\"xaxis\":\"x\",\"yaxis\":\"y\",\"hovertemplate\":\"team: %{x}\\u003cbr\\u003eposition: %{y}\\u003cbr\\u003ePoints Per Game: %{z}\\u003cextra\\u003e\\u003c\\u002fextra\\u003e\"}],                        {\"template\":{\"data\":{\"histogram2dcontour\":[{\"type\":\"histogram2dcontour\",\"colorbar\":{\"outlinewidth\":0,\"ticks\":\"\"},\"colorscale\":[[0.0,\"#0d0887\"],[0.1111111111111111,\"#46039f\"],[0.2222222222222222,\"#7201a8\"],[0.3333333333333333,\"#9c179e\"],[0.4444444444444444,\"#bd3786\"],[0.5555555555555556,\"#d8576b\"],[0.6666666666666666,\"#ed7953\"],[0.7777777777777778,\"#fb9f3a\"],[0.8888888888888888,\"#fdca26\"],[1.0,\"#f0f921\"]]}],\"choropleth\":[{\"type\":\"choropleth\",\"colorbar\":{\"outlinewidth\":0,\"ticks\":\"\"}}],\"histogram2d\":[{\"type\":\"histogram2d\",\"colorbar\":{\"outlinewidth\":0,\"ticks\":\"\"},\"colorscale\":[[0.0,\"#0d0887\"],[0.1111111111111111,\"#46039f\"],[0.2222222222222222,\"#7201a8\"],[0.3333333333333333,\"#9c179e\"],[0.4444444444444444,\"#bd3786\"],[0.5555555555555556,\"#d8576b\"],[0.6666666666666666,\"#ed7953\"],[0.7777777777777778,\"#fb9f3a\"],[0.8888888888888888,\"#fdca26\"],[1.0,\"#f0f921\"]]}],\"heatmap\":[{\"type\":\"heatmap\",\"colorbar\":{\"outlinewidth\":0,\"ticks\":\"\"},\"colorscale\":[[0.0,\"#0d0887\"],[0.1111111111111111,\"#46039f\"],[0.2222222222222222,\"#7201a8\"],[0.3333333333333333,\"#9c179e\"],[0.4444444444444444,\"#bd3786\"],[0.5555555555555556,\"#d8576b\"],[0.6666666666666666,\"#ed7953\"],[0.7777777777777778,\"#fb9f3a\"],[0.8888888888888888,\"#fdca26\"],[1.0,\"#f0f921\"]]}],\"heatmapgl\":[{\"type\":\"heatmapgl\",\"colorbar\":{\"outlinewidth\":0,\"ticks\":\"\"},\"colorscale\":[[0.0,\"#0d0887\"],[0.1111111111111111,\"#46039f\"],[0.2222222222222222,\"#7201a8\"],[0.3333333333333333,\"#9c179e\"],[0.4444444444444444,\"#bd3786\"],[0.5555555555555556,\"#d8576b\"],[0.6666666666666666,\"#ed7953\"],[0.7777777777777778,\"#fb9f3a\"],[0.8888888888888888,\"#fdca26\"],[1.0,\"#f0f921\"]]}],\"contourcarpet\":[{\"type\":\"contourcarpet\",\"colorbar\":{\"outlinewidth\":0,\"ticks\":\"\"}}],\"contour\":[{\"type\":\"contour\",\"colorbar\":{\"outlinewidth\":0,\"ticks\":\"\"},\"colorscale\":[[0.0,\"#0d0887\"],[0.1111111111111111,\"#46039f\"],[0.2222222222222222,\"#7201a8\"],[0.3333333333333333,\"#9c179e\"],[0.4444444444444444,\"#bd3786\"],[0.5555555555555556,\"#d8576b\"],[0.6666666666666666,\"#ed7953\"],[0.7777777777777778,\"#fb9f3a\"],[0.8888888888888888,\"#fdca26\"],[1.0,\"#f0f921\"]]}],\"surface\":[{\"type\":\"surface\",\"colorbar\":{\"outlinewidth\":0,\"ticks\":\"\"},\"colorscale\":[[0.0,\"#0d0887\"],[0.1111111111111111,\"#46039f\"],[0.2222222222222222,\"#7201a8\"],[0.3333333333333333,\"#9c179e\"],[0.4444444444444444,\"#bd3786\"],[0.5555555555555556,\"#d8576b\"],[0.6666666666666666,\"#ed7953\"],[0.7777777777777778,\"#fb9f3a\"],[0.8888888888888888,\"#fdca26\"],[1.0,\"#f0f921\"]]}],\"mesh3d\":[{\"type\":\"mesh3d\",\"colorbar\":{\"outlinewidth\":0,\"ticks\":\"\"}}],\"scatter\":[{\"fillpattern\":{\"fillmode\":\"overlay\",\"size\":10,\"solidity\":0.2},\"type\":\"scatter\"}],\"parcoords\":[{\"type\":\"parcoords\",\"line\":{\"colorbar\":{\"outlinewidth\":0,\"ticks\":\"\"}}}],\"scatterpolargl\":[{\"type\":\"scatterpolargl\",\"marker\":{\"colorbar\":{\"outlinewidth\":0,\"ticks\":\"\"}}}],\"bar\":[{\"error_x\":{\"color\":\"#2a3f5f\"},\"error_y\":{\"color\":\"#2a3f5f\"},\"marker\":{\"line\":{\"color\":\"#E5ECF6\",\"width\":0.5},\"pattern\":{\"fillmode\":\"overlay\",\"size\":10,\"solidity\":0.2}},\"type\":\"bar\"}],\"scattergeo\":[{\"type\":\"scattergeo\",\"marker\":{\"colorbar\":{\"outlinewidth\":0,\"ticks\":\"\"}}}],\"scatterpolar\":[{\"type\":\"scatterpolar\",\"marker\":{\"colorbar\":{\"outlinewidth\":0,\"ticks\":\"\"}}}],\"histogram\":[{\"marker\":{\"pattern\":{\"fillmode\":\"overlay\",\"size\":10,\"solidity\":0.2}},\"type\":\"histogram\"}],\"scattergl\":[{\"type\":\"scattergl\",\"marker\":{\"colorbar\":{\"outlinewidth\":0,\"ticks\":\"\"}}}],\"scatter3d\":[{\"type\":\"scatter3d\",\"line\":{\"colorbar\":{\"outlinewidth\":0,\"ticks\":\"\"}},\"marker\":{\"colorbar\":{\"outlinewidth\":0,\"ticks\":\"\"}}}],\"scattermapbox\":[{\"type\":\"scattermapbox\",\"marker\":{\"colorbar\":{\"outlinewidth\":0,\"ticks\":\"\"}}}],\"scatterternary\":[{\"type\":\"scatterternary\",\"marker\":{\"colorbar\":{\"outlinewidth\":0,\"ticks\":\"\"}}}],\"scattercarpet\":[{\"type\":\"scattercarpet\",\"marker\":{\"colorbar\":{\"outlinewidth\":0,\"ticks\":\"\"}}}],\"carpet\":[{\"aaxis\":{\"endlinecolor\":\"#2a3f5f\",\"gridcolor\":\"white\",\"linecolor\":\"white\",\"minorgridcolor\":\"white\",\"startlinecolor\":\"#2a3f5f\"},\"baxis\":{\"endlinecolor\":\"#2a3f5f\",\"gridcolor\":\"white\",\"linecolor\":\"white\",\"minorgridcolor\":\"white\",\"startlinecolor\":\"#2a3f5f\"},\"type\":\"carpet\"}],\"table\":[{\"cells\":{\"fill\":{\"color\":\"#EBF0F8\"},\"line\":{\"color\":\"white\"}},\"header\":{\"fill\":{\"color\":\"#C8D4E3\"},\"line\":{\"color\":\"white\"}},\"type\":\"table\"}],\"barpolar\":[{\"marker\":{\"line\":{\"color\":\"#E5ECF6\",\"width\":0.5},\"pattern\":{\"fillmode\":\"overlay\",\"size\":10,\"solidity\":0.2}},\"type\":\"barpolar\"}],\"pie\":[{\"automargin\":true,\"type\":\"pie\"}]},\"layout\":{\"autotypenumbers\":\"strict\",\"colorway\":[\"#636efa\",\"#EF553B\",\"#00cc96\",\"#ab63fa\",\"#FFA15A\",\"#19d3f3\",\"#FF6692\",\"#B6E880\",\"#FF97FF\",\"#FECB52\"],\"font\":{\"color\":\"#2a3f5f\"},\"hovermode\":\"closest\",\"hoverlabel\":{\"align\":\"left\"},\"paper_bgcolor\":\"white\",\"plot_bgcolor\":\"#E5ECF6\",\"polar\":{\"bgcolor\":\"#E5ECF6\",\"angularaxis\":{\"gridcolor\":\"white\",\"linecolor\":\"white\",\"ticks\":\"\"},\"radialaxis\":{\"gridcolor\":\"white\",\"linecolor\":\"white\",\"ticks\":\"\"}},\"ternary\":{\"bgcolor\":\"#E5ECF6\",\"aaxis\":{\"gridcolor\":\"white\",\"linecolor\":\"white\",\"ticks\":\"\"},\"baxis\":{\"gridcolor\":\"white\",\"linecolor\":\"white\",\"ticks\":\"\"},\"caxis\":{\"gridcolor\":\"white\",\"linecolor\":\"white\",\"ticks\":\"\"}},\"coloraxis\":{\"colorbar\":{\"outlinewidth\":0,\"ticks\":\"\"}},\"colorscale\":{\"sequential\":[[0.0,\"#0d0887\"],[0.1111111111111111,\"#46039f\"],[0.2222222222222222,\"#7201a8\"],[0.3333333333333333,\"#9c179e\"],[0.4444444444444444,\"#bd3786\"],[0.5555555555555556,\"#d8576b\"],[0.6666666666666666,\"#ed7953\"],[0.7777777777777778,\"#fb9f3a\"],[0.8888888888888888,\"#fdca26\"],[1.0,\"#f0f921\"]],\"sequentialminus\":[[0.0,\"#0d0887\"],[0.1111111111111111,\"#46039f\"],[0.2222222222222222,\"#7201a8\"],[0.3333333333333333,\"#9c179e\"],[0.4444444444444444,\"#bd3786\"],[0.5555555555555556,\"#d8576b\"],[0.6666666666666666,\"#ed7953\"],[0.7777777777777778,\"#fb9f3a\"],[0.8888888888888888,\"#fdca26\"],[1.0,\"#f0f921\"]],\"diverging\":[[0,\"#8e0152\"],[0.1,\"#c51b7d\"],[0.2,\"#de77ae\"],[0.3,\"#f1b6da\"],[0.4,\"#fde0ef\"],[0.5,\"#f7f7f7\"],[0.6,\"#e6f5d0\"],[0.7,\"#b8e186\"],[0.8,\"#7fbc41\"],[0.9,\"#4d9221\"],[1,\"#276419\"]]},\"xaxis\":{\"gridcolor\":\"white\",\"linecolor\":\"white\",\"ticks\":\"\",\"title\":{\"standoff\":15},\"zerolinecolor\":\"white\",\"automargin\":true,\"zerolinewidth\":2},\"yaxis\":{\"gridcolor\":\"white\",\"linecolor\":\"white\",\"ticks\":\"\",\"title\":{\"standoff\":15},\"zerolinecolor\":\"white\",\"automargin\":true,\"zerolinewidth\":2},\"scene\":{\"xaxis\":{\"backgroundcolor\":\"#E5ECF6\",\"gridcolor\":\"white\",\"linecolor\":\"white\",\"showbackground\":true,\"ticks\":\"\",\"zerolinecolor\":\"white\",\"gridwidth\":2},\"yaxis\":{\"backgroundcolor\":\"#E5ECF6\",\"gridcolor\":\"white\",\"linecolor\":\"white\",\"showbackground\":true,\"ticks\":\"\",\"zerolinecolor\":\"white\",\"gridwidth\":2},\"zaxis\":{\"backgroundcolor\":\"#E5ECF6\",\"gridcolor\":\"white\",\"linecolor\":\"white\",\"showbackground\":true,\"ticks\":\"\",\"zerolinecolor\":\"white\",\"gridwidth\":2}},\"shapedefaults\":{\"line\":{\"color\":\"#2a3f5f\"}},\"annotationdefaults\":{\"arrowcolor\":\"#2a3f5f\",\"arrowhead\":0,\"arrowwidth\":1},\"geo\":{\"bgcolor\":\"white\",\"landcolor\":\"#E5ECF6\",\"subunitcolor\":\"white\",\"showland\":true,\"showlakes\":true,\"lakecolor\":\"white\"},\"title\":{\"x\":0.05},\"mapbox\":{\"style\":\"light\"}}},\"xaxis\":{\"anchor\":\"y\",\"domain\":[0.0,1.0],\"scaleanchor\":\"y\",\"constrain\":\"domain\",\"title\":{\"text\":\"team\"}},\"yaxis\":{\"anchor\":\"x\",\"domain\":[0.0,1.0],\"autorange\":\"reversed\",\"constrain\":\"domain\",\"title\":{\"text\":\"position\"}},\"coloraxis\":{\"colorbar\":{\"title\":{\"text\":\"Points Per Game\"}},\"colorscale\":[[0.0,\"#440154\"],[0.1111111111111111,\"#482878\"],[0.2222222222222222,\"#3e4989\"],[0.3333333333333333,\"#31688e\"],[0.4444444444444444,\"#26828e\"],[0.5555555555555556,\"#1f9e89\"],[0.6666666666666666,\"#35b779\"],[0.7777777777777778,\"#6ece58\"],[0.8888888888888888,\"#b5de2b\"],[1.0,\"#fde725\"]]},\"margin\":{\"t\":60},\"title\":{\"text\":\"Points Per Game by Position and Team\"}},                        {\"responsive\": true}                    ).then(function(){\n",
       "                            \n",
       "var gd = document.getElementById('e7b097e5-2327-4a48-95f7-a6ae2fdb3fae');\n",
       "var x = new MutationObserver(function (mutations, observer) {{\n",
       "        var display = window.getComputedStyle(gd).display;\n",
       "        if (!display || display === 'none') {{\n",
       "            console.log([gd, 'removed!']);\n",
       "            Plotly.purge(gd);\n",
       "            observer.disconnect();\n",
       "        }}\n",
       "}});\n",
       "\n",
       "// Listen for the removal of the full notebook cells\n",
       "var notebookContainer = gd.closest('#notebook-container');\n",
       "if (notebookContainer) {{\n",
       "    x.observe(notebookContainer, {childList: true});\n",
       "}}\n",
       "\n",
       "// Listen for the clearing of the current output cell\n",
       "var outputEl = gd.closest('.output');\n",
       "if (outputEl) {{\n",
       "    x.observe(outputEl, {childList: true});\n",
       "}}\n",
       "\n",
       "                        })                };                });            </script>        </div>"
      ]
     },
     "metadata": {},
     "output_type": "display_data"
    }
   ],
   "source": [
    "ppg_heatmap = fpl_avg_players.pivot_table(values='points_per_game', index='position', columns='team', aggfunc='mean')\n",
    "\n",
    "fig = px.imshow(ppg_heatmap, labels=dict(color='Points Per Game'),\n",
    "                x=ppg_heatmap.columns, y=ppg_heatmap.index,\n",
    "                color_continuous_scale='Viridis')\n",
    "\n",
    "fig.update_layout(title='Points Per Game by Position and Team')\n",
    "fig.show()"
   ]
  }
 ],
 "metadata": {
  "kernelspec": {
   "display_name": "Python 3 (ipykernel)",
   "language": "python",
   "name": "python3"
  },
  "language_info": {
   "codemirror_mode": {
    "name": "ipython",
    "version": 3
   },
   "file_extension": ".py",
   "mimetype": "text/x-python",
   "name": "python",
   "nbconvert_exporter": "python",
   "pygments_lexer": "ipython3",
   "version": "3.11.5"
  }
 },
 "nbformat": 4,
 "nbformat_minor": 5
}
