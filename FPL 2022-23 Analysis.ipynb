{
 "cells": [
  {
   "cell_type": "code",
   "execution_count": 1,
   "id": "ba11fcea-afd1-4fca-bcb3-344bb84b8bfa",
   "metadata": {},
   "outputs": [],
   "source": [
    "import pandas as pd\n",
    "import plotly.express as px"
   ]
  },
  {
   "cell_type": "code",
   "execution_count": 2,
   "id": "757b892f-9d5b-4c96-84c0-3385682f17fe",
   "metadata": {},
   "outputs": [
    {
     "data": {
      "text/html": [
       "<div>\n",
       "<style scoped>\n",
       "    .dataframe tbody tr th:only-of-type {\n",
       "        vertical-align: middle;\n",
       "    }\n",
       "\n",
       "    .dataframe tbody tr th {\n",
       "        vertical-align: top;\n",
       "    }\n",
       "\n",
       "    .dataframe thead th {\n",
       "        text-align: right;\n",
       "    }\n",
       "</style>\n",
       "<table border=\"1\" class=\"dataframe\">\n",
       "  <thead>\n",
       "    <tr style=\"text-align: right;\">\n",
       "      <th></th>\n",
       "      <th>id</th>\n",
       "      <th>name</th>\n",
       "      <th>now_cost</th>\n",
       "      <th>cost</th>\n",
       "      <th>position</th>\n",
       "      <th>team</th>\n",
       "      <th>clean_sheets_per_90</th>\n",
       "      <th>threat_rank_type</th>\n",
       "      <th>expected_assists_per_90</th>\n",
       "      <th>expected_assists</th>\n",
       "      <th>...</th>\n",
       "      <th>threat_rank</th>\n",
       "      <th>ep_this</th>\n",
       "      <th>transfers_in</th>\n",
       "      <th>bps</th>\n",
       "      <th>goals_conceded_per_90</th>\n",
       "      <th>selected_by_percent</th>\n",
       "      <th>influence_rank_type</th>\n",
       "      <th>points_per_game_rank_type</th>\n",
       "      <th>clean_sheets</th>\n",
       "      <th>now_cost_rank</th>\n",
       "    </tr>\n",
       "  </thead>\n",
       "  <tbody>\n",
       "    <tr>\n",
       "      <th>0</th>\n",
       "      <td>176</td>\n",
       "      <td>Asmir Begović</td>\n",
       "      <td>38</td>\n",
       "      <td>3.8</td>\n",
       "      <td>GKP</td>\n",
       "      <td>Everton</td>\n",
       "      <td>1.00</td>\n",
       "      <td>7</td>\n",
       "      <td>0.00</td>\n",
       "      <td>0.00</td>\n",
       "      <td>...</td>\n",
       "      <td>478</td>\n",
       "      <td>0.5</td>\n",
       "      <td>151666</td>\n",
       "      <td>30</td>\n",
       "      <td>0.00</td>\n",
       "      <td>0.8</td>\n",
       "      <td>36</td>\n",
       "      <td>1</td>\n",
       "      <td>1</td>\n",
       "      <td>763</td>\n",
       "    </tr>\n",
       "    <tr>\n",
       "      <th>1</th>\n",
       "      <td>318</td>\n",
       "      <td>Erling Haaland</td>\n",
       "      <td>124</td>\n",
       "      <td>12.4</td>\n",
       "      <td>FWD</td>\n",
       "      <td>Man City</td>\n",
       "      <td>0.42</td>\n",
       "      <td>1</td>\n",
       "      <td>0.10</td>\n",
       "      <td>3.11</td>\n",
       "      <td>...</td>\n",
       "      <td>1</td>\n",
       "      <td>5.4</td>\n",
       "      <td>7833248</td>\n",
       "      <td>1040</td>\n",
       "      <td>0.85</td>\n",
       "      <td>78.4</td>\n",
       "      <td>1</td>\n",
       "      <td>1</td>\n",
       "      <td>13</td>\n",
       "      <td>2</td>\n",
       "    </tr>\n",
       "    <tr>\n",
       "      <th>2</th>\n",
       "      <td>324</td>\n",
       "      <td>Stefan Ortega Moreno</td>\n",
       "      <td>37</td>\n",
       "      <td>3.7</td>\n",
       "      <td>GKP</td>\n",
       "      <td>Man City</td>\n",
       "      <td>0.67</td>\n",
       "      <td>3</td>\n",
       "      <td>0.00</td>\n",
       "      <td>0.00</td>\n",
       "      <td>...</td>\n",
       "      <td>473</td>\n",
       "      <td>4.3</td>\n",
       "      <td>315760</td>\n",
       "      <td>90</td>\n",
       "      <td>0.33</td>\n",
       "      <td>1.5</td>\n",
       "      <td>28</td>\n",
       "      <td>2</td>\n",
       "      <td>2</td>\n",
       "      <td>777</td>\n",
       "    </tr>\n",
       "    <tr>\n",
       "      <th>3</th>\n",
       "      <td>427</td>\n",
       "      <td>Harry Kane</td>\n",
       "      <td>115</td>\n",
       "      <td>11.5</td>\n",
       "      <td>FWD</td>\n",
       "      <td>Spurs</td>\n",
       "      <td>0.29</td>\n",
       "      <td>2</td>\n",
       "      <td>0.11</td>\n",
       "      <td>4.01</td>\n",
       "      <td>...</td>\n",
       "      <td>2</td>\n",
       "      <td>9.2</td>\n",
       "      <td>7381740</td>\n",
       "      <td>1008</td>\n",
       "      <td>1.64</td>\n",
       "      <td>32.7</td>\n",
       "      <td>2</td>\n",
       "      <td>2</td>\n",
       "      <td>11</td>\n",
       "      <td>4</td>\n",
       "    </tr>\n",
       "    <tr>\n",
       "      <th>4</th>\n",
       "      <td>283</td>\n",
       "      <td>Mohamed Salah</td>\n",
       "      <td>131</td>\n",
       "      <td>13.1</td>\n",
       "      <td>MID</td>\n",
       "      <td>Liverpool</td>\n",
       "      <td>0.36</td>\n",
       "      <td>1</td>\n",
       "      <td>0.19</td>\n",
       "      <td>7.03</td>\n",
       "      <td>...</td>\n",
       "      <td>3</td>\n",
       "      <td>9.3</td>\n",
       "      <td>6974743</td>\n",
       "      <td>651</td>\n",
       "      <td>1.23</td>\n",
       "      <td>37.2</td>\n",
       "      <td>1</td>\n",
       "      <td>1</td>\n",
       "      <td>13</td>\n",
       "      <td>1</td>\n",
       "    </tr>\n",
       "  </tbody>\n",
       "</table>\n",
       "<p>5 rows × 76 columns</p>\n",
       "</div>"
      ],
      "text/plain": [
       "    id                  name  now_cost  cost position       team  \\\n",
       "0  176         Asmir Begović        38   3.8      GKP    Everton   \n",
       "1  318        Erling Haaland       124  12.4      FWD   Man City   \n",
       "2  324  Stefan Ortega Moreno        37   3.7      GKP   Man City   \n",
       "3  427            Harry Kane       115  11.5      FWD      Spurs   \n",
       "4  283         Mohamed Salah       131  13.1      MID  Liverpool   \n",
       "\n",
       "   clean_sheets_per_90  threat_rank_type  expected_assists_per_90  \\\n",
       "0                 1.00                 7                     0.00   \n",
       "1                 0.42                 1                     0.10   \n",
       "2                 0.67                 3                     0.00   \n",
       "3                 0.29                 2                     0.11   \n",
       "4                 0.36                 1                     0.19   \n",
       "\n",
       "   expected_assists  ...  threat_rank  ep_this  transfers_in   bps  \\\n",
       "0              0.00  ...          478      0.5        151666    30   \n",
       "1              3.11  ...            1      5.4       7833248  1040   \n",
       "2              0.00  ...          473      4.3        315760    90   \n",
       "3              4.01  ...            2      9.2       7381740  1008   \n",
       "4              7.03  ...            3      9.3       6974743   651   \n",
       "\n",
       "   goals_conceded_per_90  selected_by_percent  influence_rank_type  \\\n",
       "0                   0.00                  0.8                   36   \n",
       "1                   0.85                 78.4                    1   \n",
       "2                   0.33                  1.5                   28   \n",
       "3                   1.64                 32.7                    2   \n",
       "4                   1.23                 37.2                    1   \n",
       "\n",
       "   points_per_game_rank_type  clean_sheets  now_cost_rank  \n",
       "0                          1             1            763  \n",
       "1                          1            13              2  \n",
       "2                          2             2            777  \n",
       "3                          2            11              4  \n",
       "4                          1            13              1  \n",
       "\n",
       "[5 rows x 76 columns]"
      ]
     },
     "execution_count": 2,
     "metadata": {},
     "output_type": "execute_result"
    }
   ],
   "source": [
    "fpl_data = pd.read_csv(\"data/FPL 22.csv\")\n",
    "fpl_data.head()"
   ]
  },
  {
   "cell_type": "code",
   "execution_count": 4,
   "id": "7a4262bd-81bf-47f0-8b21-ff5956c8b27c",
   "metadata": {},
   "outputs": [
    {
     "data": {
      "text/html": [
       "<div>\n",
       "<style scoped>\n",
       "    .dataframe tbody tr th:only-of-type {\n",
       "        vertical-align: middle;\n",
       "    }\n",
       "\n",
       "    .dataframe tbody tr th {\n",
       "        vertical-align: top;\n",
       "    }\n",
       "\n",
       "    .dataframe thead th {\n",
       "        text-align: right;\n",
       "    }\n",
       "</style>\n",
       "<table border=\"1\" class=\"dataframe\">\n",
       "  <thead>\n",
       "    <tr style=\"text-align: right;\">\n",
       "      <th></th>\n",
       "      <th>id</th>\n",
       "      <th>name</th>\n",
       "      <th>now_cost</th>\n",
       "      <th>cost</th>\n",
       "      <th>position</th>\n",
       "      <th>team</th>\n",
       "      <th>clean_sheets_per_90</th>\n",
       "      <th>threat_rank_type</th>\n",
       "      <th>expected_assists_per_90</th>\n",
       "      <th>expected_assists</th>\n",
       "      <th>...</th>\n",
       "      <th>threat_rank</th>\n",
       "      <th>ep_this</th>\n",
       "      <th>transfers_in</th>\n",
       "      <th>bps</th>\n",
       "      <th>goals_conceded_per_90</th>\n",
       "      <th>selected_by_percent</th>\n",
       "      <th>influence_rank_type</th>\n",
       "      <th>points_per_game_rank_type</th>\n",
       "      <th>clean_sheets</th>\n",
       "      <th>now_cost_rank</th>\n",
       "    </tr>\n",
       "  </thead>\n",
       "  <tbody>\n",
       "    <tr>\n",
       "      <th>1</th>\n",
       "      <td>318</td>\n",
       "      <td>Erling Haaland</td>\n",
       "      <td>124</td>\n",
       "      <td>12.4</td>\n",
       "      <td>FWD</td>\n",
       "      <td>Man City</td>\n",
       "      <td>0.42</td>\n",
       "      <td>1</td>\n",
       "      <td>0.10</td>\n",
       "      <td>3.11</td>\n",
       "      <td>...</td>\n",
       "      <td>1</td>\n",
       "      <td>5.4</td>\n",
       "      <td>7833248</td>\n",
       "      <td>1040</td>\n",
       "      <td>0.85</td>\n",
       "      <td>78.4</td>\n",
       "      <td>1</td>\n",
       "      <td>1</td>\n",
       "      <td>13</td>\n",
       "      <td>2</td>\n",
       "    </tr>\n",
       "    <tr>\n",
       "      <th>3</th>\n",
       "      <td>427</td>\n",
       "      <td>Harry Kane</td>\n",
       "      <td>115</td>\n",
       "      <td>11.5</td>\n",
       "      <td>FWD</td>\n",
       "      <td>Spurs</td>\n",
       "      <td>0.29</td>\n",
       "      <td>2</td>\n",
       "      <td>0.11</td>\n",
       "      <td>4.01</td>\n",
       "      <td>...</td>\n",
       "      <td>2</td>\n",
       "      <td>9.2</td>\n",
       "      <td>7381740</td>\n",
       "      <td>1008</td>\n",
       "      <td>1.64</td>\n",
       "      <td>32.7</td>\n",
       "      <td>2</td>\n",
       "      <td>2</td>\n",
       "      <td>11</td>\n",
       "      <td>4</td>\n",
       "    </tr>\n",
       "    <tr>\n",
       "      <th>4</th>\n",
       "      <td>283</td>\n",
       "      <td>Mohamed Salah</td>\n",
       "      <td>131</td>\n",
       "      <td>13.1</td>\n",
       "      <td>MID</td>\n",
       "      <td>Liverpool</td>\n",
       "      <td>0.36</td>\n",
       "      <td>1</td>\n",
       "      <td>0.19</td>\n",
       "      <td>7.03</td>\n",
       "      <td>...</td>\n",
       "      <td>3</td>\n",
       "      <td>9.3</td>\n",
       "      <td>6974743</td>\n",
       "      <td>651</td>\n",
       "      <td>1.23</td>\n",
       "      <td>37.2</td>\n",
       "      <td>1</td>\n",
       "      <td>1</td>\n",
       "      <td>13</td>\n",
       "      <td>1</td>\n",
       "    </tr>\n",
       "    <tr>\n",
       "      <th>5</th>\n",
       "      <td>335</td>\n",
       "      <td>Marcus Rashford</td>\n",
       "      <td>72</td>\n",
       "      <td>7.2</td>\n",
       "      <td>MID</td>\n",
       "      <td>Man Utd</td>\n",
       "      <td>0.41</td>\n",
       "      <td>2</td>\n",
       "      <td>0.09</td>\n",
       "      <td>2.86</td>\n",
       "      <td>...</td>\n",
       "      <td>4</td>\n",
       "      <td>2.7</td>\n",
       "      <td>10735832</td>\n",
       "      <td>530</td>\n",
       "      <td>1.22</td>\n",
       "      <td>37.8</td>\n",
       "      <td>7</td>\n",
       "      <td>2</td>\n",
       "      <td>13</td>\n",
       "      <td>33</td>\n",
       "    </tr>\n",
       "    <tr>\n",
       "      <th>6</th>\n",
       "      <td>301</td>\n",
       "      <td>Kevin De Bruyne</td>\n",
       "      <td>121</td>\n",
       "      <td>12.1</td>\n",
       "      <td>MID</td>\n",
       "      <td>Man City</td>\n",
       "      <td>0.37</td>\n",
       "      <td>27</td>\n",
       "      <td>0.51</td>\n",
       "      <td>13.69</td>\n",
       "      <td>...</td>\n",
       "      <td>44</td>\n",
       "      <td>1.7</td>\n",
       "      <td>7222275</td>\n",
       "      <td>742</td>\n",
       "      <td>0.86</td>\n",
       "      <td>25.5</td>\n",
       "      <td>5</td>\n",
       "      <td>4</td>\n",
       "      <td>10</td>\n",
       "      <td>3</td>\n",
       "    </tr>\n",
       "  </tbody>\n",
       "</table>\n",
       "<p>5 rows × 76 columns</p>\n",
       "</div>"
      ],
      "text/plain": [
       "    id             name  now_cost  cost position       team  \\\n",
       "1  318   Erling Haaland       124  12.4      FWD   Man City   \n",
       "3  427       Harry Kane       115  11.5      FWD      Spurs   \n",
       "4  283    Mohamed Salah       131  13.1      MID  Liverpool   \n",
       "5  335  Marcus Rashford        72   7.2      MID    Man Utd   \n",
       "6  301  Kevin De Bruyne       121  12.1      MID   Man City   \n",
       "\n",
       "   clean_sheets_per_90  threat_rank_type  expected_assists_per_90  \\\n",
       "1                 0.42                 1                     0.10   \n",
       "3                 0.29                 2                     0.11   \n",
       "4                 0.36                 1                     0.19   \n",
       "5                 0.41                 2                     0.09   \n",
       "6                 0.37                27                     0.51   \n",
       "\n",
       "   expected_assists  ...  threat_rank  ep_this  transfers_in   bps  \\\n",
       "1              3.11  ...            1      5.4       7833248  1040   \n",
       "3              4.01  ...            2      9.2       7381740  1008   \n",
       "4              7.03  ...            3      9.3       6974743   651   \n",
       "5              2.86  ...            4      2.7      10735832   530   \n",
       "6             13.69  ...           44      1.7       7222275   742   \n",
       "\n",
       "   goals_conceded_per_90  selected_by_percent  influence_rank_type  \\\n",
       "1                   0.85                 78.4                    1   \n",
       "3                   1.64                 32.7                    2   \n",
       "4                   1.23                 37.2                    1   \n",
       "5                   1.22                 37.8                    7   \n",
       "6                   0.86                 25.5                    5   \n",
       "\n",
       "   points_per_game_rank_type  clean_sheets  now_cost_rank  \n",
       "1                          1            13              2  \n",
       "3                          2            11              4  \n",
       "4                          1            13              1  \n",
       "5                          2            13             33  \n",
       "6                          4            10              3  \n",
       "\n",
       "[5 rows x 76 columns]"
      ]
     },
     "execution_count": 4,
     "metadata": {},
     "output_type": "execute_result"
    }
   ],
   "source": [
    "min_20_starts = fpl_data[fpl_data['starts'] > 20]\n",
    "min_20_starts.head()"
   ]
  },
  {
   "cell_type": "code",
   "execution_count": 5,
   "id": "a1546b64-6003-4c03-9c5f-0c2c955f099e",
   "metadata": {},
   "outputs": [
    {
     "data": {
      "application/vnd.plotly.v1+json": {
       "config": {
        "plotlyServerURL": "https://plot.ly"
       },
       "data": [
        {
         "customdata": [
          [
           "FWD",
           "Erling Haaland",
           "Man City"
          ],
          [
           "FWD",
           "Harry Kane",
           "Spurs"
          ],
          [
           "MID",
           "Mohamed Salah",
           "Liverpool"
          ],
          [
           "MID",
           "Marcus Rashford",
           "Man Utd"
          ],
          [
           "MID",
           "Kevin De Bruyne",
           "Man City"
          ],
          [
           "MID",
           "Martin Ødegaard",
           "Arsenal"
          ],
          [
           "MID",
           "Gabriel Martinelli Silva",
           "Arsenal"
          ],
          [
           "FWD",
           "Ivan Toney",
           "Brentford"
          ],
          [
           "MID",
           "Bukayo Saka",
           "Arsenal"
          ],
          [
           "DEF",
           "Kieran Trippier",
           "Newcastle"
          ],
          [
           "FWD",
           "Callum Wilson",
           "Newcastle"
          ],
          [
           "MID",
           "Bruno Borges Fernandes",
           "Man Utd"
          ],
          [
           "FWD",
           "Gabriel Fernando de Jesus",
           "Arsenal"
          ],
          [
           "FWD",
           "Ollie Watkins",
           "Aston Villa"
          ],
          [
           "MID",
           "Miguel Almirón Rejala",
           "Newcastle"
          ],
          [
           "MID",
           "James Maddison",
           "Leicester"
          ],
          [
           "MID",
           "Solly March",
           "Brighton"
          ],
          [
           "FWD",
           "Aleksandar Mitrović",
           "Fulham"
          ],
          [
           "MID",
           "Phil Foden",
           "Man City"
          ],
          [
           "GKP",
           "Alisson Ramses Becker",
           "Liverpool"
          ],
          [
           "GKP",
           "David Raya Martin",
           "Brentford"
          ],
          [
           "MID",
           "Ilkay Gündogan",
           "Man City"
          ],
          [
           "MID",
           "Jack Grealish",
           "Man City"
          ],
          [
           "MID",
           "Leandro Trossard",
           "Arsenal"
          ],
          [
           "MID",
           "Willian Borges da Silva",
           "Fulham"
          ],
          [
           "MID",
           "Pascal Groß",
           "Brighton"
          ],
          [
           "DEF",
           "William Saliba",
           "Arsenal"
          ],
          [
           "MID",
           "Son Heung-min",
           "Spurs"
          ],
          [
           "MID",
           "Riyad Mahrez",
           "Man City"
          ],
          [
           "MID",
           "Kaoru Mitoma",
           "Brighton"
          ],
          [
           "MID",
           "Eberechi Eze",
           "Crystal Palace"
          ],
          [
           "GKP",
           "Nick Pope",
           "Newcastle"
          ],
          [
           "GKP",
           "David De Gea Quintana",
           "Man Utd"
          ],
          [
           "DEF",
           "Trent Alexander-Arnold",
           "Liverpool"
          ],
          [
           "MID",
           "Harvey Barnes",
           "Leicester"
          ],
          [
           "MID",
           "Rodrigo Moreno",
           "Leeds"
          ],
          [
           "MID",
           "Granit Xhaka",
           "Arsenal"
          ],
          [
           "GKP",
           "José Malheiro de Sá",
           "Wolves"
          ],
          [
           "GKP",
           "Kepa Arrizabalaga",
           "Chelsea"
          ],
          [
           "DEF",
           "Benjamin White",
           "Arsenal"
          ],
          [
           "MID",
           "Jadon Sancho",
           "Man Utd"
          ],
          [
           "MID",
           "Alexis Mac Allister",
           "Brighton"
          ],
          [
           "DEF",
           "Virgil van Dijk",
           "Liverpool"
          ],
          [
           "DEF",
           "John Stones",
           "Man City"
          ],
          [
           "DEF",
           "Luke Shaw",
           "Man Utd"
          ],
          [
           "MID",
           "Morgan Gibbs-White",
           "Nott'm Forest"
          ],
          [
           "MID",
           "Jacob Ramsey",
           "Aston Villa"
          ],
          [
           "DEF",
           "Fabian Schär",
           "Newcastle"
          ],
          [
           "GKP",
           "Bernd Leno",
           "Fulham"
          ],
          [
           "FWD",
           "Bryan Mbeumo",
           "Brentford"
          ],
          [
           "FWD",
           "Dominic Solanke",
           "Bournemouth"
          ],
          [
           "DEF",
           "Diogo Dalot Teixeira",
           "Man Utd"
          ],
          [
           "DEF",
           "Ben Mee",
           "Brentford"
          ],
          [
           "MID",
           "Jarrod Bowen",
           "West Ham"
          ],
          [
           "MID",
           "Douglas Luiz Soares de Paulo",
           "Aston Villa"
          ],
          [
           "DEF",
           "Gabriel dos Santos Magalhães",
           "Arsenal"
          ],
          [
           "GKP",
           "Emiliano Martínez Romero",
           "Aston Villa"
          ],
          [
           "GKP",
           "Aaron Ramsdale",
           "Arsenal"
          ],
          [
           "MID",
           "Christian Eriksen",
           "Man Utd"
          ],
          [
           "MID",
           "James Ward-Prowse",
           "Southampton"
          ],
          [
           "MID",
           "Jack Harrison",
           "Leeds"
          ],
          [
           "MID",
           "Andreas Hoelgebaum Pereira",
           "Fulham"
          ],
          [
           "DEF",
           "Oleksandr Zinchenko",
           "Arsenal"
          ],
          [
           "DEF",
           "Pervis Estupiñán",
           "Brighton"
          ],
          [
           "DEF",
           "Tyrone Mings",
           "Aston Villa"
          ],
          [
           "DEF",
           "Ethan Pinnock",
           "Brentford"
          ],
          [
           "GKP",
           "Vicente Guaita",
           "Crystal Palace"
          ],
          [
           "MID",
           "Raheem Sterling",
           "Chelsea"
          ],
          [
           "MID",
           "Joelinton Cássio Apolinário de Lira",
           "Newcastle"
          ],
          [
           "MID",
           "Michael Olise",
           "Crystal Palace"
          ],
          [
           "MID",
           "Mathias Jensen",
           "Brentford"
          ],
          [
           "DEF",
           "Andrew Robertson",
           "Liverpool"
          ],
          [
           "DEF",
           "Sven Botman",
           "Newcastle"
          ],
          [
           "GKP",
           "Hugo Lloris",
           "Spurs"
          ],
          [
           "GKP",
           "Robert Sánchez",
           "Brighton"
          ],
          [
           "MID",
           "Wilfried Zaha",
           "Crystal Palace"
          ],
          [
           "MID",
           "Lucas Tolentino Coelho de Lima",
           "West Ham"
          ],
          [
           "MID",
           "Dwight McNeil",
           "Everton"
          ],
          [
           "MID",
           "Philip Billing",
           "Bournemouth"
          ],
          [
           "MID",
           "Joe Willock",
           "Newcastle"
          ],
          [
           "DEF",
           "Nathan Aké",
           "Man City"
          ],
          [
           "DEF",
           "Kurt Zouma",
           "West Ham"
          ],
          [
           "GKP",
           "Ederson Santana de Moraes",
           "Man City"
          ],
          [
           "GKP",
           "Lukasz Fabianski",
           "West Ham"
          ],
          [
           "GKP",
           "Danny Ward",
           "Leicester"
          ],
          [
           "MID",
           "Pierre-Emile Højbjerg",
           "Spurs"
          ],
          [
           "MID",
           "Rúben da Silva Neves",
           "Wolves"
          ],
          [
           "DEF",
           "Dan Burn",
           "Newcastle"
          ],
          [
           "GKP",
           "Norberto Murara Neto",
           "Bournemouth"
          ],
          [
           "GKP",
           "Jordan Pickford",
           "Everton"
          ],
          [
           "FWD",
           "Che Adams",
           "Southampton"
          ],
          [
           "MID",
           "Antony Matheus dos Santos",
           "Man Utd"
          ],
          [
           "MID",
           "Bruno Guimarães Rodriguez Moura",
           "Newcastle"
          ],
          [
           "MID",
           "Alex Iwobi",
           "Everton"
          ],
          [
           "MID",
           "Dejan Kulusevski",
           "Spurs"
          ],
          [
           "MID",
           "Christian Nørgaard",
           "Brentford"
          ],
          [
           "DEF",
           "Raphaël Varane",
           "Man Utd"
          ],
          [
           "DEF",
           "Ben Davies",
           "Spurs"
          ],
          [
           "DEF",
           "Conor Coady",
           "Everton"
          ],
          [
           "DEF",
           "Issa Diop",
           "Fulham"
          ],
          [
           "FWD",
           "Brennan Johnson",
           "Nott'm Forest"
          ],
          [
           "MID",
           "Bernardo Veiga de Carvalho e Silva",
           "Man City"
          ],
          [
           "MID",
           "Emiliano Buendía Stati",
           "Aston Villa"
          ],
          [
           "MID",
           "Carlos Henrique Casimiro",
           "Man Utd"
          ],
          [
           "MID",
           "Declan Rice",
           "West Ham"
          ],
          [
           "DEF",
           "Rúben Gato Alves Dias",
           "Man City"
          ],
          [
           "DEF",
           "Lewis Dunk",
           "Brighton"
          ],
          [
           "DEF",
           "Joël Veltman",
           "Brighton"
          ],
          [
           "DEF",
           "Timothy Castagne",
           "Leicester"
          ],
          [
           "MID",
           "Rodrigo Hernandez",
           "Man City"
          ],
          [
           "MID",
           "Saïd Benrahma",
           "West Ham"
          ],
          [
           "MID",
           "Leon Bailey",
           "Aston Villa"
          ],
          [
           "DEF",
           "Thiago Emiliano da Silva",
           "Chelsea"
          ],
          [
           "DEF",
           "Craig Dawson",
           "Wolves"
          ],
          [
           "DEF",
           "Tim Ream",
           "Fulham"
          ],
          [
           "DEF",
           "Lisandro Martínez",
           "Man Utd"
          ],
          [
           "DEF",
           "Rico Henry",
           "Brentford"
          ],
          [
           "DEF",
           "Ashley Young",
           "Aston Villa"
          ],
          [
           "MID",
           "Harrison Reed",
           "Fulham"
          ],
          [
           "DEF",
           "Eric Dier",
           "Spurs"
          ],
          [
           "DEF",
           "Ezri Konsa Ngoyo",
           "Aston Villa"
          ],
          [
           "DEF",
           "Kenny Tete",
           "Fulham"
          ],
          [
           "DEF",
           "Max Kilman",
           "Wolves"
          ],
          [
           "DEF",
           "Serge Aurier",
           "Nott'm Forest"
          ],
          [
           "FWD",
           "Kai Havertz",
           "Chelsea"
          ],
          [
           "FWD",
           "Danny Welbeck",
           "Brighton"
          ],
          [
           "MID",
           "Youri Tielemans",
           "Leicester"
          ],
          [
           "MID",
           "Demarai Gray",
           "Everton"
          ],
          [
           "MID",
           "Tomas Soucek",
           "West Ham"
          ],
          [
           "MID",
           "Sean Longstaff",
           "Newcastle"
          ],
          [
           "DEF",
           "Ivan Perišić",
           "Spurs"
          ],
          [
           "DEF",
           "Manuel Akanji",
           "Man City"
          ],
          [
           "DEF",
           "Adam Webster",
           "Brighton"
          ],
          [
           "DEF",
           "Joel Ward",
           "Crystal Palace"
          ],
          [
           "DEF",
           "James Tarkowski",
           "Everton"
          ],
          [
           "MID",
           "Jordan Ayew",
           "Crystal Palace"
          ],
          [
           "MID",
           "Jefferson Lerma Solís",
           "Bournemouth"
          ],
          [
           "DEF",
           "Marc Cucurella Saseta",
           "Chelsea"
          ],
          [
           "DEF",
           "Antonee Robinson",
           "Fulham"
          ],
          [
           "MID",
           "John McGinn",
           "Aston Villa"
          ],
          [
           "MID",
           "Kiernan Dewsbury-Hall",
           "Leicester"
          ],
          [
           "MID",
           "Thomas Partey",
           "Arsenal"
          ],
          [
           "MID",
           "Jeffrey Schlupp",
           "Crystal Palace"
          ],
          [
           "DEF",
           "Kyle Walker",
           "Man City"
          ],
          [
           "DEF",
           "Aaron Cresswell",
           "West Ham"
          ],
          [
           "DEF",
           "Marc Guéhi",
           "Crystal Palace"
          ],
          [
           "DEF",
           "Tyrick Mitchell",
           "Crystal Palace"
          ],
          [
           "DEF",
           "Lloyd Kelly",
           "Bournemouth"
          ],
          [
           "GKP",
           "Gavin Bazunu",
           "Southampton"
          ],
          [
           "GKP",
           "Illan Meslier",
           "Leeds"
          ],
          [
           "MID",
           "Jorge Luiz Frello Filho",
           "Arsenal"
          ],
          [
           "MID",
           "Bobby De Cordova-Reid",
           "Fulham"
          ],
          [
           "DEF",
           "Joachim Andersen",
           "Crystal Palace"
          ],
          [
           "DEF",
           "Thilo Kehrer",
           "West Ham"
          ],
          [
           "DEF",
           "Wout Faes",
           "Leicester"
          ],
          [
           "FWD",
           "Michail Antonio",
           "West Ham"
          ],
          [
           "MID",
           "Vitaly Janelt",
           "Brentford"
          ],
          [
           "MID",
           "João Palhinha Gonçalves",
           "Fulham"
          ],
          [
           "DEF",
           "Aaron Hickey",
           "Brentford"
          ],
          [
           "MID",
           "Matheus Luiz Nunes",
           "Wolves"
          ],
          [
           "DEF",
           "Cristian Romero",
           "Spurs"
          ],
          [
           "DEF",
           "Clément Lenglet",
           "Spurs"
          ],
          [
           "DEF",
           "Romain Perraud",
           "Southampton"
          ],
          [
           "MID",
           "Brenden Aaronson",
           "Leeds"
          ],
          [
           "MID",
           "Amadou Onana",
           "Everton"
          ],
          [
           "DEF",
           "Pascal Struijk",
           "Leeds"
          ],
          [
           "MID",
           "Cheick Doucouré",
           "Crystal Palace"
          ],
          [
           "DEF",
           "Marcos Senesi",
           "Bournemouth"
          ],
          [
           "DEF",
           "Vitalii Mykolenko",
           "Everton"
          ],
          [
           "MID",
           "Moisés Caicedo Corozo",
           "Brighton"
          ],
          [
           "MID",
           "Marc Roca Junqué",
           "Leeds"
          ],
          [
           "DEF",
           "Nélson Cabral Semedo",
           "Wolves"
          ],
          [
           "DEF",
           "Vladimir Coufal",
           "West Ham"
          ],
          [
           "MID",
           "Ryan Christie",
           "Bournemouth"
          ],
          [
           "MID",
           "Jordan Henderson",
           "Liverpool"
          ],
          [
           "MID",
           "Ryan Yates",
           "Nott'm Forest"
          ],
          [
           "MID",
           "Tyler Adams",
           "Leeds"
          ],
          [
           "MID",
           "Idrissa Gueye",
           "Everton"
          ],
          [
           "MID",
           "Roméo Lavia",
           "Southampton"
          ],
          [
           "DEF",
           "Rasmus Kristensen",
           "Leeds"
          ],
          [
           "DEF",
           "Armel Bella-Kotchap",
           "Southampton"
          ],
          [
           "DEF",
           "Luke Ayling",
           "Leeds"
          ],
          [
           "DEF",
           "Tosin Adarabioyo",
           "Fulham"
          ],
          [
           "DEF",
           "Renan Augusto Lodi dos Santos",
           "Nott'm Forest"
          ],
          [
           "DEF",
           "Adam Smith",
           "Bournemouth"
          ],
          [
           "DEF",
           "Joe Worrall",
           "Nott'm Forest"
          ],
          [
           "MID",
           "Fabio Henrique Tavares",
           "Liverpool"
          ],
          [
           "MID",
           "Mohamed Elyounoussi",
           "Southampton"
          ],
          [
           "MID",
           "Remo Freuler",
           "Nott'm Forest"
          ],
          [
           "MID",
           "Boubacar Kamara",
           "Aston Villa"
          ],
          [
           "DEF",
           "Kyle Walker-Peters",
           "Southampton"
          ],
          [
           "DEF",
           "Chris Mepham",
           "Bournemouth"
          ],
          [
           "DEF",
           "Robin Koch",
           "Leeds"
          ],
          [
           "DEF",
           "Mohammed Salisu",
           "Southampton"
          ],
          [
           "DEF",
           "Jan Bednarek",
           "Southampton"
          ]
         ],
         "hovertemplate": "Price=%{x}<br>Total Points=%{y}<br>Position=%{customdata[0]}<br>Player Name=%{customdata[1]}<br>Team=%{customdata[2]}<br>Selected Percentage=%{marker.color}<extra></extra>",
         "legendgroup": "",
         "marker": {
          "color": [
           78.4,
           32.7,
           37.2,
           37.8,
           25.5,
           33.3,
           26.3,
           18.2,
           25.6,
           62.4,
           17.2,
           13.3,
           28.3,
           12.8,
           12.8,
           5.5,
           4.4,
           12.5,
           9.7,
           16.8,
           14.4,
           7.7,
           7.9,
           7.2,
           0.5,
           11,
           15.6,
           6.4,
           8.9,
           27.3,
           12.8,
           18,
           15.8,
           30.7,
           1.7,
           4.1,
           2.7,
           5.1,
           6.4,
           16.1,
           3.3,
           14.7,
           12.4,
           8.2,
           19.2,
           1.3,
           1.5,
           14.4,
           3.5,
           4,
           3.6,
           6.3,
           14.4,
           3.3,
           1,
           13.4,
           6.6,
           11.4,
           2.5,
           4.9,
           2.1,
           10.1,
           9,
           20.5,
           12.5,
           0.9,
           1.4,
           3.4,
           2,
           1.8,
           1.8,
           6,
           6.9,
           3.2,
           7.6,
           6.7,
           0.9,
           2,
           0.9,
           1.2,
           2.4,
           1.4,
           15,
           1.2,
           18.4,
           1.8,
           1.5,
           4.3,
           0.6,
           6.2,
           0.8,
           3.4,
           2.9,
           1.1,
           3.6,
           0.2,
           3.1,
           1,
           3,
           0.3,
           1.6,
           5.9,
           0.7,
           2.4,
           3.2,
           7.4,
           8.2,
           2.4,
           5.5,
           1.9,
           1.1,
           2.7,
           5.7,
           0.8,
           1.2,
           4.7,
           2.6,
           0.8,
           1,
           4.8,
           1,
           0.4,
           3.1,
           0.3,
           3.2,
           2.1,
           1.2,
           0.6,
           0.6,
           1,
           14.7,
           3.6,
           0.5,
           0.4,
           4.4,
           0.4,
           0.5,
           5,
           0.5,
           0.6,
           0.5,
           0.4,
           0.1,
           4.5,
           1.5,
           2.5,
           1,
           0.5,
           0.6,
           1.7,
           1.9,
           0.1,
           1.6,
           0.2,
           0.2,
           1.5,
           0.1,
           0.3,
           0.3,
           0.1,
           1.4,
           0.3,
           0.4,
           0.6,
           0.1,
           0.5,
           0.1,
           0.2,
           0.6,
           0.4,
           0.1,
           0.6,
           1,
           0.1,
           0.5,
           0,
           0.1,
           0.1,
           0.2,
           0.4,
           0.2,
           0.3,
           0.1,
           0.2,
           0.2,
           0.1,
           0.8,
           0.1,
           0,
           0.1,
           0.6,
           0.1,
           0.2,
           0.1,
           0.2
          ],
          "coloraxis": "coloraxis",
          "symbol": "circle"
         },
         "mode": "markers",
         "name": "",
         "orientation": "v",
         "showlegend": false,
         "type": "scatter",
         "x": [
          12.4,
          11.5,
          13.1,
          7.2,
          12.1,
          6.9,
          6.5,
          7.1,
          8,
          6,
          7.3,
          9.5,
          8.1,
          7.3,
          5.4,
          7.8,
          5.2,
          6.6,
          8,
          5.5,
          4.8,
          7.4,
          7.1,
          6.6,
          5.5,
          5.4,
          4.9,
          11.5,
          7.5,
          5.7,
          5.7,
          5.4,
          5.1,
          7.8,
          6.6,
          6.3,
          4.8,
          5,
          4.5,
          5,
          7.1,
          5.6,
          6.6,
          5.6,
          5.3,
          5.5,
          5.1,
          5.1,
          4.6,
          5.7,
          5.6,
          4.8,
          4.8,
          8,
          4.8,
          5.2,
          5,
          4.8,
          6.2,
          6.1,
          5.7,
          4.3,
          5,
          5,
          4.7,
          4.4,
          4.4,
          9.7,
          6,
          5.3,
          4.8,
          6.8,
          4.5,
          5.4,
          4.4,
          7.2,
          5.9,
          5.2,
          5,
          4.7,
          5,
          4.4,
          5.4,
          4.9,
          3.8,
          5.3,
          5.2,
          4.5,
          4.5,
          4.4,
          6,
          7.3,
          5.5,
          4.9,
          7.8,
          5.3,
          4.8,
          4.7,
          4.7,
          4.3,
          5.5,
          6.7,
          5.7,
          4.9,
          4.7,
          6,
          4.8,
          4.6,
          4.3,
          5.6,
          5.5,
          4.3,
          5.4,
          4.8,
          4.5,
          4.4,
          4.4,
          4.3,
          4.3,
          5,
          4.4,
          4.4,
          4.3,
          4.3,
          7.4,
          6.5,
          6.1,
          5.1,
          5,
          4.3,
          5.3,
          5.1,
          4.5,
          4.4,
          4.1,
          5.2,
          4.7,
          4.9,
          4.4,
          5.1,
          4.9,
          4.7,
          4.7,
          4.7,
          4.7,
          4.5,
          4.4,
          4.3,
          4.4,
          4.4,
          5.7,
          5.4,
          4.5,
          4.3,
          4.2,
          6.9,
          5.5,
          4.9,
          4.9,
          4.8,
          4.9,
          4.8,
          4,
          5.3,
          4.7,
          4.5,
          5,
          4.4,
          4.1,
          5,
          4.8,
          5,
          4,
          5.3,
          5.3,
          5,
          4.9,
          4.7,
          4.5,
          4.7,
          4.5,
          4.5,
          4.4,
          4.3,
          4.3,
          4.2,
          5.2,
          5.1,
          4.9,
          4.8,
          4.4,
          4.3,
          4.5,
          4.2,
          4.1
         ],
         "xaxis": "x",
         "y": [
          272,
          263,
          239,
          205,
          183,
          212,
          198,
          182,
          202,
          198,
          157,
          176,
          125,
          175,
          158,
          135,
          147,
          107,
          142,
          162,
          166,
          132,
          121,
          154,
          116,
          159,
          117,
          152,
          126,
          138,
          159,
          157,
          161,
          156,
          138,
          127,
          153,
          148,
          118,
          156,
          105,
          140,
          127,
          93,
          124,
          145,
          135,
          139,
          142,
          150,
          130,
          102,
          143,
          145,
          142,
          146,
          135,
          143,
          103,
          142,
          134,
          123,
          99,
          128,
          130,
          112,
          99,
          101,
          115,
          132,
          132,
          121,
          129,
          89,
          82,
          95,
          98,
          126,
          126,
          123,
          92,
          88,
          121,
          127,
          91,
          120,
          118,
          129,
          93,
          124,
          94,
          82,
          107,
          126,
          96,
          71,
          77,
          99,
          77,
          79,
          122,
          106,
          117,
          87,
          116,
          80,
          112,
          95,
          114,
          108,
          106,
          100,
          80,
          75,
          98,
          81,
          112,
          87,
          107,
          96,
          110,
          90,
          109,
          70,
          102,
          91,
          86,
          91,
          100,
          93,
          94,
          82,
          75,
          78,
          106,
          104,
          101,
          65,
          93,
          90,
          82,
          86,
          89,
          69,
          74,
          95,
          93,
          60,
          84,
          90,
          79,
          90,
          80,
          67,
          78,
          84,
          85,
          83,
          63,
          80,
          66,
          63,
          71,
          83,
          77,
          66,
          74,
          69,
          75,
          79,
          67,
          75,
          58,
          64,
          69,
          53,
          47,
          66,
          57,
          51,
          49,
          59,
          49,
          56,
          74,
          61,
          70,
          62,
          54,
          44,
          56,
          43,
          55,
          33,
          32
         ],
         "yaxis": "y"
        }
       ],
       "layout": {
        "autosize": true,
        "coloraxis": {
         "colorbar": {
          "title": {
           "text": "Selected Percentage"
          }
         },
         "colorscale": [
          [
           0,
           "rgb(75, 41, 145)"
          ],
          [
           0.16666666666666666,
           "rgb(135, 44, 162)"
          ],
          [
           0.3333333333333333,
           "rgb(192, 54, 157)"
          ],
          [
           0.5,
           "rgb(234, 79, 136)"
          ],
          [
           0.6666666666666666,
           "rgb(250, 120, 118)"
          ],
          [
           0.8333333333333334,
           "rgb(246, 169, 122)"
          ],
          [
           1,
           "rgb(237, 217, 163)"
          ]
         ]
        },
        "legend": {
         "tracegroupgap": 0
        },
        "template": {
         "data": {
          "bar": [
           {
            "error_x": {
             "color": "#2a3f5f"
            },
            "error_y": {
             "color": "#2a3f5f"
            },
            "marker": {
             "line": {
              "color": "white",
              "width": 0.5
             },
             "pattern": {
              "fillmode": "overlay",
              "size": 10,
              "solidity": 0.2
             }
            },
            "type": "bar"
           }
          ],
          "barpolar": [
           {
            "marker": {
             "line": {
              "color": "white",
              "width": 0.5
             },
             "pattern": {
              "fillmode": "overlay",
              "size": 10,
              "solidity": 0.2
             }
            },
            "type": "barpolar"
           }
          ],
          "carpet": [
           {
            "aaxis": {
             "endlinecolor": "#2a3f5f",
             "gridcolor": "#C8D4E3",
             "linecolor": "#C8D4E3",
             "minorgridcolor": "#C8D4E3",
             "startlinecolor": "#2a3f5f"
            },
            "baxis": {
             "endlinecolor": "#2a3f5f",
             "gridcolor": "#C8D4E3",
             "linecolor": "#C8D4E3",
             "minorgridcolor": "#C8D4E3",
             "startlinecolor": "#2a3f5f"
            },
            "type": "carpet"
           }
          ],
          "choropleth": [
           {
            "colorbar": {
             "outlinewidth": 0,
             "ticks": ""
            },
            "type": "choropleth"
           }
          ],
          "contour": [
           {
            "colorbar": {
             "outlinewidth": 0,
             "ticks": ""
            },
            "colorscale": [
             [
              0,
              "#0d0887"
             ],
             [
              0.1111111111111111,
              "#46039f"
             ],
             [
              0.2222222222222222,
              "#7201a8"
             ],
             [
              0.3333333333333333,
              "#9c179e"
             ],
             [
              0.4444444444444444,
              "#bd3786"
             ],
             [
              0.5555555555555556,
              "#d8576b"
             ],
             [
              0.6666666666666666,
              "#ed7953"
             ],
             [
              0.7777777777777778,
              "#fb9f3a"
             ],
             [
              0.8888888888888888,
              "#fdca26"
             ],
             [
              1,
              "#f0f921"
             ]
            ],
            "type": "contour"
           }
          ],
          "contourcarpet": [
           {
            "colorbar": {
             "outlinewidth": 0,
             "ticks": ""
            },
            "type": "contourcarpet"
           }
          ],
          "heatmap": [
           {
            "colorbar": {
             "outlinewidth": 0,
             "ticks": ""
            },
            "colorscale": [
             [
              0,
              "#0d0887"
             ],
             [
              0.1111111111111111,
              "#46039f"
             ],
             [
              0.2222222222222222,
              "#7201a8"
             ],
             [
              0.3333333333333333,
              "#9c179e"
             ],
             [
              0.4444444444444444,
              "#bd3786"
             ],
             [
              0.5555555555555556,
              "#d8576b"
             ],
             [
              0.6666666666666666,
              "#ed7953"
             ],
             [
              0.7777777777777778,
              "#fb9f3a"
             ],
             [
              0.8888888888888888,
              "#fdca26"
             ],
             [
              1,
              "#f0f921"
             ]
            ],
            "type": "heatmap"
           }
          ],
          "heatmapgl": [
           {
            "colorbar": {
             "outlinewidth": 0,
             "ticks": ""
            },
            "colorscale": [
             [
              0,
              "#0d0887"
             ],
             [
              0.1111111111111111,
              "#46039f"
             ],
             [
              0.2222222222222222,
              "#7201a8"
             ],
             [
              0.3333333333333333,
              "#9c179e"
             ],
             [
              0.4444444444444444,
              "#bd3786"
             ],
             [
              0.5555555555555556,
              "#d8576b"
             ],
             [
              0.6666666666666666,
              "#ed7953"
             ],
             [
              0.7777777777777778,
              "#fb9f3a"
             ],
             [
              0.8888888888888888,
              "#fdca26"
             ],
             [
              1,
              "#f0f921"
             ]
            ],
            "type": "heatmapgl"
           }
          ],
          "histogram": [
           {
            "marker": {
             "pattern": {
              "fillmode": "overlay",
              "size": 10,
              "solidity": 0.2
             }
            },
            "type": "histogram"
           }
          ],
          "histogram2d": [
           {
            "colorbar": {
             "outlinewidth": 0,
             "ticks": ""
            },
            "colorscale": [
             [
              0,
              "#0d0887"
             ],
             [
              0.1111111111111111,
              "#46039f"
             ],
             [
              0.2222222222222222,
              "#7201a8"
             ],
             [
              0.3333333333333333,
              "#9c179e"
             ],
             [
              0.4444444444444444,
              "#bd3786"
             ],
             [
              0.5555555555555556,
              "#d8576b"
             ],
             [
              0.6666666666666666,
              "#ed7953"
             ],
             [
              0.7777777777777778,
              "#fb9f3a"
             ],
             [
              0.8888888888888888,
              "#fdca26"
             ],
             [
              1,
              "#f0f921"
             ]
            ],
            "type": "histogram2d"
           }
          ],
          "histogram2dcontour": [
           {
            "colorbar": {
             "outlinewidth": 0,
             "ticks": ""
            },
            "colorscale": [
             [
              0,
              "#0d0887"
             ],
             [
              0.1111111111111111,
              "#46039f"
             ],
             [
              0.2222222222222222,
              "#7201a8"
             ],
             [
              0.3333333333333333,
              "#9c179e"
             ],
             [
              0.4444444444444444,
              "#bd3786"
             ],
             [
              0.5555555555555556,
              "#d8576b"
             ],
             [
              0.6666666666666666,
              "#ed7953"
             ],
             [
              0.7777777777777778,
              "#fb9f3a"
             ],
             [
              0.8888888888888888,
              "#fdca26"
             ],
             [
              1,
              "#f0f921"
             ]
            ],
            "type": "histogram2dcontour"
           }
          ],
          "mesh3d": [
           {
            "colorbar": {
             "outlinewidth": 0,
             "ticks": ""
            },
            "type": "mesh3d"
           }
          ],
          "parcoords": [
           {
            "line": {
             "colorbar": {
              "outlinewidth": 0,
              "ticks": ""
             }
            },
            "type": "parcoords"
           }
          ],
          "pie": [
           {
            "automargin": true,
            "type": "pie"
           }
          ],
          "scatter": [
           {
            "fillpattern": {
             "fillmode": "overlay",
             "size": 10,
             "solidity": 0.2
            },
            "type": "scatter"
           }
          ],
          "scatter3d": [
           {
            "line": {
             "colorbar": {
              "outlinewidth": 0,
              "ticks": ""
             }
            },
            "marker": {
             "colorbar": {
              "outlinewidth": 0,
              "ticks": ""
             }
            },
            "type": "scatter3d"
           }
          ],
          "scattercarpet": [
           {
            "marker": {
             "colorbar": {
              "outlinewidth": 0,
              "ticks": ""
             }
            },
            "type": "scattercarpet"
           }
          ],
          "scattergeo": [
           {
            "marker": {
             "colorbar": {
              "outlinewidth": 0,
              "ticks": ""
             }
            },
            "type": "scattergeo"
           }
          ],
          "scattergl": [
           {
            "marker": {
             "colorbar": {
              "outlinewidth": 0,
              "ticks": ""
             }
            },
            "type": "scattergl"
           }
          ],
          "scattermapbox": [
           {
            "marker": {
             "colorbar": {
              "outlinewidth": 0,
              "ticks": ""
             }
            },
            "type": "scattermapbox"
           }
          ],
          "scatterpolar": [
           {
            "marker": {
             "colorbar": {
              "outlinewidth": 0,
              "ticks": ""
             }
            },
            "type": "scatterpolar"
           }
          ],
          "scatterpolargl": [
           {
            "marker": {
             "colorbar": {
              "outlinewidth": 0,
              "ticks": ""
             }
            },
            "type": "scatterpolargl"
           }
          ],
          "scatterternary": [
           {
            "marker": {
             "colorbar": {
              "outlinewidth": 0,
              "ticks": ""
             }
            },
            "type": "scatterternary"
           }
          ],
          "surface": [
           {
            "colorbar": {
             "outlinewidth": 0,
             "ticks": ""
            },
            "colorscale": [
             [
              0,
              "#0d0887"
             ],
             [
              0.1111111111111111,
              "#46039f"
             ],
             [
              0.2222222222222222,
              "#7201a8"
             ],
             [
              0.3333333333333333,
              "#9c179e"
             ],
             [
              0.4444444444444444,
              "#bd3786"
             ],
             [
              0.5555555555555556,
              "#d8576b"
             ],
             [
              0.6666666666666666,
              "#ed7953"
             ],
             [
              0.7777777777777778,
              "#fb9f3a"
             ],
             [
              0.8888888888888888,
              "#fdca26"
             ],
             [
              1,
              "#f0f921"
             ]
            ],
            "type": "surface"
           }
          ],
          "table": [
           {
            "cells": {
             "fill": {
              "color": "#EBF0F8"
             },
             "line": {
              "color": "white"
             }
            },
            "header": {
             "fill": {
              "color": "#C8D4E3"
             },
             "line": {
              "color": "white"
             }
            },
            "type": "table"
           }
          ]
         },
         "layout": {
          "annotationdefaults": {
           "arrowcolor": "#2a3f5f",
           "arrowhead": 0,
           "arrowwidth": 1
          },
          "autotypenumbers": "strict",
          "coloraxis": {
           "colorbar": {
            "outlinewidth": 0,
            "ticks": ""
           }
          },
          "colorscale": {
           "diverging": [
            [
             0,
             "#8e0152"
            ],
            [
             0.1,
             "#c51b7d"
            ],
            [
             0.2,
             "#de77ae"
            ],
            [
             0.3,
             "#f1b6da"
            ],
            [
             0.4,
             "#fde0ef"
            ],
            [
             0.5,
             "#f7f7f7"
            ],
            [
             0.6,
             "#e6f5d0"
            ],
            [
             0.7,
             "#b8e186"
            ],
            [
             0.8,
             "#7fbc41"
            ],
            [
             0.9,
             "#4d9221"
            ],
            [
             1,
             "#276419"
            ]
           ],
           "sequential": [
            [
             0,
             "#0d0887"
            ],
            [
             0.1111111111111111,
             "#46039f"
            ],
            [
             0.2222222222222222,
             "#7201a8"
            ],
            [
             0.3333333333333333,
             "#9c179e"
            ],
            [
             0.4444444444444444,
             "#bd3786"
            ],
            [
             0.5555555555555556,
             "#d8576b"
            ],
            [
             0.6666666666666666,
             "#ed7953"
            ],
            [
             0.7777777777777778,
             "#fb9f3a"
            ],
            [
             0.8888888888888888,
             "#fdca26"
            ],
            [
             1,
             "#f0f921"
            ]
           ],
           "sequentialminus": [
            [
             0,
             "#0d0887"
            ],
            [
             0.1111111111111111,
             "#46039f"
            ],
            [
             0.2222222222222222,
             "#7201a8"
            ],
            [
             0.3333333333333333,
             "#9c179e"
            ],
            [
             0.4444444444444444,
             "#bd3786"
            ],
            [
             0.5555555555555556,
             "#d8576b"
            ],
            [
             0.6666666666666666,
             "#ed7953"
            ],
            [
             0.7777777777777778,
             "#fb9f3a"
            ],
            [
             0.8888888888888888,
             "#fdca26"
            ],
            [
             1,
             "#f0f921"
            ]
           ]
          },
          "colorway": [
           "#636efa",
           "#EF553B",
           "#00cc96",
           "#ab63fa",
           "#FFA15A",
           "#19d3f3",
           "#FF6692",
           "#B6E880",
           "#FF97FF",
           "#FECB52"
          ],
          "font": {
           "color": "#2a3f5f"
          },
          "geo": {
           "bgcolor": "white",
           "lakecolor": "white",
           "landcolor": "white",
           "showlakes": true,
           "showland": true,
           "subunitcolor": "#C8D4E3"
          },
          "hoverlabel": {
           "align": "left"
          },
          "hovermode": "closest",
          "mapbox": {
           "style": "light"
          },
          "paper_bgcolor": "white",
          "plot_bgcolor": "white",
          "polar": {
           "angularaxis": {
            "gridcolor": "#EBF0F8",
            "linecolor": "#EBF0F8",
            "ticks": ""
           },
           "bgcolor": "white",
           "radialaxis": {
            "gridcolor": "#EBF0F8",
            "linecolor": "#EBF0F8",
            "ticks": ""
           }
          },
          "scene": {
           "xaxis": {
            "backgroundcolor": "white",
            "gridcolor": "#DFE8F3",
            "gridwidth": 2,
            "linecolor": "#EBF0F8",
            "showbackground": true,
            "ticks": "",
            "zerolinecolor": "#EBF0F8"
           },
           "yaxis": {
            "backgroundcolor": "white",
            "gridcolor": "#DFE8F3",
            "gridwidth": 2,
            "linecolor": "#EBF0F8",
            "showbackground": true,
            "ticks": "",
            "zerolinecolor": "#EBF0F8"
           },
           "zaxis": {
            "backgroundcolor": "white",
            "gridcolor": "#DFE8F3",
            "gridwidth": 2,
            "linecolor": "#EBF0F8",
            "showbackground": true,
            "ticks": "",
            "zerolinecolor": "#EBF0F8"
           }
          },
          "shapedefaults": {
           "line": {
            "color": "#2a3f5f"
           }
          },
          "ternary": {
           "aaxis": {
            "gridcolor": "#DFE8F3",
            "linecolor": "#A2B1C6",
            "ticks": ""
           },
           "baxis": {
            "gridcolor": "#DFE8F3",
            "linecolor": "#A2B1C6",
            "ticks": ""
           },
           "bgcolor": "white",
           "caxis": {
            "gridcolor": "#DFE8F3",
            "linecolor": "#A2B1C6",
            "ticks": ""
           }
          },
          "title": {
           "x": 0.05
          },
          "xaxis": {
           "automargin": true,
           "gridcolor": "#EBF0F8",
           "linecolor": "#EBF0F8",
           "ticks": "",
           "title": {
            "standoff": 15
           },
           "zerolinecolor": "#EBF0F8",
           "zerolinewidth": 2
          },
          "yaxis": {
           "automargin": true,
           "gridcolor": "#EBF0F8",
           "linecolor": "#EBF0F8",
           "ticks": "",
           "title": {
            "standoff": 15
           },
           "zerolinecolor": "#EBF0F8",
           "zerolinewidth": 2
          }
         }
        },
        "title": {
         "text": "Price vs Total Points: FPL Player Analysis"
        },
        "xaxis": {
         "anchor": "y",
         "autorange": true,
         "domain": [
          0,
          1
         ],
         "range": [
          3.2309330628803243,
          13.669066937119675
         ],
         "title": {
          "text": "Price"
         },
         "type": "linear"
        },
        "yaxis": {
         "anchor": "x",
         "autorange": true,
         "domain": [
          0,
          1
         ],
         "range": [
          15.101604278074866,
          288.8983957219251
         ],
         "title": {
          "text": "Total Points"
         },
         "type": "linear"
        }
       }
      },
      "image/png": "[encoded data removed]",
      "text/html": [
       "<div>                            <div id=\"e81bd2e8-374c-44ab-8771-0683cb2af97c\" class=\"plotly-graph-div\" style=\"height:500px; width:100%;\"></div>            <script type=\"text/javascript\">                require([\"plotly\"], function(Plotly) {                    window.PLOTLYENV=window.PLOTLYENV || {};                                    if (document.getElementById(\"e81bd2e8-374c-44ab-8771-0683cb2af97c\")) {                    Plotly.newPlot(                        \"e81bd2e8-374c-44ab-8771-0683cb2af97c\",                        [{\"customdata\":[[\"FWD\",\"Erling Haaland\",\"Man City\"],[\"FWD\",\"Harry Kane\",\"Spurs\"],[\"MID\",\"Mohamed Salah\",\"Liverpool\"],[\"MID\",\"Marcus Rashford\",\"Man Utd\"],[\"MID\",\"Kevin De Bruyne\",\"Man City\"],[\"MID\",\"Martin \\u00d8degaard\",\"Arsenal\"],[\"MID\",\"Gabriel Martinelli Silva\",\"Arsenal\"],[\"FWD\",\"Ivan Toney\",\"Brentford\"],[\"MID\",\"Bukayo Saka\",\"Arsenal\"],[\"DEF\",\"Kieran Trippier\",\"Newcastle\"],[\"FWD\",\"Callum Wilson\",\"Newcastle\"],[\"MID\",\"Bruno Borges Fernandes\",\"Man Utd\"],[\"FWD\",\"Gabriel Fernando de Jesus\",\"Arsenal\"],[\"FWD\",\"Ollie Watkins\",\"Aston Villa\"],[\"MID\",\"Miguel Almir\\u00f3n Rejala\",\"Newcastle\"],[\"MID\",\"James Maddison\",\"Leicester\"],[\"MID\",\"Solly March\",\"Brighton\"],[\"FWD\",\"Aleksandar Mitrovi\\u0107\",\"Fulham\"],[\"MID\",\"Phil Foden\",\"Man City\"],[\"GKP\",\"Alisson Ramses Becker\",\"Liverpool\"],[\"GKP\",\"David Raya Martin\",\"Brentford\"],[\"MID\",\"Ilkay G\\u00fcndogan\",\"Man City\"],[\"MID\",\"Jack Grealish\",\"Man City\"],[\"MID\",\"Leandro Trossard\",\"Arsenal\"],[\"MID\",\"Willian Borges da Silva\",\"Fulham\"],[\"MID\",\"Pascal Gro\\u00df\",\"Brighton\"],[\"DEF\",\"William Saliba\",\"Arsenal\"],[\"MID\",\"Son Heung-min\",\"Spurs\"],[\"MID\",\"Riyad Mahrez\",\"Man City\"],[\"MID\",\"Kaoru Mitoma\",\"Brighton\"],[\"MID\",\"Eberechi Eze\",\"Crystal Palace\"],[\"GKP\",\"Nick Pope\",\"Newcastle\"],[\"GKP\",\"David De Gea Quintana\",\"Man Utd\"],[\"DEF\",\"Trent Alexander-Arnold\",\"Liverpool\"],[\"MID\",\"Harvey Barnes\",\"Leicester\"],[\"MID\",\"Rodrigo Moreno\",\"Leeds\"],[\"MID\",\"Granit Xhaka\",\"Arsenal\"],[\"GKP\",\"Jos\\u00e9 Malheiro de S\\u00e1\",\"Wolves\"],[\"GKP\",\"Kepa Arrizabalaga\",\"Chelsea\"],[\"DEF\",\"Benjamin White\",\"Arsenal\"],[\"MID\",\"Jadon Sancho\",\"Man Utd\"],[\"MID\",\"Alexis Mac Allister\",\"Brighton\"],[\"DEF\",\"Virgil van Dijk\",\"Liverpool\"],[\"DEF\",\"John Stones\",\"Man City\"],[\"DEF\",\"Luke Shaw\",\"Man Utd\"],[\"MID\",\"Morgan Gibbs-White\",\"Nott'm Forest\"],[\"MID\",\"Jacob Ramsey\",\"Aston Villa\"],[\"DEF\",\"Fabian Sch\\u00e4r\",\"Newcastle\"],[\"GKP\",\"Bernd Leno\",\"Fulham\"],[\"FWD\",\"Bryan Mbeumo\",\"Brentford\"],[\"FWD\",\"Dominic Solanke\",\"Bournemouth\"],[\"DEF\",\"Diogo Dalot Teixeira\",\"Man Utd\"],[\"DEF\",\"Ben Mee\",\"Brentford\"],[\"MID\",\"Jarrod Bowen\",\"West Ham\"],[\"MID\",\"Douglas Luiz Soares de Paulo\",\"Aston Villa\"],[\"DEF\",\"Gabriel dos Santos Magalh\\u00e3es\",\"Arsenal\"],[\"GKP\",\"Emiliano Mart\\u00ednez Romero\",\"Aston Villa\"],[\"GKP\",\"Aaron Ramsdale\",\"Arsenal\"],[\"MID\",\"Christian Eriksen\",\"Man Utd\"],[\"MID\",\"James Ward-Prowse\",\"Southampton\"],[\"MID\",\"Jack Harrison\",\"Leeds\"],[\"MID\",\"Andreas Hoelgebaum Pereira\",\"Fulham\"],[\"DEF\",\"Oleksandr Zinchenko\",\"Arsenal\"],[\"DEF\",\"Pervis Estupi\\u00f1\\u00e1n\",\"Brighton\"],[\"DEF\",\"Tyrone Mings\",\"Aston Villa\"],[\"DEF\",\"Ethan Pinnock\",\"Brentford\"],[\"GKP\",\"Vicente Guaita\",\"Crystal Palace\"],[\"MID\",\"Raheem Sterling\",\"Chelsea\"],[\"MID\",\"Joelinton C\\u00e1ssio Apolin\\u00e1rio de Lira\",\"Newcastle\"],[\"MID\",\"Michael Olise\",\"Crystal Palace\"],[\"MID\",\"Mathias Jensen\",\"Brentford\"],[\"DEF\",\"Andrew Robertson\",\"Liverpool\"],[\"DEF\",\"Sven Botman\",\"Newcastle\"],[\"GKP\",\"Hugo Lloris\",\"Spurs\"],[\"GKP\",\"Robert S\\u00e1nchez\",\"Brighton\"],[\"MID\",\"Wilfried Zaha\",\"Crystal Palace\"],[\"MID\",\"Lucas Tolentino Coelho de Lima\",\"West Ham\"],[\"MID\",\"Dwight McNeil\",\"Everton\"],[\"MID\",\"Philip Billing\",\"Bournemouth\"],[\"MID\",\"Joe Willock\",\"Newcastle\"],[\"DEF\",\"Nathan Ak\\u00e9\",\"Man City\"],[\"DEF\",\"Kurt Zouma\",\"West Ham\"],[\"GKP\",\"Ederson Santana de Moraes\",\"Man City\"],[\"GKP\",\"Lukasz Fabianski\",\"West Ham\"],[\"GKP\",\"Danny Ward\",\"Leicester\"],[\"MID\",\"Pierre-Emile H\\u00f8jbjerg\",\"Spurs\"],[\"MID\",\"R\\u00faben da Silva Neves\",\"Wolves\"],[\"DEF\",\"Dan Burn\",\"Newcastle\"],[\"GKP\",\"Norberto Murara Neto\",\"Bournemouth\"],[\"GKP\",\"Jordan Pickford\",\"Everton\"],[\"FWD\",\"Che Adams\",\"Southampton\"],[\"MID\",\"Antony Matheus dos Santos\",\"Man Utd\"],[\"MID\",\"Bruno Guimar\\u00e3es Rodriguez Moura\",\"Newcastle\"],[\"MID\",\"Alex Iwobi\",\"Everton\"],[\"MID\",\"Dejan Kulusevski\",\"Spurs\"],[\"MID\",\"Christian N\\u00f8rgaard\",\"Brentford\"],[\"DEF\",\"Rapha\\u00ebl Varane\",\"Man Utd\"],[\"DEF\",\"Ben Davies\",\"Spurs\"],[\"DEF\",\"Conor Coady\",\"Everton\"],[\"DEF\",\"Issa Diop\",\"Fulham\"],[\"FWD\",\"Brennan Johnson\",\"Nott'm Forest\"],[\"MID\",\"Bernardo Veiga de Carvalho e Silva\",\"Man City\"],[\"MID\",\"Emiliano Buend\\u00eda Stati\",\"Aston Villa\"],[\"MID\",\"Carlos Henrique Casimiro\",\"Man Utd\"],[\"MID\",\"Declan Rice\",\"West Ham\"],[\"DEF\",\"R\\u00faben Gato Alves Dias\",\"Man City\"],[\"DEF\",\"Lewis Dunk\",\"Brighton\"],[\"DEF\",\"Jo\\u00ebl Veltman\",\"Brighton\"],[\"DEF\",\"Timothy Castagne\",\"Leicester\"],[\"MID\",\"Rodrigo Hernandez\",\"Man City\"],[\"MID\",\"Sa\\u00efd Benrahma\",\"West Ham\"],[\"MID\",\"Leon Bailey\",\"Aston Villa\"],[\"DEF\",\"Thiago Emiliano da Silva\",\"Chelsea\"],[\"DEF\",\"Craig Dawson\",\"Wolves\"],[\"DEF\",\"Tim Ream\",\"Fulham\"],[\"DEF\",\"Lisandro Mart\\u00ednez\",\"Man Utd\"],[\"DEF\",\"Rico Henry\",\"Brentford\"],[\"DEF\",\"Ashley Young\",\"Aston Villa\"],[\"MID\",\"Harrison Reed\",\"Fulham\"],[\"DEF\",\"Eric Dier\",\"Spurs\"],[\"DEF\",\"Ezri Konsa Ngoyo\",\"Aston Villa\"],[\"DEF\",\"Kenny Tete\",\"Fulham\"],[\"DEF\",\"Max Kilman\",\"Wolves\"],[\"DEF\",\"Serge Aurier\",\"Nott'm Forest\"],[\"FWD\",\"Kai Havertz\",\"Chelsea\"],[\"FWD\",\"Danny Welbeck\",\"Brighton\"],[\"MID\",\"Youri Tielemans\",\"Leicester\"],[\"MID\",\"Demarai Gray\",\"Everton\"],[\"MID\",\"Tomas Soucek\",\"West Ham\"],[\"MID\",\"Sean Longstaff\",\"Newcastle\"],[\"DEF\",\"Ivan Peri\\u0161i\\u0107\",\"Spurs\"],[\"DEF\",\"Manuel Akanji\",\"Man City\"],[\"DEF\",\"Adam Webster\",\"Brighton\"],[\"DEF\",\"Joel Ward\",\"Crystal Palace\"],[\"DEF\",\"James Tarkowski\",\"Everton\"],[\"MID\",\"Jordan Ayew\",\"Crystal Palace\"],[\"MID\",\"Jefferson Lerma Sol\\u00eds\",\"Bournemouth\"],[\"DEF\",\"Marc Cucurella Saseta\",\"Chelsea\"],[\"DEF\",\"Antonee Robinson\",\"Fulham\"],[\"MID\",\"John McGinn\",\"Aston Villa\"],[\"MID\",\"Kiernan Dewsbury-Hall\",\"Leicester\"],[\"MID\",\"Thomas Partey\",\"Arsenal\"],[\"MID\",\"Jeffrey Schlupp\",\"Crystal Palace\"],[\"DEF\",\"Kyle Walker\",\"Man City\"],[\"DEF\",\"Aaron Cresswell\",\"West Ham\"],[\"DEF\",\"Marc Gu\\u00e9hi\",\"Crystal Palace\"],[\"DEF\",\"Tyrick Mitchell\",\"Crystal Palace\"],[\"DEF\",\"Lloyd Kelly\",\"Bournemouth\"],[\"GKP\",\"Gavin Bazunu\",\"Southampton\"],[\"GKP\",\"Illan Meslier\",\"Leeds\"],[\"MID\",\"Jorge Luiz Frello Filho\",\"Arsenal\"],[\"MID\",\"Bobby De Cordova-Reid\",\"Fulham\"],[\"DEF\",\"Joachim Andersen\",\"Crystal Palace\"],[\"DEF\",\"Thilo Kehrer\",\"West Ham\"],[\"DEF\",\"Wout Faes\",\"Leicester\"],[\"FWD\",\"Michail Antonio\",\"West Ham\"],[\"MID\",\"Vitaly Janelt\",\"Brentford\"],[\"MID\",\"Jo\\u00e3o Palhinha Gon\\u00e7alves\",\"Fulham\"],[\"DEF\",\"Aaron Hickey\",\"Brentford\"],[\"MID\",\"Matheus Luiz Nunes\",\"Wolves\"],[\"DEF\",\"Cristian Romero\",\"Spurs\"],[\"DEF\",\"Cl\\u00e9ment Lenglet\",\"Spurs\"],[\"DEF\",\"Romain Perraud\",\"Southampton\"],[\"MID\",\"Brenden Aaronson\",\"Leeds\"],[\"MID\",\"Amadou Onana\",\"Everton\"],[\"DEF\",\"Pascal Struijk\",\"Leeds\"],[\"MID\",\"Cheick Doucour\\u00e9\",\"Crystal Palace\"],[\"DEF\",\"Marcos Senesi\",\"Bournemouth\"],[\"DEF\",\"Vitalii Mykolenko\",\"Everton\"],[\"MID\",\"Mois\\u00e9s Caicedo Corozo\",\"Brighton\"],[\"MID\",\"Marc Roca Junqu\\u00e9\",\"Leeds\"],[\"DEF\",\"N\\u00e9lson Cabral Semedo\",\"Wolves\"],[\"DEF\",\"Vladimir Coufal\",\"West Ham\"],[\"MID\",\"Ryan Christie\",\"Bournemouth\"],[\"MID\",\"Jordan Henderson\",\"Liverpool\"],[\"MID\",\"Ryan Yates\",\"Nott'm Forest\"],[\"MID\",\"Tyler Adams\",\"Leeds\"],[\"MID\",\"Idrissa Gueye\",\"Everton\"],[\"MID\",\"Rom\\u00e9o Lavia\",\"Southampton\"],[\"DEF\",\"Rasmus Kristensen\",\"Leeds\"],[\"DEF\",\"Armel Bella-Kotchap\",\"Southampton\"],[\"DEF\",\"Luke Ayling\",\"Leeds\"],[\"DEF\",\"Tosin Adarabioyo\",\"Fulham\"],[\"DEF\",\"Renan Augusto Lodi dos Santos\",\"Nott'm Forest\"],[\"DEF\",\"Adam Smith\",\"Bournemouth\"],[\"DEF\",\"Joe Worrall\",\"Nott'm Forest\"],[\"MID\",\"Fabio Henrique Tavares\",\"Liverpool\"],[\"MID\",\"Mohamed Elyounoussi\",\"Southampton\"],[\"MID\",\"Remo Freuler\",\"Nott'm Forest\"],[\"MID\",\"Boubacar Kamara\",\"Aston Villa\"],[\"DEF\",\"Kyle Walker-Peters\",\"Southampton\"],[\"DEF\",\"Chris Mepham\",\"Bournemouth\"],[\"DEF\",\"Robin Koch\",\"Leeds\"],[\"DEF\",\"Mohammed Salisu\",\"Southampton\"],[\"DEF\",\"Jan Bednarek\",\"Southampton\"]],\"hovertemplate\":\"Price=%{x}\\u003cbr\\u003eTotal Points=%{y}\\u003cbr\\u003ePosition=%{customdata[0]}\\u003cbr\\u003ePlayer Name=%{customdata[1]}\\u003cbr\\u003eTeam=%{customdata[2]}\\u003cbr\\u003eSelected Percentage=%{marker.color}\\u003cextra\\u003e\\u003c\\u002fextra\\u003e\",\"legendgroup\":\"\",\"marker\":{\"color\":[78.4,32.7,37.2,37.8,25.5,33.3,26.3,18.2,25.6,62.4,17.2,13.3,28.3,12.8,12.8,5.5,4.4,12.5,9.7,16.8,14.4,7.7,7.9,7.2,0.5,11.0,15.6,6.4,8.9,27.3,12.8,18.0,15.8,30.7,1.7,4.1,2.7,5.1,6.4,16.1,3.3,14.7,12.4,8.2,19.2,1.3,1.5,14.4,3.5,4.0,3.6,6.3,14.4,3.3,1.0,13.4,6.6,11.4,2.5,4.9,2.1,10.1,9.0,20.5,12.5,0.9,1.4,3.4,2.0,1.8,1.8,6.0,6.9,3.2,7.6,6.7,0.9,2.0,0.9,1.2,2.4,1.4,15.0,1.2,18.4,1.8,1.5,4.3,0.6,6.2,0.8,3.4,2.9,1.1,3.6,0.2,3.1,1.0,3.0,0.3,1.6,5.9,0.7,2.4,3.2,7.4,8.2,2.4,5.5,1.9,1.1,2.7,5.7,0.8,1.2,4.7,2.6,0.8,1.0,4.8,1.0,0.4,3.1,0.3,3.2,2.1,1.2,0.6,0.6,1.0,14.7,3.6,0.5,0.4,4.4,0.4,0.5,5.0,0.5,0.6,0.5,0.4,0.1,4.5,1.5,2.5,1.0,0.5,0.6,1.7,1.9,0.1,1.6,0.2,0.2,1.5,0.1,0.3,0.3,0.1,1.4,0.3,0.4,0.6,0.1,0.5,0.1,0.2,0.6,0.4,0.1,0.6,1.0,0.1,0.5,0.0,0.1,0.1,0.2,0.4,0.2,0.3,0.1,0.2,0.2,0.1,0.8,0.1,0.0,0.1,0.6,0.1,0.2,0.1,0.2],\"coloraxis\":\"coloraxis\",\"symbol\":\"circle\"},\"mode\":\"markers\",\"name\":\"\",\"orientation\":\"v\",\"showlegend\":false,\"x\":[12.4,11.5,13.1,7.2,12.1,6.9,6.5,7.1,8.0,6.0,7.3,9.5,8.1,7.3,5.4,7.8,5.2,6.6,8.0,5.5,4.8,7.4,7.1,6.6,5.5,5.4,4.9,11.5,7.5,5.7,5.7,5.4,5.1,7.8,6.6,6.3,4.8,5.0,4.5,5.0,7.1,5.6,6.6,5.6,5.3,5.5,5.1,5.1,4.6,5.7,5.6,4.8,4.8,8.0,4.8,5.2,5.0,4.8,6.2,6.1,5.7,4.3,5.0,5.0,4.7,4.4,4.4,9.7,6.0,5.3,4.8,6.8,4.5,5.4,4.4,7.2,5.9,5.2,5.0,4.7,5.0,4.4,5.4,4.9,3.8,5.3,5.2,4.5,4.5,4.4,6.0,7.3,5.5,4.9,7.8,5.3,4.8,4.7,4.7,4.3,5.5,6.7,5.7,4.9,4.7,6.0,4.8,4.6,4.3,5.6,5.5,4.3,5.4,4.8,4.5,4.4,4.4,4.3,4.3,5.0,4.4,4.4,4.3,4.3,7.4,6.5,6.1,5.1,5.0,4.3,5.3,5.1,4.5,4.4,4.1,5.2,4.7,4.9,4.4,5.1,4.9,4.7,4.7,4.7,4.7,4.5,4.4,4.3,4.4,4.4,5.7,5.4,4.5,4.3,4.2,6.9,5.5,4.9,4.9,4.8,4.9,4.8,4.0,5.3,4.7,4.5,5.0,4.4,4.1,5.0,4.8,5.0,4.0,5.3,5.3,5.0,4.9,4.7,4.5,4.7,4.5,4.5,4.4,4.3,4.3,4.2,5.2,5.1,4.9,4.8,4.4,4.3,4.5,4.2,4.1],\"xaxis\":\"x\",\"y\":[272,263,239,205,183,212,198,182,202,198,157,176,125,175,158,135,147,107,142,162,166,132,121,154,116,159,117,152,126,138,159,157,161,156,138,127,153,148,118,156,105,140,127,93,124,145,135,139,142,150,130,102,143,145,142,146,135,143,103,142,134,123,99,128,130,112,99,101,115,132,132,121,129,89,82,95,98,126,126,123,92,88,121,127,91,120,118,129,93,124,94,82,107,126,96,71,77,99,77,79,122,106,117,87,116,80,112,95,114,108,106,100,80,75,98,81,112,87,107,96,110,90,109,70,102,91,86,91,100,93,94,82,75,78,106,104,101,65,93,90,82,86,89,69,74,95,93,60,84,90,79,90,80,67,78,84,85,83,63,80,66,63,71,83,77,66,74,69,75,79,67,75,58,64,69,53,47,66,57,51,49,59,49,56,74,61,70,62,54,44,56,43,55,33,32],\"yaxis\":\"y\",\"type\":\"scatter\"}],                        {\"template\":{\"data\":{\"barpolar\":[{\"marker\":{\"line\":{\"color\":\"white\",\"width\":0.5},\"pattern\":{\"fillmode\":\"overlay\",\"size\":10,\"solidity\":0.2}},\"type\":\"barpolar\"}],\"bar\":[{\"error_x\":{\"color\":\"#2a3f5f\"},\"error_y\":{\"color\":\"#2a3f5f\"},\"marker\":{\"line\":{\"color\":\"white\",\"width\":0.5},\"pattern\":{\"fillmode\":\"overlay\",\"size\":10,\"solidity\":0.2}},\"type\":\"bar\"}],\"carpet\":[{\"aaxis\":{\"endlinecolor\":\"#2a3f5f\",\"gridcolor\":\"#C8D4E3\",\"linecolor\":\"#C8D4E3\",\"minorgridcolor\":\"#C8D4E3\",\"startlinecolor\":\"#2a3f5f\"},\"baxis\":{\"endlinecolor\":\"#2a3f5f\",\"gridcolor\":\"#C8D4E3\",\"linecolor\":\"#C8D4E3\",\"minorgridcolor\":\"#C8D4E3\",\"startlinecolor\":\"#2a3f5f\"},\"type\":\"carpet\"}],\"choropleth\":[{\"colorbar\":{\"outlinewidth\":0,\"ticks\":\"\"},\"type\":\"choropleth\"}],\"contourcarpet\":[{\"colorbar\":{\"outlinewidth\":0,\"ticks\":\"\"},\"type\":\"contourcarpet\"}],\"contour\":[{\"colorbar\":{\"outlinewidth\":0,\"ticks\":\"\"},\"colorscale\":[[0.0,\"#0d0887\"],[0.1111111111111111,\"#46039f\"],[0.2222222222222222,\"#7201a8\"],[0.3333333333333333,\"#9c179e\"],[0.4444444444444444,\"#bd3786\"],[0.5555555555555556,\"#d8576b\"],[0.6666666666666666,\"#ed7953\"],[0.7777777777777778,\"#fb9f3a\"],[0.8888888888888888,\"#fdca26\"],[1.0,\"#f0f921\"]],\"type\":\"contour\"}],\"heatmapgl\":[{\"colorbar\":{\"outlinewidth\":0,\"ticks\":\"\"},\"colorscale\":[[0.0,\"#0d0887\"],[0.1111111111111111,\"#46039f\"],[0.2222222222222222,\"#7201a8\"],[0.3333333333333333,\"#9c179e\"],[0.4444444444444444,\"#bd3786\"],[0.5555555555555556,\"#d8576b\"],[0.6666666666666666,\"#ed7953\"],[0.7777777777777778,\"#fb9f3a\"],[0.8888888888888888,\"#fdca26\"],[1.0,\"#f0f921\"]],\"type\":\"heatmapgl\"}],\"heatmap\":[{\"colorbar\":{\"outlinewidth\":0,\"ticks\":\"\"},\"colorscale\":[[0.0,\"#0d0887\"],[0.1111111111111111,\"#46039f\"],[0.2222222222222222,\"#7201a8\"],[0.3333333333333333,\"#9c179e\"],[0.4444444444444444,\"#bd3786\"],[0.5555555555555556,\"#d8576b\"],[0.6666666666666666,\"#ed7953\"],[0.7777777777777778,\"#fb9f3a\"],[0.8888888888888888,\"#fdca26\"],[1.0,\"#f0f921\"]],\"type\":\"heatmap\"}],\"histogram2dcontour\":[{\"colorbar\":{\"outlinewidth\":0,\"ticks\":\"\"},\"colorscale\":[[0.0,\"#0d0887\"],[0.1111111111111111,\"#46039f\"],[0.2222222222222222,\"#7201a8\"],[0.3333333333333333,\"#9c179e\"],[0.4444444444444444,\"#bd3786\"],[0.5555555555555556,\"#d8576b\"],[0.6666666666666666,\"#ed7953\"],[0.7777777777777778,\"#fb9f3a\"],[0.8888888888888888,\"#fdca26\"],[1.0,\"#f0f921\"]],\"type\":\"histogram2dcontour\"}],\"histogram2d\":[{\"colorbar\":{\"outlinewidth\":0,\"ticks\":\"\"},\"colorscale\":[[0.0,\"#0d0887\"],[0.1111111111111111,\"#46039f\"],[0.2222222222222222,\"#7201a8\"],[0.3333333333333333,\"#9c179e\"],[0.4444444444444444,\"#bd3786\"],[0.5555555555555556,\"#d8576b\"],[0.6666666666666666,\"#ed7953\"],[0.7777777777777778,\"#fb9f3a\"],[0.8888888888888888,\"#fdca26\"],[1.0,\"#f0f921\"]],\"type\":\"histogram2d\"}],\"histogram\":[{\"marker\":{\"pattern\":{\"fillmode\":\"overlay\",\"size\":10,\"solidity\":0.2}},\"type\":\"histogram\"}],\"mesh3d\":[{\"colorbar\":{\"outlinewidth\":0,\"ticks\":\"\"},\"type\":\"mesh3d\"}],\"parcoords\":[{\"line\":{\"colorbar\":{\"outlinewidth\":0,\"ticks\":\"\"}},\"type\":\"parcoords\"}],\"pie\":[{\"automargin\":true,\"type\":\"pie\"}],\"scatter3d\":[{\"line\":{\"colorbar\":{\"outlinewidth\":0,\"ticks\":\"\"}},\"marker\":{\"colorbar\":{\"outlinewidth\":0,\"ticks\":\"\"}},\"type\":\"scatter3d\"}],\"scattercarpet\":[{\"marker\":{\"colorbar\":{\"outlinewidth\":0,\"ticks\":\"\"}},\"type\":\"scattercarpet\"}],\"scattergeo\":[{\"marker\":{\"colorbar\":{\"outlinewidth\":0,\"ticks\":\"\"}},\"type\":\"scattergeo\"}],\"scattergl\":[{\"marker\":{\"colorbar\":{\"outlinewidth\":0,\"ticks\":\"\"}},\"type\":\"scattergl\"}],\"scattermapbox\":[{\"marker\":{\"colorbar\":{\"outlinewidth\":0,\"ticks\":\"\"}},\"type\":\"scattermapbox\"}],\"scatterpolargl\":[{\"marker\":{\"colorbar\":{\"outlinewidth\":0,\"ticks\":\"\"}},\"type\":\"scatterpolargl\"}],\"scatterpolar\":[{\"marker\":{\"colorbar\":{\"outlinewidth\":0,\"ticks\":\"\"}},\"type\":\"scatterpolar\"}],\"scatter\":[{\"fillpattern\":{\"fillmode\":\"overlay\",\"size\":10,\"solidity\":0.2},\"type\":\"scatter\"}],\"scatterternary\":[{\"marker\":{\"colorbar\":{\"outlinewidth\":0,\"ticks\":\"\"}},\"type\":\"scatterternary\"}],\"surface\":[{\"colorbar\":{\"outlinewidth\":0,\"ticks\":\"\"},\"colorscale\":[[0.0,\"#0d0887\"],[0.1111111111111111,\"#46039f\"],[0.2222222222222222,\"#7201a8\"],[0.3333333333333333,\"#9c179e\"],[0.4444444444444444,\"#bd3786\"],[0.5555555555555556,\"#d8576b\"],[0.6666666666666666,\"#ed7953\"],[0.7777777777777778,\"#fb9f3a\"],[0.8888888888888888,\"#fdca26\"],[1.0,\"#f0f921\"]],\"type\":\"surface\"}],\"table\":[{\"cells\":{\"fill\":{\"color\":\"#EBF0F8\"},\"line\":{\"color\":\"white\"}},\"header\":{\"fill\":{\"color\":\"#C8D4E3\"},\"line\":{\"color\":\"white\"}},\"type\":\"table\"}]},\"layout\":{\"annotationdefaults\":{\"arrowcolor\":\"#2a3f5f\",\"arrowhead\":0,\"arrowwidth\":1},\"autotypenumbers\":\"strict\",\"coloraxis\":{\"colorbar\":{\"outlinewidth\":0,\"ticks\":\"\"}},\"colorscale\":{\"diverging\":[[0,\"#8e0152\"],[0.1,\"#c51b7d\"],[0.2,\"#de77ae\"],[0.3,\"#f1b6da\"],[0.4,\"#fde0ef\"],[0.5,\"#f7f7f7\"],[0.6,\"#e6f5d0\"],[0.7,\"#b8e186\"],[0.8,\"#7fbc41\"],[0.9,\"#4d9221\"],[1,\"#276419\"]],\"sequential\":[[0.0,\"#0d0887\"],[0.1111111111111111,\"#46039f\"],[0.2222222222222222,\"#7201a8\"],[0.3333333333333333,\"#9c179e\"],[0.4444444444444444,\"#bd3786\"],[0.5555555555555556,\"#d8576b\"],[0.6666666666666666,\"#ed7953\"],[0.7777777777777778,\"#fb9f3a\"],[0.8888888888888888,\"#fdca26\"],[1.0,\"#f0f921\"]],\"sequentialminus\":[[0.0,\"#0d0887\"],[0.1111111111111111,\"#46039f\"],[0.2222222222222222,\"#7201a8\"],[0.3333333333333333,\"#9c179e\"],[0.4444444444444444,\"#bd3786\"],[0.5555555555555556,\"#d8576b\"],[0.6666666666666666,\"#ed7953\"],[0.7777777777777778,\"#fb9f3a\"],[0.8888888888888888,\"#fdca26\"],[1.0,\"#f0f921\"]]},\"colorway\":[\"#636efa\",\"#EF553B\",\"#00cc96\",\"#ab63fa\",\"#FFA15A\",\"#19d3f3\",\"#FF6692\",\"#B6E880\",\"#FF97FF\",\"#FECB52\"],\"font\":{\"color\":\"#2a3f5f\"},\"geo\":{\"bgcolor\":\"white\",\"lakecolor\":\"white\",\"landcolor\":\"white\",\"showlakes\":true,\"showland\":true,\"subunitcolor\":\"#C8D4E3\"},\"hoverlabel\":{\"align\":\"left\"},\"hovermode\":\"closest\",\"mapbox\":{\"style\":\"light\"},\"paper_bgcolor\":\"white\",\"plot_bgcolor\":\"white\",\"polar\":{\"angularaxis\":{\"gridcolor\":\"#EBF0F8\",\"linecolor\":\"#EBF0F8\",\"ticks\":\"\"},\"bgcolor\":\"white\",\"radialaxis\":{\"gridcolor\":\"#EBF0F8\",\"linecolor\":\"#EBF0F8\",\"ticks\":\"\"}},\"scene\":{\"xaxis\":{\"backgroundcolor\":\"white\",\"gridcolor\":\"#DFE8F3\",\"gridwidth\":2,\"linecolor\":\"#EBF0F8\",\"showbackground\":true,\"ticks\":\"\",\"zerolinecolor\":\"#EBF0F8\"},\"yaxis\":{\"backgroundcolor\":\"white\",\"gridcolor\":\"#DFE8F3\",\"gridwidth\":2,\"linecolor\":\"#EBF0F8\",\"showbackground\":true,\"ticks\":\"\",\"zerolinecolor\":\"#EBF0F8\"},\"zaxis\":{\"backgroundcolor\":\"white\",\"gridcolor\":\"#DFE8F3\",\"gridwidth\":2,\"linecolor\":\"#EBF0F8\",\"showbackground\":true,\"ticks\":\"\",\"zerolinecolor\":\"#EBF0F8\"}},\"shapedefaults\":{\"line\":{\"color\":\"#2a3f5f\"}},\"ternary\":{\"aaxis\":{\"gridcolor\":\"#DFE8F3\",\"linecolor\":\"#A2B1C6\",\"ticks\":\"\"},\"baxis\":{\"gridcolor\":\"#DFE8F3\",\"linecolor\":\"#A2B1C6\",\"ticks\":\"\"},\"bgcolor\":\"white\",\"caxis\":{\"gridcolor\":\"#DFE8F3\",\"linecolor\":\"#A2B1C6\",\"ticks\":\"\"}},\"title\":{\"x\":0.05},\"xaxis\":{\"automargin\":true,\"gridcolor\":\"#EBF0F8\",\"linecolor\":\"#EBF0F8\",\"ticks\":\"\",\"title\":{\"standoff\":15},\"zerolinecolor\":\"#EBF0F8\",\"zerolinewidth\":2},\"yaxis\":{\"automargin\":true,\"gridcolor\":\"#EBF0F8\",\"linecolor\":\"#EBF0F8\",\"ticks\":\"\",\"title\":{\"standoff\":15},\"zerolinecolor\":\"#EBF0F8\",\"zerolinewidth\":2}}},\"xaxis\":{\"anchor\":\"y\",\"domain\":[0.0,1.0],\"title\":{\"text\":\"Price\"}},\"yaxis\":{\"anchor\":\"x\",\"domain\":[0.0,1.0],\"title\":{\"text\":\"Total Points\"}},\"coloraxis\":{\"colorbar\":{\"title\":{\"text\":\"Selected Percentage\"}},\"colorscale\":[[0.0,\"rgb(75, 41, 145)\"],[0.16666666666666666,\"rgb(135, 44, 162)\"],[0.3333333333333333,\"rgb(192, 54, 157)\"],[0.5,\"rgb(234, 79, 136)\"],[0.6666666666666666,\"rgb(250, 120, 118)\"],[0.8333333333333334,\"rgb(246, 169, 122)\"],[1.0,\"rgb(237, 217, 163)\"]]},\"legend\":{\"tracegroupgap\":0},\"title\":{\"text\":\"Price vs Total Points: FPL Player Analysis\"},\"height\":500},                        {\"responsive\": true}                    ).then(function(){\n",
       "                            \n",
       "var gd = document.getElementById('e81bd2e8-374c-44ab-8771-0683cb2af97c');\n",
       "var x = new MutationObserver(function (mutations, observer) {{\n",
       "        var display = window.getComputedStyle(gd).display;\n",
       "        if (!display || display === 'none') {{\n",
       "            console.log([gd, 'removed!']);\n",
       "            Plotly.purge(gd);\n",
       "            observer.disconnect();\n",
       "        }}\n",
       "}});\n",
       "\n",
       "// Listen for the removal of the full notebook cells\n",
       "var notebookContainer = gd.closest('#notebook-container');\n",
       "if (notebookContainer) {{\n",
       "    x.observe(notebookContainer, {childList: true});\n",
       "}}\n",
       "\n",
       "// Listen for the clearing of the current output cell\n",
       "var outputEl = gd.closest('.output');\n",
       "if (outputEl) {{\n",
       "    x.observe(outputEl, {childList: true});\n",
       "}}\n",
       "\n",
       "                        })                };                });            </script>        </div>"
      ]
     },
     "metadata": {},
     "output_type": "display_data"
    }
   ],
   "source": [
    "fig = px.scatter(min_20_starts, x='cost', y='total_points', hover_data={'name', 'team', 'position'}, color='selected_by_percent',\n",
    "                template='plotly_white', color_continuous_scale=\"Agsunset\", title='Price vs Total Points: FPL Player Analysis', \n",
    "                labels={'total_points': 'Total Points', 'cost': 'Price', 'selected_by_percent': 'Selected Percentage',\n",
    "                       'position': 'Position', 'team': 'Team', 'name': 'Player Name'})\n",
    "fig.update_layout(height=500)\n",
    "fig.show()"
   ]
  },
  {
   "cell_type": "code",
   "execution_count": 6,
   "id": "b4713e5c-5949-4bce-8fe2-08f141a5a2b4",
   "metadata": {},
   "outputs": [
    {
     "data": {
      "text/html": [
       "<div>\n",
       "<style scoped>\n",
       "    .dataframe tbody tr th:only-of-type {\n",
       "        vertical-align: middle;\n",
       "    }\n",
       "\n",
       "    .dataframe tbody tr th {\n",
       "        vertical-align: top;\n",
       "    }\n",
       "\n",
       "    .dataframe thead th {\n",
       "        text-align: right;\n",
       "    }\n",
       "</style>\n",
       "<table border=\"1\" class=\"dataframe\">\n",
       "  <thead>\n",
       "    <tr style=\"text-align: right;\">\n",
       "      <th></th>\n",
       "      <th>id</th>\n",
       "      <th>name</th>\n",
       "      <th>now_cost</th>\n",
       "      <th>cost</th>\n",
       "      <th>position</th>\n",
       "      <th>team</th>\n",
       "      <th>clean_sheets_per_90</th>\n",
       "      <th>threat_rank_type</th>\n",
       "      <th>expected_assists_per_90</th>\n",
       "      <th>expected_assists</th>\n",
       "      <th>...</th>\n",
       "      <th>threat_rank</th>\n",
       "      <th>ep_this</th>\n",
       "      <th>transfers_in</th>\n",
       "      <th>bps</th>\n",
       "      <th>goals_conceded_per_90</th>\n",
       "      <th>selected_by_percent</th>\n",
       "      <th>influence_rank_type</th>\n",
       "      <th>points_per_game_rank_type</th>\n",
       "      <th>clean_sheets</th>\n",
       "      <th>now_cost_rank</th>\n",
       "    </tr>\n",
       "  </thead>\n",
       "  <tbody>\n",
       "    <tr>\n",
       "      <th>26</th>\n",
       "      <td>81</td>\n",
       "      <td>David Raya Martin</td>\n",
       "      <td>48</td>\n",
       "      <td>4.8</td>\n",
       "      <td>GKP</td>\n",
       "      <td>Brentford</td>\n",
       "      <td>0.32</td>\n",
       "      <td>2</td>\n",
       "      <td>0.00</td>\n",
       "      <td>0.12</td>\n",
       "      <td>...</td>\n",
       "      <td>465</td>\n",
       "      <td>4.0</td>\n",
       "      <td>2641943</td>\n",
       "      <td>822</td>\n",
       "      <td>1.21</td>\n",
       "      <td>14.4</td>\n",
       "      <td>1</td>\n",
       "      <td>5</td>\n",
       "      <td>12</td>\n",
       "      <td>272</td>\n",
       "    </tr>\n",
       "    <tr>\n",
       "      <th>12</th>\n",
       "      <td>357</td>\n",
       "      <td>Kieran Trippier</td>\n",
       "      <td>60</td>\n",
       "      <td>6.0</td>\n",
       "      <td>DEF</td>\n",
       "      <td>Newcastle</td>\n",
       "      <td>0.43</td>\n",
       "      <td>66</td>\n",
       "      <td>0.32</td>\n",
       "      <td>12.03</td>\n",
       "      <td>...</td>\n",
       "      <td>250</td>\n",
       "      <td>4.3</td>\n",
       "      <td>7596439</td>\n",
       "      <td>941</td>\n",
       "      <td>0.83</td>\n",
       "      <td>62.4</td>\n",
       "      <td>2</td>\n",
       "      <td>1</td>\n",
       "      <td>16</td>\n",
       "      <td>68</td>\n",
       "    </tr>\n",
       "    <tr>\n",
       "      <th>46</th>\n",
       "      <td>3</td>\n",
       "      <td>Granit Xhaka</td>\n",
       "      <td>48</td>\n",
       "      <td>4.8</td>\n",
       "      <td>MID</td>\n",
       "      <td>Arsenal</td>\n",
       "      <td>0.39</td>\n",
       "      <td>38</td>\n",
       "      <td>0.12</td>\n",
       "      <td>3.89</td>\n",
       "      <td>...</td>\n",
       "      <td>62</td>\n",
       "      <td>7.3</td>\n",
       "      <td>942505</td>\n",
       "      <td>634</td>\n",
       "      <td>1.05</td>\n",
       "      <td>2.7</td>\n",
       "      <td>23</td>\n",
       "      <td>23</td>\n",
       "      <td>13</td>\n",
       "      <td>265</td>\n",
       "    </tr>\n",
       "    <tr>\n",
       "      <th>42</th>\n",
       "      <td>327</td>\n",
       "      <td>David De Gea Quintana</td>\n",
       "      <td>51</td>\n",
       "      <td>5.1</td>\n",
       "      <td>GKP</td>\n",
       "      <td>Man Utd</td>\n",
       "      <td>0.45</td>\n",
       "      <td>81</td>\n",
       "      <td>0.01</td>\n",
       "      <td>0.22</td>\n",
       "      <td>...</td>\n",
       "      <td>760</td>\n",
       "      <td>5.0</td>\n",
       "      <td>2277434</td>\n",
       "      <td>729</td>\n",
       "      <td>1.13</td>\n",
       "      <td>15.8</td>\n",
       "      <td>7</td>\n",
       "      <td>8</td>\n",
       "      <td>17</td>\n",
       "      <td>167</td>\n",
       "    </tr>\n",
       "    <tr>\n",
       "      <th>50</th>\n",
       "      <td>10</td>\n",
       "      <td>Benjamin White</td>\n",
       "      <td>50</td>\n",
       "      <td>5.0</td>\n",
       "      <td>DEF</td>\n",
       "      <td>Arsenal</td>\n",
       "      <td>0.44</td>\n",
       "      <td>38</td>\n",
       "      <td>0.11</td>\n",
       "      <td>3.60</td>\n",
       "      <td>...</td>\n",
       "      <td>208</td>\n",
       "      <td>3.9</td>\n",
       "      <td>3320417</td>\n",
       "      <td>734</td>\n",
       "      <td>1.03</td>\n",
       "      <td>16.1</td>\n",
       "      <td>17</td>\n",
       "      <td>6</td>\n",
       "      <td>15</td>\n",
       "      <td>197</td>\n",
       "    </tr>\n",
       "  </tbody>\n",
       "</table>\n",
       "<p>5 rows × 76 columns</p>\n",
       "</div>"
      ],
      "text/plain": [
       "     id                   name  now_cost  cost position       team  \\\n",
       "26   81      David Raya Martin        48   4.8      GKP  Brentford   \n",
       "12  357        Kieran Trippier        60   6.0      DEF  Newcastle   \n",
       "46    3           Granit Xhaka        48   4.8      MID    Arsenal   \n",
       "42  327  David De Gea Quintana        51   5.1      GKP    Man Utd   \n",
       "50   10         Benjamin White        50   5.0      DEF    Arsenal   \n",
       "\n",
       "    clean_sheets_per_90  threat_rank_type  expected_assists_per_90  \\\n",
       "26                 0.32                 2                     0.00   \n",
       "12                 0.43                66                     0.32   \n",
       "46                 0.39                38                     0.12   \n",
       "42                 0.45                81                     0.01   \n",
       "50                 0.44                38                     0.11   \n",
       "\n",
       "    expected_assists  ...  threat_rank  ep_this  transfers_in  bps  \\\n",
       "26              0.12  ...          465      4.0       2641943  822   \n",
       "12             12.03  ...          250      4.3       7596439  941   \n",
       "46              3.89  ...           62      7.3        942505  634   \n",
       "42              0.22  ...          760      5.0       2277434  729   \n",
       "50              3.60  ...          208      3.9       3320417  734   \n",
       "\n",
       "    goals_conceded_per_90  selected_by_percent  influence_rank_type  \\\n",
       "26                   1.21                 14.4                    1   \n",
       "12                   0.83                 62.4                    2   \n",
       "46                   1.05                  2.7                   23   \n",
       "42                   1.13                 15.8                    7   \n",
       "50                   1.03                 16.1                   17   \n",
       "\n",
       "    points_per_game_rank_type  clean_sheets  now_cost_rank  \n",
       "26                          5            12            272  \n",
       "12                          1            16             68  \n",
       "46                         23            13            265  \n",
       "42                          8            17            167  \n",
       "50                          6            15            197  \n",
       "\n",
       "[5 rows x 76 columns]"
      ]
     },
     "execution_count": 6,
     "metadata": {},
     "output_type": "execute_result"
    }
   ],
   "source": [
    "value = min_20_starts.sort_values(\"value_season\", ascending=False).head(20)\n",
    "value.head()"
   ]
  },
  {
   "cell_type": "code",
   "execution_count": 7,
   "id": "bb8ffb06-ca10-4f97-af99-252efa97231d",
   "metadata": {},
   "outputs": [
    {
     "data": {
      "application/vnd.plotly.v1+json": {
       "config": {
        "plotlyServerURL": "https://plot.ly"
       },
       "data": [
        {
         "alignmentgroup": "True",
         "customdata": [
          [
           4.8,
           "GKP",
           "Brentford"
          ],
          [
           6,
           "DEF",
           "Newcastle"
          ],
          [
           4.8,
           "MID",
           "Arsenal"
          ],
          [
           5.1,
           "GKP",
           "Man Utd"
          ],
          [
           5,
           "DEF",
           "Arsenal"
          ],
          [
           4.6,
           "GKP",
           "Fulham"
          ],
          [
           6.9,
           "MID",
           "Arsenal"
          ],
          [
           6.5,
           "MID",
           "Arsenal"
          ],
          [
           4.8,
           "GKP",
           "Arsenal"
          ],
          [
           4.8,
           "DEF",
           "Brentford"
          ],
          [
           4.8,
           "MID",
           "Aston Villa"
          ],
          [
           5,
           "GKP",
           "Wolves"
          ],
          [
           5.5,
           "GKP",
           "Liverpool"
          ],
          [
           5.4,
           "MID",
           "Brighton"
          ],
          [
           5.4,
           "MID",
           "Newcastle"
          ],
          [
           5.4,
           "GKP",
           "Newcastle"
          ],
          [
           4.5,
           "DEF",
           "Newcastle"
          ],
          [
           4.5,
           "DEF",
           "Newcastle"
          ],
          [
           4.3,
           "MID",
           "Fulham"
          ],
          [
           7.2,
           "MID",
           "Man Utd"
          ]
         ],
         "hovertemplate": "value_season=%{marker.color}<br>name=%{y}<br>cost=%{customdata[0]}<br>position=%{customdata[1]}<br>team=%{customdata[2]}<extra></extra>",
         "legendgroup": "",
         "marker": {
          "color": [
           34.6,
           33,
           31.9,
           31.6,
           31.2,
           30.9,
           30.7,
           30.5,
           29.8,
           29.8,
           29.6,
           29.6,
           29.5,
           29.4,
           29.3,
           29.1,
           28.7,
           28.7,
           28.6,
           28.5
          ],
          "coloraxis": "coloraxis",
          "pattern": {
           "shape": ""
          }
         },
         "name": "",
         "offsetgroup": "",
         "orientation": "h",
         "showlegend": false,
         "text": [
          34.6,
          33,
          31.9,
          31.6,
          31.2,
          30.9,
          30.7,
          30.5,
          29.8,
          29.8,
          29.6,
          29.6,
          29.5,
          29.4,
          29.3,
          29.1,
          28.7,
          28.7,
          28.6,
          28.5
         ],
         "textposition": "auto",
         "type": "bar",
         "x": [
          34.6,
          33,
          31.9,
          31.6,
          31.2,
          30.9,
          30.7,
          30.5,
          29.8,
          29.8,
          29.6,
          29.6,
          29.5,
          29.4,
          29.3,
          29.1,
          28.7,
          28.7,
          28.6,
          28.5
         ],
         "xaxis": "x",
         "y": [
          "David Raya Martin",
          "Kieran Trippier",
          "Granit Xhaka",
          "David De Gea Quintana",
          "Benjamin White",
          "Bernd Leno",
          "Martin Ødegaard",
          "Gabriel Martinelli Silva",
          "Aaron Ramsdale",
          "Ben Mee",
          "Douglas Luiz Soares de Paulo",
          "José Malheiro de Sá",
          "Alisson Ramses Becker",
          "Pascal Groß",
          "Miguel Almirón Rejala",
          "Nick Pope",
          "Sven Botman",
          "Dan Burn",
          "Andreas Hoelgebaum Pereira",
          "Marcus Rashford"
         ],
         "yaxis": "y"
        }
       ],
       "layout": {
        "autosize": true,
        "barmode": "relative",
        "coloraxis": {
         "colorbar": {
          "title": {
           "text": "value_season"
          }
         },
         "colorscale": [
          [
           0,
           "#0d0887"
          ],
          [
           0.1111111111111111,
           "#46039f"
          ],
          [
           0.2222222222222222,
           "#7201a8"
          ],
          [
           0.3333333333333333,
           "#9c179e"
          ],
          [
           0.4444444444444444,
           "#bd3786"
          ],
          [
           0.5555555555555556,
           "#d8576b"
          ],
          [
           0.6666666666666666,
           "#ed7953"
          ],
          [
           0.7777777777777778,
           "#fb9f3a"
          ],
          [
           0.8888888888888888,
           "#fdca26"
          ],
          [
           1,
           "#f0f921"
          ]
         ]
        },
        "legend": {
         "tracegroupgap": 0
        },
        "template": {
         "data": {
          "bar": [
           {
            "error_x": {
             "color": "#2a3f5f"
            },
            "error_y": {
             "color": "#2a3f5f"
            },
            "marker": {
             "line": {
              "color": "white",
              "width": 0.5
             },
             "pattern": {
              "fillmode": "overlay",
              "size": 10,
              "solidity": 0.2
             }
            },
            "type": "bar"
           }
          ],
          "barpolar": [
           {
            "marker": {
             "line": {
              "color": "white",
              "width": 0.5
             },
             "pattern": {
              "fillmode": "overlay",
              "size": 10,
              "solidity": 0.2
             }
            },
            "type": "barpolar"
           }
          ],
          "carpet": [
           {
            "aaxis": {
             "endlinecolor": "#2a3f5f",
             "gridcolor": "#C8D4E3",
             "linecolor": "#C8D4E3",
             "minorgridcolor": "#C8D4E3",
             "startlinecolor": "#2a3f5f"
            },
            "baxis": {
             "endlinecolor": "#2a3f5f",
             "gridcolor": "#C8D4E3",
             "linecolor": "#C8D4E3",
             "minorgridcolor": "#C8D4E3",
             "startlinecolor": "#2a3f5f"
            },
            "type": "carpet"
           }
          ],
          "choropleth": [
           {
            "colorbar": {
             "outlinewidth": 0,
             "ticks": ""
            },
            "type": "choropleth"
           }
          ],
          "contour": [
           {
            "colorbar": {
             "outlinewidth": 0,
             "ticks": ""
            },
            "colorscale": [
             [
              0,
              "#0d0887"
             ],
             [
              0.1111111111111111,
              "#46039f"
             ],
             [
              0.2222222222222222,
              "#7201a8"
             ],
             [
              0.3333333333333333,
              "#9c179e"
             ],
             [
              0.4444444444444444,
              "#bd3786"
             ],
             [
              0.5555555555555556,
              "#d8576b"
             ],
             [
              0.6666666666666666,
              "#ed7953"
             ],
             [
              0.7777777777777778,
              "#fb9f3a"
             ],
             [
              0.8888888888888888,
              "#fdca26"
             ],
             [
              1,
              "#f0f921"
             ]
            ],
            "type": "contour"
           }
          ],
          "contourcarpet": [
           {
            "colorbar": {
             "outlinewidth": 0,
             "ticks": ""
            },
            "type": "contourcarpet"
           }
          ],
          "heatmap": [
           {
            "colorbar": {
             "outlinewidth": 0,
             "ticks": ""
            },
            "colorscale": [
             [
              0,
              "#0d0887"
             ],
             [
              0.1111111111111111,
              "#46039f"
             ],
             [
              0.2222222222222222,
              "#7201a8"
             ],
             [
              0.3333333333333333,
              "#9c179e"
             ],
             [
              0.4444444444444444,
              "#bd3786"
             ],
             [
              0.5555555555555556,
              "#d8576b"
             ],
             [
              0.6666666666666666,
              "#ed7953"
             ],
             [
              0.7777777777777778,
              "#fb9f3a"
             ],
             [
              0.8888888888888888,
              "#fdca26"
             ],
             [
              1,
              "#f0f921"
             ]
            ],
            "type": "heatmap"
           }
          ],
          "heatmapgl": [
           {
            "colorbar": {
             "outlinewidth": 0,
             "ticks": ""
            },
            "colorscale": [
             [
              0,
              "#0d0887"
             ],
             [
              0.1111111111111111,
              "#46039f"
             ],
             [
              0.2222222222222222,
              "#7201a8"
             ],
             [
              0.3333333333333333,
              "#9c179e"
             ],
             [
              0.4444444444444444,
              "#bd3786"
             ],
             [
              0.5555555555555556,
              "#d8576b"
             ],
             [
              0.6666666666666666,
              "#ed7953"
             ],
             [
              0.7777777777777778,
              "#fb9f3a"
             ],
             [
              0.8888888888888888,
              "#fdca26"
             ],
             [
              1,
              "#f0f921"
             ]
            ],
            "type": "heatmapgl"
           }
          ],
          "histogram": [
           {
            "marker": {
             "pattern": {
              "fillmode": "overlay",
              "size": 10,
              "solidity": 0.2
             }
            },
            "type": "histogram"
           }
          ],
          "histogram2d": [
           {
            "colorbar": {
             "outlinewidth": 0,
             "ticks": ""
            },
            "colorscale": [
             [
              0,
              "#0d0887"
             ],
             [
              0.1111111111111111,
              "#46039f"
             ],
             [
              0.2222222222222222,
              "#7201a8"
             ],
             [
              0.3333333333333333,
              "#9c179e"
             ],
             [
              0.4444444444444444,
              "#bd3786"
             ],
             [
              0.5555555555555556,
              "#d8576b"
             ],
             [
              0.6666666666666666,
              "#ed7953"
             ],
             [
              0.7777777777777778,
              "#fb9f3a"
             ],
             [
              0.8888888888888888,
              "#fdca26"
             ],
             [
              1,
              "#f0f921"
             ]
            ],
            "type": "histogram2d"
           }
          ],
          "histogram2dcontour": [
           {
            "colorbar": {
             "outlinewidth": 0,
             "ticks": ""
            },
            "colorscale": [
             [
              0,
              "#0d0887"
             ],
             [
              0.1111111111111111,
              "#46039f"
             ],
             [
              0.2222222222222222,
              "#7201a8"
             ],
             [
              0.3333333333333333,
              "#9c179e"
             ],
             [
              0.4444444444444444,
              "#bd3786"
             ],
             [
              0.5555555555555556,
              "#d8576b"
             ],
             [
              0.6666666666666666,
              "#ed7953"
             ],
             [
              0.7777777777777778,
              "#fb9f3a"
             ],
             [
              0.8888888888888888,
              "#fdca26"
             ],
             [
              1,
              "#f0f921"
             ]
            ],
            "type": "histogram2dcontour"
           }
          ],
          "mesh3d": [
           {
            "colorbar": {
             "outlinewidth": 0,
             "ticks": ""
            },
            "type": "mesh3d"
           }
          ],
          "parcoords": [
           {
            "line": {
             "colorbar": {
              "outlinewidth": 0,
              "ticks": ""
             }
            },
            "type": "parcoords"
           }
          ],
          "pie": [
           {
            "automargin": true,
            "type": "pie"
           }
          ],
          "scatter": [
           {
            "fillpattern": {
             "fillmode": "overlay",
             "size": 10,
             "solidity": 0.2
            },
            "type": "scatter"
           }
          ],
          "scatter3d": [
           {
            "line": {
             "colorbar": {
              "outlinewidth": 0,
              "ticks": ""
             }
            },
            "marker": {
             "colorbar": {
              "outlinewidth": 0,
              "ticks": ""
             }
            },
            "type": "scatter3d"
           }
          ],
          "scattercarpet": [
           {
            "marker": {
             "colorbar": {
              "outlinewidth": 0,
              "ticks": ""
             }
            },
            "type": "scattercarpet"
           }
          ],
          "scattergeo": [
           {
            "marker": {
             "colorbar": {
              "outlinewidth": 0,
              "ticks": ""
             }
            },
            "type": "scattergeo"
           }
          ],
          "scattergl": [
           {
            "marker": {
             "colorbar": {
              "outlinewidth": 0,
              "ticks": ""
             }
            },
            "type": "scattergl"
           }
          ],
          "scattermapbox": [
           {
            "marker": {
             "colorbar": {
              "outlinewidth": 0,
              "ticks": ""
             }
            },
            "type": "scattermapbox"
           }
          ],
          "scatterpolar": [
           {
            "marker": {
             "colorbar": {
              "outlinewidth": 0,
              "ticks": ""
             }
            },
            "type": "scatterpolar"
           }
          ],
          "scatterpolargl": [
           {
            "marker": {
             "colorbar": {
              "outlinewidth": 0,
              "ticks": ""
             }
            },
            "type": "scatterpolargl"
           }
          ],
          "scatterternary": [
           {
            "marker": {
             "colorbar": {
              "outlinewidth": 0,
              "ticks": ""
             }
            },
            "type": "scatterternary"
           }
          ],
          "surface": [
           {
            "colorbar": {
             "outlinewidth": 0,
             "ticks": ""
            },
            "colorscale": [
             [
              0,
              "#0d0887"
             ],
             [
              0.1111111111111111,
              "#46039f"
             ],
             [
              0.2222222222222222,
              "#7201a8"
             ],
             [
              0.3333333333333333,
              "#9c179e"
             ],
             [
              0.4444444444444444,
              "#bd3786"
             ],
             [
              0.5555555555555556,
              "#d8576b"
             ],
             [
              0.6666666666666666,
              "#ed7953"
             ],
             [
              0.7777777777777778,
              "#fb9f3a"
             ],
             [
              0.8888888888888888,
              "#fdca26"
             ],
             [
              1,
              "#f0f921"
             ]
            ],
            "type": "surface"
           }
          ],
          "table": [
           {
            "cells": {
             "fill": {
              "color": "#EBF0F8"
             },
             "line": {
              "color": "white"
             }
            },
            "header": {
             "fill": {
              "color": "#C8D4E3"
             },
             "line": {
              "color": "white"
             }
            },
            "type": "table"
           }
          ]
         },
         "layout": {
          "annotationdefaults": {
           "arrowcolor": "#2a3f5f",
           "arrowhead": 0,
           "arrowwidth": 1
          },
          "autotypenumbers": "strict",
          "coloraxis": {
           "colorbar": {
            "outlinewidth": 0,
            "ticks": ""
           }
          },
          "colorscale": {
           "diverging": [
            [
             0,
             "#8e0152"
            ],
            [
             0.1,
             "#c51b7d"
            ],
            [
             0.2,
             "#de77ae"
            ],
            [
             0.3,
             "#f1b6da"
            ],
            [
             0.4,
             "#fde0ef"
            ],
            [
             0.5,
             "#f7f7f7"
            ],
            [
             0.6,
             "#e6f5d0"
            ],
            [
             0.7,
             "#b8e186"
            ],
            [
             0.8,
             "#7fbc41"
            ],
            [
             0.9,
             "#4d9221"
            ],
            [
             1,
             "#276419"
            ]
           ],
           "sequential": [
            [
             0,
             "#0d0887"
            ],
            [
             0.1111111111111111,
             "#46039f"
            ],
            [
             0.2222222222222222,
             "#7201a8"
            ],
            [
             0.3333333333333333,
             "#9c179e"
            ],
            [
             0.4444444444444444,
             "#bd3786"
            ],
            [
             0.5555555555555556,
             "#d8576b"
            ],
            [
             0.6666666666666666,
             "#ed7953"
            ],
            [
             0.7777777777777778,
             "#fb9f3a"
            ],
            [
             0.8888888888888888,
             "#fdca26"
            ],
            [
             1,
             "#f0f921"
            ]
           ],
           "sequentialminus": [
            [
             0,
             "#0d0887"
            ],
            [
             0.1111111111111111,
             "#46039f"
            ],
            [
             0.2222222222222222,
             "#7201a8"
            ],
            [
             0.3333333333333333,
             "#9c179e"
            ],
            [
             0.4444444444444444,
             "#bd3786"
            ],
            [
             0.5555555555555556,
             "#d8576b"
            ],
            [
             0.6666666666666666,
             "#ed7953"
            ],
            [
             0.7777777777777778,
             "#fb9f3a"
            ],
            [
             0.8888888888888888,
             "#fdca26"
            ],
            [
             1,
             "#f0f921"
            ]
           ]
          },
          "colorway": [
           "#636efa",
           "#EF553B",
           "#00cc96",
           "#ab63fa",
           "#FFA15A",
           "#19d3f3",
           "#FF6692",
           "#B6E880",
           "#FF97FF",
           "#FECB52"
          ],
          "font": {
           "color": "#2a3f5f"
          },
          "geo": {
           "bgcolor": "white",
           "lakecolor": "white",
           "landcolor": "white",
           "showlakes": true,
           "showland": true,
           "subunitcolor": "#C8D4E3"
          },
          "hoverlabel": {
           "align": "left"
          },
          "hovermode": "closest",
          "mapbox": {
           "style": "light"
          },
          "paper_bgcolor": "white",
          "plot_bgcolor": "white",
          "polar": {
           "angularaxis": {
            "gridcolor": "#EBF0F8",
            "linecolor": "#EBF0F8",
            "ticks": ""
           },
           "bgcolor": "white",
           "radialaxis": {
            "gridcolor": "#EBF0F8",
            "linecolor": "#EBF0F8",
            "ticks": ""
           }
          },
          "scene": {
           "xaxis": {
            "backgroundcolor": "white",
            "gridcolor": "#DFE8F3",
            "gridwidth": 2,
            "linecolor": "#EBF0F8",
            "showbackground": true,
            "ticks": "",
            "zerolinecolor": "#EBF0F8"
           },
           "yaxis": {
            "backgroundcolor": "white",
            "gridcolor": "#DFE8F3",
            "gridwidth": 2,
            "linecolor": "#EBF0F8",
            "showbackground": true,
            "ticks": "",
            "zerolinecolor": "#EBF0F8"
           },
           "zaxis": {
            "backgroundcolor": "white",
            "gridcolor": "#DFE8F3",
            "gridwidth": 2,
            "linecolor": "#EBF0F8",
            "showbackground": true,
            "ticks": "",
            "zerolinecolor": "#EBF0F8"
           }
          },
          "shapedefaults": {
           "line": {
            "color": "#2a3f5f"
           }
          },
          "ternary": {
           "aaxis": {
            "gridcolor": "#DFE8F3",
            "linecolor": "#A2B1C6",
            "ticks": ""
           },
           "baxis": {
            "gridcolor": "#DFE8F3",
            "linecolor": "#A2B1C6",
            "ticks": ""
           },
           "bgcolor": "white",
           "caxis": {
            "gridcolor": "#DFE8F3",
            "linecolor": "#A2B1C6",
            "ticks": ""
           }
          },
          "title": {
           "x": 0.05
          },
          "xaxis": {
           "automargin": true,
           "gridcolor": "#EBF0F8",
           "linecolor": "#EBF0F8",
           "ticks": "",
           "title": {
            "standoff": 15
           },
           "zerolinecolor": "#EBF0F8",
           "zerolinewidth": 2
          },
          "yaxis": {
           "automargin": true,
           "gridcolor": "#EBF0F8",
           "linecolor": "#EBF0F8",
           "ticks": "",
           "title": {
            "standoff": 15
           },
           "zerolinecolor": "#EBF0F8",
           "zerolinewidth": 2
          }
         }
        },
        "title": {
         "text": "Top 20 Most Valued Players Based on Price"
        },
        "xaxis": {
         "anchor": "y",
         "autorange": true,
         "domain": [
          0,
          1
         ],
         "range": [
          0,
          36.42105263157895
         ],
         "title": {
          "text": "value_season"
         },
         "type": "linear"
        },
        "yaxis": {
         "anchor": "x",
         "autorange": true,
         "domain": [
          0,
          1
         ],
         "range": [
          -0.5,
          19.5
         ],
         "title": {
          "text": "name"
         },
         "type": "category"
        }
       }
      },
      "image/png": "[encoded data removed]",
      "text/html": [
       "<div>                            <div id=\"8c13a79b-5c25-4fbf-9fc2-16341f9e9701\" class=\"plotly-graph-div\" style=\"height:600px; width:100%;\"></div>            <script type=\"text/javascript\">                require([\"plotly\"], function(Plotly) {                    window.PLOTLYENV=window.PLOTLYENV || {};                                    if (document.getElementById(\"8c13a79b-5c25-4fbf-9fc2-16341f9e9701\")) {                    Plotly.newPlot(                        \"8c13a79b-5c25-4fbf-9fc2-16341f9e9701\",                        [{\"alignmentgroup\":\"True\",\"customdata\":[[4.8,\"GKP\",\"Brentford\"],[6.0,\"DEF\",\"Newcastle\"],[4.8,\"MID\",\"Arsenal\"],[5.1,\"GKP\",\"Man Utd\"],[5.0,\"DEF\",\"Arsenal\"],[4.6,\"GKP\",\"Fulham\"],[6.9,\"MID\",\"Arsenal\"],[6.5,\"MID\",\"Arsenal\"],[4.8,\"GKP\",\"Arsenal\"],[4.8,\"DEF\",\"Brentford\"],[4.8,\"MID\",\"Aston Villa\"],[5.0,\"GKP\",\"Wolves\"],[5.5,\"GKP\",\"Liverpool\"],[5.4,\"MID\",\"Brighton\"],[5.4,\"MID\",\"Newcastle\"],[5.4,\"GKP\",\"Newcastle\"],[4.5,\"DEF\",\"Newcastle\"],[4.5,\"DEF\",\"Newcastle\"],[4.3,\"MID\",\"Fulham\"],[7.2,\"MID\",\"Man Utd\"]],\"hovertemplate\":\"value_season=%{marker.color}\\u003cbr\\u003ename=%{y}\\u003cbr\\u003ecost=%{customdata[0]}\\u003cbr\\u003eposition=%{customdata[1]}\\u003cbr\\u003eteam=%{customdata[2]}\\u003cextra\\u003e\\u003c\\u002fextra\\u003e\",\"legendgroup\":\"\",\"marker\":{\"color\":[34.6,33.0,31.9,31.6,31.2,30.9,30.7,30.5,29.8,29.8,29.6,29.6,29.5,29.4,29.3,29.1,28.7,28.7,28.6,28.5],\"coloraxis\":\"coloraxis\",\"pattern\":{\"shape\":\"\"}},\"name\":\"\",\"offsetgroup\":\"\",\"orientation\":\"h\",\"showlegend\":false,\"text\":[34.6,33.0,31.9,31.6,31.2,30.9,30.7,30.5,29.8,29.8,29.6,29.6,29.5,29.4,29.3,29.1,28.7,28.7,28.6,28.5],\"textposition\":\"auto\",\"x\":[34.6,33.0,31.9,31.6,31.2,30.9,30.7,30.5,29.8,29.8,29.6,29.6,29.5,29.4,29.3,29.1,28.7,28.7,28.6,28.5],\"xaxis\":\"x\",\"y\":[\"David Raya Martin\",\"Kieran Trippier\",\"Granit Xhaka\",\"David De Gea Quintana\",\"Benjamin White\",\"Bernd Leno\",\"Martin \\u00d8degaard\",\"Gabriel Martinelli Silva\",\"Aaron Ramsdale\",\"Ben Mee\",\"Douglas Luiz Soares de Paulo\",\"Jos\\u00e9 Malheiro de S\\u00e1\",\"Alisson Ramses Becker\",\"Pascal Gro\\u00df\",\"Miguel Almir\\u00f3n Rejala\",\"Nick Pope\",\"Sven Botman\",\"Dan Burn\",\"Andreas Hoelgebaum Pereira\",\"Marcus Rashford\"],\"yaxis\":\"y\",\"type\":\"bar\"}],                        {\"template\":{\"data\":{\"barpolar\":[{\"marker\":{\"line\":{\"color\":\"white\",\"width\":0.5},\"pattern\":{\"fillmode\":\"overlay\",\"size\":10,\"solidity\":0.2}},\"type\":\"barpolar\"}],\"bar\":[{\"error_x\":{\"color\":\"#2a3f5f\"},\"error_y\":{\"color\":\"#2a3f5f\"},\"marker\":{\"line\":{\"color\":\"white\",\"width\":0.5},\"pattern\":{\"fillmode\":\"overlay\",\"size\":10,\"solidity\":0.2}},\"type\":\"bar\"}],\"carpet\":[{\"aaxis\":{\"endlinecolor\":\"#2a3f5f\",\"gridcolor\":\"#C8D4E3\",\"linecolor\":\"#C8D4E3\",\"minorgridcolor\":\"#C8D4E3\",\"startlinecolor\":\"#2a3f5f\"},\"baxis\":{\"endlinecolor\":\"#2a3f5f\",\"gridcolor\":\"#C8D4E3\",\"linecolor\":\"#C8D4E3\",\"minorgridcolor\":\"#C8D4E3\",\"startlinecolor\":\"#2a3f5f\"},\"type\":\"carpet\"}],\"choropleth\":[{\"colorbar\":{\"outlinewidth\":0,\"ticks\":\"\"},\"type\":\"choropleth\"}],\"contourcarpet\":[{\"colorbar\":{\"outlinewidth\":0,\"ticks\":\"\"},\"type\":\"contourcarpet\"}],\"contour\":[{\"colorbar\":{\"outlinewidth\":0,\"ticks\":\"\"},\"colorscale\":[[0.0,\"#0d0887\"],[0.1111111111111111,\"#46039f\"],[0.2222222222222222,\"#7201a8\"],[0.3333333333333333,\"#9c179e\"],[0.4444444444444444,\"#bd3786\"],[0.5555555555555556,\"#d8576b\"],[0.6666666666666666,\"#ed7953\"],[0.7777777777777778,\"#fb9f3a\"],[0.8888888888888888,\"#fdca26\"],[1.0,\"#f0f921\"]],\"type\":\"contour\"}],\"heatmapgl\":[{\"colorbar\":{\"outlinewidth\":0,\"ticks\":\"\"},\"colorscale\":[[0.0,\"#0d0887\"],[0.1111111111111111,\"#46039f\"],[0.2222222222222222,\"#7201a8\"],[0.3333333333333333,\"#9c179e\"],[0.4444444444444444,\"#bd3786\"],[0.5555555555555556,\"#d8576b\"],[0.6666666666666666,\"#ed7953\"],[0.7777777777777778,\"#fb9f3a\"],[0.8888888888888888,\"#fdca26\"],[1.0,\"#f0f921\"]],\"type\":\"heatmapgl\"}],\"heatmap\":[{\"colorbar\":{\"outlinewidth\":0,\"ticks\":\"\"},\"colorscale\":[[0.0,\"#0d0887\"],[0.1111111111111111,\"#46039f\"],[0.2222222222222222,\"#7201a8\"],[0.3333333333333333,\"#9c179e\"],[0.4444444444444444,\"#bd3786\"],[0.5555555555555556,\"#d8576b\"],[0.6666666666666666,\"#ed7953\"],[0.7777777777777778,\"#fb9f3a\"],[0.8888888888888888,\"#fdca26\"],[1.0,\"#f0f921\"]],\"type\":\"heatmap\"}],\"histogram2dcontour\":[{\"colorbar\":{\"outlinewidth\":0,\"ticks\":\"\"},\"colorscale\":[[0.0,\"#0d0887\"],[0.1111111111111111,\"#46039f\"],[0.2222222222222222,\"#7201a8\"],[0.3333333333333333,\"#9c179e\"],[0.4444444444444444,\"#bd3786\"],[0.5555555555555556,\"#d8576b\"],[0.6666666666666666,\"#ed7953\"],[0.7777777777777778,\"#fb9f3a\"],[0.8888888888888888,\"#fdca26\"],[1.0,\"#f0f921\"]],\"type\":\"histogram2dcontour\"}],\"histogram2d\":[{\"colorbar\":{\"outlinewidth\":0,\"ticks\":\"\"},\"colorscale\":[[0.0,\"#0d0887\"],[0.1111111111111111,\"#46039f\"],[0.2222222222222222,\"#7201a8\"],[0.3333333333333333,\"#9c179e\"],[0.4444444444444444,\"#bd3786\"],[0.5555555555555556,\"#d8576b\"],[0.6666666666666666,\"#ed7953\"],[0.7777777777777778,\"#fb9f3a\"],[0.8888888888888888,\"#fdca26\"],[1.0,\"#f0f921\"]],\"type\":\"histogram2d\"}],\"histogram\":[{\"marker\":{\"pattern\":{\"fillmode\":\"overlay\",\"size\":10,\"solidity\":0.2}},\"type\":\"histogram\"}],\"mesh3d\":[{\"colorbar\":{\"outlinewidth\":0,\"ticks\":\"\"},\"type\":\"mesh3d\"}],\"parcoords\":[{\"line\":{\"colorbar\":{\"outlinewidth\":0,\"ticks\":\"\"}},\"type\":\"parcoords\"}],\"pie\":[{\"automargin\":true,\"type\":\"pie\"}],\"scatter3d\":[{\"line\":{\"colorbar\":{\"outlinewidth\":0,\"ticks\":\"\"}},\"marker\":{\"colorbar\":{\"outlinewidth\":0,\"ticks\":\"\"}},\"type\":\"scatter3d\"}],\"scattercarpet\":[{\"marker\":{\"colorbar\":{\"outlinewidth\":0,\"ticks\":\"\"}},\"type\":\"scattercarpet\"}],\"scattergeo\":[{\"marker\":{\"colorbar\":{\"outlinewidth\":0,\"ticks\":\"\"}},\"type\":\"scattergeo\"}],\"scattergl\":[{\"marker\":{\"colorbar\":{\"outlinewidth\":0,\"ticks\":\"\"}},\"type\":\"scattergl\"}],\"scattermapbox\":[{\"marker\":{\"colorbar\":{\"outlinewidth\":0,\"ticks\":\"\"}},\"type\":\"scattermapbox\"}],\"scatterpolargl\":[{\"marker\":{\"colorbar\":{\"outlinewidth\":0,\"ticks\":\"\"}},\"type\":\"scatterpolargl\"}],\"scatterpolar\":[{\"marker\":{\"colorbar\":{\"outlinewidth\":0,\"ticks\":\"\"}},\"type\":\"scatterpolar\"}],\"scatter\":[{\"fillpattern\":{\"fillmode\":\"overlay\",\"size\":10,\"solidity\":0.2},\"type\":\"scatter\"}],\"scatterternary\":[{\"marker\":{\"colorbar\":{\"outlinewidth\":0,\"ticks\":\"\"}},\"type\":\"scatterternary\"}],\"surface\":[{\"colorbar\":{\"outlinewidth\":0,\"ticks\":\"\"},\"colorscale\":[[0.0,\"#0d0887\"],[0.1111111111111111,\"#46039f\"],[0.2222222222222222,\"#7201a8\"],[0.3333333333333333,\"#9c179e\"],[0.4444444444444444,\"#bd3786\"],[0.5555555555555556,\"#d8576b\"],[0.6666666666666666,\"#ed7953\"],[0.7777777777777778,\"#fb9f3a\"],[0.8888888888888888,\"#fdca26\"],[1.0,\"#f0f921\"]],\"type\":\"surface\"}],\"table\":[{\"cells\":{\"fill\":{\"color\":\"#EBF0F8\"},\"line\":{\"color\":\"white\"}},\"header\":{\"fill\":{\"color\":\"#C8D4E3\"},\"line\":{\"color\":\"white\"}},\"type\":\"table\"}]},\"layout\":{\"annotationdefaults\":{\"arrowcolor\":\"#2a3f5f\",\"arrowhead\":0,\"arrowwidth\":1},\"autotypenumbers\":\"strict\",\"coloraxis\":{\"colorbar\":{\"outlinewidth\":0,\"ticks\":\"\"}},\"colorscale\":{\"diverging\":[[0,\"#8e0152\"],[0.1,\"#c51b7d\"],[0.2,\"#de77ae\"],[0.3,\"#f1b6da\"],[0.4,\"#fde0ef\"],[0.5,\"#f7f7f7\"],[0.6,\"#e6f5d0\"],[0.7,\"#b8e186\"],[0.8,\"#7fbc41\"],[0.9,\"#4d9221\"],[1,\"#276419\"]],\"sequential\":[[0.0,\"#0d0887\"],[0.1111111111111111,\"#46039f\"],[0.2222222222222222,\"#7201a8\"],[0.3333333333333333,\"#9c179e\"],[0.4444444444444444,\"#bd3786\"],[0.5555555555555556,\"#d8576b\"],[0.6666666666666666,\"#ed7953\"],[0.7777777777777778,\"#fb9f3a\"],[0.8888888888888888,\"#fdca26\"],[1.0,\"#f0f921\"]],\"sequentialminus\":[[0.0,\"#0d0887\"],[0.1111111111111111,\"#46039f\"],[0.2222222222222222,\"#7201a8\"],[0.3333333333333333,\"#9c179e\"],[0.4444444444444444,\"#bd3786\"],[0.5555555555555556,\"#d8576b\"],[0.6666666666666666,\"#ed7953\"],[0.7777777777777778,\"#fb9f3a\"],[0.8888888888888888,\"#fdca26\"],[1.0,\"#f0f921\"]]},\"colorway\":[\"#636efa\",\"#EF553B\",\"#00cc96\",\"#ab63fa\",\"#FFA15A\",\"#19d3f3\",\"#FF6692\",\"#B6E880\",\"#FF97FF\",\"#FECB52\"],\"font\":{\"color\":\"#2a3f5f\"},\"geo\":{\"bgcolor\":\"white\",\"lakecolor\":\"white\",\"landcolor\":\"white\",\"showlakes\":true,\"showland\":true,\"subunitcolor\":\"#C8D4E3\"},\"hoverlabel\":{\"align\":\"left\"},\"hovermode\":\"closest\",\"mapbox\":{\"style\":\"light\"},\"paper_bgcolor\":\"white\",\"plot_bgcolor\":\"white\",\"polar\":{\"angularaxis\":{\"gridcolor\":\"#EBF0F8\",\"linecolor\":\"#EBF0F8\",\"ticks\":\"\"},\"bgcolor\":\"white\",\"radialaxis\":{\"gridcolor\":\"#EBF0F8\",\"linecolor\":\"#EBF0F8\",\"ticks\":\"\"}},\"scene\":{\"xaxis\":{\"backgroundcolor\":\"white\",\"gridcolor\":\"#DFE8F3\",\"gridwidth\":2,\"linecolor\":\"#EBF0F8\",\"showbackground\":true,\"ticks\":\"\",\"zerolinecolor\":\"#EBF0F8\"},\"yaxis\":{\"backgroundcolor\":\"white\",\"gridcolor\":\"#DFE8F3\",\"gridwidth\":2,\"linecolor\":\"#EBF0F8\",\"showbackground\":true,\"ticks\":\"\",\"zerolinecolor\":\"#EBF0F8\"},\"zaxis\":{\"backgroundcolor\":\"white\",\"gridcolor\":\"#DFE8F3\",\"gridwidth\":2,\"linecolor\":\"#EBF0F8\",\"showbackground\":true,\"ticks\":\"\",\"zerolinecolor\":\"#EBF0F8\"}},\"shapedefaults\":{\"line\":{\"color\":\"#2a3f5f\"}},\"ternary\":{\"aaxis\":{\"gridcolor\":\"#DFE8F3\",\"linecolor\":\"#A2B1C6\",\"ticks\":\"\"},\"baxis\":{\"gridcolor\":\"#DFE8F3\",\"linecolor\":\"#A2B1C6\",\"ticks\":\"\"},\"bgcolor\":\"white\",\"caxis\":{\"gridcolor\":\"#DFE8F3\",\"linecolor\":\"#A2B1C6\",\"ticks\":\"\"}},\"title\":{\"x\":0.05},\"xaxis\":{\"automargin\":true,\"gridcolor\":\"#EBF0F8\",\"linecolor\":\"#EBF0F8\",\"ticks\":\"\",\"title\":{\"standoff\":15},\"zerolinecolor\":\"#EBF0F8\",\"zerolinewidth\":2},\"yaxis\":{\"automargin\":true,\"gridcolor\":\"#EBF0F8\",\"linecolor\":\"#EBF0F8\",\"ticks\":\"\",\"title\":{\"standoff\":15},\"zerolinecolor\":\"#EBF0F8\",\"zerolinewidth\":2}}},\"xaxis\":{\"anchor\":\"y\",\"domain\":[0.0,1.0],\"title\":{\"text\":\"value_season\"}},\"yaxis\":{\"anchor\":\"x\",\"domain\":[0.0,1.0],\"title\":{\"text\":\"name\"}},\"coloraxis\":{\"colorbar\":{\"title\":{\"text\":\"value_season\"}},\"colorscale\":[[0.0,\"#0d0887\"],[0.1111111111111111,\"#46039f\"],[0.2222222222222222,\"#7201a8\"],[0.3333333333333333,\"#9c179e\"],[0.4444444444444444,\"#bd3786\"],[0.5555555555555556,\"#d8576b\"],[0.6666666666666666,\"#ed7953\"],[0.7777777777777778,\"#fb9f3a\"],[0.8888888888888888,\"#fdca26\"],[1.0,\"#f0f921\"]]},\"legend\":{\"tracegroupgap\":0},\"title\":{\"text\":\"Top 20 Most Valued Players Based on Price\"},\"barmode\":\"relative\",\"height\":600},                        {\"responsive\": true}                    ).then(function(){\n",
       "                            \n",
       "var gd = document.getElementById('8c13a79b-5c25-4fbf-9fc2-16341f9e9701');\n",
       "var x = new MutationObserver(function (mutations, observer) {{\n",
       "        var display = window.getComputedStyle(gd).display;\n",
       "        if (!display || display === 'none') {{\n",
       "            console.log([gd, 'removed!']);\n",
       "            Plotly.purge(gd);\n",
       "            observer.disconnect();\n",
       "        }}\n",
       "}});\n",
       "\n",
       "// Listen for the removal of the full notebook cells\n",
       "var notebookContainer = gd.closest('#notebook-container');\n",
       "if (notebookContainer) {{\n",
       "    x.observe(notebookContainer, {childList: true});\n",
       "}}\n",
       "\n",
       "// Listen for the clearing of the current output cell\n",
       "var outputEl = gd.closest('.output');\n",
       "if (outputEl) {{\n",
       "    x.observe(outputEl, {childList: true});\n",
       "}}\n",
       "\n",
       "                        })                };                });            </script>        </div>"
      ]
     },
     "metadata": {},
     "output_type": "display_data"
    }
   ],
   "source": [
    "fig = px.bar(value, x='value_season', y='name', color='value_season', hover_data={'cost', 'team', 'position'}, text='value_season',\n",
    "            title='Top 20 Most Valued Players Based on Price', template='plotly_white')\n",
    "fig.update_layout(height=600)\n",
    "fig.show()"
   ]
  },
  {
   "cell_type": "code",
   "execution_count": 12,
   "id": "37c65647-1fc2-4e9a-9e33-2289f110d7c8",
   "metadata": {},
   "outputs": [
    {
     "data": {
      "text/html": [
       "<div>\n",
       "<style scoped>\n",
       "    .dataframe tbody tr th:only-of-type {\n",
       "        vertical-align: middle;\n",
       "    }\n",
       "\n",
       "    .dataframe tbody tr th {\n",
       "        vertical-align: top;\n",
       "    }\n",
       "\n",
       "    .dataframe thead th {\n",
       "        text-align: right;\n",
       "    }\n",
       "</style>\n",
       "<table border=\"1\" class=\"dataframe\">\n",
       "  <thead>\n",
       "    <tr style=\"text-align: right;\">\n",
       "      <th></th>\n",
       "      <th>id</th>\n",
       "      <th>name</th>\n",
       "      <th>now_cost</th>\n",
       "      <th>cost</th>\n",
       "      <th>position</th>\n",
       "      <th>team</th>\n",
       "      <th>clean_sheets_per_90</th>\n",
       "      <th>threat_rank_type</th>\n",
       "      <th>expected_assists_per_90</th>\n",
       "      <th>expected_assists</th>\n",
       "      <th>...</th>\n",
       "      <th>threat_rank</th>\n",
       "      <th>ep_this</th>\n",
       "      <th>transfers_in</th>\n",
       "      <th>bps</th>\n",
       "      <th>goals_conceded_per_90</th>\n",
       "      <th>selected_by_percent</th>\n",
       "      <th>influence_rank_type</th>\n",
       "      <th>points_per_game_rank_type</th>\n",
       "      <th>clean_sheets</th>\n",
       "      <th>now_cost_rank</th>\n",
       "    </tr>\n",
       "  </thead>\n",
       "  <tbody>\n",
       "    <tr>\n",
       "      <th>1</th>\n",
       "      <td>318</td>\n",
       "      <td>Erling Haaland</td>\n",
       "      <td>124</td>\n",
       "      <td>12.4</td>\n",
       "      <td>FWD</td>\n",
       "      <td>Man City</td>\n",
       "      <td>0.42</td>\n",
       "      <td>1</td>\n",
       "      <td>0.10</td>\n",
       "      <td>3.11</td>\n",
       "      <td>...</td>\n",
       "      <td>1</td>\n",
       "      <td>5.4</td>\n",
       "      <td>7833248</td>\n",
       "      <td>1040</td>\n",
       "      <td>0.85</td>\n",
       "      <td>78.4</td>\n",
       "      <td>1</td>\n",
       "      <td>1</td>\n",
       "      <td>13</td>\n",
       "      <td>2</td>\n",
       "    </tr>\n",
       "    <tr>\n",
       "      <th>3</th>\n",
       "      <td>427</td>\n",
       "      <td>Harry Kane</td>\n",
       "      <td>115</td>\n",
       "      <td>11.5</td>\n",
       "      <td>FWD</td>\n",
       "      <td>Spurs</td>\n",
       "      <td>0.29</td>\n",
       "      <td>2</td>\n",
       "      <td>0.11</td>\n",
       "      <td>4.01</td>\n",
       "      <td>...</td>\n",
       "      <td>2</td>\n",
       "      <td>9.2</td>\n",
       "      <td>7381740</td>\n",
       "      <td>1008</td>\n",
       "      <td>1.64</td>\n",
       "      <td>32.7</td>\n",
       "      <td>2</td>\n",
       "      <td>2</td>\n",
       "      <td>11</td>\n",
       "      <td>4</td>\n",
       "    </tr>\n",
       "    <tr>\n",
       "      <th>9</th>\n",
       "      <td>80</td>\n",
       "      <td>Ivan Toney</td>\n",
       "      <td>71</td>\n",
       "      <td>7.1</td>\n",
       "      <td>FWD</td>\n",
       "      <td>Brentford</td>\n",
       "      <td>0.30</td>\n",
       "      <td>5</td>\n",
       "      <td>0.11</td>\n",
       "      <td>3.72</td>\n",
       "      <td>...</td>\n",
       "      <td>8</td>\n",
       "      <td>0.0</td>\n",
       "      <td>10688278</td>\n",
       "      <td>607</td>\n",
       "      <td>1.28</td>\n",
       "      <td>18.2</td>\n",
       "      <td>3</td>\n",
       "      <td>3</td>\n",
       "      <td>10</td>\n",
       "      <td>38</td>\n",
       "    </tr>\n",
       "    <tr>\n",
       "      <th>4</th>\n",
       "      <td>283</td>\n",
       "      <td>Mohamed Salah</td>\n",
       "      <td>131</td>\n",
       "      <td>13.1</td>\n",
       "      <td>MID</td>\n",
       "      <td>Liverpool</td>\n",
       "      <td>0.36</td>\n",
       "      <td>1</td>\n",
       "      <td>0.19</td>\n",
       "      <td>7.03</td>\n",
       "      <td>...</td>\n",
       "      <td>3</td>\n",
       "      <td>9.3</td>\n",
       "      <td>6974743</td>\n",
       "      <td>651</td>\n",
       "      <td>1.23</td>\n",
       "      <td>37.2</td>\n",
       "      <td>1</td>\n",
       "      <td>1</td>\n",
       "      <td>13</td>\n",
       "      <td>1</td>\n",
       "    </tr>\n",
       "    <tr>\n",
       "      <th>13</th>\n",
       "      <td>356</td>\n",
       "      <td>Callum Wilson</td>\n",
       "      <td>73</td>\n",
       "      <td>7.3</td>\n",
       "      <td>FWD</td>\n",
       "      <td>Newcastle</td>\n",
       "      <td>0.48</td>\n",
       "      <td>9</td>\n",
       "      <td>0.10</td>\n",
       "      <td>2.11</td>\n",
       "      <td>...</td>\n",
       "      <td>14</td>\n",
       "      <td>7.3</td>\n",
       "      <td>4424113</td>\n",
       "      <td>526</td>\n",
       "      <td>0.77</td>\n",
       "      <td>17.2</td>\n",
       "      <td>5</td>\n",
       "      <td>4</td>\n",
       "      <td>10</td>\n",
       "      <td>29</td>\n",
       "    </tr>\n",
       "  </tbody>\n",
       "</table>\n",
       "<p>5 rows × 76 columns</p>\n",
       "</div>"
      ],
      "text/plain": [
       "     id            name  now_cost  cost position       team  \\\n",
       "1   318  Erling Haaland       124  12.4      FWD   Man City   \n",
       "3   427      Harry Kane       115  11.5      FWD      Spurs   \n",
       "9    80      Ivan Toney        71   7.1      FWD  Brentford   \n",
       "4   283   Mohamed Salah       131  13.1      MID  Liverpool   \n",
       "13  356   Callum Wilson        73   7.3      FWD  Newcastle   \n",
       "\n",
       "    clean_sheets_per_90  threat_rank_type  expected_assists_per_90  \\\n",
       "1                  0.42                 1                     0.10   \n",
       "3                  0.29                 2                     0.11   \n",
       "9                  0.30                 5                     0.11   \n",
       "4                  0.36                 1                     0.19   \n",
       "13                 0.48                 9                     0.10   \n",
       "\n",
       "    expected_assists  ...  threat_rank  ep_this  transfers_in   bps  \\\n",
       "1               3.11  ...            1      5.4       7833248  1040   \n",
       "3               4.01  ...            2      9.2       7381740  1008   \n",
       "9               3.72  ...            8      0.0      10688278   607   \n",
       "4               7.03  ...            3      9.3       6974743   651   \n",
       "13              2.11  ...           14      7.3       4424113   526   \n",
       "\n",
       "    goals_conceded_per_90  selected_by_percent  influence_rank_type  \\\n",
       "1                    0.85                 78.4                    1   \n",
       "3                    1.64                 32.7                    2   \n",
       "9                    1.28                 18.2                    3   \n",
       "4                    1.23                 37.2                    1   \n",
       "13                   0.77                 17.2                    5   \n",
       "\n",
       "    points_per_game_rank_type  clean_sheets  now_cost_rank  \n",
       "1                           1            13              2  \n",
       "3                           2            11              4  \n",
       "9                           3            10             38  \n",
       "4                           1            13              1  \n",
       "13                          4            10             29  \n",
       "\n",
       "[5 rows x 76 columns]"
      ]
     },
     "execution_count": 12,
     "metadata": {},
     "output_type": "execute_result"
    }
   ],
   "source": [
    "exp_goals = min_20_starts.sort_values('goals_scored', ascending=False).head(10)\n",
    "exp_goals.head()"
   ]
  },
  {
   "cell_type": "code",
   "execution_count": 13,
   "id": "6f67a4ec-c1e8-4f33-8521-620fc4adbba4",
   "metadata": {},
   "outputs": [
    {
     "data": {
      "application/vnd.plotly.v1+json": {
       "config": {
        "plotlyServerURL": "https://plot.ly"
       },
       "data": [
        {
         "alignmentgroup": "True",
         "hovertemplate": "variable=Goals Scored<br>Player=%{x}<br>value=%{y}<extra></extra>",
         "legendgroup": "Goals Scored",
         "marker": {
          "color": "#636efa",
          "pattern": {
           "shape": ""
          }
         },
         "name": "Goals Scored",
         "offsetgroup": "goals_scored",
         "orientation": "v",
         "showlegend": true,
         "textposition": "auto",
         "type": "bar",
         "x": [
          "Haaland",
          "Kane",
          "Toney",
          "Salah",
          "Wilson",
          "Rashford",
          "Watkins",
          "Ødegaard",
          "Martinelli",
          "Saka"
         ],
         "xaxis": "x",
         "y": [
          36,
          30,
          20,
          19,
          18,
          17,
          15,
          15,
          15,
          14
         ],
         "yaxis": "y"
        },
        {
         "alignmentgroup": "True",
         "hovertemplate": "variable=Expected Goals<br>Player=%{x}<br>value=%{y}<extra></extra>",
         "legendgroup": "Expected Goals",
         "marker": {
          "color": "#EF553B",
          "pattern": {
           "shape": ""
          }
         },
         "name": "Expected Goals",
         "offsetgroup": "expected_goals",
         "orientation": "v",
         "showlegend": true,
         "textposition": "auto",
         "type": "bar",
         "x": [
          "Haaland",
          "Kane",
          "Toney",
          "Salah",
          "Wilson",
          "Rashford",
          "Watkins",
          "Ødegaard",
          "Martinelli",
          "Saka"
         ],
         "xaxis": "x",
         "y": [
          28.54,
          20.95,
          18.74,
          21.01,
          16.43,
          15.27,
          16.15,
          9.75,
          9.15,
          11.49
         ],
         "yaxis": "y"
        }
       ],
       "layout": {
        "autosize": true,
        "barmode": "group",
        "legend": {
         "title": {
          "text": "variable"
         },
         "tracegroupgap": 0
        },
        "template": {
         "data": {
          "bar": [
           {
            "error_x": {
             "color": "#2a3f5f"
            },
            "error_y": {
             "color": "#2a3f5f"
            },
            "marker": {
             "line": {
              "color": "white",
              "width": 0.5
             },
             "pattern": {
              "fillmode": "overlay",
              "size": 10,
              "solidity": 0.2
             }
            },
            "type": "bar"
           }
          ],
          "barpolar": [
           {
            "marker": {
             "line": {
              "color": "white",
              "width": 0.5
             },
             "pattern": {
              "fillmode": "overlay",
              "size": 10,
              "solidity": 0.2
             }
            },
            "type": "barpolar"
           }
          ],
          "carpet": [
           {
            "aaxis": {
             "endlinecolor": "#2a3f5f",
             "gridcolor": "#C8D4E3",
             "linecolor": "#C8D4E3",
             "minorgridcolor": "#C8D4E3",
             "startlinecolor": "#2a3f5f"
            },
            "baxis": {
             "endlinecolor": "#2a3f5f",
             "gridcolor": "#C8D4E3",
             "linecolor": "#C8D4E3",
             "minorgridcolor": "#C8D4E3",
             "startlinecolor": "#2a3f5f"
            },
            "type": "carpet"
           }
          ],
          "choropleth": [
           {
            "colorbar": {
             "outlinewidth": 0,
             "ticks": ""
            },
            "type": "choropleth"
           }
          ],
          "contour": [
           {
            "colorbar": {
             "outlinewidth": 0,
             "ticks": ""
            },
            "colorscale": [
             [
              0,
              "#0d0887"
             ],
             [
              0.1111111111111111,
              "#46039f"
             ],
             [
              0.2222222222222222,
              "#7201a8"
             ],
             [
              0.3333333333333333,
              "#9c179e"
             ],
             [
              0.4444444444444444,
              "#bd3786"
             ],
             [
              0.5555555555555556,
              "#d8576b"
             ],
             [
              0.6666666666666666,
              "#ed7953"
             ],
             [
              0.7777777777777778,
              "#fb9f3a"
             ],
             [
              0.8888888888888888,
              "#fdca26"
             ],
             [
              1,
              "#f0f921"
             ]
            ],
            "type": "contour"
           }
          ],
          "contourcarpet": [
           {
            "colorbar": {
             "outlinewidth": 0,
             "ticks": ""
            },
            "type": "contourcarpet"
           }
          ],
          "heatmap": [
           {
            "colorbar": {
             "outlinewidth": 0,
             "ticks": ""
            },
            "colorscale": [
             [
              0,
              "#0d0887"
             ],
             [
              0.1111111111111111,
              "#46039f"
             ],
             [
              0.2222222222222222,
              "#7201a8"
             ],
             [
              0.3333333333333333,
              "#9c179e"
             ],
             [
              0.4444444444444444,
              "#bd3786"
             ],
             [
              0.5555555555555556,
              "#d8576b"
             ],
             [
              0.6666666666666666,
              "#ed7953"
             ],
             [
              0.7777777777777778,
              "#fb9f3a"
             ],
             [
              0.8888888888888888,
              "#fdca26"
             ],
             [
              1,
              "#f0f921"
             ]
            ],
            "type": "heatmap"
           }
          ],
          "heatmapgl": [
           {
            "colorbar": {
             "outlinewidth": 0,
             "ticks": ""
            },
            "colorscale": [
             [
              0,
              "#0d0887"
             ],
             [
              0.1111111111111111,
              "#46039f"
             ],
             [
              0.2222222222222222,
              "#7201a8"
             ],
             [
              0.3333333333333333,
              "#9c179e"
             ],
             [
              0.4444444444444444,
              "#bd3786"
             ],
             [
              0.5555555555555556,
              "#d8576b"
             ],
             [
              0.6666666666666666,
              "#ed7953"
             ],
             [
              0.7777777777777778,
              "#fb9f3a"
             ],
             [
              0.8888888888888888,
              "#fdca26"
             ],
             [
              1,
              "#f0f921"
             ]
            ],
            "type": "heatmapgl"
           }
          ],
          "histogram": [
           {
            "marker": {
             "pattern": {
              "fillmode": "overlay",
              "size": 10,
              "solidity": 0.2
             }
            },
            "type": "histogram"
           }
          ],
          "histogram2d": [
           {
            "colorbar": {
             "outlinewidth": 0,
             "ticks": ""
            },
            "colorscale": [
             [
              0,
              "#0d0887"
             ],
             [
              0.1111111111111111,
              "#46039f"
             ],
             [
              0.2222222222222222,
              "#7201a8"
             ],
             [
              0.3333333333333333,
              "#9c179e"
             ],
             [
              0.4444444444444444,
              "#bd3786"
             ],
             [
              0.5555555555555556,
              "#d8576b"
             ],
             [
              0.6666666666666666,
              "#ed7953"
             ],
             [
              0.7777777777777778,
              "#fb9f3a"
             ],
             [
              0.8888888888888888,
              "#fdca26"
             ],
             [
              1,
              "#f0f921"
             ]
            ],
            "type": "histogram2d"
           }
          ],
          "histogram2dcontour": [
           {
            "colorbar": {
             "outlinewidth": 0,
             "ticks": ""
            },
            "colorscale": [
             [
              0,
              "#0d0887"
             ],
             [
              0.1111111111111111,
              "#46039f"
             ],
             [
              0.2222222222222222,
              "#7201a8"
             ],
             [
              0.3333333333333333,
              "#9c179e"
             ],
             [
              0.4444444444444444,
              "#bd3786"
             ],
             [
              0.5555555555555556,
              "#d8576b"
             ],
             [
              0.6666666666666666,
              "#ed7953"
             ],
             [
              0.7777777777777778,
              "#fb9f3a"
             ],
             [
              0.8888888888888888,
              "#fdca26"
             ],
             [
              1,
              "#f0f921"
             ]
            ],
            "type": "histogram2dcontour"
           }
          ],
          "mesh3d": [
           {
            "colorbar": {
             "outlinewidth": 0,
             "ticks": ""
            },
            "type": "mesh3d"
           }
          ],
          "parcoords": [
           {
            "line": {
             "colorbar": {
              "outlinewidth": 0,
              "ticks": ""
             }
            },
            "type": "parcoords"
           }
          ],
          "pie": [
           {
            "automargin": true,
            "type": "pie"
           }
          ],
          "scatter": [
           {
            "fillpattern": {
             "fillmode": "overlay",
             "size": 10,
             "solidity": 0.2
            },
            "type": "scatter"
           }
          ],
          "scatter3d": [
           {
            "line": {
             "colorbar": {
              "outlinewidth": 0,
              "ticks": ""
             }
            },
            "marker": {
             "colorbar": {
              "outlinewidth": 0,
              "ticks": ""
             }
            },
            "type": "scatter3d"
           }
          ],
          "scattercarpet": [
           {
            "marker": {
             "colorbar": {
              "outlinewidth": 0,
              "ticks": ""
             }
            },
            "type": "scattercarpet"
           }
          ],
          "scattergeo": [
           {
            "marker": {
             "colorbar": {
              "outlinewidth": 0,
              "ticks": ""
             }
            },
            "type": "scattergeo"
           }
          ],
          "scattergl": [
           {
            "marker": {
             "colorbar": {
              "outlinewidth": 0,
              "ticks": ""
             }
            },
            "type": "scattergl"
           }
          ],
          "scattermapbox": [
           {
            "marker": {
             "colorbar": {
              "outlinewidth": 0,
              "ticks": ""
             }
            },
            "type": "scattermapbox"
           }
          ],
          "scatterpolar": [
           {
            "marker": {
             "colorbar": {
              "outlinewidth": 0,
              "ticks": ""
             }
            },
            "type": "scatterpolar"
           }
          ],
          "scatterpolargl": [
           {
            "marker": {
             "colorbar": {
              "outlinewidth": 0,
              "ticks": ""
             }
            },
            "type": "scatterpolargl"
           }
          ],
          "scatterternary": [
           {
            "marker": {
             "colorbar": {
              "outlinewidth": 0,
              "ticks": ""
             }
            },
            "type": "scatterternary"
           }
          ],
          "surface": [
           {
            "colorbar": {
             "outlinewidth": 0,
             "ticks": ""
            },
            "colorscale": [
             [
              0,
              "#0d0887"
             ],
             [
              0.1111111111111111,
              "#46039f"
             ],
             [
              0.2222222222222222,
              "#7201a8"
             ],
             [
              0.3333333333333333,
              "#9c179e"
             ],
             [
              0.4444444444444444,
              "#bd3786"
             ],
             [
              0.5555555555555556,
              "#d8576b"
             ],
             [
              0.6666666666666666,
              "#ed7953"
             ],
             [
              0.7777777777777778,
              "#fb9f3a"
             ],
             [
              0.8888888888888888,
              "#fdca26"
             ],
             [
              1,
              "#f0f921"
             ]
            ],
            "type": "surface"
           }
          ],
          "table": [
           {
            "cells": {
             "fill": {
              "color": "#EBF0F8"
             },
             "line": {
              "color": "white"
             }
            },
            "header": {
             "fill": {
              "color": "#C8D4E3"
             },
             "line": {
              "color": "white"
             }
            },
            "type": "table"
           }
          ]
         },
         "layout": {
          "annotationdefaults": {
           "arrowcolor": "#2a3f5f",
           "arrowhead": 0,
           "arrowwidth": 1
          },
          "autotypenumbers": "strict",
          "coloraxis": {
           "colorbar": {
            "outlinewidth": 0,
            "ticks": ""
           }
          },
          "colorscale": {
           "diverging": [
            [
             0,
             "#8e0152"
            ],
            [
             0.1,
             "#c51b7d"
            ],
            [
             0.2,
             "#de77ae"
            ],
            [
             0.3,
             "#f1b6da"
            ],
            [
             0.4,
             "#fde0ef"
            ],
            [
             0.5,
             "#f7f7f7"
            ],
            [
             0.6,
             "#e6f5d0"
            ],
            [
             0.7,
             "#b8e186"
            ],
            [
             0.8,
             "#7fbc41"
            ],
            [
             0.9,
             "#4d9221"
            ],
            [
             1,
             "#276419"
            ]
           ],
           "sequential": [
            [
             0,
             "#0d0887"
            ],
            [
             0.1111111111111111,
             "#46039f"
            ],
            [
             0.2222222222222222,
             "#7201a8"
            ],
            [
             0.3333333333333333,
             "#9c179e"
            ],
            [
             0.4444444444444444,
             "#bd3786"
            ],
            [
             0.5555555555555556,
             "#d8576b"
            ],
            [
             0.6666666666666666,
             "#ed7953"
            ],
            [
             0.7777777777777778,
             "#fb9f3a"
            ],
            [
             0.8888888888888888,
             "#fdca26"
            ],
            [
             1,
             "#f0f921"
            ]
           ],
           "sequentialminus": [
            [
             0,
             "#0d0887"
            ],
            [
             0.1111111111111111,
             "#46039f"
            ],
            [
             0.2222222222222222,
             "#7201a8"
            ],
            [
             0.3333333333333333,
             "#9c179e"
            ],
            [
             0.4444444444444444,
             "#bd3786"
            ],
            [
             0.5555555555555556,
             "#d8576b"
            ],
            [
             0.6666666666666666,
             "#ed7953"
            ],
            [
             0.7777777777777778,
             "#fb9f3a"
            ],
            [
             0.8888888888888888,
             "#fdca26"
            ],
            [
             1,
             "#f0f921"
            ]
           ]
          },
          "colorway": [
           "#636efa",
           "#EF553B",
           "#00cc96",
           "#ab63fa",
           "#FFA15A",
           "#19d3f3",
           "#FF6692",
           "#B6E880",
           "#FF97FF",
           "#FECB52"
          ],
          "font": {
           "color": "#2a3f5f"
          },
          "geo": {
           "bgcolor": "white",
           "lakecolor": "white",
           "landcolor": "white",
           "showlakes": true,
           "showland": true,
           "subunitcolor": "#C8D4E3"
          },
          "hoverlabel": {
           "align": "left"
          },
          "hovermode": "closest",
          "mapbox": {
           "style": "light"
          },
          "paper_bgcolor": "white",
          "plot_bgcolor": "white",
          "polar": {
           "angularaxis": {
            "gridcolor": "#EBF0F8",
            "linecolor": "#EBF0F8",
            "ticks": ""
           },
           "bgcolor": "white",
           "radialaxis": {
            "gridcolor": "#EBF0F8",
            "linecolor": "#EBF0F8",
            "ticks": ""
           }
          },
          "scene": {
           "xaxis": {
            "backgroundcolor": "white",
            "gridcolor": "#DFE8F3",
            "gridwidth": 2,
            "linecolor": "#EBF0F8",
            "showbackground": true,
            "ticks": "",
            "zerolinecolor": "#EBF0F8"
           },
           "yaxis": {
            "backgroundcolor": "white",
            "gridcolor": "#DFE8F3",
            "gridwidth": 2,
            "linecolor": "#EBF0F8",
            "showbackground": true,
            "ticks": "",
            "zerolinecolor": "#EBF0F8"
           },
           "zaxis": {
            "backgroundcolor": "white",
            "gridcolor": "#DFE8F3",
            "gridwidth": 2,
            "linecolor": "#EBF0F8",
            "showbackground": true,
            "ticks": "",
            "zerolinecolor": "#EBF0F8"
           }
          },
          "shapedefaults": {
           "line": {
            "color": "#2a3f5f"
           }
          },
          "ternary": {
           "aaxis": {
            "gridcolor": "#DFE8F3",
            "linecolor": "#A2B1C6",
            "ticks": ""
           },
           "baxis": {
            "gridcolor": "#DFE8F3",
            "linecolor": "#A2B1C6",
            "ticks": ""
           },
           "bgcolor": "white",
           "caxis": {
            "gridcolor": "#DFE8F3",
            "linecolor": "#A2B1C6",
            "ticks": ""
           }
          },
          "title": {
           "x": 0.05
          },
          "xaxis": {
           "automargin": true,
           "gridcolor": "#EBF0F8",
           "linecolor": "#EBF0F8",
           "ticks": "",
           "title": {
            "standoff": 15
           },
           "zerolinecolor": "#EBF0F8",
           "zerolinewidth": 2
          },
          "yaxis": {
           "automargin": true,
           "gridcolor": "#EBF0F8",
           "linecolor": "#EBF0F8",
           "ticks": "",
           "title": {
            "standoff": 15
           },
           "zerolinecolor": "#EBF0F8",
           "zerolinewidth": 2
          }
         }
        },
        "title": {
         "text": "Goals Scored vs Expected Goals"
        },
        "xaxis": {
         "anchor": "y",
         "autorange": true,
         "domain": [
          0,
          1
         ],
         "range": [
          -0.5,
          9.5
         ],
         "title": {
          "text": "Player"
         },
         "type": "category"
        },
        "yaxis": {
         "anchor": "x",
         "autorange": true,
         "domain": [
          0,
          1
         ],
         "range": [
          0,
          37.89473684210526
         ],
         "title": {
          "text": "value"
         },
         "type": "linear"
        }
       }
      },
      "image/png": "[encoded data removed]",
      "text/html": [
       "<div>                            <div id=\"8d6c63db-1400-4f93-b21a-ef88f1486729\" class=\"plotly-graph-div\" style=\"height:525px; width:100%;\"></div>            <script type=\"text/javascript\">                require([\"plotly\"], function(Plotly) {                    window.PLOTLYENV=window.PLOTLYENV || {};                                    if (document.getElementById(\"8d6c63db-1400-4f93-b21a-ef88f1486729\")) {                    Plotly.newPlot(                        \"8d6c63db-1400-4f93-b21a-ef88f1486729\",                        [{\"alignmentgroup\":\"True\",\"hovertemplate\":\"variable=Goals Scored\\u003cbr\\u003ePlayer=%{x}\\u003cbr\\u003evalue=%{y}\\u003cextra\\u003e\\u003c\\u002fextra\\u003e\",\"legendgroup\":\"Goals Scored\",\"marker\":{\"color\":\"#636efa\",\"pattern\":{\"shape\":\"\"}},\"name\":\"Goals Scored\",\"offsetgroup\":\"goals_scored\",\"orientation\":\"v\",\"showlegend\":true,\"textposition\":\"auto\",\"x\":[\"Haaland\",\"Kane\",\"Toney\",\"Salah\",\"Wilson\",\"Rashford\",\"Watkins\",\"\\u00d8degaard\",\"Martinelli\",\"Saka\"],\"xaxis\":\"x\",\"y\":[36.0,30.0,20.0,19.0,18.0,17.0,15.0,15.0,15.0,14.0],\"yaxis\":\"y\",\"type\":\"bar\"},{\"alignmentgroup\":\"True\",\"hovertemplate\":\"variable=Expected Goals\\u003cbr\\u003ePlayer=%{x}\\u003cbr\\u003evalue=%{y}\\u003cextra\\u003e\\u003c\\u002fextra\\u003e\",\"legendgroup\":\"Expected Goals\",\"marker\":{\"color\":\"#EF553B\",\"pattern\":{\"shape\":\"\"}},\"name\":\"Expected Goals\",\"offsetgroup\":\"expected_goals\",\"orientation\":\"v\",\"showlegend\":true,\"textposition\":\"auto\",\"x\":[\"Haaland\",\"Kane\",\"Toney\",\"Salah\",\"Wilson\",\"Rashford\",\"Watkins\",\"\\u00d8degaard\",\"Martinelli\",\"Saka\"],\"xaxis\":\"x\",\"y\":[28.54,20.95,18.74,21.01,16.43,15.27,16.15,9.75,9.15,11.49],\"yaxis\":\"y\",\"type\":\"bar\"}],                        {\"template\":{\"data\":{\"barpolar\":[{\"marker\":{\"line\":{\"color\":\"white\",\"width\":0.5},\"pattern\":{\"fillmode\":\"overlay\",\"size\":10,\"solidity\":0.2}},\"type\":\"barpolar\"}],\"bar\":[{\"error_x\":{\"color\":\"#2a3f5f\"},\"error_y\":{\"color\":\"#2a3f5f\"},\"marker\":{\"line\":{\"color\":\"white\",\"width\":0.5},\"pattern\":{\"fillmode\":\"overlay\",\"size\":10,\"solidity\":0.2}},\"type\":\"bar\"}],\"carpet\":[{\"aaxis\":{\"endlinecolor\":\"#2a3f5f\",\"gridcolor\":\"#C8D4E3\",\"linecolor\":\"#C8D4E3\",\"minorgridcolor\":\"#C8D4E3\",\"startlinecolor\":\"#2a3f5f\"},\"baxis\":{\"endlinecolor\":\"#2a3f5f\",\"gridcolor\":\"#C8D4E3\",\"linecolor\":\"#C8D4E3\",\"minorgridcolor\":\"#C8D4E3\",\"startlinecolor\":\"#2a3f5f\"},\"type\":\"carpet\"}],\"choropleth\":[{\"colorbar\":{\"outlinewidth\":0,\"ticks\":\"\"},\"type\":\"choropleth\"}],\"contourcarpet\":[{\"colorbar\":{\"outlinewidth\":0,\"ticks\":\"\"},\"type\":\"contourcarpet\"}],\"contour\":[{\"colorbar\":{\"outlinewidth\":0,\"ticks\":\"\"},\"colorscale\":[[0.0,\"#0d0887\"],[0.1111111111111111,\"#46039f\"],[0.2222222222222222,\"#7201a8\"],[0.3333333333333333,\"#9c179e\"],[0.4444444444444444,\"#bd3786\"],[0.5555555555555556,\"#d8576b\"],[0.6666666666666666,\"#ed7953\"],[0.7777777777777778,\"#fb9f3a\"],[0.8888888888888888,\"#fdca26\"],[1.0,\"#f0f921\"]],\"type\":\"contour\"}],\"heatmapgl\":[{\"colorbar\":{\"outlinewidth\":0,\"ticks\":\"\"},\"colorscale\":[[0.0,\"#0d0887\"],[0.1111111111111111,\"#46039f\"],[0.2222222222222222,\"#7201a8\"],[0.3333333333333333,\"#9c179e\"],[0.4444444444444444,\"#bd3786\"],[0.5555555555555556,\"#d8576b\"],[0.6666666666666666,\"#ed7953\"],[0.7777777777777778,\"#fb9f3a\"],[0.8888888888888888,\"#fdca26\"],[1.0,\"#f0f921\"]],\"type\":\"heatmapgl\"}],\"heatmap\":[{\"colorbar\":{\"outlinewidth\":0,\"ticks\":\"\"},\"colorscale\":[[0.0,\"#0d0887\"],[0.1111111111111111,\"#46039f\"],[0.2222222222222222,\"#7201a8\"],[0.3333333333333333,\"#9c179e\"],[0.4444444444444444,\"#bd3786\"],[0.5555555555555556,\"#d8576b\"],[0.6666666666666666,\"#ed7953\"],[0.7777777777777778,\"#fb9f3a\"],[0.8888888888888888,\"#fdca26\"],[1.0,\"#f0f921\"]],\"type\":\"heatmap\"}],\"histogram2dcontour\":[{\"colorbar\":{\"outlinewidth\":0,\"ticks\":\"\"},\"colorscale\":[[0.0,\"#0d0887\"],[0.1111111111111111,\"#46039f\"],[0.2222222222222222,\"#7201a8\"],[0.3333333333333333,\"#9c179e\"],[0.4444444444444444,\"#bd3786\"],[0.5555555555555556,\"#d8576b\"],[0.6666666666666666,\"#ed7953\"],[0.7777777777777778,\"#fb9f3a\"],[0.8888888888888888,\"#fdca26\"],[1.0,\"#f0f921\"]],\"type\":\"histogram2dcontour\"}],\"histogram2d\":[{\"colorbar\":{\"outlinewidth\":0,\"ticks\":\"\"},\"colorscale\":[[0.0,\"#0d0887\"],[0.1111111111111111,\"#46039f\"],[0.2222222222222222,\"#7201a8\"],[0.3333333333333333,\"#9c179e\"],[0.4444444444444444,\"#bd3786\"],[0.5555555555555556,\"#d8576b\"],[0.6666666666666666,\"#ed7953\"],[0.7777777777777778,\"#fb9f3a\"],[0.8888888888888888,\"#fdca26\"],[1.0,\"#f0f921\"]],\"type\":\"histogram2d\"}],\"histogram\":[{\"marker\":{\"pattern\":{\"fillmode\":\"overlay\",\"size\":10,\"solidity\":0.2}},\"type\":\"histogram\"}],\"mesh3d\":[{\"colorbar\":{\"outlinewidth\":0,\"ticks\":\"\"},\"type\":\"mesh3d\"}],\"parcoords\":[{\"line\":{\"colorbar\":{\"outlinewidth\":0,\"ticks\":\"\"}},\"type\":\"parcoords\"}],\"pie\":[{\"automargin\":true,\"type\":\"pie\"}],\"scatter3d\":[{\"line\":{\"colorbar\":{\"outlinewidth\":0,\"ticks\":\"\"}},\"marker\":{\"colorbar\":{\"outlinewidth\":0,\"ticks\":\"\"}},\"type\":\"scatter3d\"}],\"scattercarpet\":[{\"marker\":{\"colorbar\":{\"outlinewidth\":0,\"ticks\":\"\"}},\"type\":\"scattercarpet\"}],\"scattergeo\":[{\"marker\":{\"colorbar\":{\"outlinewidth\":0,\"ticks\":\"\"}},\"type\":\"scattergeo\"}],\"scattergl\":[{\"marker\":{\"colorbar\":{\"outlinewidth\":0,\"ticks\":\"\"}},\"type\":\"scattergl\"}],\"scattermapbox\":[{\"marker\":{\"colorbar\":{\"outlinewidth\":0,\"ticks\":\"\"}},\"type\":\"scattermapbox\"}],\"scatterpolargl\":[{\"marker\":{\"colorbar\":{\"outlinewidth\":0,\"ticks\":\"\"}},\"type\":\"scatterpolargl\"}],\"scatterpolar\":[{\"marker\":{\"colorbar\":{\"outlinewidth\":0,\"ticks\":\"\"}},\"type\":\"scatterpolar\"}],\"scatter\":[{\"fillpattern\":{\"fillmode\":\"overlay\",\"size\":10,\"solidity\":0.2},\"type\":\"scatter\"}],\"scatterternary\":[{\"marker\":{\"colorbar\":{\"outlinewidth\":0,\"ticks\":\"\"}},\"type\":\"scatterternary\"}],\"surface\":[{\"colorbar\":{\"outlinewidth\":0,\"ticks\":\"\"},\"colorscale\":[[0.0,\"#0d0887\"],[0.1111111111111111,\"#46039f\"],[0.2222222222222222,\"#7201a8\"],[0.3333333333333333,\"#9c179e\"],[0.4444444444444444,\"#bd3786\"],[0.5555555555555556,\"#d8576b\"],[0.6666666666666666,\"#ed7953\"],[0.7777777777777778,\"#fb9f3a\"],[0.8888888888888888,\"#fdca26\"],[1.0,\"#f0f921\"]],\"type\":\"surface\"}],\"table\":[{\"cells\":{\"fill\":{\"color\":\"#EBF0F8\"},\"line\":{\"color\":\"white\"}},\"header\":{\"fill\":{\"color\":\"#C8D4E3\"},\"line\":{\"color\":\"white\"}},\"type\":\"table\"}]},\"layout\":{\"annotationdefaults\":{\"arrowcolor\":\"#2a3f5f\",\"arrowhead\":0,\"arrowwidth\":1},\"autotypenumbers\":\"strict\",\"coloraxis\":{\"colorbar\":{\"outlinewidth\":0,\"ticks\":\"\"}},\"colorscale\":{\"diverging\":[[0,\"#8e0152\"],[0.1,\"#c51b7d\"],[0.2,\"#de77ae\"],[0.3,\"#f1b6da\"],[0.4,\"#fde0ef\"],[0.5,\"#f7f7f7\"],[0.6,\"#e6f5d0\"],[0.7,\"#b8e186\"],[0.8,\"#7fbc41\"],[0.9,\"#4d9221\"],[1,\"#276419\"]],\"sequential\":[[0.0,\"#0d0887\"],[0.1111111111111111,\"#46039f\"],[0.2222222222222222,\"#7201a8\"],[0.3333333333333333,\"#9c179e\"],[0.4444444444444444,\"#bd3786\"],[0.5555555555555556,\"#d8576b\"],[0.6666666666666666,\"#ed7953\"],[0.7777777777777778,\"#fb9f3a\"],[0.8888888888888888,\"#fdca26\"],[1.0,\"#f0f921\"]],\"sequentialminus\":[[0.0,\"#0d0887\"],[0.1111111111111111,\"#46039f\"],[0.2222222222222222,\"#7201a8\"],[0.3333333333333333,\"#9c179e\"],[0.4444444444444444,\"#bd3786\"],[0.5555555555555556,\"#d8576b\"],[0.6666666666666666,\"#ed7953\"],[0.7777777777777778,\"#fb9f3a\"],[0.8888888888888888,\"#fdca26\"],[1.0,\"#f0f921\"]]},\"colorway\":[\"#636efa\",\"#EF553B\",\"#00cc96\",\"#ab63fa\",\"#FFA15A\",\"#19d3f3\",\"#FF6692\",\"#B6E880\",\"#FF97FF\",\"#FECB52\"],\"font\":{\"color\":\"#2a3f5f\"},\"geo\":{\"bgcolor\":\"white\",\"lakecolor\":\"white\",\"landcolor\":\"white\",\"showlakes\":true,\"showland\":true,\"subunitcolor\":\"#C8D4E3\"},\"hoverlabel\":{\"align\":\"left\"},\"hovermode\":\"closest\",\"mapbox\":{\"style\":\"light\"},\"paper_bgcolor\":\"white\",\"plot_bgcolor\":\"white\",\"polar\":{\"angularaxis\":{\"gridcolor\":\"#EBF0F8\",\"linecolor\":\"#EBF0F8\",\"ticks\":\"\"},\"bgcolor\":\"white\",\"radialaxis\":{\"gridcolor\":\"#EBF0F8\",\"linecolor\":\"#EBF0F8\",\"ticks\":\"\"}},\"scene\":{\"xaxis\":{\"backgroundcolor\":\"white\",\"gridcolor\":\"#DFE8F3\",\"gridwidth\":2,\"linecolor\":\"#EBF0F8\",\"showbackground\":true,\"ticks\":\"\",\"zerolinecolor\":\"#EBF0F8\"},\"yaxis\":{\"backgroundcolor\":\"white\",\"gridcolor\":\"#DFE8F3\",\"gridwidth\":2,\"linecolor\":\"#EBF0F8\",\"showbackground\":true,\"ticks\":\"\",\"zerolinecolor\":\"#EBF0F8\"},\"zaxis\":{\"backgroundcolor\":\"white\",\"gridcolor\":\"#DFE8F3\",\"gridwidth\":2,\"linecolor\":\"#EBF0F8\",\"showbackground\":true,\"ticks\":\"\",\"zerolinecolor\":\"#EBF0F8\"}},\"shapedefaults\":{\"line\":{\"color\":\"#2a3f5f\"}},\"ternary\":{\"aaxis\":{\"gridcolor\":\"#DFE8F3\",\"linecolor\":\"#A2B1C6\",\"ticks\":\"\"},\"baxis\":{\"gridcolor\":\"#DFE8F3\",\"linecolor\":\"#A2B1C6\",\"ticks\":\"\"},\"bgcolor\":\"white\",\"caxis\":{\"gridcolor\":\"#DFE8F3\",\"linecolor\":\"#A2B1C6\",\"ticks\":\"\"}},\"title\":{\"x\":0.05},\"xaxis\":{\"automargin\":true,\"gridcolor\":\"#EBF0F8\",\"linecolor\":\"#EBF0F8\",\"ticks\":\"\",\"title\":{\"standoff\":15},\"zerolinecolor\":\"#EBF0F8\",\"zerolinewidth\":2},\"yaxis\":{\"automargin\":true,\"gridcolor\":\"#EBF0F8\",\"linecolor\":\"#EBF0F8\",\"ticks\":\"\",\"title\":{\"standoff\":15},\"zerolinecolor\":\"#EBF0F8\",\"zerolinewidth\":2}}},\"xaxis\":{\"anchor\":\"y\",\"domain\":[0.0,1.0],\"title\":{\"text\":\"Player\"}},\"yaxis\":{\"anchor\":\"x\",\"domain\":[0.0,1.0],\"title\":{\"text\":\"value\"}},\"legend\":{\"title\":{\"text\":\"variable\"},\"tracegroupgap\":0},\"title\":{\"text\":\"Goals Scored vs Expected Goals\"},\"barmode\":\"group\"},                        {\"responsive\": true}                    ).then(function(){\n",
       "                            \n",
       "var gd = document.getElementById('8d6c63db-1400-4f93-b21a-ef88f1486729');\n",
       "var x = new MutationObserver(function (mutations, observer) {{\n",
       "        var display = window.getComputedStyle(gd).display;\n",
       "        if (!display || display === 'none') {{\n",
       "            console.log([gd, 'removed!']);\n",
       "            Plotly.purge(gd);\n",
       "            observer.disconnect();\n",
       "        }}\n",
       "}});\n",
       "\n",
       "// Listen for the removal of the full notebook cells\n",
       "var notebookContainer = gd.closest('#notebook-container');\n",
       "if (notebookContainer) {{\n",
       "    x.observe(notebookContainer, {childList: true});\n",
       "}}\n",
       "\n",
       "// Listen for the clearing of the current output cell\n",
       "var outputEl = gd.closest('.output');\n",
       "if (outputEl) {{\n",
       "    x.observe(outputEl, {childList: true});\n",
       "}}\n",
       "\n",
       "                        })                };                });            </script>        </div>"
      ]
     },
     "metadata": {},
     "output_type": "display_data"
    }
   ],
   "source": [
    "fig = px.bar(exp_goals, x='web_name', y=['goals_scored', 'expected_goals'], barmode='group', title='Goals Scored vs Expected Goals', \n",
    "             template='plotly_white',\n",
    "             labels={'web_name': 'Player'})\n",
    "\n",
    "newnames = {'goals_scored':'Goals Scored', 'expected_goals': 'Expected Goals'}\n",
    "fig.for_each_trace(lambda t: t.update(name = newnames[t.name],\n",
    "                                      legendgroup = newnames[t.name],\n",
    "                                      hovertemplate = t.hovertemplate.replace(t.name, newnames[t.name])))\n",
    "fig.show()"
   ]
  },
  {
   "cell_type": "code",
   "execution_count": 14,
   "id": "6d9c2e6f-6c77-488c-9487-844229d62aef",
   "metadata": {},
   "outputs": [
    {
     "data": {
      "text/html": [
       "<div>\n",
       "<style scoped>\n",
       "    .dataframe tbody tr th:only-of-type {\n",
       "        vertical-align: middle;\n",
       "    }\n",
       "\n",
       "    .dataframe tbody tr th {\n",
       "        vertical-align: top;\n",
       "    }\n",
       "\n",
       "    .dataframe thead th {\n",
       "        text-align: right;\n",
       "    }\n",
       "</style>\n",
       "<table border=\"1\" class=\"dataframe\">\n",
       "  <thead>\n",
       "    <tr style=\"text-align: right;\">\n",
       "      <th></th>\n",
       "      <th>id</th>\n",
       "      <th>name</th>\n",
       "      <th>now_cost</th>\n",
       "      <th>cost</th>\n",
       "      <th>position</th>\n",
       "      <th>team</th>\n",
       "      <th>clean_sheets_per_90</th>\n",
       "      <th>threat_rank_type</th>\n",
       "      <th>expected_assists_per_90</th>\n",
       "      <th>expected_assists</th>\n",
       "      <th>...</th>\n",
       "      <th>threat_rank</th>\n",
       "      <th>ep_this</th>\n",
       "      <th>transfers_in</th>\n",
       "      <th>bps</th>\n",
       "      <th>goals_conceded_per_90</th>\n",
       "      <th>selected_by_percent</th>\n",
       "      <th>influence_rank_type</th>\n",
       "      <th>points_per_game_rank_type</th>\n",
       "      <th>clean_sheets</th>\n",
       "      <th>now_cost_rank</th>\n",
       "    </tr>\n",
       "  </thead>\n",
       "  <tbody>\n",
       "    <tr>\n",
       "      <th>1</th>\n",
       "      <td>318</td>\n",
       "      <td>Erling Haaland</td>\n",
       "      <td>124</td>\n",
       "      <td>12.4</td>\n",
       "      <td>FWD</td>\n",
       "      <td>Man City</td>\n",
       "      <td>0.42</td>\n",
       "      <td>1</td>\n",
       "      <td>0.10</td>\n",
       "      <td>3.11</td>\n",
       "      <td>...</td>\n",
       "      <td>1</td>\n",
       "      <td>5.4</td>\n",
       "      <td>7833248</td>\n",
       "      <td>1040</td>\n",
       "      <td>0.85</td>\n",
       "      <td>78.4</td>\n",
       "      <td>1</td>\n",
       "      <td>1</td>\n",
       "      <td>13</td>\n",
       "      <td>2</td>\n",
       "    </tr>\n",
       "    <tr>\n",
       "      <th>3</th>\n",
       "      <td>427</td>\n",
       "      <td>Harry Kane</td>\n",
       "      <td>115</td>\n",
       "      <td>11.5</td>\n",
       "      <td>FWD</td>\n",
       "      <td>Spurs</td>\n",
       "      <td>0.29</td>\n",
       "      <td>2</td>\n",
       "      <td>0.11</td>\n",
       "      <td>4.01</td>\n",
       "      <td>...</td>\n",
       "      <td>2</td>\n",
       "      <td>9.2</td>\n",
       "      <td>7381740</td>\n",
       "      <td>1008</td>\n",
       "      <td>1.64</td>\n",
       "      <td>32.7</td>\n",
       "      <td>2</td>\n",
       "      <td>2</td>\n",
       "      <td>11</td>\n",
       "      <td>4</td>\n",
       "    </tr>\n",
       "    <tr>\n",
       "      <th>4</th>\n",
       "      <td>283</td>\n",
       "      <td>Mohamed Salah</td>\n",
       "      <td>131</td>\n",
       "      <td>13.1</td>\n",
       "      <td>MID</td>\n",
       "      <td>Liverpool</td>\n",
       "      <td>0.36</td>\n",
       "      <td>1</td>\n",
       "      <td>0.19</td>\n",
       "      <td>7.03</td>\n",
       "      <td>...</td>\n",
       "      <td>3</td>\n",
       "      <td>9.3</td>\n",
       "      <td>6974743</td>\n",
       "      <td>651</td>\n",
       "      <td>1.23</td>\n",
       "      <td>37.2</td>\n",
       "      <td>1</td>\n",
       "      <td>1</td>\n",
       "      <td>13</td>\n",
       "      <td>1</td>\n",
       "    </tr>\n",
       "    <tr>\n",
       "      <th>5</th>\n",
       "      <td>335</td>\n",
       "      <td>Marcus Rashford</td>\n",
       "      <td>72</td>\n",
       "      <td>7.2</td>\n",
       "      <td>MID</td>\n",
       "      <td>Man Utd</td>\n",
       "      <td>0.41</td>\n",
       "      <td>2</td>\n",
       "      <td>0.09</td>\n",
       "      <td>2.86</td>\n",
       "      <td>...</td>\n",
       "      <td>4</td>\n",
       "      <td>2.7</td>\n",
       "      <td>10735832</td>\n",
       "      <td>530</td>\n",
       "      <td>1.22</td>\n",
       "      <td>37.8</td>\n",
       "      <td>7</td>\n",
       "      <td>2</td>\n",
       "      <td>13</td>\n",
       "      <td>33</td>\n",
       "    </tr>\n",
       "    <tr>\n",
       "      <th>6</th>\n",
       "      <td>301</td>\n",
       "      <td>Kevin De Bruyne</td>\n",
       "      <td>121</td>\n",
       "      <td>12.1</td>\n",
       "      <td>MID</td>\n",
       "      <td>Man City</td>\n",
       "      <td>0.37</td>\n",
       "      <td>27</td>\n",
       "      <td>0.51</td>\n",
       "      <td>13.69</td>\n",
       "      <td>...</td>\n",
       "      <td>44</td>\n",
       "      <td>1.7</td>\n",
       "      <td>7222275</td>\n",
       "      <td>742</td>\n",
       "      <td>0.86</td>\n",
       "      <td>25.5</td>\n",
       "      <td>5</td>\n",
       "      <td>4</td>\n",
       "      <td>10</td>\n",
       "      <td>3</td>\n",
       "    </tr>\n",
       "  </tbody>\n",
       "</table>\n",
       "<p>5 rows × 76 columns</p>\n",
       "</div>"
      ],
      "text/plain": [
       "    id             name  now_cost  cost position       team  \\\n",
       "1  318   Erling Haaland       124  12.4      FWD   Man City   \n",
       "3  427       Harry Kane       115  11.5      FWD      Spurs   \n",
       "4  283    Mohamed Salah       131  13.1      MID  Liverpool   \n",
       "5  335  Marcus Rashford        72   7.2      MID    Man Utd   \n",
       "6  301  Kevin De Bruyne       121  12.1      MID   Man City   \n",
       "\n",
       "   clean_sheets_per_90  threat_rank_type  expected_assists_per_90  \\\n",
       "1                 0.42                 1                     0.10   \n",
       "3                 0.29                 2                     0.11   \n",
       "4                 0.36                 1                     0.19   \n",
       "5                 0.41                 2                     0.09   \n",
       "6                 0.37                27                     0.51   \n",
       "\n",
       "   expected_assists  ...  threat_rank  ep_this  transfers_in   bps  \\\n",
       "1              3.11  ...            1      5.4       7833248  1040   \n",
       "3              4.01  ...            2      9.2       7381740  1008   \n",
       "4              7.03  ...            3      9.3       6974743   651   \n",
       "5              2.86  ...            4      2.7      10735832   530   \n",
       "6             13.69  ...           44      1.7       7222275   742   \n",
       "\n",
       "   goals_conceded_per_90  selected_by_percent  influence_rank_type  \\\n",
       "1                   0.85                 78.4                    1   \n",
       "3                   1.64                 32.7                    2   \n",
       "4                   1.23                 37.2                    1   \n",
       "5                   1.22                 37.8                    7   \n",
       "6                   0.86                 25.5                    5   \n",
       "\n",
       "   points_per_game_rank_type  clean_sheets  now_cost_rank  \n",
       "1                          1            13              2  \n",
       "3                          2            11              4  \n",
       "4                          1            13              1  \n",
       "5                          2            13             33  \n",
       "6                          4            10              3  \n",
       "\n",
       "[5 rows x 76 columns]"
      ]
     },
     "execution_count": 14,
     "metadata": {},
     "output_type": "execute_result"
    }
   ],
   "source": [
    "ppg = min_20_starts.sort_values(\"points_per_game\", ascending=False).head(20)\n",
    "ppg.head()"
   ]
  },
  {
   "cell_type": "code",
   "execution_count": 15,
   "id": "caf60417-20b5-41cb-82b3-34d45f754d26",
   "metadata": {},
   "outputs": [
    {
     "data": {
      "application/vnd.plotly.v1+json": {
       "config": {
        "plotlyServerURL": "https://plot.ly"
       },
       "data": [
        {
         "branchvalues": "total",
         "customdata": [
          [
           7.8,
           156,
           "Liverpool",
           "DEF"
          ],
          [
           5.5,
           162,
           "Liverpool",
           "GKP"
          ],
          [
           12.1,
           183,
           "Man City",
           "MID"
          ],
          [
           5.1,
           161,
           "Man Utd",
           "GKP"
          ],
          [
           12.4,
           272,
           "Man City",
           "FWD"
          ],
          [
           5.4,
           157,
           "Newcastle",
           "GKP"
          ],
          [
           6.5,
           198,
           "Arsenal",
           "MID"
          ],
          [
           7.2,
           205,
           "Man Utd",
           "MID"
          ],
          [
           8.1,
           125,
           "Arsenal",
           "FWD"
          ],
          [
           11.5,
           263,
           "Spurs",
           "FWD"
          ],
          [
           4.8,
           166,
           "Brentford",
           "GKP"
          ],
          [
           13.1,
           239,
           "Liverpool",
           "MID"
          ],
          [
           4.9,
           117,
           "Arsenal",
           "DEF"
          ],
          [
           5,
           148,
           "Wolves",
           "GKP"
          ],
          [
           7.1,
           182,
           "Brentford",
           "FWD"
          ],
          [
           7.3,
           157,
           "Newcastle",
           "FWD"
          ],
          [
           6,
           198,
           "Newcastle",
           "DEF"
          ],
          [
           6.6,
           127,
           "Liverpool",
           "DEF"
          ],
          [
           5,
           156,
           "Arsenal",
           "DEF"
          ],
          [
           6.9,
           212,
           "Arsenal",
           "MID"
          ],
          [
           6.6,
           127,
           "Liverpool",
           "DEF"
          ],
          [
           5,
           156,
           "Arsenal",
           "DEF"
          ],
          [
           5,
           148,
           "Wolves",
           "GKP"
          ],
          [
           7.8,
           156,
           "Liverpool",
           "DEF"
          ],
          [
           "(?)",
           "(?)",
           "(?)",
           "GKP"
          ],
          [
           4.9,
           117,
           "Arsenal",
           "DEF"
          ],
          [
           "(?)",
           "(?)",
           "(?)",
           "GKP"
          ],
          [
           8.1,
           125,
           "Arsenal",
           "FWD"
          ],
          [
           7.3,
           157,
           "Newcastle",
           "FWD"
          ],
          [
           6,
           198,
           "Newcastle",
           "DEF"
          ],
          [
           7.1,
           182,
           "Brentford",
           "FWD"
          ],
          [
           6.5,
           198,
           "Arsenal",
           "MID"
          ],
          [
           "(?)",
           "(?)",
           "(?)",
           "MID"
          ],
          [
           7.2,
           205,
           "Man Utd",
           "MID"
          ],
          [
           13.1,
           239,
           "Liverpool",
           "MID"
          ],
          [
           11.5,
           263,
           "Spurs",
           "FWD"
          ],
          [
           12.4,
           272,
           "Man City",
           "FWD"
          ],
          [
           "(?)",
           "(?)",
           "(?)",
           "DEF"
          ],
          [
           "(?)",
           "(?)",
           "(?)",
           "FWD"
          ],
          [
           "(?)",
           "(?)",
           "(?)",
           "GKP"
          ],
          [
           "(?)",
           "(?)",
           "(?)",
           "MID"
          ]
         ],
         "domain": {
          "x": [
           0,
           1
          ],
          "y": [
           0,
           1
          ]
         },
         "hovertemplate": "labels=%{label}<br>points_per_game=%{value}<br>parent=%{parent}<br>id=%{id}<br>cost=%{customdata[0]}<br>total_points=%{customdata[1]}<br>team=%{customdata[2]}<br>position=%{customdata[3]}<extra></extra>",
         "ids": [
          "DEF/4.2/Alexander-Arnold",
          "GKP/4.4/Alisson",
          "MID/5.7/De Bruyne",
          "GKP/4.2/De Gea",
          "FWD/7.8/Haaland",
          "GKP/4.2/Pope",
          "MID/5.5/Martinelli",
          "MID/5.9/Rashford",
          "FWD/4.8/Jesus",
          "FWD/6.9/Kane",
          "GKP/4.4/Raya",
          "MID/6.3/Salah",
          "DEF/4.3/Saliba",
          "GKP/4.1/Sá",
          "FWD/5.5/Toney",
          "FWD/5.1/Wilson",
          "DEF/5.2/Trippier",
          "DEF/4.0/Van Dijk",
          "DEF/4.1/White",
          "MID/5.7/Ødegaard",
          "DEF/4.0",
          "DEF/4.1",
          "GKP/4.1",
          "DEF/4.2",
          "GKP/4.2",
          "DEF/4.3",
          "GKP/4.4",
          "FWD/4.8",
          "FWD/5.1",
          "DEF/5.2",
          "FWD/5.5",
          "MID/5.5",
          "MID/5.7",
          "MID/5.9",
          "MID/6.3",
          "FWD/6.9",
          "FWD/7.8",
          "DEF",
          "FWD",
          "GKP",
          "MID"
         ],
         "labels": [
          "Alexander-Arnold",
          "Alisson",
          "De Bruyne",
          "De Gea",
          "Haaland",
          "Pope",
          "Martinelli",
          "Rashford",
          "Jesus",
          "Kane",
          "Raya",
          "Salah",
          "Saliba",
          "Sá",
          "Toney",
          "Wilson",
          "Trippier",
          "Van Dijk",
          "White",
          "Ødegaard",
          "4.0",
          "4.1",
          "4.1",
          "4.2",
          "4.2",
          "4.3",
          "4.4",
          "4.8",
          "5.1",
          "5.2",
          "5.5",
          "5.5",
          "5.7",
          "5.9",
          "6.3",
          "6.9",
          "7.8",
          "DEF",
          "FWD",
          "GKP",
          "MID"
         ],
         "marker": {
          "colors": [
           "rgb(210, 251, 212)",
           "rgb(165, 219, 194)",
           "rgb(123, 188, 176)",
           "rgb(165, 219, 194)",
           "rgb(85, 156, 158)",
           "rgb(165, 219, 194)",
           "rgb(123, 188, 176)",
           "rgb(123, 188, 176)",
           "rgb(85, 156, 158)",
           "rgb(85, 156, 158)",
           "rgb(165, 219, 194)",
           "rgb(123, 188, 176)",
           "rgb(210, 251, 212)",
           "rgb(165, 219, 194)",
           "rgb(85, 156, 158)",
           "rgb(85, 156, 158)",
           "rgb(210, 251, 212)",
           "rgb(210, 251, 212)",
           "rgb(210, 251, 212)",
           "rgb(123, 188, 176)",
           "rgb(210, 251, 212)",
           "rgb(210, 251, 212)",
           "rgb(165, 219, 194)",
           "rgb(210, 251, 212)",
           "rgb(165, 219, 194)",
           "rgb(210, 251, 212)",
           "rgb(165, 219, 194)",
           "rgb(85, 156, 158)",
           "rgb(85, 156, 158)",
           "rgb(210, 251, 212)",
           "rgb(85, 156, 158)",
           "rgb(123, 188, 176)",
           "rgb(123, 188, 176)",
           "rgb(123, 188, 176)",
           "rgb(123, 188, 176)",
           "rgb(85, 156, 158)",
           "rgb(85, 156, 158)",
           "rgb(210, 251, 212)",
           "rgb(85, 156, 158)",
           "rgb(165, 219, 194)",
           "rgb(123, 188, 176)"
          ]
         },
         "name": "",
         "parents": [
          "DEF/4.2",
          "GKP/4.4",
          "MID/5.7",
          "GKP/4.2",
          "FWD/7.8",
          "GKP/4.2",
          "MID/5.5",
          "MID/5.9",
          "FWD/4.8",
          "FWD/6.9",
          "GKP/4.4",
          "MID/6.3",
          "DEF/4.3",
          "GKP/4.1",
          "FWD/5.5",
          "FWD/5.1",
          "DEF/5.2",
          "DEF/4.0",
          "DEF/4.1",
          "MID/5.7",
          "DEF",
          "DEF",
          "GKP",
          "DEF",
          "GKP",
          "DEF",
          "GKP",
          "FWD",
          "FWD",
          "DEF",
          "FWD",
          "MID",
          "MID",
          "MID",
          "MID",
          "FWD",
          "FWD",
          "",
          "",
          "",
          ""
         ],
         "type": "sunburst",
         "values": [
          4.2,
          4.4,
          5.7,
          4.2,
          7.8,
          4.2,
          5.5,
          5.9,
          4.8,
          6.9,
          4.4,
          6.3,
          4.3,
          4.1,
          5.5,
          5.1,
          5.2,
          4,
          4.1,
          5.7,
          4,
          4.1,
          4.1,
          4.2,
          8.4,
          4.3,
          8.8,
          4.8,
          5.1,
          5.2,
          5.5,
          5.5,
          11.4,
          5.9,
          6.3,
          6.9,
          7.8,
          21.8,
          30.1,
          21.3,
          29.1
         ]
        }
       ],
       "layout": {
        "height": 600,
        "legend": {
         "tracegroupgap": 0
        },
        "sunburstcolorway": [
         "rgb(210, 251, 212)",
         "rgb(165, 219, 194)",
         "rgb(123, 188, 176)",
         "rgb(85, 156, 158)",
         "rgb(58, 124, 137)",
         "rgb(35, 93, 114)",
         "rgb(18, 63, 90)"
        ],
        "template": {
         "data": {
          "bar": [
           {
            "error_x": {
             "color": "#2a3f5f"
            },
            "error_y": {
             "color": "#2a3f5f"
            },
            "marker": {
             "line": {
              "color": "#E5ECF6",
              "width": 0.5
             },
             "pattern": {
              "fillmode": "overlay",
              "size": 10,
              "solidity": 0.2
             }
            },
            "type": "bar"
           }
          ],
          "barpolar": [
           {
            "marker": {
             "line": {
              "color": "#E5ECF6",
              "width": 0.5
             },
             "pattern": {
              "fillmode": "overlay",
              "size": 10,
              "solidity": 0.2
             }
            },
            "type": "barpolar"
           }
          ],
          "carpet": [
           {
            "aaxis": {
             "endlinecolor": "#2a3f5f",
             "gridcolor": "white",
             "linecolor": "white",
             "minorgridcolor": "white",
             "startlinecolor": "#2a3f5f"
            },
            "baxis": {
             "endlinecolor": "#2a3f5f",
             "gridcolor": "white",
             "linecolor": "white",
             "minorgridcolor": "white",
             "startlinecolor": "#2a3f5f"
            },
            "type": "carpet"
           }
          ],
          "choropleth": [
           {
            "colorbar": {
             "outlinewidth": 0,
             "ticks": ""
            },
            "type": "choropleth"
           }
          ],
          "contour": [
           {
            "colorbar": {
             "outlinewidth": 0,
             "ticks": ""
            },
            "colorscale": [
             [
              0,
              "#0d0887"
             ],
             [
              0.1111111111111111,
              "#46039f"
             ],
             [
              0.2222222222222222,
              "#7201a8"
             ],
             [
              0.3333333333333333,
              "#9c179e"
             ],
             [
              0.4444444444444444,
              "#bd3786"
             ],
             [
              0.5555555555555556,
              "#d8576b"
             ],
             [
              0.6666666666666666,
              "#ed7953"
             ],
             [
              0.7777777777777778,
              "#fb9f3a"
             ],
             [
              0.8888888888888888,
              "#fdca26"
             ],
             [
              1,
              "#f0f921"
             ]
            ],
            "type": "contour"
           }
          ],
          "contourcarpet": [
           {
            "colorbar": {
             "outlinewidth": 0,
             "ticks": ""
            },
            "type": "contourcarpet"
           }
          ],
          "heatmap": [
           {
            "colorbar": {
             "outlinewidth": 0,
             "ticks": ""
            },
            "colorscale": [
             [
              0,
              "#0d0887"
             ],
             [
              0.1111111111111111,
              "#46039f"
             ],
             [
              0.2222222222222222,
              "#7201a8"
             ],
             [
              0.3333333333333333,
              "#9c179e"
             ],
             [
              0.4444444444444444,
              "#bd3786"
             ],
             [
              0.5555555555555556,
              "#d8576b"
             ],
             [
              0.6666666666666666,
              "#ed7953"
             ],
             [
              0.7777777777777778,
              "#fb9f3a"
             ],
             [
              0.8888888888888888,
              "#fdca26"
             ],
             [
              1,
              "#f0f921"
             ]
            ],
            "type": "heatmap"
           }
          ],
          "heatmapgl": [
           {
            "colorbar": {
             "outlinewidth": 0,
             "ticks": ""
            },
            "colorscale": [
             [
              0,
              "#0d0887"
             ],
             [
              0.1111111111111111,
              "#46039f"
             ],
             [
              0.2222222222222222,
              "#7201a8"
             ],
             [
              0.3333333333333333,
              "#9c179e"
             ],
             [
              0.4444444444444444,
              "#bd3786"
             ],
             [
              0.5555555555555556,
              "#d8576b"
             ],
             [
              0.6666666666666666,
              "#ed7953"
             ],
             [
              0.7777777777777778,
              "#fb9f3a"
             ],
             [
              0.8888888888888888,
              "#fdca26"
             ],
             [
              1,
              "#f0f921"
             ]
            ],
            "type": "heatmapgl"
           }
          ],
          "histogram": [
           {
            "marker": {
             "pattern": {
              "fillmode": "overlay",
              "size": 10,
              "solidity": 0.2
             }
            },
            "type": "histogram"
           }
          ],
          "histogram2d": [
           {
            "colorbar": {
             "outlinewidth": 0,
             "ticks": ""
            },
            "colorscale": [
             [
              0,
              "#0d0887"
             ],
             [
              0.1111111111111111,
              "#46039f"
             ],
             [
              0.2222222222222222,
              "#7201a8"
             ],
             [
              0.3333333333333333,
              "#9c179e"
             ],
             [
              0.4444444444444444,
              "#bd3786"
             ],
             [
              0.5555555555555556,
              "#d8576b"
             ],
             [
              0.6666666666666666,
              "#ed7953"
             ],
             [
              0.7777777777777778,
              "#fb9f3a"
             ],
             [
              0.8888888888888888,
              "#fdca26"
             ],
             [
              1,
              "#f0f921"
             ]
            ],
            "type": "histogram2d"
           }
          ],
          "histogram2dcontour": [
           {
            "colorbar": {
             "outlinewidth": 0,
             "ticks": ""
            },
            "colorscale": [
             [
              0,
              "#0d0887"
             ],
             [
              0.1111111111111111,
              "#46039f"
             ],
             [
              0.2222222222222222,
              "#7201a8"
             ],
             [
              0.3333333333333333,
              "#9c179e"
             ],
             [
              0.4444444444444444,
              "#bd3786"
             ],
             [
              0.5555555555555556,
              "#d8576b"
             ],
             [
              0.6666666666666666,
              "#ed7953"
             ],
             [
              0.7777777777777778,
              "#fb9f3a"
             ],
             [
              0.8888888888888888,
              "#fdca26"
             ],
             [
              1,
              "#f0f921"
             ]
            ],
            "type": "histogram2dcontour"
           }
          ],
          "mesh3d": [
           {
            "colorbar": {
             "outlinewidth": 0,
             "ticks": ""
            },
            "type": "mesh3d"
           }
          ],
          "parcoords": [
           {
            "line": {
             "colorbar": {
              "outlinewidth": 0,
              "ticks": ""
             }
            },
            "type": "parcoords"
           }
          ],
          "pie": [
           {
            "automargin": true,
            "type": "pie"
           }
          ],
          "scatter": [
           {
            "fillpattern": {
             "fillmode": "overlay",
             "size": 10,
             "solidity": 0.2
            },
            "type": "scatter"
           }
          ],
          "scatter3d": [
           {
            "line": {
             "colorbar": {
              "outlinewidth": 0,
              "ticks": ""
             }
            },
            "marker": {
             "colorbar": {
              "outlinewidth": 0,
              "ticks": ""
             }
            },
            "type": "scatter3d"
           }
          ],
          "scattercarpet": [
           {
            "marker": {
             "colorbar": {
              "outlinewidth": 0,
              "ticks": ""
             }
            },
            "type": "scattercarpet"
           }
          ],
          "scattergeo": [
           {
            "marker": {
             "colorbar": {
              "outlinewidth": 0,
              "ticks": ""
             }
            },
            "type": "scattergeo"
           }
          ],
          "scattergl": [
           {
            "marker": {
             "colorbar": {
              "outlinewidth": 0,
              "ticks": ""
             }
            },
            "type": "scattergl"
           }
          ],
          "scattermapbox": [
           {
            "marker": {
             "colorbar": {
              "outlinewidth": 0,
              "ticks": ""
             }
            },
            "type": "scattermapbox"
           }
          ],
          "scatterpolar": [
           {
            "marker": {
             "colorbar": {
              "outlinewidth": 0,
              "ticks": ""
             }
            },
            "type": "scatterpolar"
           }
          ],
          "scatterpolargl": [
           {
            "marker": {
             "colorbar": {
              "outlinewidth": 0,
              "ticks": ""
             }
            },
            "type": "scatterpolargl"
           }
          ],
          "scatterternary": [
           {
            "marker": {
             "colorbar": {
              "outlinewidth": 0,
              "ticks": ""
             }
            },
            "type": "scatterternary"
           }
          ],
          "surface": [
           {
            "colorbar": {
             "outlinewidth": 0,
             "ticks": ""
            },
            "colorscale": [
             [
              0,
              "#0d0887"
             ],
             [
              0.1111111111111111,
              "#46039f"
             ],
             [
              0.2222222222222222,
              "#7201a8"
             ],
             [
              0.3333333333333333,
              "#9c179e"
             ],
             [
              0.4444444444444444,
              "#bd3786"
             ],
             [
              0.5555555555555556,
              "#d8576b"
             ],
             [
              0.6666666666666666,
              "#ed7953"
             ],
             [
              0.7777777777777778,
              "#fb9f3a"
             ],
             [
              0.8888888888888888,
              "#fdca26"
             ],
             [
              1,
              "#f0f921"
             ]
            ],
            "type": "surface"
           }
          ],
          "table": [
           {
            "cells": {
             "fill": {
              "color": "#EBF0F8"
             },
             "line": {
              "color": "white"
             }
            },
            "header": {
             "fill": {
              "color": "#C8D4E3"
             },
             "line": {
              "color": "white"
             }
            },
            "type": "table"
           }
          ]
         },
         "layout": {
          "annotationdefaults": {
           "arrowcolor": "#2a3f5f",
           "arrowhead": 0,
           "arrowwidth": 1
          },
          "autotypenumbers": "strict",
          "coloraxis": {
           "colorbar": {
            "outlinewidth": 0,
            "ticks": ""
           }
          },
          "colorscale": {
           "diverging": [
            [
             0,
             "#8e0152"
            ],
            [
             0.1,
             "#c51b7d"
            ],
            [
             0.2,
             "#de77ae"
            ],
            [
             0.3,
             "#f1b6da"
            ],
            [
             0.4,
             "#fde0ef"
            ],
            [
             0.5,
             "#f7f7f7"
            ],
            [
             0.6,
             "#e6f5d0"
            ],
            [
             0.7,
             "#b8e186"
            ],
            [
             0.8,
             "#7fbc41"
            ],
            [
             0.9,
             "#4d9221"
            ],
            [
             1,
             "#276419"
            ]
           ],
           "sequential": [
            [
             0,
             "#0d0887"
            ],
            [
             0.1111111111111111,
             "#46039f"
            ],
            [
             0.2222222222222222,
             "#7201a8"
            ],
            [
             0.3333333333333333,
             "#9c179e"
            ],
            [
             0.4444444444444444,
             "#bd3786"
            ],
            [
             0.5555555555555556,
             "#d8576b"
            ],
            [
             0.6666666666666666,
             "#ed7953"
            ],
            [
             0.7777777777777778,
             "#fb9f3a"
            ],
            [
             0.8888888888888888,
             "#fdca26"
            ],
            [
             1,
             "#f0f921"
            ]
           ],
           "sequentialminus": [
            [
             0,
             "#0d0887"
            ],
            [
             0.1111111111111111,
             "#46039f"
            ],
            [
             0.2222222222222222,
             "#7201a8"
            ],
            [
             0.3333333333333333,
             "#9c179e"
            ],
            [
             0.4444444444444444,
             "#bd3786"
            ],
            [
             0.5555555555555556,
             "#d8576b"
            ],
            [
             0.6666666666666666,
             "#ed7953"
            ],
            [
             0.7777777777777778,
             "#fb9f3a"
            ],
            [
             0.8888888888888888,
             "#fdca26"
            ],
            [
             1,
             "#f0f921"
            ]
           ]
          },
          "colorway": [
           "#636efa",
           "#EF553B",
           "#00cc96",
           "#ab63fa",
           "#FFA15A",
           "#19d3f3",
           "#FF6692",
           "#B6E880",
           "#FF97FF",
           "#FECB52"
          ],
          "font": {
           "color": "#2a3f5f"
          },
          "geo": {
           "bgcolor": "white",
           "lakecolor": "white",
           "landcolor": "#E5ECF6",
           "showlakes": true,
           "showland": true,
           "subunitcolor": "white"
          },
          "hoverlabel": {
           "align": "left"
          },
          "hovermode": "closest",
          "mapbox": {
           "style": "light"
          },
          "paper_bgcolor": "white",
          "plot_bgcolor": "#E5ECF6",
          "polar": {
           "angularaxis": {
            "gridcolor": "white",
            "linecolor": "white",
            "ticks": ""
           },
           "bgcolor": "#E5ECF6",
           "radialaxis": {
            "gridcolor": "white",
            "linecolor": "white",
            "ticks": ""
           }
          },
          "scene": {
           "xaxis": {
            "backgroundcolor": "#E5ECF6",
            "gridcolor": "white",
            "gridwidth": 2,
            "linecolor": "white",
            "showbackground": true,
            "ticks": "",
            "zerolinecolor": "white"
           },
           "yaxis": {
            "backgroundcolor": "#E5ECF6",
            "gridcolor": "white",
            "gridwidth": 2,
            "linecolor": "white",
            "showbackground": true,
            "ticks": "",
            "zerolinecolor": "white"
           },
           "zaxis": {
            "backgroundcolor": "#E5ECF6",
            "gridcolor": "white",
            "gridwidth": 2,
            "linecolor": "white",
            "showbackground": true,
            "ticks": "",
            "zerolinecolor": "white"
           }
          },
          "shapedefaults": {
           "line": {
            "color": "#2a3f5f"
           }
          },
          "ternary": {
           "aaxis": {
            "gridcolor": "white",
            "linecolor": "white",
            "ticks": ""
           },
           "baxis": {
            "gridcolor": "white",
            "linecolor": "white",
            "ticks": ""
           },
           "bgcolor": "#E5ECF6",
           "caxis": {
            "gridcolor": "white",
            "linecolor": "white",
            "ticks": ""
           }
          },
          "title": {
           "x": 0.05
          },
          "xaxis": {
           "automargin": true,
           "gridcolor": "white",
           "linecolor": "white",
           "ticks": "",
           "title": {
            "standoff": 15
           },
           "zerolinecolor": "white",
           "zerolinewidth": 2
          },
          "yaxis": {
           "automargin": true,
           "gridcolor": "white",
           "linecolor": "white",
           "ticks": "",
           "title": {
            "standoff": 15
           },
           "zerolinecolor": "white",
           "zerolinewidth": 2
          }
         }
        },
        "title": {
         "text": "Points Per Game Based on Each Position"
        },
        "width": 600
       }
      },
      "image/png": "[encoded data removed]",
      "text/html": [
       "<div>                            <div id=\"a0818142-ee16-4de6-80a9-9efff7e680b5\" class=\"plotly-graph-div\" style=\"height:600px; width:600px;\"></div>            <script type=\"text/javascript\">                require([\"plotly\"], function(Plotly) {                    window.PLOTLYENV=window.PLOTLYENV || {};                                    if (document.getElementById(\"a0818142-ee16-4de6-80a9-9efff7e680b5\")) {                    Plotly.newPlot(                        \"a0818142-ee16-4de6-80a9-9efff7e680b5\",                        [{\"branchvalues\":\"total\",\"customdata\":[[7.8,156,\"Liverpool\",\"DEF\"],[5.5,162,\"Liverpool\",\"GKP\"],[12.1,183,\"Man City\",\"MID\"],[5.1,161,\"Man Utd\",\"GKP\"],[12.4,272,\"Man City\",\"FWD\"],[5.4,157,\"Newcastle\",\"GKP\"],[6.5,198,\"Arsenal\",\"MID\"],[7.2,205,\"Man Utd\",\"MID\"],[8.1,125,\"Arsenal\",\"FWD\"],[11.5,263,\"Spurs\",\"FWD\"],[4.8,166,\"Brentford\",\"GKP\"],[13.1,239,\"Liverpool\",\"MID\"],[4.9,117,\"Arsenal\",\"DEF\"],[5.0,148,\"Wolves\",\"GKP\"],[7.1,182,\"Brentford\",\"FWD\"],[7.3,157,\"Newcastle\",\"FWD\"],[6.0,198,\"Newcastle\",\"DEF\"],[6.6,127,\"Liverpool\",\"DEF\"],[5.0,156,\"Arsenal\",\"DEF\"],[6.9,212,\"Arsenal\",\"MID\"],[6.6,127,\"Liverpool\",\"DEF\"],[5.0,156,\"Arsenal\",\"DEF\"],[5.0,148,\"Wolves\",\"GKP\"],[7.8,156,\"Liverpool\",\"DEF\"],[\"(?)\",\"(?)\",\"(?)\",\"GKP\"],[4.9,117,\"Arsenal\",\"DEF\"],[\"(?)\",\"(?)\",\"(?)\",\"GKP\"],[8.1,125,\"Arsenal\",\"FWD\"],[7.3,157,\"Newcastle\",\"FWD\"],[6.0,198,\"Newcastle\",\"DEF\"],[7.1,182,\"Brentford\",\"FWD\"],[6.5,198,\"Arsenal\",\"MID\"],[\"(?)\",\"(?)\",\"(?)\",\"MID\"],[7.2,205,\"Man Utd\",\"MID\"],[13.1,239,\"Liverpool\",\"MID\"],[11.5,263,\"Spurs\",\"FWD\"],[12.4,272,\"Man City\",\"FWD\"],[\"(?)\",\"(?)\",\"(?)\",\"DEF\"],[\"(?)\",\"(?)\",\"(?)\",\"FWD\"],[\"(?)\",\"(?)\",\"(?)\",\"GKP\"],[\"(?)\",\"(?)\",\"(?)\",\"MID\"]],\"domain\":{\"x\":[0.0,1.0],\"y\":[0.0,1.0]},\"hovertemplate\":\"labels=%{label}\\u003cbr\\u003epoints_per_game=%{value}\\u003cbr\\u003eparent=%{parent}\\u003cbr\\u003eid=%{id}\\u003cbr\\u003ecost=%{customdata[0]}\\u003cbr\\u003etotal_points=%{customdata[1]}\\u003cbr\\u003eteam=%{customdata[2]}\\u003cbr\\u003eposition=%{customdata[3]}\\u003cextra\\u003e\\u003c\\u002fextra\\u003e\",\"ids\":[\"DEF\\u002f4.2\\u002fAlexander-Arnold\",\"GKP\\u002f4.4\\u002fAlisson\",\"MID\\u002f5.7\\u002fDe Bruyne\",\"GKP\\u002f4.2\\u002fDe Gea\",\"FWD\\u002f7.8\\u002fHaaland\",\"GKP\\u002f4.2\\u002fPope\",\"MID\\u002f5.5\\u002fMartinelli\",\"MID\\u002f5.9\\u002fRashford\",\"FWD\\u002f4.8\\u002fJesus\",\"FWD\\u002f6.9\\u002fKane\",\"GKP\\u002f4.4\\u002fRaya\",\"MID\\u002f6.3\\u002fSalah\",\"DEF\\u002f4.3\\u002fSaliba\",\"GKP\\u002f4.1\\u002fS\\u00e1\",\"FWD\\u002f5.5\\u002fToney\",\"FWD\\u002f5.1\\u002fWilson\",\"DEF\\u002f5.2\\u002fTrippier\",\"DEF\\u002f4.0\\u002fVan Dijk\",\"DEF\\u002f4.1\\u002fWhite\",\"MID\\u002f5.7\\u002f\\u00d8degaard\",\"DEF\\u002f4.0\",\"DEF\\u002f4.1\",\"GKP\\u002f4.1\",\"DEF\\u002f4.2\",\"GKP\\u002f4.2\",\"DEF\\u002f4.3\",\"GKP\\u002f4.4\",\"FWD\\u002f4.8\",\"FWD\\u002f5.1\",\"DEF\\u002f5.2\",\"FWD\\u002f5.5\",\"MID\\u002f5.5\",\"MID\\u002f5.7\",\"MID\\u002f5.9\",\"MID\\u002f6.3\",\"FWD\\u002f6.9\",\"FWD\\u002f7.8\",\"DEF\",\"FWD\",\"GKP\",\"MID\"],\"labels\":[\"Alexander-Arnold\",\"Alisson\",\"De Bruyne\",\"De Gea\",\"Haaland\",\"Pope\",\"Martinelli\",\"Rashford\",\"Jesus\",\"Kane\",\"Raya\",\"Salah\",\"Saliba\",\"S\\u00e1\",\"Toney\",\"Wilson\",\"Trippier\",\"Van Dijk\",\"White\",\"\\u00d8degaard\",\"4.0\",\"4.1\",\"4.1\",\"4.2\",\"4.2\",\"4.3\",\"4.4\",\"4.8\",\"5.1\",\"5.2\",\"5.5\",\"5.5\",\"5.7\",\"5.9\",\"6.3\",\"6.9\",\"7.8\",\"DEF\",\"FWD\",\"GKP\",\"MID\"],\"marker\":{\"colors\":[\"rgb(210, 251, 212)\",\"rgb(165, 219, 194)\",\"rgb(123, 188, 176)\",\"rgb(165, 219, 194)\",\"rgb(85, 156, 158)\",\"rgb(165, 219, 194)\",\"rgb(123, 188, 176)\",\"rgb(123, 188, 176)\",\"rgb(85, 156, 158)\",\"rgb(85, 156, 158)\",\"rgb(165, 219, 194)\",\"rgb(123, 188, 176)\",\"rgb(210, 251, 212)\",\"rgb(165, 219, 194)\",\"rgb(85, 156, 158)\",\"rgb(85, 156, 158)\",\"rgb(210, 251, 212)\",\"rgb(210, 251, 212)\",\"rgb(210, 251, 212)\",\"rgb(123, 188, 176)\",\"rgb(210, 251, 212)\",\"rgb(210, 251, 212)\",\"rgb(165, 219, 194)\",\"rgb(210, 251, 212)\",\"rgb(165, 219, 194)\",\"rgb(210, 251, 212)\",\"rgb(165, 219, 194)\",\"rgb(85, 156, 158)\",\"rgb(85, 156, 158)\",\"rgb(210, 251, 212)\",\"rgb(85, 156, 158)\",\"rgb(123, 188, 176)\",\"rgb(123, 188, 176)\",\"rgb(123, 188, 176)\",\"rgb(123, 188, 176)\",\"rgb(85, 156, 158)\",\"rgb(85, 156, 158)\",\"rgb(210, 251, 212)\",\"rgb(85, 156, 158)\",\"rgb(165, 219, 194)\",\"rgb(123, 188, 176)\"]},\"name\":\"\",\"parents\":[\"DEF\\u002f4.2\",\"GKP\\u002f4.4\",\"MID\\u002f5.7\",\"GKP\\u002f4.2\",\"FWD\\u002f7.8\",\"GKP\\u002f4.2\",\"MID\\u002f5.5\",\"MID\\u002f5.9\",\"FWD\\u002f4.8\",\"FWD\\u002f6.9\",\"GKP\\u002f4.4\",\"MID\\u002f6.3\",\"DEF\\u002f4.3\",\"GKP\\u002f4.1\",\"FWD\\u002f5.5\",\"FWD\\u002f5.1\",\"DEF\\u002f5.2\",\"DEF\\u002f4.0\",\"DEF\\u002f4.1\",\"MID\\u002f5.7\",\"DEF\",\"DEF\",\"GKP\",\"DEF\",\"GKP\",\"DEF\",\"GKP\",\"FWD\",\"FWD\",\"DEF\",\"FWD\",\"MID\",\"MID\",\"MID\",\"MID\",\"FWD\",\"FWD\",\"\",\"\",\"\",\"\"],\"values\":[4.2,4.4,5.7,4.2,7.8,4.2,5.5,5.9,4.8,6.9,4.4,6.3,4.3,4.1,5.5,5.1,5.2,4.0,4.1,5.7,4.0,4.1,4.1,4.2,8.4,4.3,8.8,4.8,5.1,5.2,5.5,5.5,11.4,5.9,6.3,6.9,7.8,21.8,30.1,21.3,29.1],\"type\":\"sunburst\"}],                        {\"template\":{\"data\":{\"histogram2dcontour\":[{\"type\":\"histogram2dcontour\",\"colorbar\":{\"outlinewidth\":0,\"ticks\":\"\"},\"colorscale\":[[0.0,\"#0d0887\"],[0.1111111111111111,\"#46039f\"],[0.2222222222222222,\"#7201a8\"],[0.3333333333333333,\"#9c179e\"],[0.4444444444444444,\"#bd3786\"],[0.5555555555555556,\"#d8576b\"],[0.6666666666666666,\"#ed7953\"],[0.7777777777777778,\"#fb9f3a\"],[0.8888888888888888,\"#fdca26\"],[1.0,\"#f0f921\"]]}],\"choropleth\":[{\"type\":\"choropleth\",\"colorbar\":{\"outlinewidth\":0,\"ticks\":\"\"}}],\"histogram2d\":[{\"type\":\"histogram2d\",\"colorbar\":{\"outlinewidth\":0,\"ticks\":\"\"},\"colorscale\":[[0.0,\"#0d0887\"],[0.1111111111111111,\"#46039f\"],[0.2222222222222222,\"#7201a8\"],[0.3333333333333333,\"#9c179e\"],[0.4444444444444444,\"#bd3786\"],[0.5555555555555556,\"#d8576b\"],[0.6666666666666666,\"#ed7953\"],[0.7777777777777778,\"#fb9f3a\"],[0.8888888888888888,\"#fdca26\"],[1.0,\"#f0f921\"]]}],\"heatmap\":[{\"type\":\"heatmap\",\"colorbar\":{\"outlinewidth\":0,\"ticks\":\"\"},\"colorscale\":[[0.0,\"#0d0887\"],[0.1111111111111111,\"#46039f\"],[0.2222222222222222,\"#7201a8\"],[0.3333333333333333,\"#9c179e\"],[0.4444444444444444,\"#bd3786\"],[0.5555555555555556,\"#d8576b\"],[0.6666666666666666,\"#ed7953\"],[0.7777777777777778,\"#fb9f3a\"],[0.8888888888888888,\"#fdca26\"],[1.0,\"#f0f921\"]]}],\"heatmapgl\":[{\"type\":\"heatmapgl\",\"colorbar\":{\"outlinewidth\":0,\"ticks\":\"\"},\"colorscale\":[[0.0,\"#0d0887\"],[0.1111111111111111,\"#46039f\"],[0.2222222222222222,\"#7201a8\"],[0.3333333333333333,\"#9c179e\"],[0.4444444444444444,\"#bd3786\"],[0.5555555555555556,\"#d8576b\"],[0.6666666666666666,\"#ed7953\"],[0.7777777777777778,\"#fb9f3a\"],[0.8888888888888888,\"#fdca26\"],[1.0,\"#f0f921\"]]}],\"contourcarpet\":[{\"type\":\"contourcarpet\",\"colorbar\":{\"outlinewidth\":0,\"ticks\":\"\"}}],\"contour\":[{\"type\":\"contour\",\"colorbar\":{\"outlinewidth\":0,\"ticks\":\"\"},\"colorscale\":[[0.0,\"#0d0887\"],[0.1111111111111111,\"#46039f\"],[0.2222222222222222,\"#7201a8\"],[0.3333333333333333,\"#9c179e\"],[0.4444444444444444,\"#bd3786\"],[0.5555555555555556,\"#d8576b\"],[0.6666666666666666,\"#ed7953\"],[0.7777777777777778,\"#fb9f3a\"],[0.8888888888888888,\"#fdca26\"],[1.0,\"#f0f921\"]]}],\"surface\":[{\"type\":\"surface\",\"colorbar\":{\"outlinewidth\":0,\"ticks\":\"\"},\"colorscale\":[[0.0,\"#0d0887\"],[0.1111111111111111,\"#46039f\"],[0.2222222222222222,\"#7201a8\"],[0.3333333333333333,\"#9c179e\"],[0.4444444444444444,\"#bd3786\"],[0.5555555555555556,\"#d8576b\"],[0.6666666666666666,\"#ed7953\"],[0.7777777777777778,\"#fb9f3a\"],[0.8888888888888888,\"#fdca26\"],[1.0,\"#f0f921\"]]}],\"mesh3d\":[{\"type\":\"mesh3d\",\"colorbar\":{\"outlinewidth\":0,\"ticks\":\"\"}}],\"scatter\":[{\"fillpattern\":{\"fillmode\":\"overlay\",\"size\":10,\"solidity\":0.2},\"type\":\"scatter\"}],\"parcoords\":[{\"type\":\"parcoords\",\"line\":{\"colorbar\":{\"outlinewidth\":0,\"ticks\":\"\"}}}],\"scatterpolargl\":[{\"type\":\"scatterpolargl\",\"marker\":{\"colorbar\":{\"outlinewidth\":0,\"ticks\":\"\"}}}],\"bar\":[{\"error_x\":{\"color\":\"#2a3f5f\"},\"error_y\":{\"color\":\"#2a3f5f\"},\"marker\":{\"line\":{\"color\":\"#E5ECF6\",\"width\":0.5},\"pattern\":{\"fillmode\":\"overlay\",\"size\":10,\"solidity\":0.2}},\"type\":\"bar\"}],\"scattergeo\":[{\"type\":\"scattergeo\",\"marker\":{\"colorbar\":{\"outlinewidth\":0,\"ticks\":\"\"}}}],\"scatterpolar\":[{\"type\":\"scatterpolar\",\"marker\":{\"colorbar\":{\"outlinewidth\":0,\"ticks\":\"\"}}}],\"histogram\":[{\"marker\":{\"pattern\":{\"fillmode\":\"overlay\",\"size\":10,\"solidity\":0.2}},\"type\":\"histogram\"}],\"scattergl\":[{\"type\":\"scattergl\",\"marker\":{\"colorbar\":{\"outlinewidth\":0,\"ticks\":\"\"}}}],\"scatter3d\":[{\"type\":\"scatter3d\",\"line\":{\"colorbar\":{\"outlinewidth\":0,\"ticks\":\"\"}},\"marker\":{\"colorbar\":{\"outlinewidth\":0,\"ticks\":\"\"}}}],\"scattermapbox\":[{\"type\":\"scattermapbox\",\"marker\":{\"colorbar\":{\"outlinewidth\":0,\"ticks\":\"\"}}}],\"scatterternary\":[{\"type\":\"scatterternary\",\"marker\":{\"colorbar\":{\"outlinewidth\":0,\"ticks\":\"\"}}}],\"scattercarpet\":[{\"type\":\"scattercarpet\",\"marker\":{\"colorbar\":{\"outlinewidth\":0,\"ticks\":\"\"}}}],\"carpet\":[{\"aaxis\":{\"endlinecolor\":\"#2a3f5f\",\"gridcolor\":\"white\",\"linecolor\":\"white\",\"minorgridcolor\":\"white\",\"startlinecolor\":\"#2a3f5f\"},\"baxis\":{\"endlinecolor\":\"#2a3f5f\",\"gridcolor\":\"white\",\"linecolor\":\"white\",\"minorgridcolor\":\"white\",\"startlinecolor\":\"#2a3f5f\"},\"type\":\"carpet\"}],\"table\":[{\"cells\":{\"fill\":{\"color\":\"#EBF0F8\"},\"line\":{\"color\":\"white\"}},\"header\":{\"fill\":{\"color\":\"#C8D4E3\"},\"line\":{\"color\":\"white\"}},\"type\":\"table\"}],\"barpolar\":[{\"marker\":{\"line\":{\"color\":\"#E5ECF6\",\"width\":0.5},\"pattern\":{\"fillmode\":\"overlay\",\"size\":10,\"solidity\":0.2}},\"type\":\"barpolar\"}],\"pie\":[{\"automargin\":true,\"type\":\"pie\"}]},\"layout\":{\"autotypenumbers\":\"strict\",\"colorway\":[\"#636efa\",\"#EF553B\",\"#00cc96\",\"#ab63fa\",\"#FFA15A\",\"#19d3f3\",\"#FF6692\",\"#B6E880\",\"#FF97FF\",\"#FECB52\"],\"font\":{\"color\":\"#2a3f5f\"},\"hovermode\":\"closest\",\"hoverlabel\":{\"align\":\"left\"},\"paper_bgcolor\":\"white\",\"plot_bgcolor\":\"#E5ECF6\",\"polar\":{\"bgcolor\":\"#E5ECF6\",\"angularaxis\":{\"gridcolor\":\"white\",\"linecolor\":\"white\",\"ticks\":\"\"},\"radialaxis\":{\"gridcolor\":\"white\",\"linecolor\":\"white\",\"ticks\":\"\"}},\"ternary\":{\"bgcolor\":\"#E5ECF6\",\"aaxis\":{\"gridcolor\":\"white\",\"linecolor\":\"white\",\"ticks\":\"\"},\"baxis\":{\"gridcolor\":\"white\",\"linecolor\":\"white\",\"ticks\":\"\"},\"caxis\":{\"gridcolor\":\"white\",\"linecolor\":\"white\",\"ticks\":\"\"}},\"coloraxis\":{\"colorbar\":{\"outlinewidth\":0,\"ticks\":\"\"}},\"colorscale\":{\"sequential\":[[0.0,\"#0d0887\"],[0.1111111111111111,\"#46039f\"],[0.2222222222222222,\"#7201a8\"],[0.3333333333333333,\"#9c179e\"],[0.4444444444444444,\"#bd3786\"],[0.5555555555555556,\"#d8576b\"],[0.6666666666666666,\"#ed7953\"],[0.7777777777777778,\"#fb9f3a\"],[0.8888888888888888,\"#fdca26\"],[1.0,\"#f0f921\"]],\"sequentialminus\":[[0.0,\"#0d0887\"],[0.1111111111111111,\"#46039f\"],[0.2222222222222222,\"#7201a8\"],[0.3333333333333333,\"#9c179e\"],[0.4444444444444444,\"#bd3786\"],[0.5555555555555556,\"#d8576b\"],[0.6666666666666666,\"#ed7953\"],[0.7777777777777778,\"#fb9f3a\"],[0.8888888888888888,\"#fdca26\"],[1.0,\"#f0f921\"]],\"diverging\":[[0,\"#8e0152\"],[0.1,\"#c51b7d\"],[0.2,\"#de77ae\"],[0.3,\"#f1b6da\"],[0.4,\"#fde0ef\"],[0.5,\"#f7f7f7\"],[0.6,\"#e6f5d0\"],[0.7,\"#b8e186\"],[0.8,\"#7fbc41\"],[0.9,\"#4d9221\"],[1,\"#276419\"]]},\"xaxis\":{\"gridcolor\":\"white\",\"linecolor\":\"white\",\"ticks\":\"\",\"title\":{\"standoff\":15},\"zerolinecolor\":\"white\",\"automargin\":true,\"zerolinewidth\":2},\"yaxis\":{\"gridcolor\":\"white\",\"linecolor\":\"white\",\"ticks\":\"\",\"title\":{\"standoff\":15},\"zerolinecolor\":\"white\",\"automargin\":true,\"zerolinewidth\":2},\"scene\":{\"xaxis\":{\"backgroundcolor\":\"#E5ECF6\",\"gridcolor\":\"white\",\"linecolor\":\"white\",\"showbackground\":true,\"ticks\":\"\",\"zerolinecolor\":\"white\",\"gridwidth\":2},\"yaxis\":{\"backgroundcolor\":\"#E5ECF6\",\"gridcolor\":\"white\",\"linecolor\":\"white\",\"showbackground\":true,\"ticks\":\"\",\"zerolinecolor\":\"white\",\"gridwidth\":2},\"zaxis\":{\"backgroundcolor\":\"#E5ECF6\",\"gridcolor\":\"white\",\"linecolor\":\"white\",\"showbackground\":true,\"ticks\":\"\",\"zerolinecolor\":\"white\",\"gridwidth\":2}},\"shapedefaults\":{\"line\":{\"color\":\"#2a3f5f\"}},\"annotationdefaults\":{\"arrowcolor\":\"#2a3f5f\",\"arrowhead\":0,\"arrowwidth\":1},\"geo\":{\"bgcolor\":\"white\",\"landcolor\":\"#E5ECF6\",\"subunitcolor\":\"white\",\"showland\":true,\"showlakes\":true,\"lakecolor\":\"white\"},\"title\":{\"x\":0.05},\"mapbox\":{\"style\":\"light\"}}},\"legend\":{\"tracegroupgap\":0},\"title\":{\"text\":\"Points Per Game Based on Each Position\"},\"sunburstcolorway\":[\"rgb(210, 251, 212)\",\"rgb(165, 219, 194)\",\"rgb(123, 188, 176)\",\"rgb(85, 156, 158)\",\"rgb(58, 124, 137)\",\"rgb(35, 93, 114)\",\"rgb(18, 63, 90)\"],\"width\":600,\"height\":600},                        {\"responsive\": true}                    ).then(function(){\n",
       "                            \n",
       "var gd = document.getElementById('a0818142-ee16-4de6-80a9-9efff7e680b5');\n",
       "var x = new MutationObserver(function (mutations, observer) {{\n",
       "        var display = window.getComputedStyle(gd).display;\n",
       "        if (!display || display === 'none') {{\n",
       "            console.log([gd, 'removed!']);\n",
       "            Plotly.purge(gd);\n",
       "            observer.disconnect();\n",
       "        }}\n",
       "}});\n",
       "\n",
       "// Listen for the removal of the full notebook cells\n",
       "var notebookContainer = gd.closest('#notebook-container');\n",
       "if (notebookContainer) {{\n",
       "    x.observe(notebookContainer, {childList: true});\n",
       "}}\n",
       "\n",
       "// Listen for the clearing of the current output cell\n",
       "var outputEl = gd.closest('.output');\n",
       "if (outputEl) {{\n",
       "    x.observe(outputEl, {childList: true});\n",
       "}}\n",
       "\n",
       "                        })                };                });            </script>        </div>"
      ]
     },
     "metadata": {},
     "output_type": "display_data"
    }
   ],
   "source": [
    "def top_5_ppg_pos(group):\n",
    "    return group.sort_values(\"points_per_game\", ascending=False).head(5)\n",
    "pos_ppg = min_20_starts.groupby(\"position\", group_keys=False).apply(top_5_ppg_pos)\n",
    "pos_ppg.reset_index(drop=True, inplace=True)\n",
    "fig = px.sunburst(pos_ppg, path=[\"position\", \"points_per_game\", \"web_name\"],\n",
    "            values=\"points_per_game\",\n",
    "            color=\"position\", color_discrete_sequence=px.colors.sequential.Darkmint,\n",
    "            hover_data = {'cost', 'team', 'total_points'},\n",
    "           title=\"Points Per Game Based on Each Position\")\n",
    "fig.update_layout(width=600, height = 600)\n",
    "fig.show()"
   ]
  }
 ],
 "metadata": {
  "kernelspec": {
   "display_name": "Python 3 (ipykernel)",
   "language": "python",
   "name": "python3"
  },
  "language_info": {
   "codemirror_mode": {
    "name": "ipython",
    "version": 3
   },
   "file_extension": ".py",
   "mimetype": "text/x-python",
   "name": "python",
   "nbconvert_exporter": "python",
   "pygments_lexer": "ipython3",
   "version": "3.11.5"
  }
 },
 "nbformat": 4,
 "nbformat_minor": 5
}
